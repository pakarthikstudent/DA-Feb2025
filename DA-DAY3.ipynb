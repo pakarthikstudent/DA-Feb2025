{
 "cells": [
  {
   "cell_type": "code",
   "execution_count": null,
   "id": "f4ef6e93-61f2-4c5c-8aba-376eda32a43e",
   "metadata": {},
   "outputs": [],
   "source": [
    "Numpy\n",
    "pandas\n",
    "bs4"
   ]
  },
  {
   "cell_type": "code",
   "execution_count": 1,
   "id": "c92ddb8c-7b23-4762-aeeb-1643d92b5508",
   "metadata": {},
   "outputs": [
    {
     "data": {
      "text/plain": [
       "'raj,production,pune,1000'"
      ]
     },
     "execution_count": 1,
     "metadata": {},
     "output_type": "execute_result"
    }
   ],
   "source": [
    "import re\n",
    "\n",
    "re.sub('sales','production','raj,sales,pune,1000')"
   ]
  },
  {
   "cell_type": "code",
   "execution_count": 3,
   "id": "22efd1d1-da44-4689-bf7f-df6afe05263b",
   "metadata": {},
   "outputs": [
    {
     "data": {
      "text/plain": [
       "'raj,,pune,1000'"
      ]
     },
     "execution_count": 3,
     "metadata": {},
     "output_type": "execute_result"
    }
   ],
   "source": [
    "re.sub('sales','','raj,sales,pune,1000')"
   ]
  },
  {
   "cell_type": "code",
   "execution_count": 5,
   "id": "a06fbc7b-44a0-44d8-be9c-a630744e3260",
   "metadata": {},
   "outputs": [
    {
     "data": {
      "text/plain": [
       "'raj,pune,1000'"
      ]
     },
     "execution_count": 5,
     "metadata": {},
     "output_type": "execute_result"
    }
   ],
   "source": [
    "re.sub('sales.','','raj,sales,pune,1000')"
   ]
  },
  {
   "cell_type": "code",
   "execution_count": 9,
   "id": "7e733d83-6661-4e25-bc73-9fd6f48b2a97",
   "metadata": {},
   "outputs": [
    {
     "data": {
      "text/plain": [
       "'ls -l /etc/passwd'"
      ]
     },
     "execution_count": 9,
     "metadata": {},
     "output_type": "execute_result"
    }
   ],
   "source": [
    "fname=\"/etc/passwd\"\n",
    "re.sub('^','ls -l ',fname)"
   ]
  },
  {
   "cell_type": "code",
   "execution_count": 13,
   "id": "2e2f8e01-cc54-481f-9e44-a61dd1caa0ee",
   "metadata": {},
   "outputs": [
    {
     "name": "stdout",
     "output_type": "stream",
     "text": [
      "$4000\n",
      "4000$\n"
     ]
    }
   ],
   "source": [
    "cost=\"4000\"  # 4000$\n",
    "print(re.sub(\"^\",\"$\",cost)) # inserting $ at the beginning \n",
    "print(re.sub(\"$\",\"$\",cost)) # inserting $ at the end"
   ]
  },
  {
   "cell_type": "code",
   "execution_count": null,
   "id": "808a4c78-8b4d-4a77-854f-faab99d1afc6",
   "metadata": {},
   "outputs": [],
   "source": [
    "Used_disk_Size=['150GB','200GB','GB110','130Gb',100,'450Gb']\n",
    "|\n",
    "Calculate Sum of Used_disk_Size"
   ]
  },
  {
   "cell_type": "code",
   "execution_count": 15,
   "id": "2267b38c-4f1c-4be7-ac86-3e32ce20ef02",
   "metadata": {},
   "outputs": [
    {
     "data": {
      "text/plain": [
       "'150'"
      ]
     },
     "execution_count": 15,
     "metadata": {},
     "output_type": "execute_result"
    }
   ],
   "source": [
    "s='150GB' \n",
    "re.sub('[A-Za-z]','',s)"
   ]
  },
  {
   "cell_type": "code",
   "execution_count": 17,
   "id": "477b09c3-1e0b-4921-b053-facf3a173f00",
   "metadata": {},
   "outputs": [
    {
     "data": {
      "text/plain": [
       "'150'"
      ]
     },
     "execution_count": 17,
     "metadata": {},
     "output_type": "execute_result"
    }
   ],
   "source": [
    "s='150' \n",
    "re.sub('[A-Za-z]','',s)"
   ]
  },
  {
   "cell_type": "code",
   "execution_count": 21,
   "id": "c7ba6095-5a49-4979-8515-58dfecf37db9",
   "metadata": {},
   "outputs": [
    {
     "data": {
      "text/plain": [
       "'150'"
      ]
     },
     "execution_count": 21,
     "metadata": {},
     "output_type": "execute_result"
    }
   ],
   "source": [
    "s=150\n",
    "re.sub('[A-Za-z]','',str(s))"
   ]
  },
  {
   "cell_type": "code",
   "execution_count": 23,
   "id": "8a496bf3-4c8c-4e3c-b541-a63cf83ef0f5",
   "metadata": {},
   "outputs": [
    {
     "name": "stdout",
     "output_type": "stream",
     "text": [
      "1140\n"
     ]
    }
   ],
   "source": [
    "Used_disk_Size=['150GB','200GB','GB110','130Gb',100,'450Gb']\n",
    "\n",
    "total = 0\n",
    "for var in Used_disk_Size:\n",
    "    r=re.sub('[A-Za-z]','',str(var))\n",
    "    total = total + int(r)\n",
    "print(total)"
   ]
  },
  {
   "cell_type": "code",
   "execution_count": 27,
   "id": "c282bf49-2ce7-4cb0-b2f5-d1b04ce3afbc",
   "metadata": {},
   "outputs": [
    {
     "data": {
      "text/plain": [
       "['$']"
      ]
     },
     "execution_count": 27,
     "metadata": {},
     "output_type": "execute_result"
    }
   ],
   "source": [
    "s='450GB$'\n",
    "re.findall('[^\\\\w\\\\s]',s)"
   ]
  },
  {
   "cell_type": "code",
   "execution_count": 31,
   "id": "289056f7-b788-4f8a-8e02-79a384ee18d4",
   "metadata": {},
   "outputs": [
    {
     "data": {
      "text/plain": [
       "'450GB'"
      ]
     },
     "execution_count": 31,
     "metadata": {},
     "output_type": "execute_result"
    }
   ],
   "source": [
    "re.sub('[^\\\\w\\\\s]','',s) # delete the specialchars"
   ]
  },
  {
   "cell_type": "code",
   "execution_count": 33,
   "id": "f4e057ce-4854-41da-a077-4d2e7f821665",
   "metadata": {},
   "outputs": [
    {
     "data": {
      "text/plain": [
       "'450'"
      ]
     },
     "execution_count": 33,
     "metadata": {},
     "output_type": "execute_result"
    }
   ],
   "source": [
    "re.sub('[^\\\\w\\\\s]|[a-zA-Z]+','',s) # delete alpha and specialchars"
   ]
  },
  {
   "cell_type": "code",
   "execution_count": 35,
   "id": "999a5f01-f137-4cf9-949d-bf29490b1ba7",
   "metadata": {},
   "outputs": [
    {
     "ename": "TypeError",
     "evalue": "can only concatenate list (not \"int\") to list",
     "output_type": "error",
     "traceback": [
      "\u001b[1;31m---------------------------------------------------------------------------\u001b[0m",
      "\u001b[1;31mTypeError\u001b[0m                                 Traceback (most recent call last)",
      "Cell \u001b[1;32mIn[35], line 2\u001b[0m\n\u001b[0;32m      1\u001b[0m L\u001b[38;5;241m=\u001b[39m[\u001b[38;5;241m10\u001b[39m,\u001b[38;5;241m20\u001b[39m,\u001b[38;5;241m30\u001b[39m,\u001b[38;5;241m40\u001b[39m,\u001b[38;5;241m50\u001b[39m]\n\u001b[1;32m----> 2\u001b[0m L\u001b[38;5;241m+\u001b[39m\u001b[38;5;241m100\u001b[39m\n",
      "\u001b[1;31mTypeError\u001b[0m: can only concatenate list (not \"int\") to list"
     ]
    }
   ],
   "source": [
    "L=[10,20,30,40,50]\n",
    "L+100"
   ]
  },
  {
   "cell_type": "code",
   "execution_count": 37,
   "id": "6e8841b2-7bfa-4266-98af-0fb5f21f183b",
   "metadata": {},
   "outputs": [
    {
     "data": {
      "text/plain": [
       "[10, 20, 15, 25]"
      ]
     },
     "execution_count": 37,
     "metadata": {},
     "output_type": "execute_result"
    }
   ],
   "source": [
    "L1=[10,20]\n",
    "L2=[15,25]\n",
    "L1+L2"
   ]
  },
  {
   "cell_type": "code",
   "execution_count": 39,
   "id": "72a75cbd-fab6-4f56-96b7-f7e141aad792",
   "metadata": {},
   "outputs": [
    {
     "ename": "TypeError",
     "evalue": "'>' not supported between instances of 'list' and 'int'",
     "output_type": "error",
     "traceback": [
      "\u001b[1;31m---------------------------------------------------------------------------\u001b[0m",
      "\u001b[1;31mTypeError\u001b[0m                                 Traceback (most recent call last)",
      "Cell \u001b[1;32mIn[39], line 1\u001b[0m\n\u001b[1;32m----> 1\u001b[0m L1 \u001b[38;5;241m>\u001b[39m\u001b[38;5;241m15\u001b[39m\n",
      "\u001b[1;31mTypeError\u001b[0m: '>' not supported between instances of 'list' and 'int'"
     ]
    }
   ],
   "source": [
    "L1 >15"
   ]
  },
  {
   "cell_type": "code",
   "execution_count": 41,
   "id": "f49f5ebb-cfe7-42e5-89a6-2e2b10cf267a",
   "metadata": {},
   "outputs": [
    {
     "data": {
      "text/plain": [
       "[10, 20, 30, 40.5, 'data']"
      ]
     },
     "execution_count": 41,
     "metadata": {},
     "output_type": "execute_result"
    }
   ],
   "source": [
    "L=[10,20]\n",
    "L.append(30)\n",
    "L.append(40.5)\n",
    "L.append(\"data\")\n",
    "L"
   ]
  },
  {
   "cell_type": "code",
   "execution_count": 45,
   "id": "5a764508-68f1-4234-adba-740f3ce8924b",
   "metadata": {},
   "outputs": [
    {
     "name": "stdout",
     "output_type": "stream",
     "text": [
      "<class 'array.array'>\n",
      "<class 'type'>\n"
     ]
    }
   ],
   "source": [
    "import array\n",
    "print(array.array)\n",
    "print(type(array.array))"
   ]
  },
  {
   "cell_type": "code",
   "execution_count": 47,
   "id": "f51c0e9d-0b8d-4c16-8ef8-397c6cecc936",
   "metadata": {},
   "outputs": [
    {
     "name": "stdout",
     "output_type": "stream",
     "text": [
      "Help on built-in module array:\n",
      "\n",
      "NAME\n",
      "    array\n",
      "\n",
      "DESCRIPTION\n",
      "    This module defines an object type which can efficiently represent\n",
      "    an array of basic values: characters, integers, floating point\n",
      "    numbers.  Arrays are sequence types and behave very much like lists,\n",
      "    except that the type of objects stored in them is constrained.\n",
      "\n",
      "CLASSES\n",
      "    builtins.object\n",
      "        array\n",
      "\n",
      "    ArrayType = class array(builtins.object)\n",
      "     |  array(typecode [, initializer]) -> array\n",
      "     |\n",
      "     |  Return a new array whose items are restricted by typecode, and\n",
      "     |  initialized from the optional initializer value, which must be a list,\n",
      "     |  string or iterable over elements of the appropriate type.\n",
      "     |\n",
      "     |  Arrays represent basic values and behave very much like lists, except\n",
      "     |  the type of objects stored in them is constrained. The type is specified\n",
      "     |  at object creation time by using a type code, which is a single character.\n",
      "     |  The following type codes are defined:\n",
      "     |\n",
      "     |      Type code   C Type             Minimum size in bytes\n",
      "     |      'b'         signed integer     1\n",
      "     |      'B'         unsigned integer   1\n",
      "     |      'u'         Unicode character  2 (see note)\n",
      "     |      'h'         signed integer     2\n",
      "     |      'H'         unsigned integer   2\n",
      "     |      'i'         signed integer     2\n",
      "     |      'I'         unsigned integer   2\n",
      "     |      'l'         signed integer     4\n",
      "     |      'L'         unsigned integer   4\n",
      "     |      'q'         signed integer     8 (see note)\n",
      "     |      'Q'         unsigned integer   8 (see note)\n",
      "     |      'f'         floating point     4\n",
      "     |      'd'         floating point     8\n",
      "     |\n",
      "     |  NOTE: The 'u' typecode corresponds to Python's unicode character. On\n",
      "     |  narrow builds this is 2-bytes on wide builds this is 4-bytes.\n",
      "     |\n",
      "     |  NOTE: The 'q' and 'Q' type codes are only available if the platform\n",
      "     |  C compiler used to build Python supports 'long long', or, on Windows,\n",
      "     |  '__int64'.\n",
      "     |\n",
      "     |  Methods:\n",
      "     |\n",
      "     |  append() -- append a new item to the end of the array\n",
      "     |  buffer_info() -- return information giving the current memory info\n",
      "     |  byteswap() -- byteswap all the items of the array\n",
      "     |  count() -- return number of occurrences of an object\n",
      "     |  extend() -- extend array by appending multiple elements from an iterable\n",
      "     |  fromfile() -- read items from a file object\n",
      "     |  fromlist() -- append items from the list\n",
      "     |  frombytes() -- append items from the string\n",
      "     |  index() -- return index of first occurrence of an object\n",
      "     |  insert() -- insert a new item into the array at a provided position\n",
      "     |  pop() -- remove and return item (default last)\n",
      "     |  remove() -- remove first occurrence of an object\n",
      "     |  reverse() -- reverse the order of the items in the array\n",
      "     |  tofile() -- write all items to a file object\n",
      "     |  tolist() -- return the array converted to an ordinary list\n",
      "     |  tobytes() -- return the array converted to a string\n",
      "     |\n",
      "     |  Attributes:\n",
      "     |\n",
      "     |  typecode -- the typecode character used to create the array\n",
      "     |  itemsize -- the length in bytes of one array item\n",
      "     |\n",
      "     |  Methods defined here:\n",
      "     |\n",
      "     |  __add__(self, value, /)\n",
      "     |      Return self+value.\n",
      "     |\n",
      "     |  __buffer__(self, flags, /)\n",
      "     |      Return a buffer object that exposes the underlying memory of the object.\n",
      "     |\n",
      "     |  __contains__(self, key, /)\n",
      "     |      Return bool(key in self).\n",
      "     |\n",
      "     |  __copy__(self, /)\n",
      "     |      Return a copy of the array.\n",
      "     |\n",
      "     |  __deepcopy__(self, unused, /)\n",
      "     |      Return a copy of the array.\n",
      "     |\n",
      "     |  __delitem__(self, key, /)\n",
      "     |      Delete self[key].\n",
      "     |\n",
      "     |  __eq__(self, value, /)\n",
      "     |      Return self==value.\n",
      "     |\n",
      "     |  __ge__(self, value, /)\n",
      "     |      Return self>=value.\n",
      "     |\n",
      "     |  __getattribute__(self, name, /)\n",
      "     |      Return getattr(self, name).\n",
      "     |\n",
      "     |  __getitem__(self, key, /)\n",
      "     |      Return self[key].\n",
      "     |\n",
      "     |  __gt__(self, value, /)\n",
      "     |      Return self>value.\n",
      "     |\n",
      "     |  __iadd__(self, value, /)\n",
      "     |      Implement self+=value.\n",
      "     |\n",
      "     |  __imul__(self, value, /)\n",
      "     |      Implement self*=value.\n",
      "     |\n",
      "     |  __iter__(self, /)\n",
      "     |      Implement iter(self).\n",
      "     |\n",
      "     |  __le__(self, value, /)\n",
      "     |      Return self<=value.\n",
      "     |\n",
      "     |  __len__(self, /)\n",
      "     |      Return len(self).\n",
      "     |\n",
      "     |  __lt__(self, value, /)\n",
      "     |      Return self<value.\n",
      "     |\n",
      "     |  __mul__(self, value, /)\n",
      "     |      Return self*value.\n",
      "     |\n",
      "     |  __ne__(self, value, /)\n",
      "     |      Return self!=value.\n",
      "     |\n",
      "     |  __reduce_ex__(self, value, /)\n",
      "     |      Return state information for pickling.\n",
      "     |\n",
      "     |  __release_buffer__(self, buffer, /)\n",
      "     |      Release the buffer object that exposes the underlying memory of the object.\n",
      "     |\n",
      "     |  __repr__(self, /)\n",
      "     |      Return repr(self).\n",
      "     |\n",
      "     |  __rmul__(self, value, /)\n",
      "     |      Return value*self.\n",
      "     |\n",
      "     |  __setitem__(self, key, value, /)\n",
      "     |      Set self[key] to value.\n",
      "     |\n",
      "     |  __sizeof__(self, /)\n",
      "     |      Size of the array in memory, in bytes.\n",
      "     |\n",
      "     |  append(self, v, /)\n",
      "     |      Append new value v to the end of the array.\n",
      "     |\n",
      "     |  buffer_info(self, /)\n",
      "     |      Return a tuple (address, length) giving the current memory address and the length in items of the buffer used to hold array's contents.\n",
      "     |\n",
      "     |      The length should be multiplied by the itemsize attribute to calculate\n",
      "     |      the buffer length in bytes.\n",
      "     |\n",
      "     |  byteswap(self, /)\n",
      "     |      Byteswap all items of the array.\n",
      "     |\n",
      "     |      If the items in the array are not 1, 2, 4, or 8 bytes in size, RuntimeError is\n",
      "     |      raised.\n",
      "     |\n",
      "     |  count(self, v, /)\n",
      "     |      Return number of occurrences of v in the array.\n",
      "     |\n",
      "     |  extend(self, bb, /)\n",
      "     |      Append items to the end of the array.\n",
      "     |\n",
      "     |  frombytes(self, buffer, /)\n",
      "     |      Appends items from the string, interpreting it as an array of machine values, as if it had been read from a file using the fromfile() method.\n",
      "     |\n",
      "     |  fromfile(self, f, n, /)\n",
      "     |      Read n objects from the file object f and append them to the end of the array.\n",
      "     |\n",
      "     |  fromlist(self, list, /)\n",
      "     |      Append items to array from list.\n",
      "     |\n",
      "     |  fromunicode(self, ustr, /)\n",
      "     |      Extends this array with data from the unicode string ustr.\n",
      "     |\n",
      "     |      The array must be a unicode type array; otherwise a ValueError is raised.\n",
      "     |      Use array.frombytes(ustr.encode(...)) to append Unicode data to an array of\n",
      "     |      some other type.\n",
      "     |\n",
      "     |  index(self, v, start=0, stop=9223372036854775807, /)\n",
      "     |      Return index of first occurrence of v in the array.\n",
      "     |\n",
      "     |      Raise ValueError if the value is not present.\n",
      "     |\n",
      "     |  insert(self, i, v, /)\n",
      "     |      Insert a new item v into the array before position i.\n",
      "     |\n",
      "     |  pop(self, i=-1, /)\n",
      "     |      Return the i-th element and delete it from the array.\n",
      "     |\n",
      "     |      i defaults to -1.\n",
      "     |\n",
      "     |  remove(self, v, /)\n",
      "     |      Remove the first occurrence of v in the array.\n",
      "     |\n",
      "     |  reverse(self, /)\n",
      "     |      Reverse the order of the items in the array.\n",
      "     |\n",
      "     |  tobytes(self, /)\n",
      "     |      Convert the array to an array of machine values and return the bytes representation.\n",
      "     |\n",
      "     |  tofile(self, f, /)\n",
      "     |      Write all items (as machine values) to the file object f.\n",
      "     |\n",
      "     |  tolist(self, /)\n",
      "     |      Convert array to an ordinary list with the same items.\n",
      "     |\n",
      "     |  tounicode(self, /)\n",
      "     |      Extends this array with data from the unicode string ustr.\n",
      "     |\n",
      "     |      Convert the array to a unicode string.  The array must be a unicode type array;\n",
      "     |      otherwise a ValueError is raised.  Use array.tobytes().decode() to obtain a\n",
      "     |      unicode string from an array of some other type.\n",
      "     |\n",
      "     |  ----------------------------------------------------------------------\n",
      "     |  Class methods defined here:\n",
      "     |\n",
      "     |  __class_getitem__(...)\n",
      "     |      See PEP 585\n",
      "     |\n",
      "     |  ----------------------------------------------------------------------\n",
      "     |  Static methods defined here:\n",
      "     |\n",
      "     |  __new__(*args, **kwargs)\n",
      "     |      Create and return a new object.  See help(type) for accurate signature.\n",
      "     |\n",
      "     |  ----------------------------------------------------------------------\n",
      "     |  Data descriptors defined here:\n",
      "     |\n",
      "     |  itemsize\n",
      "     |      the size, in bytes, of one array item\n",
      "     |\n",
      "     |  typecode\n",
      "     |      the typecode character used to create the array\n",
      "     |\n",
      "     |  ----------------------------------------------------------------------\n",
      "     |  Data and other attributes defined here:\n",
      "     |\n",
      "     |  __hash__ = None\n",
      "\n",
      "    class array(builtins.object)\n",
      "     |  array(typecode [, initializer]) -> array\n",
      "     |\n",
      "     |  Return a new array whose items are restricted by typecode, and\n",
      "     |  initialized from the optional initializer value, which must be a list,\n",
      "     |  string or iterable over elements of the appropriate type.\n",
      "     |\n",
      "     |  Arrays represent basic values and behave very much like lists, except\n",
      "     |  the type of objects stored in them is constrained. The type is specified\n",
      "     |  at object creation time by using a type code, which is a single character.\n",
      "     |  The following type codes are defined:\n",
      "     |\n",
      "     |      Type code   C Type             Minimum size in bytes\n",
      "     |      'b'         signed integer     1\n",
      "     |      'B'         unsigned integer   1\n",
      "     |      'u'         Unicode character  2 (see note)\n",
      "     |      'h'         signed integer     2\n",
      "     |      'H'         unsigned integer   2\n",
      "     |      'i'         signed integer     2\n",
      "     |      'I'         unsigned integer   2\n",
      "     |      'l'         signed integer     4\n",
      "     |      'L'         unsigned integer   4\n",
      "     |      'q'         signed integer     8 (see note)\n",
      "     |      'Q'         unsigned integer   8 (see note)\n",
      "     |      'f'         floating point     4\n",
      "     |      'd'         floating point     8\n",
      "     |\n",
      "     |  NOTE: The 'u' typecode corresponds to Python's unicode character. On\n",
      "     |  narrow builds this is 2-bytes on wide builds this is 4-bytes.\n",
      "     |\n",
      "     |  NOTE: The 'q' and 'Q' type codes are only available if the platform\n",
      "     |  C compiler used to build Python supports 'long long', or, on Windows,\n",
      "     |  '__int64'.\n",
      "     |\n",
      "     |  Methods:\n",
      "     |\n",
      "     |  append() -- append a new item to the end of the array\n",
      "     |  buffer_info() -- return information giving the current memory info\n",
      "     |  byteswap() -- byteswap all the items of the array\n",
      "     |  count() -- return number of occurrences of an object\n",
      "     |  extend() -- extend array by appending multiple elements from an iterable\n",
      "     |  fromfile() -- read items from a file object\n",
      "     |  fromlist() -- append items from the list\n",
      "     |  frombytes() -- append items from the string\n",
      "     |  index() -- return index of first occurrence of an object\n",
      "     |  insert() -- insert a new item into the array at a provided position\n",
      "     |  pop() -- remove and return item (default last)\n",
      "     |  remove() -- remove first occurrence of an object\n",
      "     |  reverse() -- reverse the order of the items in the array\n",
      "     |  tofile() -- write all items to a file object\n",
      "     |  tolist() -- return the array converted to an ordinary list\n",
      "     |  tobytes() -- return the array converted to a string\n",
      "     |\n",
      "     |  Attributes:\n",
      "     |\n",
      "     |  typecode -- the typecode character used to create the array\n",
      "     |  itemsize -- the length in bytes of one array item\n",
      "     |\n",
      "     |  Methods defined here:\n",
      "     |\n",
      "     |  __add__(self, value, /)\n",
      "     |      Return self+value.\n",
      "     |\n",
      "     |  __buffer__(self, flags, /)\n",
      "     |      Return a buffer object that exposes the underlying memory of the object.\n",
      "     |\n",
      "     |  __contains__(self, key, /)\n",
      "     |      Return bool(key in self).\n",
      "     |\n",
      "     |  __copy__(self, /)\n",
      "     |      Return a copy of the array.\n",
      "     |\n",
      "     |  __deepcopy__(self, unused, /)\n",
      "     |      Return a copy of the array.\n",
      "     |\n",
      "     |  __delitem__(self, key, /)\n",
      "     |      Delete self[key].\n",
      "     |\n",
      "     |  __eq__(self, value, /)\n",
      "     |      Return self==value.\n",
      "     |\n",
      "     |  __ge__(self, value, /)\n",
      "     |      Return self>=value.\n",
      "     |\n",
      "     |  __getattribute__(self, name, /)\n",
      "     |      Return getattr(self, name).\n",
      "     |\n",
      "     |  __getitem__(self, key, /)\n",
      "     |      Return self[key].\n",
      "     |\n",
      "     |  __gt__(self, value, /)\n",
      "     |      Return self>value.\n",
      "     |\n",
      "     |  __iadd__(self, value, /)\n",
      "     |      Implement self+=value.\n",
      "     |\n",
      "     |  __imul__(self, value, /)\n",
      "     |      Implement self*=value.\n",
      "     |\n",
      "     |  __iter__(self, /)\n",
      "     |      Implement iter(self).\n",
      "     |\n",
      "     |  __le__(self, value, /)\n",
      "     |      Return self<=value.\n",
      "     |\n",
      "     |  __len__(self, /)\n",
      "     |      Return len(self).\n",
      "     |\n",
      "     |  __lt__(self, value, /)\n",
      "     |      Return self<value.\n",
      "     |\n",
      "     |  __mul__(self, value, /)\n",
      "     |      Return self*value.\n",
      "     |\n",
      "     |  __ne__(self, value, /)\n",
      "     |      Return self!=value.\n",
      "     |\n",
      "     |  __reduce_ex__(self, value, /)\n",
      "     |      Return state information for pickling.\n",
      "     |\n",
      "     |  __release_buffer__(self, buffer, /)\n",
      "     |      Release the buffer object that exposes the underlying memory of the object.\n",
      "     |\n",
      "     |  __repr__(self, /)\n",
      "     |      Return repr(self).\n",
      "     |\n",
      "     |  __rmul__(self, value, /)\n",
      "     |      Return value*self.\n",
      "     |\n",
      "     |  __setitem__(self, key, value, /)\n",
      "     |      Set self[key] to value.\n",
      "     |\n",
      "     |  __sizeof__(self, /)\n",
      "     |      Size of the array in memory, in bytes.\n",
      "     |\n",
      "     |  append(self, v, /)\n",
      "     |      Append new value v to the end of the array.\n",
      "     |\n",
      "     |  buffer_info(self, /)\n",
      "     |      Return a tuple (address, length) giving the current memory address and the length in items of the buffer used to hold array's contents.\n",
      "     |\n",
      "     |      The length should be multiplied by the itemsize attribute to calculate\n",
      "     |      the buffer length in bytes.\n",
      "     |\n",
      "     |  byteswap(self, /)\n",
      "     |      Byteswap all items of the array.\n",
      "     |\n",
      "     |      If the items in the array are not 1, 2, 4, or 8 bytes in size, RuntimeError is\n",
      "     |      raised.\n",
      "     |\n",
      "     |  count(self, v, /)\n",
      "     |      Return number of occurrences of v in the array.\n",
      "     |\n",
      "     |  extend(self, bb, /)\n",
      "     |      Append items to the end of the array.\n",
      "     |\n",
      "     |  frombytes(self, buffer, /)\n",
      "     |      Appends items from the string, interpreting it as an array of machine values, as if it had been read from a file using the fromfile() method.\n",
      "     |\n",
      "     |  fromfile(self, f, n, /)\n",
      "     |      Read n objects from the file object f and append them to the end of the array.\n",
      "     |\n",
      "     |  fromlist(self, list, /)\n",
      "     |      Append items to array from list.\n",
      "     |\n",
      "     |  fromunicode(self, ustr, /)\n",
      "     |      Extends this array with data from the unicode string ustr.\n",
      "     |\n",
      "     |      The array must be a unicode type array; otherwise a ValueError is raised.\n",
      "     |      Use array.frombytes(ustr.encode(...)) to append Unicode data to an array of\n",
      "     |      some other type.\n",
      "     |\n",
      "     |  index(self, v, start=0, stop=9223372036854775807, /)\n",
      "     |      Return index of first occurrence of v in the array.\n",
      "     |\n",
      "     |      Raise ValueError if the value is not present.\n",
      "     |\n",
      "     |  insert(self, i, v, /)\n",
      "     |      Insert a new item v into the array before position i.\n",
      "     |\n",
      "     |  pop(self, i=-1, /)\n",
      "     |      Return the i-th element and delete it from the array.\n",
      "     |\n",
      "     |      i defaults to -1.\n",
      "     |\n",
      "     |  remove(self, v, /)\n",
      "     |      Remove the first occurrence of v in the array.\n",
      "     |\n",
      "     |  reverse(self, /)\n",
      "     |      Reverse the order of the items in the array.\n",
      "     |\n",
      "     |  tobytes(self, /)\n",
      "     |      Convert the array to an array of machine values and return the bytes representation.\n",
      "     |\n",
      "     |  tofile(self, f, /)\n",
      "     |      Write all items (as machine values) to the file object f.\n",
      "     |\n",
      "     |  tolist(self, /)\n",
      "     |      Convert array to an ordinary list with the same items.\n",
      "     |\n",
      "     |  tounicode(self, /)\n",
      "     |      Extends this array with data from the unicode string ustr.\n",
      "     |\n",
      "     |      Convert the array to a unicode string.  The array must be a unicode type array;\n",
      "     |      otherwise a ValueError is raised.  Use array.tobytes().decode() to obtain a\n",
      "     |      unicode string from an array of some other type.\n",
      "     |\n",
      "     |  ----------------------------------------------------------------------\n",
      "     |  Class methods defined here:\n",
      "     |\n",
      "     |  __class_getitem__(...)\n",
      "     |      See PEP 585\n",
      "     |\n",
      "     |  ----------------------------------------------------------------------\n",
      "     |  Static methods defined here:\n",
      "     |\n",
      "     |  __new__(*args, **kwargs)\n",
      "     |      Create and return a new object.  See help(type) for accurate signature.\n",
      "     |\n",
      "     |  ----------------------------------------------------------------------\n",
      "     |  Data descriptors defined here:\n",
      "     |\n",
      "     |  itemsize\n",
      "     |      the size, in bytes, of one array item\n",
      "     |\n",
      "     |  typecode\n",
      "     |      the typecode character used to create the array\n",
      "     |\n",
      "     |  ----------------------------------------------------------------------\n",
      "     |  Data and other attributes defined here:\n",
      "     |\n",
      "     |  __hash__ = None\n",
      "\n",
      "DATA\n",
      "    typecodes = 'bBuhHiIlLqQfd'\n",
      "\n",
      "FILE\n",
      "    (built-in)\n",
      "\n",
      "\n"
     ]
    }
   ],
   "source": [
    "help(array)"
   ]
  },
  {
   "cell_type": "code",
   "execution_count": 49,
   "id": "94bd1f72-cb9a-4914-ba14-ff30b15fe429",
   "metadata": {},
   "outputs": [
    {
     "name": "stdout",
     "output_type": "stream",
     "text": [
      "<class 'type'>\n"
     ]
    }
   ],
   "source": [
    "print(type(array.array))"
   ]
  },
  {
   "cell_type": "code",
   "execution_count": 53,
   "id": "df8d1152-b92b-4bdb-8078-c3bd73d3d95f",
   "metadata": {},
   "outputs": [
    {
     "data": {
      "text/plain": [
       "array('i', [15, -1, 45])"
      ]
     },
     "execution_count": 53,
     "metadata": {},
     "output_type": "execute_result"
    }
   ],
   "source": [
    "arr = array.array('i',)\n",
    "arr.append(15)\n",
    "arr.append(-1)\n",
    "arr.append(45)\n",
    "arr"
   ]
  },
  {
   "cell_type": "code",
   "execution_count": 56,
   "id": "06a7b9ab-225d-4cef-adfa-97c5777a00b1",
   "metadata": {},
   "outputs": [
    {
     "ename": "TypeError",
     "evalue": "'float' object cannot be interpreted as an integer",
     "output_type": "error",
     "traceback": [
      "\u001b[1;31m---------------------------------------------------------------------------\u001b[0m",
      "\u001b[1;31mTypeError\u001b[0m                                 Traceback (most recent call last)",
      "Cell \u001b[1;32mIn[56], line 1\u001b[0m\n\u001b[1;32m----> 1\u001b[0m arr\u001b[38;5;241m.\u001b[39mappend(\u001b[38;5;241m56.0\u001b[39m)\n",
      "\u001b[1;31mTypeError\u001b[0m: 'float' object cannot be interpreted as an integer"
     ]
    }
   ],
   "source": [
    "arr.append(56.0)"
   ]
  },
  {
   "cell_type": "code",
   "execution_count": 58,
   "id": "40793908-d3ac-4287-845b-305865765185",
   "metadata": {},
   "outputs": [
    {
     "data": {
      "text/plain": [
       "array('i', [10, 20, 30, 40])"
      ]
     },
     "execution_count": 58,
     "metadata": {},
     "output_type": "execute_result"
    }
   ],
   "source": [
    "a1 = array.array('i',[])\n",
    "a1.append(10)\n",
    "a1.append(20)\n",
    "a1.append(30)\n",
    "a1.append(40)\n",
    "a1"
   ]
  },
  {
   "cell_type": "code",
   "execution_count": 60,
   "id": "aa70e752-d525-4000-865c-9d71d08d8cc3",
   "metadata": {},
   "outputs": [
    {
     "ename": "TypeError",
     "evalue": "can only append array (not \"int\") to array",
     "output_type": "error",
     "traceback": [
      "\u001b[1;31m---------------------------------------------------------------------------\u001b[0m",
      "\u001b[1;31mTypeError\u001b[0m                                 Traceback (most recent call last)",
      "Cell \u001b[1;32mIn[60], line 1\u001b[0m\n\u001b[1;32m----> 1\u001b[0m a1\u001b[38;5;241m+\u001b[39m\u001b[38;5;241m150\u001b[39m\n",
      "\u001b[1;31mTypeError\u001b[0m: can only append array (not \"int\") to array"
     ]
    }
   ],
   "source": [
    "a1+150"
   ]
  },
  {
   "cell_type": "code",
   "execution_count": 62,
   "id": "317c3853-fbf9-4d9d-ab37-dc749c34c0b6",
   "metadata": {},
   "outputs": [
    {
     "ename": "TypeError",
     "evalue": "'>' not supported between instances of 'array.array' and 'int'",
     "output_type": "error",
     "traceback": [
      "\u001b[1;31m---------------------------------------------------------------------------\u001b[0m",
      "\u001b[1;31mTypeError\u001b[0m                                 Traceback (most recent call last)",
      "Cell \u001b[1;32mIn[62], line 1\u001b[0m\n\u001b[1;32m----> 1\u001b[0m a1 \u001b[38;5;241m>\u001b[39m\u001b[38;5;241m30\u001b[39m\n",
      "\u001b[1;31mTypeError\u001b[0m: '>' not supported between instances of 'array.array' and 'int'"
     ]
    }
   ],
   "source": [
    "a1 >30"
   ]
  },
  {
   "cell_type": "code",
   "execution_count": null,
   "id": "6acdb67f-9bca-45b5-866c-962c2a455c93",
   "metadata": {},
   "outputs": [],
   "source": [
    "python.org ->download ->python -> cpython\n",
    "                                      - we can do general python program\n",
    "pip install <module>\n",
    "\n",
    "ananconda ->download ->python ->ipython\n",
    "                                Core python + ML modules also available "
   ]
  },
  {
   "cell_type": "code",
   "execution_count": null,
   "id": "e3e4283d-92e8-41c6-b0f1-4851788f440e",
   "metadata": {},
   "outputs": [],
   "source": [
    "!pip install <module>"
   ]
  },
  {
   "cell_type": "code",
   "execution_count": 64,
   "id": "0760f16f-0c6c-41ae-b8ee-9f5deb0bdbc9",
   "metadata": {},
   "outputs": [
    {
     "data": {
      "text/plain": [
       "'1.26.4'"
      ]
     },
     "execution_count": 64,
     "metadata": {},
     "output_type": "execute_result"
    }
   ],
   "source": [
    "import numpy\n",
    "numpy.__version__"
   ]
  },
  {
   "cell_type": "code",
   "execution_count": 66,
   "id": "78bf5c55-ecd6-4776-a401-1023cf148360",
   "metadata": {},
   "outputs": [
    {
     "data": {
      "text/plain": [
       "'C:\\\\Users\\\\theeba\\\\anaconda3\\\\Lib\\\\site-packages\\\\numpy\\\\__init__.py'"
      ]
     },
     "execution_count": 66,
     "metadata": {},
     "output_type": "execute_result"
    }
   ],
   "source": [
    "numpy.__file__"
   ]
  },
  {
   "cell_type": "code",
   "execution_count": 68,
   "id": "7db5e1b1-df5e-410f-89ce-f1cc19cba024",
   "metadata": {},
   "outputs": [
    {
     "data": {
      "text/plain": [
       "array([10, 20, 30])"
      ]
     },
     "execution_count": 68,
     "metadata": {},
     "output_type": "execute_result"
    }
   ],
   "source": [
    "numpy.array([10,20,30])"
   ]
  },
  {
   "cell_type": "code",
   "execution_count": 70,
   "id": "35c2e064-7bac-4eb2-85a0-2e7f96156d72",
   "metadata": {},
   "outputs": [
    {
     "name": "stdout",
     "output_type": "stream",
     "text": [
      "<class 'numpy.ndarray'>\n"
     ]
    }
   ],
   "source": [
    "a1 = numpy.array([10,20,30])\n",
    "print(type(a1))"
   ]
  },
  {
   "cell_type": "code",
   "execution_count": 72,
   "id": "68d9b85c-db76-46f8-98a5-c9e116d48d37",
   "metadata": {},
   "outputs": [],
   "source": [
    "L1 = [10,20,30]\n",
    "a1 = array.array('i',[10,20,30])\n",
    "na1 = numpy.array([10,20,30])"
   ]
  },
  {
   "cell_type": "code",
   "execution_count": 76,
   "id": "f6bf9ee9-8e31-4a6b-a3e6-28e0f5b0d1e1",
   "metadata": {},
   "outputs": [
    {
     "name": "stdout",
     "output_type": "stream",
     "text": [
      "10 10 10\n"
     ]
    }
   ],
   "source": [
    "print(L1[0],a1[0],na1[0])"
   ]
  },
  {
   "cell_type": "code",
   "execution_count": 82,
   "id": "fcbd118d-7132-4c1c-8025-c5e92d5db135",
   "metadata": {},
   "outputs": [
    {
     "data": {
      "text/plain": [
       "array([110, 120, 130])"
      ]
     },
     "execution_count": 82,
     "metadata": {},
     "output_type": "execute_result"
    }
   ],
   "source": [
    "# L1+100 ->Error\n",
    "# a1+100 ->Error\n",
    "na1 + 100"
   ]
  },
  {
   "cell_type": "code",
   "execution_count": 84,
   "id": "b9ab9247-8d5c-4f56-88db-c2a501160da7",
   "metadata": {},
   "outputs": [
    {
     "data": {
      "text/plain": [
       "array([20.45, 30.45, 40.45])"
      ]
     },
     "execution_count": 84,
     "metadata": {},
     "output_type": "execute_result"
    }
   ],
   "source": [
    "na1 + 10.45"
   ]
  },
  {
   "cell_type": "code",
   "execution_count": 86,
   "id": "5db1fa25-4824-4049-9fcf-a2fce02fbb18",
   "metadata": {},
   "outputs": [
    {
     "data": {
      "text/plain": [
       "[10, 20, 30, 2, 3, 4]"
      ]
     },
     "execution_count": 86,
     "metadata": {},
     "output_type": "execute_result"
    }
   ],
   "source": [
    "L1=[10,20,30]\n",
    "L2=[2,3,4]\n",
    "L1+L2"
   ]
  },
  {
   "cell_type": "code",
   "execution_count": 88,
   "id": "1742c907-a4b1-44ac-9650-1bc2144c9c8e",
   "metadata": {},
   "outputs": [
    {
     "ename": "TypeError",
     "evalue": "unsupported operand type(s) for -: 'list' and 'list'",
     "output_type": "error",
     "traceback": [
      "\u001b[1;31m---------------------------------------------------------------------------\u001b[0m",
      "\u001b[1;31mTypeError\u001b[0m                                 Traceback (most recent call last)",
      "Cell \u001b[1;32mIn[88], line 1\u001b[0m\n\u001b[1;32m----> 1\u001b[0m L1\u001b[38;5;241m-\u001b[39mL2\n",
      "\u001b[1;31mTypeError\u001b[0m: unsupported operand type(s) for -: 'list' and 'list'"
     ]
    }
   ],
   "source": [
    "L1-L2"
   ]
  },
  {
   "cell_type": "code",
   "execution_count": 90,
   "id": "b0e1edd5-cc9e-43c1-8b82-e5a0a386f4ee",
   "metadata": {},
   "outputs": [
    {
     "ename": "TypeError",
     "evalue": "can't multiply sequence by non-int of type 'list'",
     "output_type": "error",
     "traceback": [
      "\u001b[1;31m---------------------------------------------------------------------------\u001b[0m",
      "\u001b[1;31mTypeError\u001b[0m                                 Traceback (most recent call last)",
      "Cell \u001b[1;32mIn[90], line 1\u001b[0m\n\u001b[1;32m----> 1\u001b[0m L1\u001b[38;5;241m*\u001b[39mL2\n",
      "\u001b[1;31mTypeError\u001b[0m: can't multiply sequence by non-int of type 'list'"
     ]
    }
   ],
   "source": [
    "L1*L2"
   ]
  },
  {
   "cell_type": "code",
   "execution_count": 92,
   "id": "f6660589-d7fb-406e-b543-ea8c50e3b029",
   "metadata": {},
   "outputs": [
    {
     "data": {
      "text/plain": [
       "[10, 20, 30, 10, 20, 30, 10, 20, 30]"
      ]
     },
     "execution_count": 92,
     "metadata": {},
     "output_type": "execute_result"
    }
   ],
   "source": [
    "L1*3"
   ]
  },
  {
   "cell_type": "code",
   "execution_count": 94,
   "id": "5c0c4b49-1ee3-47a8-9150-97bdaaeaea60",
   "metadata": {},
   "outputs": [
    {
     "data": {
      "text/plain": [
       "'HelloHelloHello'"
      ]
     },
     "execution_count": 94,
     "metadata": {},
     "output_type": "execute_result"
    }
   ],
   "source": [
    "\"Hello\"*3"
   ]
  },
  {
   "cell_type": "code",
   "execution_count": 96,
   "id": "53cb1c7f-f3c0-4c62-8e28-3418a8e4c231",
   "metadata": {},
   "outputs": [
    {
     "data": {
      "text/plain": [
       "array([15, 35, 55])"
      ]
     },
     "execution_count": 96,
     "metadata": {},
     "output_type": "execute_result"
    }
   ],
   "source": [
    "na1 = numpy.array([10,20,30])\n",
    "na2 = numpy.array([5,15,25])\n",
    "na1 + na2"
   ]
  },
  {
   "cell_type": "code",
   "execution_count": 98,
   "id": "da1ff53f-0093-483b-9667-a0b5107bf7e4",
   "metadata": {},
   "outputs": [
    {
     "data": {
      "text/plain": [
       "array([110, 120, 130])"
      ]
     },
     "execution_count": 98,
     "metadata": {},
     "output_type": "execute_result"
    }
   ],
   "source": [
    "import numpy as np\n",
    "a1 = np.array([10,20,30])\n",
    "a1+100"
   ]
  },
  {
   "cell_type": "code",
   "execution_count": 100,
   "id": "0de25527-989f-47a1-a7b7-06e7fcb859ff",
   "metadata": {},
   "outputs": [
    {
     "data": {
      "text/plain": [
       "dtype('int32')"
      ]
     },
     "execution_count": 100,
     "metadata": {},
     "output_type": "execute_result"
    }
   ],
   "source": [
    "a1.dtype"
   ]
  },
  {
   "cell_type": "code",
   "execution_count": 102,
   "id": "1b162821-a312-4ea8-a3ce-66b12a0ffa06",
   "metadata": {},
   "outputs": [
    {
     "data": {
      "text/plain": [
       "(3,)"
      ]
     },
     "execution_count": 102,
     "metadata": {},
     "output_type": "execute_result"
    }
   ],
   "source": [
    "a1.shape"
   ]
  },
  {
   "cell_type": "code",
   "execution_count": 104,
   "id": "dd950fba-9433-4216-b7c3-ced770e4b4ba",
   "metadata": {},
   "outputs": [
    {
     "data": {
      "text/plain": [
       "1"
      ]
     },
     "execution_count": 104,
     "metadata": {},
     "output_type": "execute_result"
    }
   ],
   "source": [
    "a1.ndim"
   ]
  },
  {
   "cell_type": "code",
   "execution_count": 106,
   "id": "573a2e84-d49a-400e-9aa0-284628bc11e3",
   "metadata": {},
   "outputs": [
    {
     "name": "stdout",
     "output_type": "stream",
     "text": [
      "int32 (3,) 1\n"
     ]
    }
   ],
   "source": [
    "a1 = np.array([10,20,30])\n",
    "print(a1.dtype,a1.shape,a1.ndim)"
   ]
  },
  {
   "cell_type": "code",
   "execution_count": 108,
   "id": "322d3109-27ed-4c6b-92ec-ae62dad98b6b",
   "metadata": {},
   "outputs": [
    {
     "name": "stdout",
     "output_type": "stream",
     "text": [
      "float64 (3,) 1\n"
     ]
    }
   ],
   "source": [
    "a1 = np.array([10,20.0,30])\n",
    "print(a1.dtype,a1.shape,a1.ndim)"
   ]
  },
  {
   "cell_type": "code",
   "execution_count": 110,
   "id": "a7fc0e43-05ad-4856-b949-621a12c3437a",
   "metadata": {},
   "outputs": [
    {
     "data": {
      "text/plain": [
       "array([110., 120., 130.])"
      ]
     },
     "execution_count": 110,
     "metadata": {},
     "output_type": "execute_result"
    }
   ],
   "source": [
    "a1+100"
   ]
  },
  {
   "cell_type": "code",
   "execution_count": 112,
   "id": "3e54a92d-04b9-4af9-a7f6-90a1c8eb146d",
   "metadata": {},
   "outputs": [
    {
     "name": "stdout",
     "output_type": "stream",
     "text": [
      "<U32 (3,) 1\n"
     ]
    }
   ],
   "source": [
    "a1 = np.array([10,20.0,'30'])\n",
    "print(a1.dtype,a1.shape,a1.ndim)"
   ]
  },
  {
   "cell_type": "code",
   "execution_count": 114,
   "id": "03a78948-46f5-4ea6-966c-fcaeebe311c5",
   "metadata": {},
   "outputs": [
    {
     "ename": "UFuncTypeError",
     "evalue": "ufunc 'add' did not contain a loop with signature matching types (dtype('<U32'), dtype('int32')) -> None",
     "output_type": "error",
     "traceback": [
      "\u001b[1;31m---------------------------------------------------------------------------\u001b[0m",
      "\u001b[1;31mUFuncTypeError\u001b[0m                            Traceback (most recent call last)",
      "Cell \u001b[1;32mIn[114], line 1\u001b[0m\n\u001b[1;32m----> 1\u001b[0m a1\u001b[38;5;241m+\u001b[39m\u001b[38;5;241m100\u001b[39m\n",
      "\u001b[1;31mUFuncTypeError\u001b[0m: ufunc 'add' did not contain a loop with signature matching types (dtype('<U32'), dtype('int32')) -> None"
     ]
    }
   ],
   "source": [
    "a1+100"
   ]
  },
  {
   "cell_type": "code",
   "execution_count": 116,
   "id": "952d48c4-bad0-4761-b181-153ca2a847dd",
   "metadata": {},
   "outputs": [
    {
     "data": {
      "text/plain": [
       "array([10., 20., 30.])"
      ]
     },
     "execution_count": 116,
     "metadata": {},
     "output_type": "execute_result"
    }
   ],
   "source": [
    "a1 = np.array([10,20.0,'30'],float)\n",
    "a1"
   ]
  },
  {
   "cell_type": "code",
   "execution_count": 118,
   "id": "d7f89db5-0420-4e23-9d5e-a3f0d829ce1f",
   "metadata": {},
   "outputs": [
    {
     "data": {
      "text/plain": [
       "array([10.+0.j, 20.+0.j, 30.+0.j])"
      ]
     },
     "execution_count": 118,
     "metadata": {},
     "output_type": "execute_result"
    }
   ],
   "source": [
    "a1 = np.array([10,20.0,'30'],complex)\n",
    "a1"
   ]
  },
  {
   "cell_type": "code",
   "execution_count": 120,
   "id": "d02a4ef7-53e5-40fc-9223-5de60cb88b2b",
   "metadata": {},
   "outputs": [
    {
     "name": "stdout",
     "output_type": "stream",
     "text": [
      "1 (3,)\n"
     ]
    }
   ],
   "source": [
    "a1 = np.array([10,20.0,30])\n",
    "print(a1.ndim,a1.shape)"
   ]
  },
  {
   "cell_type": "code",
   "execution_count": 122,
   "id": "3c5fcd85-400e-4a12-98ef-fe6c13e153c9",
   "metadata": {},
   "outputs": [
    {
     "name": "stdout",
     "output_type": "stream",
     "text": [
      "2 (1, 3)\n"
     ]
    }
   ],
   "source": [
    "a1 = np.array([[10,20.0,30]])\n",
    "print(a1.ndim,a1.shape)"
   ]
  },
  {
   "cell_type": "markdown",
   "id": "bb458804-4ab1-4686-a70c-da1f7c2ecbde",
   "metadata": {},
   "source": [
    "   |      |     |\n",
    " | C1  |  C2  | C3 |\n",
    " | 10  |  20  | 30 | <== row"
   ]
  },
  {
   "cell_type": "code",
   "execution_count": 124,
   "id": "8b1d7868-e18f-4af5-b72a-444c9e84071d",
   "metadata": {},
   "outputs": [
    {
     "name": "stdout",
     "output_type": "stream",
     "text": [
      "3 (1, 1, 3)\n"
     ]
    }
   ],
   "source": [
    "a1 = np.array([[[10,20.0,30]]])\n",
    "print(a1.ndim,a1.shape)"
   ]
  },
  {
   "cell_type": "code",
   "execution_count": 126,
   "id": "7b026c16-6d2a-47e1-bf88-01a71e1ef87d",
   "metadata": {},
   "outputs": [
    {
     "name": "stdout",
     "output_type": "stream",
     "text": [
      "4 (1, 1, 1, 3)\n"
     ]
    }
   ],
   "source": [
    "a1 = np.array([[[[10,20.0,30]]]])\n",
    "print(a1.ndim,a1.shape)"
   ]
  },
  {
   "cell_type": "code",
   "execution_count": 128,
   "id": "98aec271-6ecb-41c9-b321-59a02f49d2d9",
   "metadata": {},
   "outputs": [
    {
     "name": "stdout",
     "output_type": "stream",
     "text": [
      "2 (2, 3)\n"
     ]
    }
   ],
   "source": [
    "a1 = np.array([[10,20,30],[40,50,60]])\n",
    "print(a1.ndim,a1.shape)\n",
    "# a1.shape ->(2,3) =>2rows 3cols"
   ]
  },
  {
   "cell_type": "code",
   "execution_count": 130,
   "id": "80cc8924-6537-4fda-ba3b-fe72cc712f7c",
   "metadata": {},
   "outputs": [
    {
     "name": "stdout",
     "output_type": "stream",
     "text": [
      "2 (3, 3)\n"
     ]
    }
   ],
   "source": [
    "a1 = np.array([[10,20,30],[40,50,60],[35,45,55]])\n",
    "print(a1.ndim,a1.shape)"
   ]
  },
  {
   "cell_type": "code",
   "execution_count": 132,
   "id": "6ae63a97-49a0-4e9a-ba67-ed6b0b9cf0ae",
   "metadata": {},
   "outputs": [
    {
     "name": "stdout",
     "output_type": "stream",
     "text": [
      "2 (3, 4)\n"
     ]
    }
   ],
   "source": [
    "a1 = np.array([[10,20,30,33],[40,50,60,66],[35,45,55,66]])\n",
    "print(a1.ndim,a1.shape)"
   ]
  },
  {
   "cell_type": "code",
   "execution_count": 134,
   "id": "5fe4d0a5-79b0-4b1a-8a08-66dffce2d1f0",
   "metadata": {},
   "outputs": [
    {
     "name": "stdout",
     "output_type": "stream",
     "text": [
      "[[10 20 30 33]\n",
      " [40 50 60 66]\n",
      " [35 45 55 66]]\n"
     ]
    }
   ],
   "source": [
    "print(a1)"
   ]
  },
  {
   "cell_type": "code",
   "execution_count": 142,
   "id": "66b2a42a-16db-4d0a-ba49-bd80992ce9a2",
   "metadata": {},
   "outputs": [
    {
     "data": {
      "text/plain": [
       "array([[10, 20, 30],\n",
       "       [33, 40, 50],\n",
       "       [60, 66, 35],\n",
       "       [45, 55, 66]])"
      ]
     },
     "execution_count": 142,
     "metadata": {},
     "output_type": "execute_result"
    }
   ],
   "source": [
    "a1.reshape(4,3) # 4row and 3cols"
   ]
  },
  {
   "cell_type": "code",
   "execution_count": 146,
   "id": "9403e350-3d49-499d-a2d2-9c606d0a9639",
   "metadata": {},
   "outputs": [
    {
     "data": {
      "text/plain": [
       "array([[110, 120, 130],\n",
       "       [133, 140, 150],\n",
       "       [160, 166, 135],\n",
       "       [145, 155, 166]])"
      ]
     },
     "execution_count": 146,
     "metadata": {},
     "output_type": "execute_result"
    }
   ],
   "source": [
    "r1=a1.reshape(4,3)\n",
    "r1+100"
   ]
  },
  {
   "cell_type": "code",
   "execution_count": 148,
   "id": "b28cd53d-a5ca-4cd5-a7ca-85d3f9ec3e84",
   "metadata": {},
   "outputs": [
    {
     "data": {
      "text/plain": [
       "(4, 3)"
      ]
     },
     "execution_count": 148,
     "metadata": {},
     "output_type": "execute_result"
    }
   ],
   "source": [
    "r1.shape"
   ]
  },
  {
   "cell_type": "code",
   "execution_count": 150,
   "id": "e89b61e3-6706-47ea-be0c-83aee7cdde66",
   "metadata": {},
   "outputs": [
    {
     "data": {
      "text/plain": [
       "array([10., 20., 30.])"
      ]
     },
     "execution_count": 150,
     "metadata": {},
     "output_type": "execute_result"
    }
   ],
   "source": [
    "arr1 = np.array([10,20,30],dtype=np.float64)\n",
    "arr1"
   ]
  },
  {
   "cell_type": "code",
   "execution_count": 152,
   "id": "1b5c6e8a-b8a5-473d-b549-6366995ff61c",
   "metadata": {},
   "outputs": [
    {
     "data": {
      "text/plain": [
       "dtype('float64')"
      ]
     },
     "execution_count": 152,
     "metadata": {},
     "output_type": "execute_result"
    }
   ],
   "source": [
    "arr1.dtype"
   ]
  },
  {
   "cell_type": "code",
   "execution_count": 156,
   "id": "0fd40867-69e4-4109-a82a-f9aa75ce32b3",
   "metadata": {},
   "outputs": [
    {
     "name": "stdout",
     "output_type": "stream",
     "text": [
      "[10 20 30] int64\n"
     ]
    }
   ],
   "source": [
    "arr1 = np.array([10,20,30],dtype=np.int64)\n",
    "print(arr1,arr1.dtype)"
   ]
  },
  {
   "cell_type": "markdown",
   "id": "e5aa8323-249d-4bfa-9119-7eed9ec38002",
   "metadata": {},
   "source": [
    "arr1 = np.array([10,20,30],dtype=np.bool)\n",
    "print(arr1,arr1.dtype)"
   ]
  },
  {
   "cell_type": "code",
   "execution_count": 164,
   "id": "dab7aecc-2484-4475-b2b3-fbf5e833611d",
   "metadata": {},
   "outputs": [
    {
     "name": "stdout",
     "output_type": "stream",
     "text": [
      "[0, 1, 2, 3, 4]\n",
      "[3, 4, 5, 6, 7, 8, 9, 10, 11, 12, 13, 14]\n",
      "[3, 5, 7, 9, 11, 13]\n"
     ]
    }
   ],
   "source": [
    "print(list(range(5)))\n",
    "print(list(range(3,15)))\n",
    "print(list(range(3,15,2)))"
   ]
  },
  {
   "cell_type": "code",
   "execution_count": 168,
   "id": "668975e8-d7f7-4b4f-b5f3-ad43da72a889",
   "metadata": {},
   "outputs": [
    {
     "name": "stdout",
     "output_type": "stream",
     "text": [
      "[0 1 2 3 4]\n",
      "[ 3  4  5  6  7  8  9 10 11 12 13 14]\n",
      "[ 3  5  7  9 11 13]\n"
     ]
    }
   ],
   "source": [
    "print(np.arange(5))\n",
    "print(np.arange(3,15))\n",
    "print(np.arange(3,15,2))"
   ]
  },
  {
   "cell_type": "code",
   "execution_count": 172,
   "id": "5692013f-7762-43a9-951b-83c59ac95ca0",
   "metadata": {},
   "outputs": [
    {
     "data": {
      "text/plain": [
       "array([0., 0., 0., 0., 0.])"
      ]
     },
     "execution_count": 172,
     "metadata": {},
     "output_type": "execute_result"
    }
   ],
   "source": [
    "np.zeros(5)"
   ]
  },
  {
   "cell_type": "code",
   "execution_count": 174,
   "id": "c6b6b926-41bd-4372-baf3-6d25688bb04a",
   "metadata": {},
   "outputs": [
    {
     "data": {
      "text/plain": [
       "array([0, 0, 0, 0, 0])"
      ]
     },
     "execution_count": 174,
     "metadata": {},
     "output_type": "execute_result"
    }
   ],
   "source": [
    "np.zeros(5,dtype=np.int32)"
   ]
  },
  {
   "cell_type": "code",
   "execution_count": 176,
   "id": "a9bdc945-7ed0-4762-94f0-ad6cc96ef3a2",
   "metadata": {},
   "outputs": [
    {
     "data": {
      "text/plain": [
       "array([0.6482694 , 0.74971141, 0.97692538, 0.06703215, 0.17304803])"
      ]
     },
     "execution_count": 176,
     "metadata": {},
     "output_type": "execute_result"
    }
   ],
   "source": [
    "np.random.rand(5)"
   ]
  },
  {
   "cell_type": "code",
   "execution_count": 182,
   "id": "96f65ded-1ed1-476d-8224-4d51c9384681",
   "metadata": {},
   "outputs": [
    {
     "name": "stdout",
     "output_type": "stream",
     "text": [
      "[[110 120 130]\n",
      " [140 150 160]]\n",
      "[[False False False]\n",
      " [ True  True  True]]\n",
      "\n",
      "[[ 25  45  60]\n",
      " [ 85  85 110]]\n",
      "[[False False False]\n",
      " [False  True  True]]\n"
     ]
    }
   ],
   "source": [
    "a1 = np.array([[10,20,30],[40,50,60]])\n",
    "print(a1 + 100)\n",
    "print(a1 > 35)\n",
    "print('')\n",
    "a2 = np.array([[15,25,30],[45,35,50]])\n",
    "print(a1+a2)\n",
    "print(a1 > a2)"
   ]
  },
  {
   "cell_type": "code",
   "execution_count": 184,
   "id": "06400630-ebad-45c2-8665-4d3b14c26727",
   "metadata": {},
   "outputs": [
    {
     "data": {
      "text/plain": [
       "dtype('bool')"
      ]
     },
     "execution_count": 184,
     "metadata": {},
     "output_type": "execute_result"
    }
   ],
   "source": [
    "r = a1 > a2\n",
    "r.dtype"
   ]
  },
  {
   "cell_type": "raw",
   "id": "7ca9df39-3f88-43a9-8791-baa72ca24fc7",
   "metadata": {},
   "source": [
    "Slicing\n",
    "arrayname[start:stop:step]\n",
    "          |->slice ND"
   ]
  },
  {
   "cell_type": "code",
   "execution_count": 186,
   "id": "1d3e5b51-71f8-44c4-8147-11b4ca1540bf",
   "metadata": {},
   "outputs": [
    {
     "data": {
      "text/plain": [
       "array([30, 40, 50])"
      ]
     },
     "execution_count": 186,
     "metadata": {},
     "output_type": "execute_result"
    }
   ],
   "source": [
    "a1 = np.array([10,20,30,40,50,60,70])\n",
    "a1[2:5] # 2nd index to 4th index(5-1)"
   ]
  },
  {
   "cell_type": "code",
   "execution_count": 188,
   "id": "cc793a36-ec0a-4eee-9fdb-bf7059fd1b19",
   "metadata": {},
   "outputs": [
    {
     "data": {
      "text/plain": [
       "array([30, 40, 50, 60, 70])"
      ]
     },
     "execution_count": 188,
     "metadata": {},
     "output_type": "execute_result"
    }
   ],
   "source": [
    "a1[2:]"
   ]
  },
  {
   "cell_type": "code",
   "execution_count": 190,
   "id": "ccfcf523-581d-4418-9105-0612519bce12",
   "metadata": {},
   "outputs": [
    {
     "data": {
      "text/plain": [
       "array([10, 20, 30, 40, 50])"
      ]
     },
     "execution_count": 190,
     "metadata": {},
     "output_type": "execute_result"
    }
   ],
   "source": [
    "a1[:5]"
   ]
  },
  {
   "cell_type": "code",
   "execution_count": 198,
   "id": "296c6b27-0933-4c2c-8a08-662894a3b183",
   "metadata": {},
   "outputs": [
    {
     "data": {
      "text/plain": [
       "array([30, 60, 90])"
      ]
     },
     "execution_count": 198,
     "metadata": {},
     "output_type": "execute_result"
    }
   ],
   "source": [
    "a1 = np.array([10,20,30,40,50,60,70,80,90,100,200,300])\n",
    "a1[2:9:3] "
   ]
  },
  {
   "cell_type": "code",
   "execution_count": 200,
   "id": "ae78e505-771c-455d-90cf-ef63072f208f",
   "metadata": {},
   "outputs": [
    {
     "data": {
      "text/plain": [
       "300"
      ]
     },
     "execution_count": 200,
     "metadata": {},
     "output_type": "execute_result"
    }
   ],
   "source": [
    "a1[-1]"
   ]
  },
  {
   "cell_type": "code",
   "execution_count": 202,
   "id": "e6ab385e-4aef-4dfe-8faf-8df8a055efe1",
   "metadata": {},
   "outputs": [
    {
     "data": {
      "text/plain": [
       "array([ 80,  90, 100, 200, 300])"
      ]
     },
     "execution_count": 202,
     "metadata": {},
     "output_type": "execute_result"
    }
   ],
   "source": [
    "a1[-5:]"
   ]
  },
  {
   "cell_type": "code",
   "execution_count": 214,
   "id": "b9113708-19d6-49d1-bb6f-6c5bb0d08ac0",
   "metadata": {},
   "outputs": [
    {
     "data": {
      "text/plain": [
       "array([[10, 20],\n",
       "       [40, 50]])"
      ]
     },
     "execution_count": 214,
     "metadata": {},
     "output_type": "execute_result"
    }
   ],
   "source": [
    "a2 = np.array([[10,20,30],[40,50,60]])\n",
    "a2[:2,:2]"
   ]
  },
  {
   "cell_type": "code",
   "execution_count": 220,
   "id": "d4c99170-014e-470f-a99e-0c977a3db78c",
   "metadata": {},
   "outputs": [
    {
     "name": "stdout",
     "output_type": "stream",
     "text": [
      "30\n",
      "\n",
      "30\n"
     ]
    }
   ],
   "source": [
    "a2 = np.array([[10,20,30],[40,50,60,]])\n",
    "\n",
    "print(a2[0][2])\n",
    "print('')\n",
    "print(a2[0,2])"
   ]
  },
  {
   "cell_type": "code",
   "execution_count": null,
   "id": "cf660728-952a-41ef-8489-f705270b8150",
   "metadata": {},
   "outputs": [],
   "source": [
    "      C1 C2 C3\n",
    "R1    10 20 30\n",
    "R2    40 50 60"
   ]
  },
  {
   "cell_type": "code",
   "execution_count": 230,
   "id": "38078f2c-917f-437e-a1d0-8116138eec32",
   "metadata": {},
   "outputs": [
    {
     "name": "stdout",
     "output_type": "stream",
     "text": [
      "210\n",
      "[ 60 150]\n",
      "\n",
      "[50 70 90]\n"
     ]
    }
   ],
   "source": [
    "print(np.sum(a2))\n",
    "print(np.sum(a2,axis=1))\n",
    "# 10+20+30 =>60\n",
    "# 40+50+60 =>150\n",
    "print('')\n",
    "print(np.sum(a2,axis=0))\n",
    "# 10+40 =>50\n",
    "# 20+50 =>70\n",
    "# 30+60 =>90"
   ]
  },
  {
   "cell_type": "code",
   "execution_count": 232,
   "id": "c145945b-2bd2-4693-8926-0e6cadd55c57",
   "metadata": {},
   "outputs": [
    {
     "data": {
      "text/plain": [
       "20.0"
      ]
     },
     "execution_count": 232,
     "metadata": {},
     "output_type": "execute_result"
    }
   ],
   "source": [
    "a = np.array([10,20,30])\n",
    "np.mean(a)"
   ]
  },
  {
   "cell_type": "code",
   "execution_count": 234,
   "id": "78ccd97f-4e0c-4725-ac85-58019329ff02",
   "metadata": {},
   "outputs": [
    {
     "data": {
      "text/plain": [
       "35.0"
      ]
     },
     "execution_count": 234,
     "metadata": {},
     "output_type": "execute_result"
    }
   ],
   "source": [
    "a = np.array([[10,20,30],[40,50,60]])\n",
    "np.mean(a)"
   ]
  },
  {
   "cell_type": "code",
   "execution_count": 236,
   "id": "1ae9c429-aa8b-418a-a65c-91a3f28596c0",
   "metadata": {},
   "outputs": [
    {
     "data": {
      "text/plain": [
       "array([25., 35., 45.])"
      ]
     },
     "execution_count": 236,
     "metadata": {},
     "output_type": "execute_result"
    }
   ],
   "source": [
    "a = np.array([[10,20,30],[40,50,60]])\n",
    "np.mean(a,axis=0)"
   ]
  },
  {
   "cell_type": "code",
   "execution_count": 238,
   "id": "614fec34-3e27-48de-8840-083c08f46c8a",
   "metadata": {},
   "outputs": [
    {
     "data": {
      "text/plain": [
       "array([20., 50.])"
      ]
     },
     "execution_count": 238,
     "metadata": {},
     "output_type": "execute_result"
    }
   ],
   "source": [
    "np.mean(a,axis=1)"
   ]
  },
  {
   "cell_type": "code",
   "execution_count": 244,
   "id": "8c7e4ee4-ce1a-4e49-b7f0-5ffe3f12528c",
   "metadata": {},
   "outputs": [
    {
     "name": "stdout",
     "output_type": "stream",
     "text": [
      "10\n",
      "60\n"
     ]
    }
   ],
   "source": [
    "print(np.min(a))\n",
    "print(np.max(a))"
   ]
  },
  {
   "cell_type": "code",
   "execution_count": 246,
   "id": "700ecb90-0316-4d54-9e75-07980e3af71b",
   "metadata": {},
   "outputs": [
    {
     "name": "stdout",
     "output_type": "stream",
     "text": [
      "[20. 50.]\n",
      "[20. 50.]\n"
     ]
    }
   ],
   "source": [
    "print(np.mean(a,axis=1))\n",
    "print(np.mean(a,1))"
   ]
  },
  {
   "cell_type": "code",
   "execution_count": 248,
   "id": "a4176372-de9e-459a-b308-470e41633a0f",
   "metadata": {},
   "outputs": [
    {
     "data": {
      "text/plain": [
       "[20, 25, 26]"
      ]
     },
     "execution_count": 248,
     "metadata": {},
     "output_type": "execute_result"
    }
   ],
   "source": [
    "list(filter(lambda a:a>15,[20,25,10,26,5]))"
   ]
  },
  {
   "cell_type": "code",
   "execution_count": 254,
   "id": "8a677130-e72f-4bc3-ac4d-62a73895e931",
   "metadata": {},
   "outputs": [
    {
     "name": "stdout",
     "output_type": "stream",
     "text": [
      "(array([0, 1, 3], dtype=int64),)\n"
     ]
    },
    {
     "data": {
      "text/plain": [
       "array([20, 25, 26])"
      ]
     },
     "execution_count": 254,
     "metadata": {},
     "output_type": "execute_result"
    }
   ],
   "source": [
    "a=np.array([20,25,10,26,5])\n",
    "print(np.where(a >15)) # True value index\n",
    "a[np.where(a>15)]"
   ]
  },
  {
   "cell_type": "code",
   "execution_count": 256,
   "id": "58930013-6f00-476f-9e0f-bbccced49afb",
   "metadata": {},
   "outputs": [],
   "source": [
    "array_example = np.array([[[0, 1, 2, 3],\n",
    "                           [4, 5, 6, 7]],\n",
    "\n",
    "                          [[0, 1, 2, 3],\n",
    "                           [4, 5, 6, 7]],\n",
    "\n",
    "                          [[0 ,1 ,2, 3],\n",
    "                           [4, 5, 6, 7]]])"
   ]
  },
  {
   "cell_type": "code",
   "execution_count": 260,
   "id": "bf0ee72b-3fa8-4281-9e57-0bcec716a635",
   "metadata": {},
   "outputs": [
    {
     "data": {
      "text/plain": [
       "3"
      ]
     },
     "execution_count": 260,
     "metadata": {},
     "output_type": "execute_result"
    }
   ],
   "source": [
    "array_example.ndim"
   ]
  },
  {
   "cell_type": "code",
   "execution_count": 262,
   "id": "fdac59e0-6e82-4ba0-8259-50287002a102",
   "metadata": {},
   "outputs": [
    {
     "data": {
      "text/plain": [
       "array([[0, 1, 2, 3],\n",
       "       [4, 5, 6, 7]])"
      ]
     },
     "execution_count": 262,
     "metadata": {},
     "output_type": "execute_result"
    }
   ],
   "source": [
    "array_example[0]"
   ]
  },
  {
   "cell_type": "code",
   "execution_count": 264,
   "id": "c3682a95-2d18-4621-bf36-24c0b879c9c5",
   "metadata": {},
   "outputs": [
    {
     "data": {
      "text/plain": [
       "array([0, 1, 2, 3])"
      ]
     },
     "execution_count": 264,
     "metadata": {},
     "output_type": "execute_result"
    }
   ],
   "source": [
    "array_example[0][0]"
   ]
  },
  {
   "cell_type": "code",
   "execution_count": 266,
   "id": "7104ac16-2129-4cab-9502-62fe1262bacb",
   "metadata": {},
   "outputs": [
    {
     "data": {
      "text/plain": [
       "0"
      ]
     },
     "execution_count": 266,
     "metadata": {},
     "output_type": "execute_result"
    }
   ],
   "source": [
    "array_example[0][0][0]"
   ]
  },
  {
   "cell_type": "code",
   "execution_count": 268,
   "id": "2ce51803-73c3-43f0-998e-82f534657414",
   "metadata": {},
   "outputs": [
    {
     "data": {
      "text/plain": [
       "1"
      ]
     },
     "execution_count": 268,
     "metadata": {},
     "output_type": "execute_result"
    }
   ],
   "source": [
    "array_example[0][0][1]"
   ]
  },
  {
   "cell_type": "code",
   "execution_count": 272,
   "id": "f5f2c2c6-560b-4a2f-a072-945f1179fcf7",
   "metadata": {},
   "outputs": [
    {
     "data": {
      "text/plain": [
       "3"
      ]
     },
     "execution_count": 272,
     "metadata": {},
     "output_type": "execute_result"
    }
   ],
   "source": [
    "array_example[1][0][-1]"
   ]
  },
  {
   "cell_type": "code",
   "execution_count": 274,
   "id": "45d78b5d-a454-46f5-86f6-4dcba47e681e",
   "metadata": {},
   "outputs": [
    {
     "data": {
      "text/plain": [
       "array([[[0, 1, 2, 3],\n",
       "        [4, 5, 6, 7]],\n",
       "\n",
       "       [[0, 1, 2, 3],\n",
       "        [4, 5, 6, 7]]])"
      ]
     },
     "execution_count": 274,
     "metadata": {},
     "output_type": "execute_result"
    }
   ],
   "source": [
    "array_example[[1][0]:]"
   ]
  },
  {
   "cell_type": "raw",
   "id": "196b3fb3-0150-4c51-bfaf-fe801d0e83e6",
   "metadata": {},
   "source": [
    "#Task\n",
    "- create an numpy array \n",
    "     \\___ np.arange(32)\n",
    "- display dimension \n",
    "- display shape\n",
    "- reshape 8 row x 4 cols\n",
    "|\n",
    "- display specific index/slice \n"
   ]
  },
  {
   "cell_type": "code",
   "execution_count": 278,
   "id": "15755aba-d3fb-4e1e-a650-281085148dcc",
   "metadata": {},
   "outputs": [
    {
     "name": "stdout",
     "output_type": "stream",
     "text": [
      "[ 0  1  2  3  4  5  6  7  8  9 10 11 12 13 14 15 16 17 18 19 20 21 22 23\n",
      " 24 25 26 27 28 29 30 31]\n",
      "1\n",
      "(32,)\n",
      "32\n"
     ]
    }
   ],
   "source": [
    "arr = np.arange(32)\n",
    "print(arr)\n",
    "print(arr.ndim)\n",
    "print(arr.shape)\n",
    "print(arr.size)"
   ]
  },
  {
   "cell_type": "code",
   "execution_count": 280,
   "id": "0f6a1377-d7d8-4bf0-8adb-f219d32c9ae1",
   "metadata": {},
   "outputs": [
    {
     "data": {
      "text/plain": [
       "array([[ 0,  1,  2,  3],\n",
       "       [ 4,  5,  6,  7],\n",
       "       [ 8,  9, 10, 11],\n",
       "       [12, 13, 14, 15],\n",
       "       [16, 17, 18, 19],\n",
       "       [20, 21, 22, 23],\n",
       "       [24, 25, 26, 27],\n",
       "       [28, 29, 30, 31]])"
      ]
     },
     "execution_count": 280,
     "metadata": {},
     "output_type": "execute_result"
    }
   ],
   "source": [
    "arr.reshape(8,4)"
   ]
  },
  {
   "cell_type": "code",
   "execution_count": 282,
   "id": "64fc90cc-e645-468a-a32d-beb1a84b9ab5",
   "metadata": {},
   "outputs": [
    {
     "data": {
      "text/plain": [
       "array([[ 0,  1,  2,  3,  4,  5,  6,  7],\n",
       "       [ 8,  9, 10, 11, 12, 13, 14, 15],\n",
       "       [16, 17, 18, 19, 20, 21, 22, 23],\n",
       "       [24, 25, 26, 27, 28, 29, 30, 31]])"
      ]
     },
     "execution_count": 282,
     "metadata": {},
     "output_type": "execute_result"
    }
   ],
   "source": [
    "arr.reshape(4,8)"
   ]
  },
  {
   "cell_type": "code",
   "execution_count": 286,
   "id": "a59001bd-7a2a-4824-bb00-6b64257f72df",
   "metadata": {},
   "outputs": [
    {
     "name": "stdout",
     "output_type": "stream",
     "text": [
      "(8, 4)\n",
      "2\n",
      "32\n"
     ]
    }
   ],
   "source": [
    "arr = np.arange(32).reshape((8,4))\n",
    "print(arr.shape)\n",
    "print(arr.ndim)\n",
    "print(arr.size)"
   ]
  },
  {
   "cell_type": "code",
   "execution_count": 288,
   "id": "46af4da8-2427-45ac-883e-12b481075af1",
   "metadata": {},
   "outputs": [
    {
     "data": {
      "text/plain": [
       "496"
      ]
     },
     "execution_count": 288,
     "metadata": {},
     "output_type": "execute_result"
    }
   ],
   "source": [
    "np.sum(arr)"
   ]
  },
  {
   "cell_type": "code",
   "execution_count": 290,
   "id": "43c27d35-4a6e-4947-83d2-87831a6dd88c",
   "metadata": {},
   "outputs": [
    {
     "data": {
      "text/plain": [
       "array([112, 120, 128, 136])"
      ]
     },
     "execution_count": 290,
     "metadata": {},
     "output_type": "execute_result"
    }
   ],
   "source": [
    "np.sum(arr,0)"
   ]
  },
  {
   "cell_type": "code",
   "execution_count": 292,
   "id": "a1d64188-c1c4-41e8-8578-5eb0baf4a631",
   "metadata": {},
   "outputs": [
    {
     "data": {
      "text/plain": [
       "array([  6,  22,  38,  54,  70,  86, 102, 118])"
      ]
     },
     "execution_count": 292,
     "metadata": {},
     "output_type": "execute_result"
    }
   ],
   "source": [
    "np.sum(arr,1)"
   ]
  },
  {
   "cell_type": "code",
   "execution_count": 294,
   "id": "c174ba43-0575-4da9-af8d-f532e7bad04d",
   "metadata": {},
   "outputs": [
    {
     "data": {
      "text/plain": [
       "15.5"
      ]
     },
     "execution_count": 294,
     "metadata": {},
     "output_type": "execute_result"
    }
   ],
   "source": [
    "np.mean(arr)"
   ]
  },
  {
   "cell_type": "code",
   "execution_count": 298,
   "id": "b19c799f-fd71-4cce-ae7e-e624374db6b2",
   "metadata": {},
   "outputs": [
    {
     "data": {
      "text/plain": [
       "array([[ 4,  5,  6,  7],\n",
       "       [ 8,  9, 10, 11],\n",
       "       [12, 13, 14, 15],\n",
       "       [16, 17, 18, 19],\n",
       "       [20, 21, 22, 23],\n",
       "       [24, 25, 26, 27],\n",
       "       [28, 29, 30, 31]])"
      ]
     },
     "execution_count": 298,
     "metadata": {},
     "output_type": "execute_result"
    }
   ],
   "source": [
    "arr[1:] # 1st index to list of all"
   ]
  },
  {
   "cell_type": "code",
   "execution_count": 304,
   "id": "da1966c3-a740-4f61-8a19-2bab3d2f7644",
   "metadata": {},
   "outputs": [
    {
     "data": {
      "text/plain": [
       "array([[12, 13, 14, 15],\n",
       "       [16, 17, 18, 19],\n",
       "       [20, 21, 22, 23],\n",
       "       [24, 25, 26, 27],\n",
       "       [28, 29, 30, 31]])"
      ]
     },
     "execution_count": 304,
     "metadata": {},
     "output_type": "execute_result"
    }
   ],
   "source": [
    "arr[1:][2:]"
   ]
  },
  {
   "cell_type": "code",
   "execution_count": 306,
   "id": "572bb6e9-60ce-476b-808f-7032d0232509",
   "metadata": {},
   "outputs": [
    {
     "data": {
      "text/plain": [
       "array([10, 20, 30, 40])"
      ]
     },
     "execution_count": 306,
     "metadata": {},
     "output_type": "execute_result"
    }
   ],
   "source": [
    "a = np.array([10,20,30,10,10,20,30,40])\n",
    "np.unique(a)"
   ]
  },
  {
   "cell_type": "code",
   "execution_count": null,
   "id": "37c594d0-0071-4763-bd43-35293d1b4390",
   "metadata": {},
   "outputs": [],
   "source": [
    "np.mean\n",
    "np.median\n",
    "np.max\n",
    "np.min\n",
    "np.sum\n",
    "\n",
    "np.unique\n",
    "np.random\n",
    "np.arange"
   ]
  },
  {
   "cell_type": "code",
   "execution_count": 308,
   "id": "01609afc-f8f6-420e-a3b3-8cef4b0ae048",
   "metadata": {},
   "outputs": [
    {
     "data": {
      "text/plain": [
       "'Wed Feb 19 12:15:21 2025'"
      ]
     },
     "execution_count": 308,
     "metadata": {},
     "output_type": "execute_result"
    }
   ],
   "source": [
    "import time\n",
    "time.ctime()"
   ]
  },
  {
   "cell_type": "code",
   "execution_count": 310,
   "id": "c8082a46-41cc-4228-9693-635051daab12",
   "metadata": {},
   "outputs": [
    {
     "data": {
      "text/plain": [
       "numpy.datetime64('2025-02-19T06:45:48')"
      ]
     },
     "execution_count": 310,
     "metadata": {},
     "output_type": "execute_result"
    }
   ],
   "source": [
    "np.datetime64('now')"
   ]
  },
  {
   "cell_type": "code",
   "execution_count": 312,
   "id": "49c234af-e4c8-4b2c-bee8-106792274b53",
   "metadata": {},
   "outputs": [
    {
     "data": {
      "text/plain": [
       "numpy.datetime64('2025-02-19')"
      ]
     },
     "execution_count": 312,
     "metadata": {},
     "output_type": "execute_result"
    }
   ],
   "source": [
    "np.datetime64('today')"
   ]
  },
  {
   "cell_type": "code",
   "execution_count": 324,
   "id": "bb846eaf-a015-4733-a5cc-b3246008c756",
   "metadata": {},
   "outputs": [
    {
     "data": {
      "text/plain": [
       "numpy.datetime64('2025')"
      ]
     },
     "execution_count": 324,
     "metadata": {},
     "output_type": "execute_result"
    }
   ],
   "source": [
    "np.datetime64('today','Y') # date +%Y"
   ]
  },
  {
   "cell_type": "code",
   "execution_count": 328,
   "id": "cab0f1b9-48c0-4be7-b4b1-fc757f6a3022",
   "metadata": {},
   "outputs": [
    {
     "data": {
      "text/plain": [
       "numpy.datetime64('2025-02-19T00','h')"
      ]
     },
     "execution_count": 328,
     "metadata": {},
     "output_type": "execute_result"
    }
   ],
   "source": [
    "np.datetime64('today','h') # date +%H"
   ]
  },
  {
   "cell_type": "code",
   "execution_count": 330,
   "id": "f9ecd74c-0b43-4a0f-a192-ae305b688223",
   "metadata": {},
   "outputs": [
    {
     "data": {
      "text/plain": [
       "array([10, 20, 30, 40, 50, 60])"
      ]
     },
     "execution_count": 330,
     "metadata": {},
     "output_type": "execute_result"
    }
   ],
   "source": [
    "a1 = np.array([10,20,30])\n",
    "a2 = np.array([40,50,60])\n",
    "np.union1d(a1,a2) # like set(L1)|set(L2)"
   ]
  },
  {
   "cell_type": "code",
   "execution_count": null,
   "id": "ecfc316c-f1b4-4fc8-8589-695f568d04ac",
   "metadata": {},
   "outputs": [],
   "source": [
    "np.intersect1d - intersection \n",
    "np.setdiff1d - difference \n",
    "np.setxor1d  - symmetric_difference"
   ]
  },
  {
   "cell_type": "code",
   "execution_count": null,
   "id": "0e6309aa-6448-4340-a592-2c5145977d17",
   "metadata": {},
   "outputs": [],
   "source": [
    "mathematics \n",
    "|->abs() \n",
    "|->sqrt()   - array ** 0.5\n",
    "|->square() - array ** 2\n",
    "..\n",
    "|->log\n",
    "|->sin,cos,cosh.."
   ]
  },
  {
   "cell_type": "code",
   "execution_count": 332,
   "id": "32490bff-e564-484a-a5ac-7b13c4e6136b",
   "metadata": {},
   "outputs": [
    {
     "data": {
      "text/plain": [
       "array([1.        , 1.41421356, 1.73205081])"
      ]
     },
     "execution_count": 332,
     "metadata": {},
     "output_type": "execute_result"
    }
   ],
   "source": [
    "a1=np.array([1,2,3])\n",
    "\n",
    "np.sqrt(a1)"
   ]
  },
  {
   "cell_type": "code",
   "execution_count": 334,
   "id": "2b89a90e-b5cf-4452-ab78-77e1db6ed0c5",
   "metadata": {},
   "outputs": [
    {
     "data": {
      "text/plain": [
       "array([1, 4, 9])"
      ]
     },
     "execution_count": 334,
     "metadata": {},
     "output_type": "execute_result"
    }
   ],
   "source": [
    "np.square(a1)"
   ]
  },
  {
   "cell_type": "code",
   "execution_count": 338,
   "id": "a6f24ee3-3299-46c6-a0d3-2336bd0cc489",
   "metadata": {},
   "outputs": [
    {
     "data": {
      "text/plain": [
       "array([False, False, False, False, False, False, False, False,  True,\n",
       "        True,  True,  True])"
      ]
     },
     "execution_count": 338,
     "metadata": {},
     "output_type": "execute_result"
    }
   ],
   "source": [
    "a1=np.arange(3,15)\n",
    "a1 > 10"
   ]
  },
  {
   "cell_type": "code",
   "execution_count": 340,
   "id": "1b09651f-6544-4433-88df-93f60d23bb1f",
   "metadata": {},
   "outputs": [
    {
     "data": {
      "text/plain": [
       "array([False, False, False, False, False, False, False, False,  True,\n",
       "        True,  True,  True])"
      ]
     },
     "execution_count": 340,
     "metadata": {},
     "output_type": "execute_result"
    }
   ],
   "source": [
    "np.greater(a1,10)"
   ]
  },
  {
   "cell_type": "code",
   "execution_count": 342,
   "id": "9dddb542-db03-4f13-8044-b12e3a229389",
   "metadata": {},
   "outputs": [
    {
     "data": {
      "text/plain": [
       "array([0.02033518, 0.94876292, 0.52259867, 0.75414096, 0.73196471,\n",
       "       0.50341254, 0.95029281, 0.2692653 , 0.49997959, 0.03996733])"
      ]
     },
     "execution_count": 342,
     "metadata": {},
     "output_type": "execute_result"
    }
   ],
   "source": [
    "np.random.rand(10)"
   ]
  },
  {
   "cell_type": "code",
   "execution_count": 344,
   "id": "086b254c-35d0-474d-9bdc-250242156450",
   "metadata": {},
   "outputs": [
    {
     "data": {
      "text/plain": [
       "array([0.72784746, 0.64339673, 0.3743633 , 0.74589426, 0.2422604 ,\n",
       "       0.2605079 , 0.29145259, 0.56284044, 0.3526218 , 0.82971194])"
      ]
     },
     "execution_count": 344,
     "metadata": {},
     "output_type": "execute_result"
    }
   ],
   "source": [
    "np.random.rand(10)"
   ]
  },
  {
   "cell_type": "code",
   "execution_count": 369,
   "id": "64dd6940-7d25-4b3d-b6c0-fd99ec37f10e",
   "metadata": {},
   "outputs": [
    {
     "data": {
      "text/plain": [
       "[<matplotlib.lines.Line2D at 0x2e0c10ce690>]"
      ]
     },
     "execution_count": 369,
     "metadata": {},
     "output_type": "execute_result"
    },
    {
     "data": {
      "image/png": "[encoded data removed]",
      "text/plain": [
       "<Figure size 640x480 with 1 Axes>"
      ]
     },
     "metadata": {},
     "output_type": "display_data"
    }
   ],
   "source": [
    "import matplotlib.pyplot as plt\n",
    "plt.plot(np.random.rand(10))"
   ]
  },
  {
   "cell_type": "code",
   "execution_count": 375,
   "id": "454cb401-2ea7-47dc-9f2d-f70f404c31ab",
   "metadata": {},
   "outputs": [
    {
     "data": {
      "text/plain": [
       "array([0.10388567, 0.23914946, 0.31199017, 0.67476714, 0.04441236])"
      ]
     },
     "execution_count": 375,
     "metadata": {},
     "output_type": "execute_result"
    }
   ],
   "source": [
    "#help(np.random.randint)\n",
    "# randint(low, high=None, size=None, dtype=int)\n",
    "np.random.rand(5)"
   ]
  },
  {
   "cell_type": "code",
   "execution_count": 377,
   "id": "585671d5-1f94-4724-82a5-9454065f8825",
   "metadata": {},
   "outputs": [
    {
     "data": {
      "text/plain": [
       "6"
      ]
     },
     "execution_count": 377,
     "metadata": {},
     "output_type": "execute_result"
    }
   ],
   "source": [
    "np.random.randint(5,10)"
   ]
  },
  {
   "cell_type": "code",
   "execution_count": 379,
   "id": "6ffc75b1-7b62-4936-a2b2-c14691742a86",
   "metadata": {},
   "outputs": [
    {
     "data": {
      "text/plain": [
       "array([9, 9, 5])"
      ]
     },
     "execution_count": 379,
     "metadata": {},
     "output_type": "execute_result"
    }
   ],
   "source": [
    "np.random.randint(5,10,3)"
   ]
  },
  {
   "cell_type": "code",
   "execution_count": 381,
   "id": "f6701849-780e-42c4-b981-d976e3c9a4f3",
   "metadata": {},
   "outputs": [
    {
     "data": {
      "text/plain": [
       "array([16, 10, 16, 19, 17])"
      ]
     },
     "execution_count": 381,
     "metadata": {},
     "output_type": "execute_result"
    }
   ],
   "source": [
    "np.random.randint(5,20,5)"
   ]
  },
  {
   "cell_type": "code",
   "execution_count": 387,
   "id": "116189a8-9976-4740-a363-360885a0e7b6",
   "metadata": {},
   "outputs": [
    {
     "data": {
      "text/plain": [
       "array([17, 10,  9, 17,  7])"
      ]
     },
     "execution_count": 387,
     "metadata": {},
     "output_type": "execute_result"
    }
   ],
   "source": [
    "np.random.randint(5,20,5)"
   ]
  },
  {
   "cell_type": "code",
   "execution_count": 397,
   "id": "2a80ba9e-107c-48cc-8aed-feec37eab04e",
   "metadata": {},
   "outputs": [
    {
     "name": "stdout",
     "output_type": "stream",
     "text": [
      "[ 5  6  7  8  9 10 11 12 13 14]\n",
      "10\n"
     ]
    },
    {
     "data": {
      "text/plain": [
       "True"
      ]
     },
     "execution_count": 397,
     "metadata": {},
     "output_type": "execute_result"
    }
   ],
   "source": [
    "# Boolean index \n",
    "a1 = np.arange(5,15)\n",
    "print(a1)\n",
    "print(a1[5])\n",
    "a1[5] >7"
   ]
  },
  {
   "cell_type": "code",
   "execution_count": 401,
   "id": "f2147c4e-7191-4736-bd92-086f8f69776a",
   "metadata": {},
   "outputs": [
    {
     "data": {
      "text/plain": [
       "False"
      ]
     },
     "execution_count": 401,
     "metadata": {},
     "output_type": "execute_result"
    }
   ],
   "source": [
    "a1[5] >15"
   ]
  },
  {
   "cell_type": "code",
   "execution_count": 405,
   "id": "615cd964-62db-4258-ae9f-0e6269eb039e",
   "metadata": {},
   "outputs": [
    {
     "data": {
      "text/plain": [
       "array([False, False,  True,  True,  True,  True,  True,  True,  True,\n",
       "        True])"
      ]
     },
     "execution_count": 405,
     "metadata": {},
     "output_type": "execute_result"
    }
   ],
   "source": [
    "a1 >6"
   ]
  },
  {
   "cell_type": "code",
   "execution_count": 407,
   "id": "34c702eb-c42d-43fd-8098-81e79c1574b8",
   "metadata": {},
   "outputs": [
    {
     "data": {
      "text/plain": [
       "array([ 7,  8,  9, 10, 11, 12, 13, 14])"
      ]
     },
     "execution_count": 407,
     "metadata": {},
     "output_type": "execute_result"
    }
   ],
   "source": [
    "a1[a1 >6]"
   ]
  },
  {
   "cell_type": "code",
   "execution_count": 411,
   "id": "e6d80417-e77b-488e-9206-fab7fd83729f",
   "metadata": {},
   "outputs": [
    {
     "data": {
      "text/plain": [
       "dtype('<U5')"
      ]
     },
     "execution_count": 411,
     "metadata": {},
     "output_type": "execute_result"
    }
   ],
   "source": [
    "dept = np.array(['sales','prod','QA','DBA','CRM','sales','prod','QA','sales'])\n",
    "dept.dtype"
   ]
  },
  {
   "cell_type": "code",
   "execution_count": 413,
   "id": "04678178-8f8d-4d4d-a0d9-82e5ad64ddd4",
   "metadata": {},
   "outputs": [
    {
     "data": {
      "text/plain": [
       "array([ True, False, False, False, False,  True, False, False,  True])"
      ]
     },
     "execution_count": 413,
     "metadata": {},
     "output_type": "execute_result"
    }
   ],
   "source": [
    "dept == 'sales'"
   ]
  },
  {
   "cell_type": "code",
   "execution_count": 415,
   "id": "309e6417-cf76-406c-bd58-3468b073fd23",
   "metadata": {},
   "outputs": [
    {
     "data": {
      "text/plain": [
       "array(['sales', 'sales', 'sales'], dtype='<U5')"
      ]
     },
     "execution_count": 415,
     "metadata": {},
     "output_type": "execute_result"
    }
   ],
   "source": [
    "dept[dept == 'sales']"
   ]
  },
  {
   "cell_type": "code",
   "execution_count": 417,
   "id": "e08ad7cc-d6d9-4fdc-82c6-a65069bf8792",
   "metadata": {},
   "outputs": [
    {
     "name": "stdout",
     "output_type": "stream",
     "text": [
      "150\n"
     ]
    }
   ],
   "source": [
    "L=[10,20,30,40,50]\n",
    "t=0\n",
    "for var in L:\n",
    "    t=t+var\n",
    "print(t)"
   ]
  },
  {
   "cell_type": "code",
   "execution_count": 419,
   "id": "ba228430-0939-4461-a99e-dd332bf8b542",
   "metadata": {},
   "outputs": [
    {
     "data": {
      "text/plain": [
       "150"
      ]
     },
     "execution_count": 419,
     "metadata": {},
     "output_type": "execute_result"
    }
   ],
   "source": [
    "np.sum(L)"
   ]
  },
  {
   "cell_type": "code",
   "execution_count": 423,
   "id": "6183cb62-3924-42c3-ad38-92fdea063b21",
   "metadata": {},
   "outputs": [],
   "source": [
    "Used_disk_Size=['150GB','200GB','GB110','130Gb',100,'450Gb']\n",
    "# np.sum(Used_disk_Size) # Error\n",
    "#        ^^^^^^^^^^^^"
   ]
  },
  {
   "cell_type": "code",
   "execution_count": 429,
   "id": "36add645-517d-44f2-a0fb-ccb75fce20ef",
   "metadata": {},
   "outputs": [],
   "source": [
    "def f1(a):\n",
    "    return int(re.sub('[A-Za-z]+','',str(a)))    "
   ]
  },
  {
   "cell_type": "code",
   "execution_count": 439,
   "id": "dc473137-6d8c-47e9-9a62-8d8fc3cb0a99",
   "metadata": {},
   "outputs": [],
   "source": [
    "L=[]\n",
    "for var in Used_disk_Size:\n",
    "    r = f1(var)\n",
    "    L.append(r)"
   ]
  },
  {
   "cell_type": "code",
   "execution_count": 445,
   "id": "04731149-444b-42b5-a51d-41e8b247d1e1",
   "metadata": {},
   "outputs": [
    {
     "name": "stdout",
     "output_type": "stream",
     "text": [
      "[150, 200, 110, 130, 100, 450]\n"
     ]
    },
    {
     "data": {
      "text/plain": [
       "1140"
      ]
     },
     "execution_count": 445,
     "metadata": {},
     "output_type": "execute_result"
    }
   ],
   "source": [
    "print(L)\n",
    "np.sum(L)"
   ]
  },
  {
   "cell_type": "code",
   "execution_count": 447,
   "id": "bf36bba6-4b7b-43cc-b1d3-cf563c2f6b08",
   "metadata": {},
   "outputs": [
    {
     "data": {
      "text/plain": [
       "[150, 200, 110, 130, 100, 450]"
      ]
     },
     "execution_count": 447,
     "metadata": {},
     "output_type": "execute_result"
    }
   ],
   "source": [
    "#def f1(a):\n",
    "#    return int(re.sub('[A-Za-z]+','',str(a)))\n",
    "\n",
    "f=lambda a:int(re.sub('[A-Za-z]+','',str(a)))\n",
    "L=[]\n",
    "for var in Used_disk_Size:\n",
    "    r = f(var)\n",
    "    L.append(r)\n",
    "\n",
    "L"
   ]
  },
  {
   "cell_type": "code",
   "execution_count": 449,
   "id": "e1eddb43-8b27-4cc0-ac95-ce72a7c6f8ba",
   "metadata": {},
   "outputs": [
    {
     "data": {
      "text/plain": [
       "[150, 200, 110, 130, 100, 450]"
      ]
     },
     "execution_count": 449,
     "metadata": {},
     "output_type": "execute_result"
    }
   ],
   "source": [
    "[f(var) for var in Used_disk_Size]"
   ]
  },
  {
   "cell_type": "code",
   "execution_count": 451,
   "id": "d228b5b1-ec94-4db3-81ee-86c9755e8c08",
   "metadata": {},
   "outputs": [
    {
     "data": {
      "text/plain": [
       "[150, 200, 110, 130, 100, 450]"
      ]
     },
     "execution_count": 451,
     "metadata": {},
     "output_type": "execute_result"
    }
   ],
   "source": [
    "f=lambda a:int(re.sub('[A-Za-z]+','',str(a)))\n",
    "[f(var) for var in Used_disk_Size]"
   ]
  },
  {
   "cell_type": "code",
   "execution_count": 453,
   "id": "66c1d1d3-711c-49c0-9b3e-9a4f997b41f1",
   "metadata": {},
   "outputs": [
    {
     "data": {
      "text/plain": [
       "1140"
      ]
     },
     "execution_count": 453,
     "metadata": {},
     "output_type": "execute_result"
    }
   ],
   "source": [
    "np.sum([f(var) for var in Used_disk_Size])"
   ]
  },
  {
   "cell_type": "code",
   "execution_count": 455,
   "id": "11b3fe6e-89f6-4557-83d9-ded61eded300",
   "metadata": {},
   "outputs": [
    {
     "data": {
      "text/plain": [
       "[150, 200, 110, 130, 100, 450]"
      ]
     },
     "execution_count": 455,
     "metadata": {},
     "output_type": "execute_result"
    }
   ],
   "source": [
    "list(map(lambda a:int(re.sub('[A-Za-z]+','',str(a))),Used_disk_Size))"
   ]
  },
  {
   "cell_type": "code",
   "execution_count": 457,
   "id": "03484509-88da-4984-b50d-0aee4c7b6852",
   "metadata": {},
   "outputs": [
    {
     "data": {
      "text/plain": [
       "1140"
      ]
     },
     "execution_count": 457,
     "metadata": {},
     "output_type": "execute_result"
    }
   ],
   "source": [
    "np.sum(list(map(lambda a:int(re.sub('[A-Za-z]+','',str(a))),Used_disk_Size)))"
   ]
  },
  {
   "cell_type": "code",
   "execution_count": 465,
   "id": "03891039-166e-449f-8e3a-faffea8ec78c",
   "metadata": {},
   "outputs": [
    {
     "data": {
      "text/plain": [
       "True"
      ]
     },
     "execution_count": 465,
     "metadata": {},
     "output_type": "execute_result"
    }
   ],
   "source": [
    "np.sum(list(map(lambda a:int(re.sub('[A-Za-z]+','',str(a))),Used_disk_Size))) >1000"
   ]
  },
  {
   "cell_type": "code",
   "execution_count": 467,
   "id": "b246efde-f7c3-41b7-978a-d88136689cc7",
   "metadata": {},
   "outputs": [
    {
     "name": "stdout",
     "output_type": "stream",
     "text": [
      "Total no.of used size:about 1000MB\n"
     ]
    }
   ],
   "source": [
    "if np.sum(list(map(lambda a:int(re.sub('[A-Za-z]+','',str(a))),Used_disk_Size))) >1000:\n",
    "    print(\"Total no.of used size:about 1000MB\")"
   ]
  },
  {
   "cell_type": "code",
   "execution_count": 469,
   "id": "703ed8ec-8087-47b3-ad30-fde6594f85e4",
   "metadata": {},
   "outputs": [
    {
     "data": {
      "text/plain": [
       "724"
      ]
     },
     "execution_count": 469,
     "metadata": {},
     "output_type": "execute_result"
    }
   ],
   "source": [
    "len(open('IPLog.txt').readlines())"
   ]
  },
  {
   "cell_type": "markdown",
   "id": "ceaea444-e871-49a3-92d9-808b7a3708cc",
   "metadata": {},
   "source": [
    "Task:\n",
    "-> filter line number from 15th line to 25th line - display \n",
    "  use: enumerate \n",
    "\n",
    "Task:\n",
    "-> filter line from above 500 - search patterns (systemd,chrony,slice) \n",
    "                                    - write matched line to external logFile\n",
    "\n",
    "Task:\n",
    "->InventoryFile \n",
    "   |\n",
    "   filter ->itemCode,SalesCount\n",
    "            |         |__...\n",
    "           Key            calculate sum of sales count\n",
    "\n",
    "->create an empty dict\n",
    "-> itemCode - key - salesCount ->value\n",
    "                        |\n",
    "                    filter saleCount ->np.sum()\n",
    "                                       np.max()\n",
    "                                       np.min()\n",
    "                                       np.mean()\n",
    "---------------------------------------------------------------\n"
   ]
  },
  {
   "cell_type": "code",
   "execution_count": 483,
   "id": "70787043-675b-4f32-a695-1c7776a61f59",
   "metadata": {},
   "outputs": [
    {
     "name": "stdout",
     "output_type": "stream",
     "text": [
      "15 - Feb 19 14:12:40 krosumlabs kernel: tsc: Fast TSC calibration failed\n",
      "16 - Feb 19 14:12:40 krosumlabs kernel: tsc: Unable to calibrate against PIT\n",
      "17 - Feb 19 14:12:40 krosumlabs kernel: tsc: using PMTIMER reference calibration\n",
      "18 - Feb 19 14:12:40 krosumlabs kernel: tsc: Detected 2629.079 MHz processor\n",
      "19 - Feb 19 14:12:40 krosumlabs kernel: Calibrating delay loop (skipped) preset value.. 5222.42 BogoMIPS (lpj=2611210)\n",
      "20 - Feb 19 14:12:40 krosumlabs kernel: pid_max: default: 32768 minimum: 301\n",
      "21 - Feb 19 14:12:40 krosumlabs kernel: ACPI: Core revision 20150410\n",
      "22 - Feb 19 14:12:40 krosumlabs kernel: ACPI: All ACPI Tables successfully acquired\n",
      "23 - Feb 19 14:12:40 krosumlabs kernel: Security Framework initialized\n",
      "24 - Feb 19 14:12:40 krosumlabs kernel: SELinux:  Initializing.\n",
      "25 - Feb 19 14:12:40 krosumlabs kernel: Dentry cache hash table entries: 131072 (order: 8, 1048576 bytes)\n"
     ]
    }
   ],
   "source": [
    "for line,data in enumerate(open('IPLog.txt'),1):\n",
    "    if(line >=15 and line <= 25):\n",
    "        print(f'{line} - {data.strip()}')"
   ]
  },
  {
   "cell_type": "code",
   "execution_count": 485,
   "id": "705388fb-8fa4-49af-994e-6a5c3a60e85f",
   "metadata": {},
   "outputs": [
    {
     "data": {
      "text/plain": [
       "['Feb 19 14:12:40 krosumlabs kernel: tsc: Fast TSC calibration failed\\n',\n",
       " 'Feb 19 14:12:40 krosumlabs kernel: tsc: Unable to calibrate against PIT\\n',\n",
       " 'Feb 19 14:12:40 krosumlabs kernel: tsc: using PMTIMER reference calibration\\n',\n",
       " 'Feb 19 14:12:40 krosumlabs kernel: tsc: Detected 2629.079 MHz processor\\n',\n",
       " 'Feb 19 14:12:40 krosumlabs kernel: Calibrating delay loop (skipped) preset value.. 5222.42 BogoMIPS (lpj=2611210)\\n',\n",
       " 'Feb 19 14:12:40 krosumlabs kernel: pid_max: default: 32768 minimum: 301\\n',\n",
       " 'Feb 19 14:12:40 krosumlabs kernel: ACPI: Core revision 20150410\\n',\n",
       " 'Feb 19 14:12:40 krosumlabs kernel: ACPI: All ACPI Tables successfully acquired\\n',\n",
       " 'Feb 19 14:12:40 krosumlabs kernel: Security Framework initialized\\n',\n",
       " 'Feb 19 14:12:40 krosumlabs kernel: SELinux:  Initializing.\\n',\n",
       " 'Feb 19 14:12:40 krosumlabs kernel: Dentry cache hash table entries: 131072 (order: 8, 1048576 bytes)\\n']"
      ]
     },
     "execution_count": 485,
     "metadata": {},
     "output_type": "execute_result"
    }
   ],
   "source": [
    "[ data for line,data in enumerate(open('IPLog.txt'),1) if line >=15 and line <= 25 ]"
   ]
  },
  {
   "cell_type": "code",
   "execution_count": 487,
   "id": "c9dbce25-bc56-436a-b0b5-01c0f8a0e18e",
   "metadata": {},
   "outputs": [],
   "source": [
    "d=dict()\n",
    "d['MsgLog']=[ data for line,data in enumerate(open('IPLog.txt'),1) if line >=15 and line <= 25 ]"
   ]
  },
  {
   "cell_type": "code",
   "execution_count": 489,
   "id": "137df982-8ed5-46a7-9b76-ee60a1444e27",
   "metadata": {},
   "outputs": [
    {
     "data": {
      "text/plain": [
       "{'MsgLog': ['Feb 19 14:12:40 krosumlabs kernel: tsc: Fast TSC calibration failed\\n',\n",
       "  'Feb 19 14:12:40 krosumlabs kernel: tsc: Unable to calibrate against PIT\\n',\n",
       "  'Feb 19 14:12:40 krosumlabs kernel: tsc: using PMTIMER reference calibration\\n',\n",
       "  'Feb 19 14:12:40 krosumlabs kernel: tsc: Detected 2629.079 MHz processor\\n',\n",
       "  'Feb 19 14:12:40 krosumlabs kernel: Calibrating delay loop (skipped) preset value.. 5222.42 BogoMIPS (lpj=2611210)\\n',\n",
       "  'Feb 19 14:12:40 krosumlabs kernel: pid_max: default: 32768 minimum: 301\\n',\n",
       "  'Feb 19 14:12:40 krosumlabs kernel: ACPI: Core revision 20150410\\n',\n",
       "  'Feb 19 14:12:40 krosumlabs kernel: ACPI: All ACPI Tables successfully acquired\\n',\n",
       "  'Feb 19 14:12:40 krosumlabs kernel: Security Framework initialized\\n',\n",
       "  'Feb 19 14:12:40 krosumlabs kernel: SELinux:  Initializing.\\n',\n",
       "  'Feb 19 14:12:40 krosumlabs kernel: Dentry cache hash table entries: 131072 (order: 8, 1048576 bytes)\\n']}"
      ]
     },
     "execution_count": 489,
     "metadata": {},
     "output_type": "execute_result"
    }
   ],
   "source": [
    "d"
   ]
  },
  {
   "cell_type": "markdown",
   "id": "50aa2dd4-f3d6-4d5d-bacd-4e011c17c7b7",
   "metadata": {},
   "source": [
    "Task:\n",
    "-> filter line from above 500 - search patterns (systemd,chrony,slice) \n",
    "                                    - write matched line to external logFile\n"
   ]
  },
  {
   "cell_type": "code",
   "execution_count": 495,
   "id": "4167d9f7-d6fa-4204-82b3-a11557ab5767",
   "metadata": {},
   "outputs": [
    {
     "name": "stdout",
     "output_type": "stream",
     "text": [
      "564 - Feb 19 14:13:04 krosumlabs NetworkManager[714]: <info>  [1739954584.4556] ifcfg-rh: new connection /etc/sysconfig/network-scripts/ifcfg-enp0s3 (ea969534-b899-4ae3-96b0-44b377500a27,\"enp0s3\")\n",
      "620 - Feb 19 14:13:07 krosumlabs systemd: Starting LSB: Bring up/down networking...\n",
      "623 - Feb 19 14:13:08 krosumlabs network: Bringing up loopback interface:  [  OK  ]\n",
      "624 - Feb 19 14:13:08 krosumlabs network: Bringing up interface enp0s3:  [  OK  ]\n",
      "625 - Feb 19 14:13:08 krosumlabs systemd: Started LSB: Bring up/down networking.\n",
      "639 - Feb 19 14:13:08 krosumlabs chronyd[1048]: chronyd version 3.4 starting (+CMDMON +NTP +REFCLOCK +RTC +PRIVDROP +SCFILTER +SIGND +ASYNCDNS +SECHASH +IPV6 +DEBUG)\n",
      "642 - Feb 19 14:13:08 krosumlabs chronyd[1048]: Frequency -28.862 +/- 0.075 ppm read from /var/lib/chrony/drift\n",
      "710 - Feb 19 14:13:11 krosumlabs systemd: Created slice User Slice of root.\n",
      "713 - Feb 19 14:13:14 krosumlabs chronyd[1048]: Selected source 162.159.200.1\n",
      "716 - Feb 19 14:13:17 krosumlabs chronyd[1048]: Source 95.216.192.15 replaced with 17.253.18.99\n"
     ]
    }
   ],
   "source": [
    "import re\n",
    "for line,data in enumerate(open('IPLog.txt'),1):\n",
    "    if(line >=500):\n",
    "        if(re.search('slice|network|chrony',data)):\n",
    "            print(f'{line} - {data.strip()}')"
   ]
  },
  {
   "cell_type": "code",
   "execution_count": null,
   "id": "0ed2affb-78d5-4e58-ab2e-e5edac383b35",
   "metadata": {},
   "outputs": [],
   "source": []
  },
  {
   "cell_type": "code",
   "execution_count": 497,
   "id": "90e5d0fc-bde2-4b10-91ba-ccc0f1eee727",
   "metadata": {},
   "outputs": [
    {
     "name": "stdout",
     "output_type": "stream",
     "text": [
      "564 - Feb 19 14:13:04 krosumlabs NetworkManager[714]: <info>  [1739954584.4556] ifcfg-rh: new connection /etc/sysconfig/network-scripts/ifcfg-enp0s3 (ea969534-b899-4ae3-96b0-44b377500a27,\"enp0s3\")\n",
      "620 - Feb 19 14:13:07 krosumlabs systemd: Starting LSB: Bring up/down networking...\n",
      "623 - Feb 19 14:13:08 krosumlabs network: Bringing up loopback interface:  [  OK  ]\n",
      "624 - Feb 19 14:13:08 krosumlabs network: Bringing up interface enp0s3:  [  OK  ]\n",
      "625 - Feb 19 14:13:08 krosumlabs systemd: Started LSB: Bring up/down networking.\n",
      "639 - Feb 19 14:13:08 krosumlabs chronyd[1048]: chronyd version 3.4 starting (+CMDMON +NTP +REFCLOCK +RTC +PRIVDROP +SCFILTER +SIGND +ASYNCDNS +SECHASH +IPV6 +DEBUG)\n",
      "642 - Feb 19 14:13:08 krosumlabs chronyd[1048]: Frequency -28.862 +/- 0.075 ppm read from /var/lib/chrony/drift\n",
      "710 - Feb 19 14:13:11 krosumlabs systemd: Created slice User Slice of root.\n",
      "713 - Feb 19 14:13:14 krosumlabs chronyd[1048]: Selected source 162.159.200.1\n",
      "716 - Feb 19 14:13:17 krosumlabs chronyd[1048]: Source 95.216.192.15 replaced with 17.253.18.99\n"
     ]
    }
   ],
   "source": [
    "import re\n",
    "wobj = open('result.log','w')\n",
    "for line,data in enumerate(open('IPLog.txt'),1):\n",
    "    if(line >=500):\n",
    "        if(re.search('slice|network|chrony',data)):\n",
    "            print(f'{line} - {data.strip()}') # display to monitor\n",
    "            wobj.write(f'{line} - {data}') # writing to FILE\n",
    "wobj.close()"
   ]
  },
  {
   "cell_type": "code",
   "execution_count": 499,
   "id": "a66564d1-c0d8-4e37-b78d-7b75ed8ef0c9",
   "metadata": {},
   "outputs": [
    {
     "name": "stdout",
     "output_type": "stream",
     "text": [
      "564 - Feb 19 14:13:04 krosumlabs NetworkManager[714]: <info>  [1739954584.4556] ifcfg-rh: new connection /etc/sysconfig/network-scripts/ifcfg-enp0s3 (ea969534-b899-4ae3-96b0-44b377500a27,\"enp0s3\")\n",
      "620 - Feb 19 14:13:07 krosumlabs systemd: Starting LSB: Bring up/down networking...\n",
      "623 - Feb 19 14:13:08 krosumlabs network: Bringing up loopback interface:  [  OK  ]\n",
      "624 - Feb 19 14:13:08 krosumlabs network: Bringing up interface enp0s3:  [  OK  ]\n",
      "625 - Feb 19 14:13:08 krosumlabs systemd: Started LSB: Bring up/down networking.\n",
      "639 - Feb 19 14:13:08 krosumlabs chronyd[1048]: chronyd version 3.4 starting (+CMDMON +NTP +REFCLOCK +RTC +PRIVDROP +SCFILTER +SIGND +ASYNCDNS +SECHASH +IPV6 +DEBUG)\n",
      "642 - Feb 19 14:13:08 krosumlabs chronyd[1048]: Frequency -28.862 +/- 0.075 ppm read from /var/lib/chrony/drift\n",
      "710 - Feb 19 14:13:11 krosumlabs systemd: Created slice User Slice of root.\n",
      "713 - Feb 19 14:13:14 krosumlabs chronyd[1048]: Selected source 162.159.200.1\n",
      "716 - Feb 19 14:13:17 krosumlabs chronyd[1048]: Source 95.216.192.15 replaced with 17.253.18.99\n"
     ]
    }
   ],
   "source": [
    "import re\n",
    "wobj = open('result.log','w')\n",
    "for line,data in enumerate(open('IPLog.txt'),1):\n",
    "    if(line >=500):\n",
    "        if(re.search('slice|network|chrony',data)):\n",
    "            r=re.sub('systemd','INIT',data) # replace systemd ->init \n",
    "            print(f'{line} - {data.strip()}') # display to monitor\n",
    "            wobj.write(f'{r}') # writing to FILE\n",
    "wobj.close()"
   ]
  },
  {
   "cell_type": "markdown",
   "id": "c10686e8-31b8-4e7f-8bb5-a3084b9d089b",
   "metadata": {},
   "source": [
    "Task:\n",
    "->InventoryFile \n",
    "   |\n",
    "   filter ->itemCode,SalesCount\n",
    "            |         |__...\n",
    "           Key            calculate sum of sales count\n"
   ]
  },
  {
   "cell_type": "code",
   "execution_count": 521,
   "id": "c20bccf2-0ea7-4849-a44c-811d4b9d70c5",
   "metadata": {},
   "outputs": [],
   "source": [
    "d={}\n",
    "for v in open('inventory.txt'):\n",
    "    if(re.search('^A',v)):\n",
    "        v=v.strip() # remove \\n char\n",
    "        L=re.split('[:,]',v) # split single data to multiple values \n",
    "        d[L[0]]=L[1:]\n"
   ]
  },
  {
   "cell_type": "code",
   "execution_count": 523,
   "id": "095e98b0-91ee-4c3c-98f7-b8f45a027574",
   "metadata": {},
   "outputs": [
    {
     "data": {
      "text/plain": [
       "{'A101': ['100', '200', '300', '400', '500'],\n",
       " 'A102': ['102', '400', '200', '180', '150'],\n",
       " 'A103': ['10', '30', '40', '100', '30'],\n",
       " 'A104': ['150', '340', '100'],\n",
       " 'A105': ['220', '100', '300']}"
      ]
     },
     "execution_count": 523,
     "metadata": {},
     "output_type": "execute_result"
    }
   ],
   "source": [
    "d"
   ]
  },
  {
   "cell_type": "code",
   "execution_count": 531,
   "id": "17cace87-a5a2-4345-9530-cc57bbc60138",
   "metadata": {},
   "outputs": [
    {
     "data": {
      "text/plain": [
       "1500"
      ]
     },
     "execution_count": 531,
     "metadata": {},
     "output_type": "execute_result"
    }
   ],
   "source": [
    "np.sum(d['A101'],dtype=np.int32)"
   ]
  },
  {
   "cell_type": "code",
   "execution_count": 533,
   "id": "d1eca5c9-72a0-445a-8c9c-28c7bef35142",
   "metadata": {},
   "outputs": [],
   "source": [
    "final_sales_report = {}"
   ]
  },
  {
   "cell_type": "code",
   "execution_count": 537,
   "id": "cade33f8-543f-435f-ad3c-e232e8ff53f3",
   "metadata": {},
   "outputs": [],
   "source": [
    "for v in d:\n",
    "    final_sales_report[v]=np.sum(d[v],dtype=np.int32)"
   ]
  },
  {
   "cell_type": "code",
   "execution_count": 539,
   "id": "c359c6e4-039d-4e0e-9684-13dc156cb8f2",
   "metadata": {},
   "outputs": [
    {
     "data": {
      "text/plain": [
       "{'A101': 1500, 'A102': 1032, 'A103': 210, 'A104': 590, 'A105': 620}"
      ]
     },
     "execution_count": 539,
     "metadata": {},
     "output_type": "execute_result"
    }
   ],
   "source": [
    "final_sales_report"
   ]
  },
  {
   "cell_type": "code",
   "execution_count": 541,
   "id": "6baa1f0a-8694-4ce0-bfc5-611ba3c34254",
   "metadata": {},
   "outputs": [],
   "source": [
    "d={}\n",
    "for v in open('inventory.txt'):\n",
    "    if(re.search('^A',v)):\n",
    "        v=v.strip()\n",
    "        L=re.split('[:,]',v)\n",
    "        d[L[0]]=np.sum(L[1:],dtype=np.int32)"
   ]
  },
  {
   "cell_type": "code",
   "execution_count": 543,
   "id": "078bc127-a025-4a9a-9d64-9dafb18e1cfb",
   "metadata": {},
   "outputs": [
    {
     "data": {
      "text/plain": [
       "{'A101': 1500, 'A102': 1032, 'A103': 210, 'A104': 590, 'A105': 620}"
      ]
     },
     "execution_count": 543,
     "metadata": {},
     "output_type": "execute_result"
    }
   ],
   "source": [
    "d"
   ]
  },
  {
   "cell_type": "code",
   "execution_count": 545,
   "id": "fc5f53d4-6907-4d0b-92dd-5c2318131db0",
   "metadata": {},
   "outputs": [
    {
     "name": "stdout",
     "output_type": "stream",
     "text": [
      "{'A101': 1500, 'A102': 1032, 'A103': 210, 'A104': 590, 'A105': 620}\n"
     ]
    }
   ],
   "source": [
    "print(d)"
   ]
  },
  {
   "cell_type": "code",
   "execution_count": 547,
   "id": "169661d1-ccf3-4f79-9a89-27af84c0d324",
   "metadata": {},
   "outputs": [
    {
     "name": "stdout",
     "output_type": "stream",
     "text": [
      "1500\n",
      "1032\n",
      "210\n",
      "590\n",
      "620\n"
     ]
    }
   ],
   "source": [
    "for v in d:\n",
    "    print(d[v])"
   ]
  },
  {
   "cell_type": "code",
   "execution_count": 553,
   "id": "3728c5fe-654e-47af-a8b7-4143382e6606",
   "metadata": {},
   "outputs": [
    {
     "data": {
      "text/plain": [
       "dict_values([1500, 1032, 210, 590, 620])"
      ]
     },
     "execution_count": 553,
     "metadata": {},
     "output_type": "execute_result"
    }
   ],
   "source": [
    "d.values()"
   ]
  },
  {
   "cell_type": "code",
   "execution_count": 561,
   "id": "a5682125-fa85-4359-9983-b8b4b2145a2e",
   "metadata": {},
   "outputs": [
    {
     "data": {
      "text/plain": [
       "3952"
      ]
     },
     "execution_count": 561,
     "metadata": {},
     "output_type": "execute_result"
    }
   ],
   "source": [
    "np.sum(np.array(list(d.values()),dtype=np.int32))"
   ]
  },
  {
   "cell_type": "code",
   "execution_count": 563,
   "id": "b75e90d1-3f97-4cfc-8139-2d125688bbb9",
   "metadata": {},
   "outputs": [
    {
     "data": {
      "text/plain": [
       "1500"
      ]
     },
     "execution_count": 563,
     "metadata": {},
     "output_type": "execute_result"
    }
   ],
   "source": [
    "np.max(np.array(list(d.values()),dtype=np.int32))"
   ]
  },
  {
   "cell_type": "code",
   "execution_count": 565,
   "id": "85563507-e512-4759-bcdb-8557197317e4",
   "metadata": {},
   "outputs": [
    {
     "data": {
      "text/plain": [
       "210"
      ]
     },
     "execution_count": 565,
     "metadata": {},
     "output_type": "execute_result"
    }
   ],
   "source": [
    "np.min(np.array(list(d.values()),dtype=np.int32))"
   ]
  },
  {
   "cell_type": "code",
   "execution_count": 567,
   "id": "6c7d448b-bf4f-44af-9c0f-fcde1f205749",
   "metadata": {},
   "outputs": [
    {
     "data": {
      "text/plain": [
       "790.4"
      ]
     },
     "execution_count": 567,
     "metadata": {},
     "output_type": "execute_result"
    }
   ],
   "source": [
    "np.mean(np.array(list(d.values()),dtype=np.int32))"
   ]
  },
  {
   "cell_type": "code",
   "execution_count": 571,
   "id": "1df0e554-7858-4954-b29d-ab36f8ff53a6",
   "metadata": {},
   "outputs": [
    {
     "name": "stdout",
     "output_type": "stream",
     "text": [
      "1\n",
      "(4,)\n"
     ]
    }
   ],
   "source": [
    "##Pandas \n",
    "\n",
    "d={'salescount':[100,150,200,300]} # dict of list\n",
    "\n",
    "print(np.array(d['salescount']).ndim)\n",
    "print(np.array(d['salescount']).shape)"
   ]
  },
  {
   "cell_type": "code",
   "execution_count": 573,
   "id": "7d8cf41c-8756-4f68-8b00-f690d766caa2",
   "metadata": {},
   "outputs": [
    {
     "data": {
      "text/plain": [
       "{'salescount': [100, 150, 200, 300], 'Qty': [1000, 200, 4500, 3000]}"
      ]
     },
     "execution_count": 573,
     "metadata": {},
     "output_type": "execute_result"
    }
   ],
   "source": [
    "d={} \n",
    "d['salescount']=[100,150,200,300]\n",
    "d['Qty']=[1000,200,4500,3000]\n",
    "d # dict of list"
   ]
  },
  {
   "cell_type": "code",
   "execution_count": 581,
   "id": "1aa2ed10-ea9e-4a0e-8c8f-2b3e763a24eb",
   "metadata": {},
   "outputs": [
    {
     "name": "stdout",
     "output_type": "stream",
     "text": [
      "2\n",
      "(2, 4)\n"
     ]
    }
   ],
   "source": [
    "print(np.array([d['salescount'],d['Qty']]).ndim)\n",
    "print(np.array([d['salescount'],d['Qty']]).shape)"
   ]
  },
  {
   "cell_type": "code",
   "execution_count": 583,
   "id": "9ec977ea-8940-4c74-a3f7-d9943e575efc",
   "metadata": {},
   "outputs": [
    {
     "data": {
      "text/plain": [
       "'C:\\\\Users\\\\theeba\\\\anaconda3\\\\Lib\\\\site-packages\\\\pandas\\\\__init__.py'"
      ]
     },
     "execution_count": 583,
     "metadata": {},
     "output_type": "execute_result"
    }
   ],
   "source": [
    "import pandas\n",
    "pandas.__file__"
   ]
  },
  {
   "cell_type": "code",
   "execution_count": 585,
   "id": "3dad0f1f-e4ae-428d-9bf3-8aba4685ece6",
   "metadata": {},
   "outputs": [
    {
     "data": {
      "text/plain": [
       "'2.2.2'"
      ]
     },
     "execution_count": 585,
     "metadata": {},
     "output_type": "execute_result"
    }
   ],
   "source": [
    "pandas.__version__"
   ]
  },
  {
   "cell_type": "code",
   "execution_count": 591,
   "id": "7270d5ba-7b87-4d4c-a29a-f21f94dade1f",
   "metadata": {},
   "outputs": [
    {
     "data": {
      "text/plain": [
       "salescount    [100, 150, 200, 300]\n",
       "dtype: object"
      ]
     },
     "execution_count": 591,
     "metadata": {},
     "output_type": "execute_result"
    }
   ],
   "source": [
    "pandas.Series({'salescount':[100,150,200,300]})"
   ]
  },
  {
   "cell_type": "code",
   "execution_count": 593,
   "id": "b95f6a76-cc4c-40fb-80a1-180277486c0c",
   "metadata": {},
   "outputs": [
    {
     "data": {
      "text/plain": [
       "Qty    [1000, 200, 4500, 3000]\n",
       "dtype: object"
      ]
     },
     "execution_count": 593,
     "metadata": {},
     "output_type": "execute_result"
    }
   ],
   "source": [
    "pandas.Series({'Qty':[1000,200,4500,3000]})"
   ]
  },
  {
   "cell_type": "code",
   "execution_count": 595,
   "id": "1adbf0a7-e104-4bd1-9305-73252cb36241",
   "metadata": {},
   "outputs": [
    {
     "name": "stdout",
     "output_type": "stream",
     "text": [
      "<class 'pandas.core.frame.DataFrame'>\n"
     ]
    }
   ],
   "source": [
    "print(pandas.DataFrame)"
   ]
  },
  {
   "cell_type": "code",
   "execution_count": 597,
   "id": "3abfbe35-b26c-4ca5-8ca5-f2e32ffddf16",
   "metadata": {},
   "outputs": [
    {
     "data": {
      "text/plain": [
       "{'salescount': [100, 150, 200, 300], 'Qty': [1000, 200, 4500, 3000]}"
      ]
     },
     "execution_count": 597,
     "metadata": {},
     "output_type": "execute_result"
    }
   ],
   "source": [
    "d={} \n",
    "d['salescount']=[100,150,200,300]\n",
    "d['Qty']=[1000,200,4500,3000]\n",
    "d # dict of list"
   ]
  },
  {
   "cell_type": "code",
   "execution_count": 599,
   "id": "7a79e0ae-3fc3-43e8-9dd3-12bb70980007",
   "metadata": {},
   "outputs": [
    {
     "data": {
      "text/html": [
       "<div>\n",
       "<style scoped>\n",
       "    .dataframe tbody tr th:only-of-type {\n",
       "        vertical-align: middle;\n",
       "    }\n",
       "\n",
       "    .dataframe tbody tr th {\n",
       "        vertical-align: top;\n",
       "    }\n",
       "\n",
       "    .dataframe thead th {\n",
       "        text-align: right;\n",
       "    }\n",
       "</style>\n",
       "<table border=\"1\" class=\"dataframe\">\n",
       "  <thead>\n",
       "    <tr style=\"text-align: right;\">\n",
       "      <th></th>\n",
       "      <th>salescount</th>\n",
       "      <th>Qty</th>\n",
       "    </tr>\n",
       "  </thead>\n",
       "  <tbody>\n",
       "    <tr>\n",
       "      <th>0</th>\n",
       "      <td>100</td>\n",
       "      <td>1000</td>\n",
       "    </tr>\n",
       "    <tr>\n",
       "      <th>1</th>\n",
       "      <td>150</td>\n",
       "      <td>200</td>\n",
       "    </tr>\n",
       "    <tr>\n",
       "      <th>2</th>\n",
       "      <td>200</td>\n",
       "      <td>4500</td>\n",
       "    </tr>\n",
       "    <tr>\n",
       "      <th>3</th>\n",
       "      <td>300</td>\n",
       "      <td>3000</td>\n",
       "    </tr>\n",
       "  </tbody>\n",
       "</table>\n",
       "</div>"
      ],
      "text/plain": [
       "   salescount   Qty\n",
       "0         100  1000\n",
       "1         150   200\n",
       "2         200  4500\n",
       "3         300  3000"
      ]
     },
     "execution_count": 599,
     "metadata": {},
     "output_type": "execute_result"
    }
   ],
   "source": [
    "pandas.DataFrame(d)"
   ]
  },
  {
   "cell_type": "code",
   "execution_count": 601,
   "id": "3b2113f2-fcbb-426a-8a69-329c3dc3beb7",
   "metadata": {},
   "outputs": [
    {
     "data": {
      "text/html": [
       "<div>\n",
       "<style scoped>\n",
       "    .dataframe tbody tr th:only-of-type {\n",
       "        vertical-align: middle;\n",
       "    }\n",
       "\n",
       "    .dataframe tbody tr th {\n",
       "        vertical-align: top;\n",
       "    }\n",
       "\n",
       "    .dataframe thead th {\n",
       "        text-align: right;\n",
       "    }\n",
       "</style>\n",
       "<table border=\"1\" class=\"dataframe\">\n",
       "  <thead>\n",
       "    <tr style=\"text-align: right;\">\n",
       "      <th></th>\n",
       "      <th>0</th>\n",
       "    </tr>\n",
       "  </thead>\n",
       "  <tbody>\n",
       "    <tr>\n",
       "      <th>0</th>\n",
       "      <td>100</td>\n",
       "    </tr>\n",
       "    <tr>\n",
       "      <th>1</th>\n",
       "      <td>150</td>\n",
       "    </tr>\n",
       "    <tr>\n",
       "      <th>2</th>\n",
       "      <td>200</td>\n",
       "    </tr>\n",
       "    <tr>\n",
       "      <th>3</th>\n",
       "      <td>300</td>\n",
       "    </tr>\n",
       "  </tbody>\n",
       "</table>\n",
       "</div>"
      ],
      "text/plain": [
       "     0\n",
       "0  100\n",
       "1  150\n",
       "2  200\n",
       "3  300"
      ]
     },
     "execution_count": 601,
     "metadata": {},
     "output_type": "execute_result"
    }
   ],
   "source": [
    "pandas.DataFrame(d['salescount'])"
   ]
  },
  {
   "cell_type": "code",
   "execution_count": 603,
   "id": "eb3c38d0-6340-4b5a-93fc-88e0acda6eb1",
   "metadata": {},
   "outputs": [
    {
     "data": {
      "text/html": [
       "<div>\n",
       "<style scoped>\n",
       "    .dataframe tbody tr th:only-of-type {\n",
       "        vertical-align: middle;\n",
       "    }\n",
       "\n",
       "    .dataframe tbody tr th {\n",
       "        vertical-align: top;\n",
       "    }\n",
       "\n",
       "    .dataframe thead th {\n",
       "        text-align: right;\n",
       "    }\n",
       "</style>\n",
       "<table border=\"1\" class=\"dataframe\">\n",
       "  <thead>\n",
       "    <tr style=\"text-align: right;\">\n",
       "      <th></th>\n",
       "      <th>0</th>\n",
       "    </tr>\n",
       "  </thead>\n",
       "  <tbody>\n",
       "    <tr>\n",
       "      <th>0</th>\n",
       "      <td>1000</td>\n",
       "    </tr>\n",
       "    <tr>\n",
       "      <th>1</th>\n",
       "      <td>200</td>\n",
       "    </tr>\n",
       "    <tr>\n",
       "      <th>2</th>\n",
       "      <td>4500</td>\n",
       "    </tr>\n",
       "    <tr>\n",
       "      <th>3</th>\n",
       "      <td>3000</td>\n",
       "    </tr>\n",
       "  </tbody>\n",
       "</table>\n",
       "</div>"
      ],
      "text/plain": [
       "      0\n",
       "0  1000\n",
       "1   200\n",
       "2  4500\n",
       "3  3000"
      ]
     },
     "execution_count": 603,
     "metadata": {},
     "output_type": "execute_result"
    }
   ],
   "source": [
    "pandas.DataFrame(d['Qty'])"
   ]
  },
  {
   "cell_type": "code",
   "execution_count": null,
   "id": "75b76004-7d73-4b25-b705-cae4cd000006",
   "metadata": {},
   "outputs": [],
   "source": [
    "pandas.Series\n",
    "pandas.DataFrame"
   ]
  },
  {
   "cell_type": "code",
   "execution_count": 605,
   "id": "122b470e-b78e-40d4-913b-8aea9118a5af",
   "metadata": {},
   "outputs": [],
   "source": [
    "import pandas as pd"
   ]
  },
  {
   "cell_type": "code",
   "execution_count": 607,
   "id": "a22c9161-37bd-4008-a273-68f385dbebfc",
   "metadata": {},
   "outputs": [
    {
     "data": {
      "text/plain": [
       "0    10\n",
       "1    20\n",
       "2    30\n",
       "3    40\n",
       "dtype: int64"
      ]
     },
     "execution_count": 607,
     "metadata": {},
     "output_type": "execute_result"
    }
   ],
   "source": [
    "pd.Series([10,20,30,40])"
   ]
  },
  {
   "cell_type": "code",
   "execution_count": 617,
   "id": "0dd7f734-a1ab-4396-a579-140f7ed2671d",
   "metadata": {},
   "outputs": [
    {
     "name": "stdout",
     "output_type": "stream",
     "text": [
      "int64 (4,) 1\n",
      "RangeIndex(start=0, stop=4, step=1)\n"
     ]
    },
    {
     "data": {
      "text/plain": [
       "0    10\n",
       "1    20\n",
       "2    30\n",
       "3    40\n",
       "dtype: int64"
      ]
     },
     "execution_count": 617,
     "metadata": {},
     "output_type": "execute_result"
    }
   ],
   "source": [
    "S1 = pd.Series([10,20,30,40])\n",
    "print(S1.dtype,S1.shape,S1.ndim)\n",
    "print(S1.index) # to get list index \n",
    "S1"
   ]
  },
  {
   "cell_type": "code",
   "execution_count": 619,
   "id": "75bd559b-466a-4c54-8bc0-6077445b4256",
   "metadata": {},
   "outputs": [
    {
     "name": "stdout",
     "output_type": "stream",
     "text": [
      "object (1,) 1\n",
      "Index(['K1'], dtype='object')\n"
     ]
    },
    {
     "data": {
      "text/plain": [
       "K1    [10, 20, 30, 40]\n",
       "dtype: object"
      ]
     },
     "execution_count": 619,
     "metadata": {},
     "output_type": "execute_result"
    }
   ],
   "source": [
    "S1 = pd.Series({'K1':[10,20,30,40]})\n",
    "print(S1.dtype,S1.shape,S1.ndim)\n",
    "print(S1.index) # to get list index \n",
    "S1"
   ]
  },
  {
   "cell_type": "code",
   "execution_count": 621,
   "id": "3d669b11-bf32-480b-9df6-ca6cc7b9b6bc",
   "metadata": {},
   "outputs": [
    {
     "data": {
      "text/plain": [
       "K1    100\n",
       "K2    200\n",
       "K3    150\n",
       "K4    500\n",
       "K5    320\n",
       "dtype: int64"
      ]
     },
     "execution_count": 621,
     "metadata": {},
     "output_type": "execute_result"
    }
   ],
   "source": [
    "d={'K1':100,'K2':200,'K3':150,'K4':500,'K5':320}\n",
    "pd.Series(d)"
   ]
  },
  {
   "cell_type": "code",
   "execution_count": 627,
   "id": "e23a4138-f451-485c-9fdc-3cd56552f876",
   "metadata": {},
   "outputs": [
    {
     "name": "stdout",
     "output_type": "stream",
     "text": [
      "object (1,) 1\n",
      "Index(['K1'], dtype='object')\n"
     ]
    },
    {
     "data": {
      "text/plain": [
       "K1    [10, 20, 30, 40]\n",
       "dtype: object"
      ]
     },
     "execution_count": 627,
     "metadata": {},
     "output_type": "execute_result"
    }
   ],
   "source": [
    "S1 = pd.Series({'K1':[10,20,30,40]})\n",
    "print(S1.dtype,S1.shape,S1.ndim)\n",
    "print(S1.index) # to get list index \n",
    "S1"
   ]
  },
  {
   "cell_type": "code",
   "execution_count": 629,
   "id": "14aa37cb-6bd3-451f-8a0c-a697f05327b0",
   "metadata": {},
   "outputs": [
    {
     "data": {
      "text/plain": [
       "Index(['K1', 'K2', 'K3', 'K4', 'K5'], dtype='object')"
      ]
     },
     "execution_count": 629,
     "metadata": {},
     "output_type": "execute_result"
    }
   ],
   "source": [
    "S2=pd.Series(d)\n",
    "S2.index"
   ]
  },
  {
   "cell_type": "code",
   "execution_count": 631,
   "id": "a6f07223-9c07-4fbc-992b-4bd66d61e00c",
   "metadata": {},
   "outputs": [
    {
     "data": {
      "text/plain": [
       "0    10\n",
       "1    20\n",
       "2    30\n",
       "dtype: int64"
      ]
     },
     "execution_count": 631,
     "metadata": {},
     "output_type": "execute_result"
    }
   ],
   "source": [
    "pd.Series([10,20,30])"
   ]
  },
  {
   "cell_type": "code",
   "execution_count": 633,
   "id": "452c2ab1-37bb-4eb7-806c-c68d36ffa404",
   "metadata": {},
   "outputs": [
    {
     "data": {
      "text/plain": [
       "K1    10\n",
       "K2    20\n",
       "K3    30\n",
       "dtype: int64"
      ]
     },
     "execution_count": 633,
     "metadata": {},
     "output_type": "execute_result"
    }
   ],
   "source": [
    "pd.Series({'K1':10,'K2':20,'K3':30})"
   ]
  },
  {
   "cell_type": "code",
   "execution_count": 635,
   "id": "9b84ca6e-15f9-407e-afbf-5f4b839b11e1",
   "metadata": {},
   "outputs": [
    {
     "data": {
      "text/plain": [
       "Kx    10\n",
       "Ky    20\n",
       "Kz    30\n",
       "dtype: int64"
      ]
     },
     "execution_count": 635,
     "metadata": {},
     "output_type": "execute_result"
    }
   ],
   "source": [
    "pd.Series([10,20,30],index=['Kx','Ky','Kz'])"
   ]
  },
  {
   "cell_type": "code",
   "execution_count": 637,
   "id": "e86fc110-e7e7-4f7c-954b-a4e98cc7c5db",
   "metadata": {},
   "outputs": [
    {
     "data": {
      "text/plain": [
       "Index(['Kx', 'Ky', 'Kz'], dtype='object')"
      ]
     },
     "execution_count": 637,
     "metadata": {},
     "output_type": "execute_result"
    }
   ],
   "source": [
    "S3 = pd.Series([10,20,30],index=['Kx','Ky','Kz'])\n",
    "S3.index"
   ]
  },
  {
   "cell_type": "code",
   "execution_count": 639,
   "id": "e2daa29a-bd58-4008-acb1-c0db1405692c",
   "metadata": {},
   "outputs": [
    {
     "data": {
      "text/plain": [
       "10"
      ]
     },
     "execution_count": 639,
     "metadata": {},
     "output_type": "execute_result"
    }
   ],
   "source": [
    "S3['Kx']"
   ]
  },
  {
   "cell_type": "code",
   "execution_count": 641,
   "id": "c08c88a1-edd9-4c2c-ba09-cc654f2e3a48",
   "metadata": {},
   "outputs": [
    {
     "data": {
      "text/plain": [
       "20"
      ]
     },
     "execution_count": 641,
     "metadata": {},
     "output_type": "execute_result"
    }
   ],
   "source": [
    "S3['Ky']"
   ]
  },
  {
   "cell_type": "code",
   "execution_count": 645,
   "id": "00ca1482-1dd1-42b5-a9bb-cc8ba2522a1b",
   "metadata": {},
   "outputs": [
    {
     "data": {
      "text/plain": [
       "RangeIndex(start=0, stop=4, step=1)"
      ]
     },
     "execution_count": 645,
     "metadata": {},
     "output_type": "execute_result"
    }
   ],
   "source": [
    "S4= pd.Series([10,20,30,40])\n",
    "S4.index"
   ]
  },
  {
   "cell_type": "code",
   "execution_count": 647,
   "id": "b281230b-faa7-4767-9a5a-c12db820ce86",
   "metadata": {},
   "outputs": [
    {
     "data": {
      "text/plain": [
       "10"
      ]
     },
     "execution_count": 647,
     "metadata": {},
     "output_type": "execute_result"
    }
   ],
   "source": [
    "S4[0]"
   ]
  },
  {
   "cell_type": "code",
   "execution_count": 649,
   "id": "f618ce6c-9199-4d43-be8e-7d68e4a9bfc7",
   "metadata": {},
   "outputs": [],
   "source": [
    "S4[0]=120 # we can modify an existing value "
   ]
  },
  {
   "cell_type": "code",
   "execution_count": 651,
   "id": "475d34dd-d9c9-48c5-a55f-fbc74e3b4eda",
   "metadata": {},
   "outputs": [
    {
     "data": {
      "text/plain": [
       "0    120\n",
       "1     20\n",
       "2     30\n",
       "3     40\n",
       "dtype: int64"
      ]
     },
     "execution_count": 651,
     "metadata": {},
     "output_type": "execute_result"
    }
   ],
   "source": [
    "S4"
   ]
  },
  {
   "cell_type": "code",
   "execution_count": 653,
   "id": "7662526f-8ff0-4acd-81cc-6bbea4ddf4e9",
   "metadata": {},
   "outputs": [
    {
     "data": {
      "text/plain": [
       "0    10\n",
       "1    20\n",
       "2    30\n",
       "3    40\n",
       "dtype: int64"
      ]
     },
     "execution_count": 653,
     "metadata": {},
     "output_type": "execute_result"
    }
   ],
   "source": [
    "pd.Series([10,20,30,40])"
   ]
  },
  {
   "cell_type": "code",
   "execution_count": 655,
   "id": "648ede2c-deb6-434b-a9ce-6d59495e1017",
   "metadata": {},
   "outputs": [
    {
     "data": {
      "text/html": [
       "<div>\n",
       "<style scoped>\n",
       "    .dataframe tbody tr th:only-of-type {\n",
       "        vertical-align: middle;\n",
       "    }\n",
       "\n",
       "    .dataframe tbody tr th {\n",
       "        vertical-align: top;\n",
       "    }\n",
       "\n",
       "    .dataframe thead th {\n",
       "        text-align: right;\n",
       "    }\n",
       "</style>\n",
       "<table border=\"1\" class=\"dataframe\">\n",
       "  <thead>\n",
       "    <tr style=\"text-align: right;\">\n",
       "      <th></th>\n",
       "      <th>0</th>\n",
       "    </tr>\n",
       "  </thead>\n",
       "  <tbody>\n",
       "    <tr>\n",
       "      <th>0</th>\n",
       "      <td>10</td>\n",
       "    </tr>\n",
       "    <tr>\n",
       "      <th>1</th>\n",
       "      <td>20</td>\n",
       "    </tr>\n",
       "    <tr>\n",
       "      <th>2</th>\n",
       "      <td>30</td>\n",
       "    </tr>\n",
       "    <tr>\n",
       "      <th>3</th>\n",
       "      <td>40</td>\n",
       "    </tr>\n",
       "  </tbody>\n",
       "</table>\n",
       "</div>"
      ],
      "text/plain": [
       "    0\n",
       "0  10\n",
       "1  20\n",
       "2  30\n",
       "3  40"
      ]
     },
     "execution_count": 655,
     "metadata": {},
     "output_type": "execute_result"
    }
   ],
   "source": [
    "pd.DataFrame([10,20,30,40])"
   ]
  },
  {
   "cell_type": "code",
   "execution_count": 661,
   "id": "6520b0e3-c0da-418c-a817-8a27acad7a5d",
   "metadata": {},
   "outputs": [
    {
     "data": {
      "text/html": [
       "<div>\n",
       "<style scoped>\n",
       "    .dataframe tbody tr th:only-of-type {\n",
       "        vertical-align: middle;\n",
       "    }\n",
       "\n",
       "    .dataframe tbody tr th {\n",
       "        vertical-align: top;\n",
       "    }\n",
       "\n",
       "    .dataframe thead th {\n",
       "        text-align: right;\n",
       "    }\n",
       "</style>\n",
       "<table border=\"1\" class=\"dataframe\">\n",
       "  <thead>\n",
       "    <tr style=\"text-align: right;\">\n",
       "      <th></th>\n",
       "      <th>K1</th>\n",
       "    </tr>\n",
       "  </thead>\n",
       "  <tbody>\n",
       "    <tr>\n",
       "      <th>0</th>\n",
       "      <td>10</td>\n",
       "    </tr>\n",
       "    <tr>\n",
       "      <th>1</th>\n",
       "      <td>20</td>\n",
       "    </tr>\n",
       "    <tr>\n",
       "      <th>2</th>\n",
       "      <td>30</td>\n",
       "    </tr>\n",
       "    <tr>\n",
       "      <th>3</th>\n",
       "      <td>40</td>\n",
       "    </tr>\n",
       "  </tbody>\n",
       "</table>\n",
       "</div>"
      ],
      "text/plain": [
       "   K1\n",
       "0  10\n",
       "1  20\n",
       "2  30\n",
       "3  40"
      ]
     },
     "execution_count": 661,
     "metadata": {},
     "output_type": "execute_result"
    }
   ],
   "source": [
    "pd.DataFrame([10,20,30,40],columns=['K1'])"
   ]
  },
  {
   "cell_type": "code",
   "execution_count": 663,
   "id": "3e49fac2-e2d4-43f8-bab1-c6780686e078",
   "metadata": {},
   "outputs": [
    {
     "data": {
      "text/html": [
       "<div>\n",
       "<style scoped>\n",
       "    .dataframe tbody tr th:only-of-type {\n",
       "        vertical-align: middle;\n",
       "    }\n",
       "\n",
       "    .dataframe tbody tr th {\n",
       "        vertical-align: top;\n",
       "    }\n",
       "\n",
       "    .dataframe thead th {\n",
       "        text-align: right;\n",
       "    }\n",
       "</style>\n",
       "<table border=\"1\" class=\"dataframe\">\n",
       "  <thead>\n",
       "    <tr style=\"text-align: right;\">\n",
       "      <th></th>\n",
       "      <th>K1</th>\n",
       "    </tr>\n",
       "  </thead>\n",
       "  <tbody>\n",
       "    <tr>\n",
       "      <th>A</th>\n",
       "      <td>10</td>\n",
       "    </tr>\n",
       "    <tr>\n",
       "      <th>B</th>\n",
       "      <td>20</td>\n",
       "    </tr>\n",
       "    <tr>\n",
       "      <th>C</th>\n",
       "      <td>30</td>\n",
       "    </tr>\n",
       "    <tr>\n",
       "      <th>D</th>\n",
       "      <td>40</td>\n",
       "    </tr>\n",
       "  </tbody>\n",
       "</table>\n",
       "</div>"
      ],
      "text/plain": [
       "   K1\n",
       "A  10\n",
       "B  20\n",
       "C  30\n",
       "D  40"
      ]
     },
     "execution_count": 663,
     "metadata": {},
     "output_type": "execute_result"
    }
   ],
   "source": [
    "pd.DataFrame([10,20,30,40],columns=['K1'],index=['A','B','C','D'])"
   ]
  },
  {
   "cell_type": "code",
   "execution_count": 665,
   "id": "2089fe28-fae2-4160-963a-0ebca75cf845",
   "metadata": {},
   "outputs": [
    {
     "data": {
      "text/plain": [
       "Index(['A', 'B', 'C', 'D'], dtype='object')"
      ]
     },
     "execution_count": 665,
     "metadata": {},
     "output_type": "execute_result"
    }
   ],
   "source": [
    "df1 = pd.DataFrame([10,20,30,40],columns=['K1'],index=['A','B','C','D'])\n",
    "df1.index"
   ]
  },
  {
   "cell_type": "code",
   "execution_count": 669,
   "id": "2f7797fe-7174-439a-aceb-72c22387baaa",
   "metadata": {},
   "outputs": [
    {
     "data": {
      "text/plain": [
       "A    10\n",
       "B    20\n",
       "C    30\n",
       "D    40\n",
       "Name: K1, dtype: int64"
      ]
     },
     "execution_count": 669,
     "metadata": {},
     "output_type": "execute_result"
    }
   ],
   "source": [
    "df1['K1']"
   ]
  },
  {
   "cell_type": "code",
   "execution_count": 671,
   "id": "cad6ff4f-c28c-48f5-a47c-93384c5bf4d2",
   "metadata": {},
   "outputs": [
    {
     "data": {
      "text/plain": [
       "K1    10\n",
       "Name: A, dtype: int64"
      ]
     },
     "execution_count": 671,
     "metadata": {},
     "output_type": "execute_result"
    }
   ],
   "source": [
    "df1.loc['A']"
   ]
  },
  {
   "cell_type": "code",
   "execution_count": 673,
   "id": "82947fba-e62f-49bf-ad12-3f1fd499298d",
   "metadata": {},
   "outputs": [
    {
     "data": {
      "text/plain": [
       "Index(['A', 'B', 'C', 'D'], dtype='object')"
      ]
     },
     "execution_count": 673,
     "metadata": {},
     "output_type": "execute_result"
    }
   ],
   "source": [
    "df1.index"
   ]
  },
  {
   "cell_type": "code",
   "execution_count": 675,
   "id": "60b7a89e-a1f2-4b5a-9679-bab2a953ac77",
   "metadata": {},
   "outputs": [
    {
     "data": {
      "text/plain": [
       "Index(['K1'], dtype='object')"
      ]
     },
     "execution_count": 675,
     "metadata": {},
     "output_type": "execute_result"
    }
   ],
   "source": [
    "df1.columns"
   ]
  },
  {
   "cell_type": "code",
   "execution_count": 677,
   "id": "78214cc6-f4a9-45a5-b3dc-2f7cff22ae0c",
   "metadata": {},
   "outputs": [
    {
     "data": {
      "text/plain": [
       "K1    10\n",
       "Name: A, dtype: int64"
      ]
     },
     "execution_count": 677,
     "metadata": {},
     "output_type": "execute_result"
    }
   ],
   "source": [
    "df1.loc['A']"
   ]
  },
  {
   "cell_type": "code",
   "execution_count": 679,
   "id": "eeb969b3-c35d-46f6-8ab2-a4bac84aeb9f",
   "metadata": {},
   "outputs": [
    {
     "data": {
      "text/html": [
       "<div>\n",
       "<style scoped>\n",
       "    .dataframe tbody tr th:only-of-type {\n",
       "        vertical-align: middle;\n",
       "    }\n",
       "\n",
       "    .dataframe tbody tr th {\n",
       "        vertical-align: top;\n",
       "    }\n",
       "\n",
       "    .dataframe thead th {\n",
       "        text-align: right;\n",
       "    }\n",
       "</style>\n",
       "<table border=\"1\" class=\"dataframe\">\n",
       "  <thead>\n",
       "    <tr style=\"text-align: right;\">\n",
       "      <th></th>\n",
       "      <th>K1</th>\n",
       "    </tr>\n",
       "  </thead>\n",
       "  <tbody>\n",
       "    <tr>\n",
       "      <th>A</th>\n",
       "      <td>45</td>\n",
       "    </tr>\n",
       "    <tr>\n",
       "      <th>B</th>\n",
       "      <td>20</td>\n",
       "    </tr>\n",
       "    <tr>\n",
       "      <th>C</th>\n",
       "      <td>30</td>\n",
       "    </tr>\n",
       "    <tr>\n",
       "      <th>D</th>\n",
       "      <td>40</td>\n",
       "    </tr>\n",
       "  </tbody>\n",
       "</table>\n",
       "</div>"
      ],
      "text/plain": [
       "   K1\n",
       "A  45\n",
       "B  20\n",
       "C  30\n",
       "D  40"
      ]
     },
     "execution_count": 679,
     "metadata": {},
     "output_type": "execute_result"
    }
   ],
   "source": [
    "df1.loc['A']=45\n",
    "df1"
   ]
  },
  {
   "cell_type": "code",
   "execution_count": 681,
   "id": "34941287-3ffc-4f9d-a764-293ec7cac2bb",
   "metadata": {},
   "outputs": [],
   "source": [
    "d={}\n",
    "for v in open('inventory.txt'):\n",
    "    if(re.search('^A',v)):\n",
    "        v=v.strip()\n",
    "        L=re.split('[:,]',v)\n",
    "        d[L[0]]=np.sum(L[1:],dtype=np.int32)"
   ]
  },
  {
   "cell_type": "code",
   "execution_count": 683,
   "id": "37f61074-0509-4bad-a51f-ca340a9442f1",
   "metadata": {},
   "outputs": [
    {
     "data": {
      "text/plain": [
       "{'A101': 1500, 'A102': 1032, 'A103': 210, 'A104': 590, 'A105': 620}"
      ]
     },
     "execution_count": 683,
     "metadata": {},
     "output_type": "execute_result"
    }
   ],
   "source": [
    "d"
   ]
  },
  {
   "cell_type": "code",
   "execution_count": 687,
   "id": "ba8e5889-64c7-4381-bf93-8bba86be1e9c",
   "metadata": {},
   "outputs": [
    {
     "data": {
      "text/plain": [
       "A101    1500\n",
       "A102    1032\n",
       "A103     210\n",
       "A104     590\n",
       "A105     620\n",
       "dtype: int32"
      ]
     },
     "execution_count": 687,
     "metadata": {},
     "output_type": "execute_result"
    }
   ],
   "source": [
    "pd.Series(d)"
   ]
  },
  {
   "cell_type": "code",
   "execution_count": 691,
   "id": "979739c0-e0a0-4655-8623-079491a4dba8",
   "metadata": {},
   "outputs": [
    {
     "name": "stdout",
     "output_type": "stream",
     "text": [
      "<class 'pandas.core.series.Series'>\n",
      "Index: 5 entries, A101 to A105\n",
      "Series name: None\n",
      "Non-Null Count  Dtype\n",
      "--------------  -----\n",
      "5 non-null      int32\n",
      "dtypes: int32(1)\n",
      "memory usage: 60.0+ bytes\n"
     ]
    }
   ],
   "source": [
    "S5 =pd.Series(d)\n",
    "S5.info()"
   ]
  },
  {
   "cell_type": "code",
   "execution_count": 693,
   "id": "3a1b00bd-2334-4d9f-8a87-c92806f4a966",
   "metadata": {},
   "outputs": [
    {
     "data": {
      "text/plain": [
       "A101    1500\n",
       "A102    1032\n",
       "A103     210\n",
       "A104     590\n",
       "A105     620\n",
       "dtype: int32"
      ]
     },
     "execution_count": 693,
     "metadata": {},
     "output_type": "execute_result"
    }
   ],
   "source": [
    "S5"
   ]
  },
  {
   "cell_type": "code",
   "execution_count": 695,
   "id": "20842945-a662-4e87-aa1f-0a90570f2bfa",
   "metadata": {},
   "outputs": [
    {
     "data": {
      "text/plain": [
       "590"
      ]
     },
     "execution_count": 695,
     "metadata": {},
     "output_type": "execute_result"
    }
   ],
   "source": [
    "S5.loc['A104']"
   ]
  },
  {
   "cell_type": "code",
   "execution_count": 697,
   "id": "f61378a3-632a-44d8-8e83-da60c6569a3e",
   "metadata": {},
   "outputs": [
    {
     "data": {
      "text/html": [
       "<div>\n",
       "<style scoped>\n",
       "    .dataframe tbody tr th:only-of-type {\n",
       "        vertical-align: middle;\n",
       "    }\n",
       "\n",
       "    .dataframe tbody tr th {\n",
       "        vertical-align: top;\n",
       "    }\n",
       "\n",
       "    .dataframe thead th {\n",
       "        text-align: right;\n",
       "    }\n",
       "</style>\n",
       "<table border=\"1\" class=\"dataframe\">\n",
       "  <thead>\n",
       "    <tr style=\"text-align: right;\">\n",
       "      <th></th>\n",
       "      <th>pid</th>\n",
       "      <th>pname</th>\n",
       "      <th>pcost</th>\n",
       "    </tr>\n",
       "  </thead>\n",
       "  <tbody>\n",
       "    <tr>\n",
       "      <th>0</th>\n",
       "      <td>101</td>\n",
       "      <td>pA</td>\n",
       "      <td>1000</td>\n",
       "    </tr>\n",
       "    <tr>\n",
       "      <th>1</th>\n",
       "      <td>102</td>\n",
       "      <td>pB</td>\n",
       "      <td>2000</td>\n",
       "    </tr>\n",
       "    <tr>\n",
       "      <th>2</th>\n",
       "      <td>103</td>\n",
       "      <td>pC</td>\n",
       "      <td>3000</td>\n",
       "    </tr>\n",
       "    <tr>\n",
       "      <th>3</th>\n",
       "      <td>104</td>\n",
       "      <td>pD</td>\n",
       "      <td>1500</td>\n",
       "    </tr>\n",
       "    <tr>\n",
       "      <th>4</th>\n",
       "      <td>105</td>\n",
       "      <td>pE</td>\n",
       "      <td>2300</td>\n",
       "    </tr>\n",
       "  </tbody>\n",
       "</table>\n",
       "</div>"
      ],
      "text/plain": [
       "   pid pname  pcost\n",
       "0  101    pA   1000\n",
       "1  102    pB   2000\n",
       "2  103    pC   3000\n",
       "3  104    pD   1500\n",
       "4  105    pE   2300"
      ]
     },
     "execution_count": 697,
     "metadata": {},
     "output_type": "execute_result"
    }
   ],
   "source": [
    "df=pd.DataFrame({'pid':[101,102,103,104,105],'pname':['pA','pB','pC','pD','pE'],'pcost':[1000,2000,3000,1500,2300]})\n",
    "df"
   ]
  },
  {
   "cell_type": "code",
   "execution_count": 699,
   "id": "75d8a23b-b5c4-49ea-8f8b-87cd0865833e",
   "metadata": {},
   "outputs": [
    {
     "name": "stdout",
     "output_type": "stream",
     "text": [
      "<class 'pandas.core.frame.DataFrame'>\n",
      "RangeIndex: 5 entries, 0 to 4\n",
      "Data columns (total 3 columns):\n",
      " #   Column  Non-Null Count  Dtype \n",
      "---  ------  --------------  ----- \n",
      " 0   pid     5 non-null      int64 \n",
      " 1   pname   5 non-null      object\n",
      " 2   pcost   5 non-null      int64 \n",
      "dtypes: int64(2), object(1)\n",
      "memory usage: 252.0+ bytes\n"
     ]
    }
   ],
   "source": [
    "df.info()"
   ]
  },
  {
   "cell_type": "code",
   "execution_count": 701,
   "id": "2f583dfb-c7db-4f7c-abaf-9fb9ba53830f",
   "metadata": {},
   "outputs": [
    {
     "data": {
      "text/plain": [
       "RangeIndex(start=0, stop=5, step=1)"
      ]
     },
     "execution_count": 701,
     "metadata": {},
     "output_type": "execute_result"
    }
   ],
   "source": [
    "df.index"
   ]
  },
  {
   "cell_type": "code",
   "execution_count": 703,
   "id": "1f084d27-506c-4c62-936b-6e3e6fb832e7",
   "metadata": {},
   "outputs": [
    {
     "data": {
      "text/plain": [
       "Index(['pid', 'pname', 'pcost'], dtype='object')"
      ]
     },
     "execution_count": 703,
     "metadata": {},
     "output_type": "execute_result"
    }
   ],
   "source": [
    "df.columns"
   ]
  },
  {
   "cell_type": "code",
   "execution_count": 705,
   "id": "00b61f07-5537-453d-8fcb-770be603c065",
   "metadata": {},
   "outputs": [
    {
     "data": {
      "text/plain": [
       "pid       101\n",
       "pname      pA\n",
       "pcost    1000\n",
       "Name: 0, dtype: object"
      ]
     },
     "execution_count": 705,
     "metadata": {},
     "output_type": "execute_result"
    }
   ],
   "source": [
    "df.loc[0]"
   ]
  },
  {
   "cell_type": "code",
   "execution_count": 707,
   "id": "eadb15a0-c401-4c53-8508-fcd3e6c666dd",
   "metadata": {},
   "outputs": [
    {
     "data": {
      "text/plain": [
       "pid       102\n",
       "pname      pB\n",
       "pcost    2000\n",
       "Name: 1, dtype: object"
      ]
     },
     "execution_count": 707,
     "metadata": {},
     "output_type": "execute_result"
    }
   ],
   "source": [
    "df.loc[1]"
   ]
  },
  {
   "cell_type": "code",
   "execution_count": 711,
   "id": "18d02710-3a2a-45cc-b4cf-c087a3452962",
   "metadata": {},
   "outputs": [
    {
     "data": {
      "text/html": [
       "<div>\n",
       "<style scoped>\n",
       "    .dataframe tbody tr th:only-of-type {\n",
       "        vertical-align: middle;\n",
       "    }\n",
       "\n",
       "    .dataframe tbody tr th {\n",
       "        vertical-align: top;\n",
       "    }\n",
       "\n",
       "    .dataframe thead th {\n",
       "        text-align: right;\n",
       "    }\n",
       "</style>\n",
       "<table border=\"1\" class=\"dataframe\">\n",
       "  <thead>\n",
       "    <tr style=\"text-align: right;\">\n",
       "      <th></th>\n",
       "      <th>pid</th>\n",
       "      <th>pname</th>\n",
       "      <th>pcost</th>\n",
       "    </tr>\n",
       "  </thead>\n",
       "  <tbody>\n",
       "    <tr>\n",
       "      <th>2</th>\n",
       "      <td>103</td>\n",
       "      <td>pC</td>\n",
       "      <td>3000</td>\n",
       "    </tr>\n",
       "    <tr>\n",
       "      <th>3</th>\n",
       "      <td>104</td>\n",
       "      <td>pD</td>\n",
       "      <td>1500</td>\n",
       "    </tr>\n",
       "    <tr>\n",
       "      <th>4</th>\n",
       "      <td>105</td>\n",
       "      <td>pE</td>\n",
       "      <td>2300</td>\n",
       "    </tr>\n",
       "  </tbody>\n",
       "</table>\n",
       "</div>"
      ],
      "text/plain": [
       "   pid pname  pcost\n",
       "2  103    pC   3000\n",
       "3  104    pD   1500\n",
       "4  105    pE   2300"
      ]
     },
     "execution_count": 711,
     "metadata": {},
     "output_type": "execute_result"
    }
   ],
   "source": [
    "df.loc[2:] # from 2nd index to list of all"
   ]
  },
  {
   "cell_type": "code",
   "execution_count": 715,
   "id": "cb14c7d9-fdbb-4355-8018-8c689e401c26",
   "metadata": {},
   "outputs": [
    {
     "data": {
      "text/html": [
       "<div>\n",
       "<style scoped>\n",
       "    .dataframe tbody tr th:only-of-type {\n",
       "        vertical-align: middle;\n",
       "    }\n",
       "\n",
       "    .dataframe tbody tr th {\n",
       "        vertical-align: top;\n",
       "    }\n",
       "\n",
       "    .dataframe thead th {\n",
       "        text-align: right;\n",
       "    }\n",
       "</style>\n",
       "<table border=\"1\" class=\"dataframe\">\n",
       "  <thead>\n",
       "    <tr style=\"text-align: right;\">\n",
       "      <th></th>\n",
       "      <th>pid</th>\n",
       "      <th>pname</th>\n",
       "      <th>pcost</th>\n",
       "    </tr>\n",
       "  </thead>\n",
       "  <tbody>\n",
       "    <tr>\n",
       "      <th>0</th>\n",
       "      <td>101</td>\n",
       "      <td>pA</td>\n",
       "      <td>1000</td>\n",
       "    </tr>\n",
       "    <tr>\n",
       "      <th>1</th>\n",
       "      <td>102</td>\n",
       "      <td>pB</td>\n",
       "      <td>2000</td>\n",
       "    </tr>\n",
       "    <tr>\n",
       "      <th>2</th>\n",
       "      <td>103</td>\n",
       "      <td>pC</td>\n",
       "      <td>3000</td>\n",
       "    </tr>\n",
       "  </tbody>\n",
       "</table>\n",
       "</div>"
      ],
      "text/plain": [
       "   pid pname  pcost\n",
       "0  101    pA   1000\n",
       "1  102    pB   2000\n",
       "2  103    pC   3000"
      ]
     },
     "execution_count": 715,
     "metadata": {},
     "output_type": "execute_result"
    }
   ],
   "source": [
    "df.loc[:2] # from 0th index to 2nd index"
   ]
  },
  {
   "cell_type": "code",
   "execution_count": 717,
   "id": "bd442bd8-0a5a-4ecc-8c3e-5490eaa8349e",
   "metadata": {},
   "outputs": [
    {
     "data": {
      "text/plain": [
       "0    101\n",
       "1    102\n",
       "2    103\n",
       "3    104\n",
       "4    105\n",
       "Name: pid, dtype: int64"
      ]
     },
     "execution_count": 717,
     "metadata": {},
     "output_type": "execute_result"
    }
   ],
   "source": [
    "df['pid']"
   ]
  },
  {
   "cell_type": "code",
   "execution_count": 719,
   "id": "cc02af25-0237-44bc-98aa-dca74b9144ee",
   "metadata": {},
   "outputs": [
    {
     "data": {
      "text/plain": [
       "103"
      ]
     },
     "execution_count": 719,
     "metadata": {},
     "output_type": "execute_result"
    }
   ],
   "source": [
    "df.loc[2]['pid']"
   ]
  },
  {
   "cell_type": "code",
   "execution_count": 723,
   "id": "9de0326c-d336-4c0b-ad46-8bca114c9b35",
   "metadata": {},
   "outputs": [
    {
     "data": {
      "text/plain": [
       "pid       103\n",
       "pname      pC\n",
       "pcost    3000\n",
       "Name: 2, dtype: object"
      ]
     },
     "execution_count": 723,
     "metadata": {},
     "output_type": "execute_result"
    }
   ],
   "source": [
    "df.loc[2]"
   ]
  },
  {
   "cell_type": "code",
   "execution_count": 739,
   "id": "57312d29-ed4b-4e6a-972f-6e9294e1590f",
   "metadata": {},
   "outputs": [
    {
     "data": {
      "text/plain": [
       "pid      103\n",
       "pname     pC\n",
       "Name: 2, dtype: object"
      ]
     },
     "execution_count": 739,
     "metadata": {},
     "output_type": "execute_result"
    }
   ],
   "source": [
    "df.loc[2][['pid','pname']]# Row X Col "
   ]
  },
  {
   "cell_type": "code",
   "execution_count": 741,
   "id": "4e91cd46-08b8-41d8-9495-fc18984fc0eb",
   "metadata": {},
   "outputs": [],
   "source": [
    "d={'app':{'Flask':5000,'prom':9090,'web2':9191},\n",
    "   'os':{'Linux':5.4,'winx':11,'macos':4.31}\n",
    "  }\n",
    "# dict of dict"
   ]
  },
  {
   "cell_type": "code",
   "execution_count": 743,
   "id": "e3950b5b-5f50-4efd-af3c-6b8f8a9b3aa7",
   "metadata": {},
   "outputs": [
    {
     "data": {
      "text/html": [
       "<div>\n",
       "<style scoped>\n",
       "    .dataframe tbody tr th:only-of-type {\n",
       "        vertical-align: middle;\n",
       "    }\n",
       "\n",
       "    .dataframe tbody tr th {\n",
       "        vertical-align: top;\n",
       "    }\n",
       "\n",
       "    .dataframe thead th {\n",
       "        text-align: right;\n",
       "    }\n",
       "</style>\n",
       "<table border=\"1\" class=\"dataframe\">\n",
       "  <thead>\n",
       "    <tr style=\"text-align: right;\">\n",
       "      <th></th>\n",
       "      <th>app</th>\n",
       "      <th>os</th>\n",
       "    </tr>\n",
       "  </thead>\n",
       "  <tbody>\n",
       "    <tr>\n",
       "      <th>Flask</th>\n",
       "      <td>5000.0</td>\n",
       "      <td>NaN</td>\n",
       "    </tr>\n",
       "    <tr>\n",
       "      <th>prom</th>\n",
       "      <td>9090.0</td>\n",
       "      <td>NaN</td>\n",
       "    </tr>\n",
       "    <tr>\n",
       "      <th>web2</th>\n",
       "      <td>9191.0</td>\n",
       "      <td>NaN</td>\n",
       "    </tr>\n",
       "    <tr>\n",
       "      <th>Linux</th>\n",
       "      <td>NaN</td>\n",
       "      <td>5.40</td>\n",
       "    </tr>\n",
       "    <tr>\n",
       "      <th>winx</th>\n",
       "      <td>NaN</td>\n",
       "      <td>11.00</td>\n",
       "    </tr>\n",
       "    <tr>\n",
       "      <th>macos</th>\n",
       "      <td>NaN</td>\n",
       "      <td>4.31</td>\n",
       "    </tr>\n",
       "  </tbody>\n",
       "</table>\n",
       "</div>"
      ],
      "text/plain": [
       "          app     os\n",
       "Flask  5000.0    NaN\n",
       "prom   9090.0    NaN\n",
       "web2   9191.0    NaN\n",
       "Linux     NaN   5.40\n",
       "winx      NaN  11.00\n",
       "macos     NaN   4.31"
      ]
     },
     "execution_count": 743,
     "metadata": {},
     "output_type": "execute_result"
    }
   ],
   "source": [
    "pd.DataFrame(d)"
   ]
  },
  {
   "cell_type": "code",
   "execution_count": 749,
   "id": "11b5cfde-e816-4ad4-84dc-927fcd7fcf3e",
   "metadata": {},
   "outputs": [
    {
     "data": {
      "text/html": [
       "<div>\n",
       "<style scoped>\n",
       "    .dataframe tbody tr th:only-of-type {\n",
       "        vertical-align: middle;\n",
       "    }\n",
       "\n",
       "    .dataframe tbody tr th {\n",
       "        vertical-align: top;\n",
       "    }\n",
       "\n",
       "    .dataframe thead th {\n",
       "        text-align: right;\n",
       "    }\n",
       "</style>\n",
       "<table border=\"1\" class=\"dataframe\">\n",
       "  <thead>\n",
       "    <tr style=\"text-align: right;\">\n",
       "      <th></th>\n",
       "      <th>pid</th>\n",
       "      <th>pname</th>\n",
       "      <th>pcost</th>\n",
       "    </tr>\n",
       "  </thead>\n",
       "  <tbody>\n",
       "    <tr>\n",
       "      <th>0</th>\n",
       "      <td>101.0</td>\n",
       "      <td>pA</td>\n",
       "      <td>1000</td>\n",
       "    </tr>\n",
       "    <tr>\n",
       "      <th>1</th>\n",
       "      <td>102.0</td>\n",
       "      <td>pB</td>\n",
       "      <td>2000</td>\n",
       "    </tr>\n",
       "    <tr>\n",
       "      <th>2</th>\n",
       "      <td>NaN</td>\n",
       "      <td>None</td>\n",
       "      <td>3000</td>\n",
       "    </tr>\n",
       "    <tr>\n",
       "      <th>3</th>\n",
       "      <td>104.0</td>\n",
       "      <td>pD</td>\n",
       "      <td>1500</td>\n",
       "    </tr>\n",
       "    <tr>\n",
       "      <th>4</th>\n",
       "      <td>105.0</td>\n",
       "      <td>pE</td>\n",
       "      <td>2300</td>\n",
       "    </tr>\n",
       "  </tbody>\n",
       "</table>\n",
       "</div>"
      ],
      "text/plain": [
       "     pid pname  pcost\n",
       "0  101.0    pA   1000\n",
       "1  102.0    pB   2000\n",
       "2    NaN  None   3000\n",
       "3  104.0    pD   1500\n",
       "4  105.0    pE   2300"
      ]
     },
     "execution_count": 749,
     "metadata": {},
     "output_type": "execute_result"
    }
   ],
   "source": [
    "df=pd.DataFrame({'pid':[101,102,None,104,105],'pname':['pA','pB',None,'pD','pE'],'pcost':[1000,2000,3000,1500,2300]})\n",
    "df"
   ]
  },
  {
   "cell_type": "code",
   "execution_count": null,
   "id": "5f407e5e-fc42-4b63-8a7a-0f7be1002843",
   "metadata": {},
   "outputs": [],
   "source": []
  },
  {
   "cell_type": "code",
   "execution_count": 751,
   "id": "a17a12ac-54dd-43ad-8daf-801624dda350",
   "metadata": {},
   "outputs": [
    {
     "data": {
      "text/html": [
       "<div>\n",
       "<style scoped>\n",
       "    .dataframe tbody tr th:only-of-type {\n",
       "        vertical-align: middle;\n",
       "    }\n",
       "\n",
       "    .dataframe tbody tr th {\n",
       "        vertical-align: top;\n",
       "    }\n",
       "\n",
       "    .dataframe thead th {\n",
       "        text-align: right;\n",
       "    }\n",
       "</style>\n",
       "<table border=\"1\" class=\"dataframe\">\n",
       "  <thead>\n",
       "    <tr style=\"text-align: right;\">\n",
       "      <th></th>\n",
       "      <th>app</th>\n",
       "      <th>os</th>\n",
       "    </tr>\n",
       "  </thead>\n",
       "  <tbody>\n",
       "    <tr>\n",
       "      <th>Flask</th>\n",
       "      <td>5000.0</td>\n",
       "      <td>5.40</td>\n",
       "    </tr>\n",
       "    <tr>\n",
       "      <th>prom</th>\n",
       "      <td>9090.0</td>\n",
       "      <td>NaN</td>\n",
       "    </tr>\n",
       "    <tr>\n",
       "      <th>web2</th>\n",
       "      <td>9191.0</td>\n",
       "      <td>4.31</td>\n",
       "    </tr>\n",
       "    <tr>\n",
       "      <th>winx</th>\n",
       "      <td>NaN</td>\n",
       "      <td>11.00</td>\n",
       "    </tr>\n",
       "  </tbody>\n",
       "</table>\n",
       "</div>"
      ],
      "text/plain": [
       "          app     os\n",
       "Flask  5000.0   5.40\n",
       "prom   9090.0    NaN\n",
       "web2   9191.0   4.31\n",
       "winx      NaN  11.00"
      ]
     },
     "execution_count": 751,
     "metadata": {},
     "output_type": "execute_result"
    }
   ],
   "source": [
    "d={'app':{'Flask':5000,'prom':9090,'web2':9191},\n",
    "   'os':{'Flask':5.4,'winx':11,'web2':4.31}\n",
    "  }\n",
    "# dict of dict\n",
    "pd.DataFrame(d)"
   ]
  },
  {
   "cell_type": "code",
   "execution_count": 753,
   "id": "0973c8c9-45bb-456a-a279-8452dd3f18ce",
   "metadata": {},
   "outputs": [
    {
     "name": "stdout",
     "output_type": "stream",
     "text": [
      "<class 'pandas.core.frame.DataFrame'>\n",
      "Index: 4 entries, Flask to winx\n",
      "Data columns (total 2 columns):\n",
      " #   Column  Non-Null Count  Dtype  \n",
      "---  ------  --------------  -----  \n",
      " 0   app     3 non-null      float64\n",
      " 1   os      3 non-null      float64\n",
      "dtypes: float64(2)\n",
      "memory usage: 96.0+ bytes\n"
     ]
    }
   ],
   "source": [
    "pd.DataFrame(d).info()"
   ]
  },
  {
   "cell_type": "code",
   "execution_count": 755,
   "id": "2347aa3c-be2a-4c4e-be19-961228bcf941",
   "metadata": {},
   "outputs": [
    {
     "data": {
      "text/plain": [
       "Index(['Flask', 'prom', 'web2', 'winx'], dtype='object')"
      ]
     },
     "execution_count": 755,
     "metadata": {},
     "output_type": "execute_result"
    }
   ],
   "source": [
    "pd.DataFrame(d).index"
   ]
  },
  {
   "cell_type": "code",
   "execution_count": 757,
   "id": "da41d72a-fd13-4d2f-92e9-e60855cd163c",
   "metadata": {},
   "outputs": [
    {
     "data": {
      "text/plain": [
       "Index(['app', 'os'], dtype='object')"
      ]
     },
     "execution_count": 757,
     "metadata": {},
     "output_type": "execute_result"
    }
   ],
   "source": [
    "pd.DataFrame(d).columns"
   ]
  },
  {
   "cell_type": "code",
   "execution_count": 769,
   "id": "acc9d968-9b9c-456b-a02e-bdb7200e52be",
   "metadata": {},
   "outputs": [],
   "source": [
    "df2 = pd.DataFrame(d)"
   ]
  },
  {
   "cell_type": "code",
   "execution_count": 771,
   "id": "a8faaa31-5019-4280-92cc-5ef5853f6d89",
   "metadata": {},
   "outputs": [
    {
     "data": {
      "text/html": [
       "<div>\n",
       "<style scoped>\n",
       "    .dataframe tbody tr th:only-of-type {\n",
       "        vertical-align: middle;\n",
       "    }\n",
       "\n",
       "    .dataframe tbody tr th {\n",
       "        vertical-align: top;\n",
       "    }\n",
       "\n",
       "    .dataframe thead th {\n",
       "        text-align: right;\n",
       "    }\n",
       "</style>\n",
       "<table border=\"1\" class=\"dataframe\">\n",
       "  <thead>\n",
       "    <tr style=\"text-align: right;\">\n",
       "      <th></th>\n",
       "      <th>app</th>\n",
       "      <th>os</th>\n",
       "    </tr>\n",
       "  </thead>\n",
       "  <tbody>\n",
       "    <tr>\n",
       "      <th>Flask</th>\n",
       "      <td>5000.0</td>\n",
       "      <td>5.40</td>\n",
       "    </tr>\n",
       "    <tr>\n",
       "      <th>prom</th>\n",
       "      <td>9090.0</td>\n",
       "      <td>NaN</td>\n",
       "    </tr>\n",
       "    <tr>\n",
       "      <th>web2</th>\n",
       "      <td>9191.0</td>\n",
       "      <td>4.31</td>\n",
       "    </tr>\n",
       "    <tr>\n",
       "      <th>winx</th>\n",
       "      <td>NaN</td>\n",
       "      <td>11.00</td>\n",
       "    </tr>\n",
       "  </tbody>\n",
       "</table>\n",
       "</div>"
      ],
      "text/plain": [
       "          app     os\n",
       "Flask  5000.0   5.40\n",
       "prom   9090.0    NaN\n",
       "web2   9191.0   4.31\n",
       "winx      NaN  11.00"
      ]
     },
     "execution_count": 771,
     "metadata": {},
     "output_type": "execute_result"
    }
   ],
   "source": [
    "df2"
   ]
  },
  {
   "cell_type": "code",
   "execution_count": 773,
   "id": "9bfc68ec-4f21-45cb-befa-cde6326515f7",
   "metadata": {},
   "outputs": [
    {
     "name": "stdout",
     "output_type": "stream",
     "text": [
      "          app     os\n",
      "Flask  5000.0   5.40\n",
      "prom   9090.0    NaN\n",
      "web2   9191.0   4.31\n",
      "winx      NaN  11.00\n"
     ]
    }
   ],
   "source": [
    "print(df2)\n",
    "df2.index.name = 'webAPP'\n",
    "df2.columns.name = 'Metric'"
   ]
  },
  {
   "cell_type": "code",
   "execution_count": 775,
   "id": "a6d47b25-edb3-436d-9759-43040577b61f",
   "metadata": {},
   "outputs": [
    {
     "data": {
      "text/html": [
       "<div>\n",
       "<style scoped>\n",
       "    .dataframe tbody tr th:only-of-type {\n",
       "        vertical-align: middle;\n",
       "    }\n",
       "\n",
       "    .dataframe tbody tr th {\n",
       "        vertical-align: top;\n",
       "    }\n",
       "\n",
       "    .dataframe thead th {\n",
       "        text-align: right;\n",
       "    }\n",
       "</style>\n",
       "<table border=\"1\" class=\"dataframe\">\n",
       "  <thead>\n",
       "    <tr style=\"text-align: right;\">\n",
       "      <th>Metric</th>\n",
       "      <th>app</th>\n",
       "      <th>os</th>\n",
       "    </tr>\n",
       "    <tr>\n",
       "      <th>webAPP</th>\n",
       "      <th></th>\n",
       "      <th></th>\n",
       "    </tr>\n",
       "  </thead>\n",
       "  <tbody>\n",
       "    <tr>\n",
       "      <th>Flask</th>\n",
       "      <td>5000.0</td>\n",
       "      <td>5.40</td>\n",
       "    </tr>\n",
       "    <tr>\n",
       "      <th>prom</th>\n",
       "      <td>9090.0</td>\n",
       "      <td>NaN</td>\n",
       "    </tr>\n",
       "    <tr>\n",
       "      <th>web2</th>\n",
       "      <td>9191.0</td>\n",
       "      <td>4.31</td>\n",
       "    </tr>\n",
       "    <tr>\n",
       "      <th>winx</th>\n",
       "      <td>NaN</td>\n",
       "      <td>11.00</td>\n",
       "    </tr>\n",
       "  </tbody>\n",
       "</table>\n",
       "</div>"
      ],
      "text/plain": [
       "Metric     app     os\n",
       "webAPP               \n",
       "Flask   5000.0   5.40\n",
       "prom    9090.0    NaN\n",
       "web2    9191.0   4.31\n",
       "winx       NaN  11.00"
      ]
     },
     "execution_count": 775,
     "metadata": {},
     "output_type": "execute_result"
    }
   ],
   "source": [
    "df2"
   ]
  },
  {
   "cell_type": "code",
   "execution_count": 777,
   "id": "11994f00-824f-4893-921e-8e3ab15e984c",
   "metadata": {},
   "outputs": [
    {
     "data": {
      "text/plain": [
       "array([[5.000e+03, 5.400e+00],\n",
       "       [9.090e+03,       nan],\n",
       "       [9.191e+03, 4.310e+00],\n",
       "       [      nan, 1.100e+01]])"
      ]
     },
     "execution_count": 777,
     "metadata": {},
     "output_type": "execute_result"
    }
   ],
   "source": [
    "df2.values"
   ]
  },
  {
   "cell_type": "code",
   "execution_count": 779,
   "id": "996e42f5-c5c1-44fd-86f0-257f7173293c",
   "metadata": {},
   "outputs": [
    {
     "data": {
      "text/html": [
       "<div>\n",
       "<style scoped>\n",
       "    .dataframe tbody tr th:only-of-type {\n",
       "        vertical-align: middle;\n",
       "    }\n",
       "\n",
       "    .dataframe tbody tr th {\n",
       "        vertical-align: top;\n",
       "    }\n",
       "\n",
       "    .dataframe thead th {\n",
       "        text-align: right;\n",
       "    }\n",
       "</style>\n",
       "<table border=\"1\" class=\"dataframe\">\n",
       "  <thead>\n",
       "    <tr style=\"text-align: right;\">\n",
       "      <th></th>\n",
       "      <th>101</th>\n",
       "      <th>ram</th>\n",
       "      <th>sales</th>\n",
       "      <th>pune</th>\n",
       "      <th>1000</th>\n",
       "    </tr>\n",
       "  </thead>\n",
       "  <tbody>\n",
       "    <tr>\n",
       "      <th>0</th>\n",
       "      <td>102</td>\n",
       "      <td>leo</td>\n",
       "      <td>prod</td>\n",
       "      <td>bglore</td>\n",
       "      <td>2000</td>\n",
       "    </tr>\n",
       "    <tr>\n",
       "      <th>1</th>\n",
       "      <td>103</td>\n",
       "      <td>anu</td>\n",
       "      <td>HR</td>\n",
       "      <td>hyd</td>\n",
       "      <td>3000</td>\n",
       "    </tr>\n",
       "    <tr>\n",
       "      <th>2</th>\n",
       "      <td>104</td>\n",
       "      <td>paul</td>\n",
       "      <td>sales</td>\n",
       "      <td>bglore</td>\n",
       "      <td>3200</td>\n",
       "    </tr>\n",
       "    <tr>\n",
       "      <th>3</th>\n",
       "      <td>423</td>\n",
       "      <td>zio</td>\n",
       "      <td>sales</td>\n",
       "      <td>pune</td>\n",
       "      <td>3420</td>\n",
       "    </tr>\n",
       "    <tr>\n",
       "      <th>4</th>\n",
       "      <td>142</td>\n",
       "      <td>anu</td>\n",
       "      <td>prod</td>\n",
       "      <td>chennai</td>\n",
       "      <td>4300</td>\n",
       "    </tr>\n",
       "    <tr>\n",
       "      <th>5</th>\n",
       "      <td>949</td>\n",
       "      <td>karthik</td>\n",
       "      <td>sales</td>\n",
       "      <td>bglore</td>\n",
       "      <td>3100</td>\n",
       "    </tr>\n",
       "    <tr>\n",
       "      <th>6</th>\n",
       "      <td>848</td>\n",
       "      <td>tom</td>\n",
       "      <td>hr</td>\n",
       "      <td>chennai</td>\n",
       "      <td>3940</td>\n",
       "    </tr>\n",
       "    <tr>\n",
       "      <th>7</th>\n",
       "      <td>931</td>\n",
       "      <td>vijay</td>\n",
       "      <td>prod</td>\n",
       "      <td>chennai</td>\n",
       "      <td>3411</td>\n",
       "    </tr>\n",
       "  </tbody>\n",
       "</table>\n",
       "</div>"
      ],
      "text/plain": [
       "   101      ram  sales     pune  1000\n",
       "0  102      leo   prod   bglore  2000\n",
       "1  103      anu     HR      hyd  3000\n",
       "2  104     paul  sales   bglore  3200\n",
       "3  423      zio  sales     pune  3420\n",
       "4  142      anu   prod  chennai  4300\n",
       "5  949  karthik  sales   bglore  3100\n",
       "6  848      tom     hr  chennai  3940\n",
       "7  931    vijay   prod  chennai  3411"
      ]
     },
     "execution_count": 779,
     "metadata": {},
     "output_type": "execute_result"
    }
   ],
   "source": [
    "pd.read_csv('emp.csv')"
   ]
  },
  {
   "cell_type": "code",
   "execution_count": 781,
   "id": "6ce1282e-8ed0-4a95-b084-61b3d4e49635",
   "metadata": {},
   "outputs": [
    {
     "name": "stdout",
     "output_type": "stream",
     "text": [
      "<class 'pandas.core.frame.DataFrame'>\n"
     ]
    }
   ],
   "source": [
    "df_csv = pd.read_csv('emp.csv')\n",
    "print(type(df_csv))"
   ]
  },
  {
   "cell_type": "code",
   "execution_count": 783,
   "id": "482dcd86-d802-46d8-b33f-fc4ce5026ab0",
   "metadata": {},
   "outputs": [
    {
     "data": {
      "text/html": [
       "<div>\n",
       "<style scoped>\n",
       "    .dataframe tbody tr th:only-of-type {\n",
       "        vertical-align: middle;\n",
       "    }\n",
       "\n",
       "    .dataframe tbody tr th {\n",
       "        vertical-align: top;\n",
       "    }\n",
       "\n",
       "    .dataframe thead th {\n",
       "        text-align: right;\n",
       "    }\n",
       "</style>\n",
       "<table border=\"1\" class=\"dataframe\">\n",
       "  <thead>\n",
       "    <tr style=\"text-align: right;\">\n",
       "      <th></th>\n",
       "      <th>eid</th>\n",
       "      <th>ename</th>\n",
       "      <th>edept</th>\n",
       "      <th>eplace</th>\n",
       "      <th>ecost</th>\n",
       "    </tr>\n",
       "  </thead>\n",
       "  <tbody>\n",
       "    <tr>\n",
       "      <th>0</th>\n",
       "      <td>101</td>\n",
       "      <td>ram</td>\n",
       "      <td>sales</td>\n",
       "      <td>pune</td>\n",
       "      <td>1000</td>\n",
       "    </tr>\n",
       "    <tr>\n",
       "      <th>1</th>\n",
       "      <td>102</td>\n",
       "      <td>leo</td>\n",
       "      <td>prod</td>\n",
       "      <td>bglore</td>\n",
       "      <td>2000</td>\n",
       "    </tr>\n",
       "    <tr>\n",
       "      <th>2</th>\n",
       "      <td>103</td>\n",
       "      <td>anu</td>\n",
       "      <td>HR</td>\n",
       "      <td>hyd</td>\n",
       "      <td>3000</td>\n",
       "    </tr>\n",
       "    <tr>\n",
       "      <th>3</th>\n",
       "      <td>104</td>\n",
       "      <td>paul</td>\n",
       "      <td>sales</td>\n",
       "      <td>bglore</td>\n",
       "      <td>3200</td>\n",
       "    </tr>\n",
       "    <tr>\n",
       "      <th>4</th>\n",
       "      <td>423</td>\n",
       "      <td>zio</td>\n",
       "      <td>sales</td>\n",
       "      <td>pune</td>\n",
       "      <td>3420</td>\n",
       "    </tr>\n",
       "    <tr>\n",
       "      <th>5</th>\n",
       "      <td>142</td>\n",
       "      <td>anu</td>\n",
       "      <td>prod</td>\n",
       "      <td>chennai</td>\n",
       "      <td>4300</td>\n",
       "    </tr>\n",
       "    <tr>\n",
       "      <th>6</th>\n",
       "      <td>949</td>\n",
       "      <td>karthik</td>\n",
       "      <td>sales</td>\n",
       "      <td>bglore</td>\n",
       "      <td>3100</td>\n",
       "    </tr>\n",
       "    <tr>\n",
       "      <th>7</th>\n",
       "      <td>848</td>\n",
       "      <td>tom</td>\n",
       "      <td>hr</td>\n",
       "      <td>chennai</td>\n",
       "      <td>3940</td>\n",
       "    </tr>\n",
       "    <tr>\n",
       "      <th>8</th>\n",
       "      <td>931</td>\n",
       "      <td>vijay</td>\n",
       "      <td>prod</td>\n",
       "      <td>chennai</td>\n",
       "      <td>3411</td>\n",
       "    </tr>\n",
       "  </tbody>\n",
       "</table>\n",
       "</div>"
      ],
      "text/plain": [
       "   eid    ename  edept   eplace  ecost\n",
       "0  101      ram  sales     pune   1000\n",
       "1  102      leo   prod   bglore   2000\n",
       "2  103      anu     HR      hyd   3000\n",
       "3  104     paul  sales   bglore   3200\n",
       "4  423      zio  sales     pune   3420\n",
       "5  142      anu   prod  chennai   4300\n",
       "6  949  karthik  sales   bglore   3100\n",
       "7  848      tom     hr  chennai   3940\n",
       "8  931    vijay   prod  chennai   3411"
      ]
     },
     "execution_count": 783,
     "metadata": {},
     "output_type": "execute_result"
    }
   ],
   "source": [
    "pd.read_csv('emp.csv')"
   ]
  },
  {
   "cell_type": "code",
   "execution_count": 787,
   "id": "f4ed762b-92c7-4b9c-9fd5-2d9ceafe7ba5",
   "metadata": {},
   "outputs": [
    {
     "name": "stdout",
     "output_type": "stream",
     "text": [
      "RangeIndex(start=0, stop=9, step=1)\n",
      "Index(['eid', 'ename', 'edept', 'eplace', 'ecost'], dtype='object')\n",
      "<class 'pandas.core.frame.DataFrame'>\n",
      "RangeIndex: 9 entries, 0 to 8\n",
      "Data columns (total 5 columns):\n",
      " #   Column  Non-Null Count  Dtype \n",
      "---  ------  --------------  ----- \n",
      " 0   eid     9 non-null      int64 \n",
      " 1   ename   9 non-null      object\n",
      " 2   edept   9 non-null      object\n",
      " 3   eplace  9 non-null      object\n",
      " 4   ecost   9 non-null      int64 \n",
      "dtypes: int64(2), object(3)\n",
      "memory usage: 492.0+ bytes\n",
      "None\n"
     ]
    }
   ],
   "source": [
    "df_csv = pd.read_csv('emp.csv')\n",
    "print(df_csv.index)\n",
    "print(df_csv.columns)\n",
    "print(df_csv.info())"
   ]
  },
  {
   "cell_type": "code",
   "execution_count": 789,
   "id": "fb3a5a60-cca4-402a-9d87-6f7ace9bb41e",
   "metadata": {},
   "outputs": [
    {
     "data": {
      "text/plain": [
       "eid          104\n",
       "ename       paul\n",
       "edept      sales\n",
       "eplace    bglore\n",
       "ecost       3200\n",
       "Name: 3, dtype: object"
      ]
     },
     "execution_count": 789,
     "metadata": {},
     "output_type": "execute_result"
    }
   ],
   "source": [
    "df_csv.loc[3]"
   ]
  },
  {
   "cell_type": "code",
   "execution_count": 791,
   "id": "e76a54bf-26a0-40d8-ad9e-7d3ba8a062f0",
   "metadata": {},
   "outputs": [
    {
     "data": {
      "text/plain": [
       "eid          104\n",
       "ename       paul\n",
       "eplace    bglore\n",
       "Name: 3, dtype: object"
      ]
     },
     "execution_count": 791,
     "metadata": {},
     "output_type": "execute_result"
    }
   ],
   "source": [
    "df_csv.loc[3][['eid','ename','eplace']]"
   ]
  },
  {
   "cell_type": "code",
   "execution_count": 795,
   "id": "1fb8601b-7751-4919-be85-5a5ac77c0dd2",
   "metadata": {},
   "outputs": [
    {
     "data": {
      "text/html": [
       "<div>\n",
       "<style scoped>\n",
       "    .dataframe tbody tr th:only-of-type {\n",
       "        vertical-align: middle;\n",
       "    }\n",
       "\n",
       "    .dataframe tbody tr th {\n",
       "        vertical-align: top;\n",
       "    }\n",
       "\n",
       "    .dataframe thead th {\n",
       "        text-align: right;\n",
       "    }\n",
       "</style>\n",
       "<table border=\"1\" class=\"dataframe\">\n",
       "  <thead>\n",
       "    <tr style=\"text-align: right;\">\n",
       "      <th></th>\n",
       "      <th>eid</th>\n",
       "      <th>ename</th>\n",
       "      <th>eplace</th>\n",
       "    </tr>\n",
       "  </thead>\n",
       "  <tbody>\n",
       "    <tr>\n",
       "      <th>3</th>\n",
       "      <td>104</td>\n",
       "      <td>paul</td>\n",
       "      <td>bglore</td>\n",
       "    </tr>\n",
       "    <tr>\n",
       "      <th>4</th>\n",
       "      <td>423</td>\n",
       "      <td>zio</td>\n",
       "      <td>pune</td>\n",
       "    </tr>\n",
       "    <tr>\n",
       "      <th>5</th>\n",
       "      <td>142</td>\n",
       "      <td>anu</td>\n",
       "      <td>chennai</td>\n",
       "    </tr>\n",
       "    <tr>\n",
       "      <th>6</th>\n",
       "      <td>949</td>\n",
       "      <td>karthik</td>\n",
       "      <td>bglore</td>\n",
       "    </tr>\n",
       "    <tr>\n",
       "      <th>7</th>\n",
       "      <td>848</td>\n",
       "      <td>tom</td>\n",
       "      <td>chennai</td>\n",
       "    </tr>\n",
       "    <tr>\n",
       "      <th>8</th>\n",
       "      <td>931</td>\n",
       "      <td>vijay</td>\n",
       "      <td>chennai</td>\n",
       "    </tr>\n",
       "  </tbody>\n",
       "</table>\n",
       "</div>"
      ],
      "text/plain": [
       "   eid    ename   eplace\n",
       "3  104     paul   bglore\n",
       "4  423      zio     pune\n",
       "5  142      anu  chennai\n",
       "6  949  karthik   bglore\n",
       "7  848      tom  chennai\n",
       "8  931    vijay  chennai"
      ]
     },
     "execution_count": 795,
     "metadata": {},
     "output_type": "execute_result"
    }
   ],
   "source": [
    "df_csv.loc[3:][['eid','ename','eplace']]"
   ]
  },
  {
   "cell_type": "code",
   "execution_count": 797,
   "id": "6e441586-5929-40b9-a7d6-507810814a48",
   "metadata": {},
   "outputs": [
    {
     "data": {
      "text/html": [
       "<div>\n",
       "<style scoped>\n",
       "    .dataframe tbody tr th:only-of-type {\n",
       "        vertical-align: middle;\n",
       "    }\n",
       "\n",
       "    .dataframe tbody tr th {\n",
       "        vertical-align: top;\n",
       "    }\n",
       "\n",
       "    .dataframe thead th {\n",
       "        text-align: right;\n",
       "    }\n",
       "</style>\n",
       "<table border=\"1\" class=\"dataframe\">\n",
       "  <thead>\n",
       "    <tr style=\"text-align: right;\">\n",
       "      <th></th>\n",
       "      <th>101</th>\n",
       "      <th>userA-bash(1001</th>\n",
       "    </tr>\n",
       "  </thead>\n",
       "  <tbody>\n",
       "    <tr>\n",
       "      <th>0</th>\n",
       "      <td>102:userB(sh:1002</td>\n",
       "      <td>NaN</td>\n",
       "    </tr>\n",
       "    <tr>\n",
       "      <th>1</th>\n",
       "      <td>103-userC)ksh-1003</td>\n",
       "      <td>NaN</td>\n",
       "    </tr>\n",
       "    <tr>\n",
       "      <th>2</th>\n",
       "      <td>104(userD-csh)1004</td>\n",
       "      <td>NaN</td>\n",
       "    </tr>\n",
       "    <tr>\n",
       "      <th>3</th>\n",
       "      <td>105)userE%sh%1005</td>\n",
       "      <td>NaN</td>\n",
       "    </tr>\n",
       "  </tbody>\n",
       "</table>\n",
       "</div>"
      ],
      "text/plain": [
       "                  101  userA-bash(1001\n",
       "0   102:userB(sh:1002              NaN\n",
       "1  103-userC)ksh-1003              NaN\n",
       "2  104(userD-csh)1004              NaN\n",
       "3   105)userE%sh%1005              NaN"
      ]
     },
     "execution_count": 797,
     "metadata": {},
     "output_type": "execute_result"
    }
   ],
   "source": [
    "pd.read_csv('IP.txt')"
   ]
  },
  {
   "cell_type": "code",
   "execution_count": 799,
   "id": "192e206a-9992-4f19-bdd3-300315d21c60",
   "metadata": {},
   "outputs": [
    {
     "data": {
      "text/plain": [
       "Index(['101', 'userA-bash(1001'], dtype='object')"
      ]
     },
     "execution_count": 799,
     "metadata": {},
     "output_type": "execute_result"
    }
   ],
   "source": [
    "pd.read_csv('IP.txt').columns"
   ]
  },
  {
   "cell_type": "code",
   "execution_count": 807,
   "id": "78a7e553-2e5f-4190-a1ce-c6761a19cc06",
   "metadata": {},
   "outputs": [
    {
     "name": "stderr",
     "output_type": "stream",
     "text": [
      "C:\\Users\\theeba\\AppData\\Local\\Temp\\ipykernel_2600\\1115701947.py:1: ParserWarning: Falling back to the 'python' engine because the 'c' engine does not support regex separators (separators > 1 char and different from '\\s+' are interpreted as regex); you can avoid this warning by specifying engine='python'.\n",
      "  pd.read_csv('IP.txt',sep=\"\\\\-\").columns\n"
     ]
    },
    {
     "data": {
      "text/plain": [
       "Index(['101,userA', 'bash(1001'], dtype='object')"
      ]
     },
     "execution_count": 807,
     "metadata": {},
     "output_type": "execute_result"
    }
   ],
   "source": [
    "pd.read_csv('IP.txt',sep=\"\\\\-\").columns"
   ]
  },
  {
   "cell_type": "code",
   "execution_count": 809,
   "id": "04785632-bb62-4307-b175-24f5e03359ba",
   "metadata": {},
   "outputs": [
    {
     "data": {
      "text/html": [
       "<div>\n",
       "<style scoped>\n",
       "    .dataframe tbody tr th:only-of-type {\n",
       "        vertical-align: middle;\n",
       "    }\n",
       "\n",
       "    .dataframe tbody tr th {\n",
       "        vertical-align: top;\n",
       "    }\n",
       "\n",
       "    .dataframe thead th {\n",
       "        text-align: right;\n",
       "    }\n",
       "</style>\n",
       "<table border=\"1\" class=\"dataframe\">\n",
       "  <thead>\n",
       "    <tr style=\"text-align: right;\">\n",
       "      <th></th>\n",
       "      <th>eid</th>\n",
       "      <th>ename</th>\n",
       "      <th>edept</th>\n",
       "      <th>eplace</th>\n",
       "      <th>ecost</th>\n",
       "    </tr>\n",
       "  </thead>\n",
       "  <tbody>\n",
       "    <tr>\n",
       "      <th>0</th>\n",
       "      <td>101</td>\n",
       "      <td>ram</td>\n",
       "      <td>sales</td>\n",
       "      <td>pune</td>\n",
       "      <td>1000</td>\n",
       "    </tr>\n",
       "    <tr>\n",
       "      <th>1</th>\n",
       "      <td>102</td>\n",
       "      <td>leo</td>\n",
       "      <td>prod</td>\n",
       "      <td>bglore</td>\n",
       "      <td>2000</td>\n",
       "    </tr>\n",
       "    <tr>\n",
       "      <th>2</th>\n",
       "      <td>103</td>\n",
       "      <td>anu</td>\n",
       "      <td>HR</td>\n",
       "      <td>hyd</td>\n",
       "      <td>3000</td>\n",
       "    </tr>\n",
       "    <tr>\n",
       "      <th>3</th>\n",
       "      <td>104</td>\n",
       "      <td>paul</td>\n",
       "      <td>sales</td>\n",
       "      <td>bglore</td>\n",
       "      <td>3200</td>\n",
       "    </tr>\n",
       "    <tr>\n",
       "      <th>4</th>\n",
       "      <td>423</td>\n",
       "      <td>zio</td>\n",
       "      <td>sales</td>\n",
       "      <td>pune</td>\n",
       "      <td>3420</td>\n",
       "    </tr>\n",
       "    <tr>\n",
       "      <th>5</th>\n",
       "      <td>142</td>\n",
       "      <td>anu</td>\n",
       "      <td>prod</td>\n",
       "      <td>chennai</td>\n",
       "      <td>4300</td>\n",
       "    </tr>\n",
       "    <tr>\n",
       "      <th>6</th>\n",
       "      <td>949</td>\n",
       "      <td>karthik</td>\n",
       "      <td>sales</td>\n",
       "      <td>bglore</td>\n",
       "      <td>3100</td>\n",
       "    </tr>\n",
       "    <tr>\n",
       "      <th>7</th>\n",
       "      <td>848</td>\n",
       "      <td>tom</td>\n",
       "      <td>hr</td>\n",
       "      <td>chennai</td>\n",
       "      <td>3940</td>\n",
       "    </tr>\n",
       "    <tr>\n",
       "      <th>8</th>\n",
       "      <td>931</td>\n",
       "      <td>vijay</td>\n",
       "      <td>prod</td>\n",
       "      <td>chennai</td>\n",
       "      <td>3411</td>\n",
       "    </tr>\n",
       "  </tbody>\n",
       "</table>\n",
       "</div>"
      ],
      "text/plain": [
       "   eid    ename  edept   eplace  ecost\n",
       "0  101      ram  sales     pune   1000\n",
       "1  102      leo   prod   bglore   2000\n",
       "2  103      anu     HR      hyd   3000\n",
       "3  104     paul  sales   bglore   3200\n",
       "4  423      zio  sales     pune   3420\n",
       "5  142      anu   prod  chennai   4300\n",
       "6  949  karthik  sales   bglore   3100\n",
       "7  848      tom     hr  chennai   3940\n",
       "8  931    vijay   prod  chennai   3411"
      ]
     },
     "execution_count": 809,
     "metadata": {},
     "output_type": "execute_result"
    }
   ],
   "source": [
    "pd.read_csv('emp.csv')"
   ]
  },
  {
   "cell_type": "code",
   "execution_count": 811,
   "id": "51435802-87f0-4975-8940-106c0a50bba0",
   "metadata": {},
   "outputs": [
    {
     "data": {
      "text/html": [
       "<div>\n",
       "<style scoped>\n",
       "    .dataframe tbody tr th:only-of-type {\n",
       "        vertical-align: middle;\n",
       "    }\n",
       "\n",
       "    .dataframe tbody tr th {\n",
       "        vertical-align: top;\n",
       "    }\n",
       "\n",
       "    .dataframe thead th {\n",
       "        text-align: right;\n",
       "    }\n",
       "</style>\n",
       "<table border=\"1\" class=\"dataframe\">\n",
       "  <thead>\n",
       "    <tr style=\"text-align: right;\">\n",
       "      <th></th>\n",
       "      <th>ename</th>\n",
       "      <th>edept</th>\n",
       "      <th>eplace</th>\n",
       "      <th>ecost</th>\n",
       "    </tr>\n",
       "    <tr>\n",
       "      <th>eid</th>\n",
       "      <th></th>\n",
       "      <th></th>\n",
       "      <th></th>\n",
       "      <th></th>\n",
       "    </tr>\n",
       "  </thead>\n",
       "  <tbody>\n",
       "    <tr>\n",
       "      <th>101</th>\n",
       "      <td>ram</td>\n",
       "      <td>sales</td>\n",
       "      <td>pune</td>\n",
       "      <td>1000</td>\n",
       "    </tr>\n",
       "    <tr>\n",
       "      <th>102</th>\n",
       "      <td>leo</td>\n",
       "      <td>prod</td>\n",
       "      <td>bglore</td>\n",
       "      <td>2000</td>\n",
       "    </tr>\n",
       "    <tr>\n",
       "      <th>103</th>\n",
       "      <td>anu</td>\n",
       "      <td>HR</td>\n",
       "      <td>hyd</td>\n",
       "      <td>3000</td>\n",
       "    </tr>\n",
       "    <tr>\n",
       "      <th>104</th>\n",
       "      <td>paul</td>\n",
       "      <td>sales</td>\n",
       "      <td>bglore</td>\n",
       "      <td>3200</td>\n",
       "    </tr>\n",
       "    <tr>\n",
       "      <th>423</th>\n",
       "      <td>zio</td>\n",
       "      <td>sales</td>\n",
       "      <td>pune</td>\n",
       "      <td>3420</td>\n",
       "    </tr>\n",
       "    <tr>\n",
       "      <th>142</th>\n",
       "      <td>anu</td>\n",
       "      <td>prod</td>\n",
       "      <td>chennai</td>\n",
       "      <td>4300</td>\n",
       "    </tr>\n",
       "    <tr>\n",
       "      <th>949</th>\n",
       "      <td>karthik</td>\n",
       "      <td>sales</td>\n",
       "      <td>bglore</td>\n",
       "      <td>3100</td>\n",
       "    </tr>\n",
       "    <tr>\n",
       "      <th>848</th>\n",
       "      <td>tom</td>\n",
       "      <td>hr</td>\n",
       "      <td>chennai</td>\n",
       "      <td>3940</td>\n",
       "    </tr>\n",
       "    <tr>\n",
       "      <th>931</th>\n",
       "      <td>vijay</td>\n",
       "      <td>prod</td>\n",
       "      <td>chennai</td>\n",
       "      <td>3411</td>\n",
       "    </tr>\n",
       "  </tbody>\n",
       "</table>\n",
       "</div>"
      ],
      "text/plain": [
       "       ename  edept   eplace  ecost\n",
       "eid                                \n",
       "101      ram  sales     pune   1000\n",
       "102      leo   prod   bglore   2000\n",
       "103      anu     HR      hyd   3000\n",
       "104     paul  sales   bglore   3200\n",
       "423      zio  sales     pune   3420\n",
       "142      anu   prod  chennai   4300\n",
       "949  karthik  sales   bglore   3100\n",
       "848      tom     hr  chennai   3940\n",
       "931    vijay   prod  chennai   3411"
      ]
     },
     "execution_count": 811,
     "metadata": {},
     "output_type": "execute_result"
    }
   ],
   "source": [
    "pd.read_csv('emp.csv',index_col='eid')"
   ]
  },
  {
   "cell_type": "code",
   "execution_count": 813,
   "id": "bf2abc6c-c6a1-4b41-88ea-371fd2a4a61d",
   "metadata": {},
   "outputs": [
    {
     "data": {
      "text/html": [
       "<div>\n",
       "<style scoped>\n",
       "    .dataframe tbody tr th:only-of-type {\n",
       "        vertical-align: middle;\n",
       "    }\n",
       "\n",
       "    .dataframe tbody tr th {\n",
       "        vertical-align: top;\n",
       "    }\n",
       "\n",
       "    .dataframe thead th {\n",
       "        text-align: right;\n",
       "    }\n",
       "</style>\n",
       "<table border=\"1\" class=\"dataframe\">\n",
       "  <thead>\n",
       "    <tr style=\"text-align: right;\">\n",
       "      <th></th>\n",
       "      <th>ename</th>\n",
       "      <th>edept</th>\n",
       "      <th>eplace</th>\n",
       "      <th>ecost</th>\n",
       "    </tr>\n",
       "    <tr>\n",
       "      <th>eid</th>\n",
       "      <th></th>\n",
       "      <th></th>\n",
       "      <th></th>\n",
       "      <th></th>\n",
       "    </tr>\n",
       "  </thead>\n",
       "  <tbody>\n",
       "    <tr>\n",
       "      <th>101</th>\n",
       "      <td>ram</td>\n",
       "      <td>sales</td>\n",
       "      <td>pune</td>\n",
       "      <td>1000</td>\n",
       "    </tr>\n",
       "    <tr>\n",
       "      <th>102</th>\n",
       "      <td>leo</td>\n",
       "      <td>prod</td>\n",
       "      <td>bglore</td>\n",
       "      <td>2000</td>\n",
       "    </tr>\n",
       "    <tr>\n",
       "      <th>103</th>\n",
       "      <td>anu</td>\n",
       "      <td>HR</td>\n",
       "      <td>hyd</td>\n",
       "      <td>3000</td>\n",
       "    </tr>\n",
       "    <tr>\n",
       "      <th>104</th>\n",
       "      <td>paul</td>\n",
       "      <td>sales</td>\n",
       "      <td>bglore</td>\n",
       "      <td>3200</td>\n",
       "    </tr>\n",
       "    <tr>\n",
       "      <th>423</th>\n",
       "      <td>zio</td>\n",
       "      <td>sales</td>\n",
       "      <td>pune</td>\n",
       "      <td>3420</td>\n",
       "    </tr>\n",
       "    <tr>\n",
       "      <th>142</th>\n",
       "      <td>anu</td>\n",
       "      <td>prod</td>\n",
       "      <td>chennai</td>\n",
       "      <td>4300</td>\n",
       "    </tr>\n",
       "    <tr>\n",
       "      <th>949</th>\n",
       "      <td>karthik</td>\n",
       "      <td>sales</td>\n",
       "      <td>bglore</td>\n",
       "      <td>3100</td>\n",
       "    </tr>\n",
       "    <tr>\n",
       "      <th>848</th>\n",
       "      <td>tom</td>\n",
       "      <td>hr</td>\n",
       "      <td>chennai</td>\n",
       "      <td>3940</td>\n",
       "    </tr>\n",
       "    <tr>\n",
       "      <th>931</th>\n",
       "      <td>vijay</td>\n",
       "      <td>prod</td>\n",
       "      <td>chennai</td>\n",
       "      <td>3411</td>\n",
       "    </tr>\n",
       "  </tbody>\n",
       "</table>\n",
       "</div>"
      ],
      "text/plain": [
       "       ename  edept   eplace  ecost\n",
       "eid                                \n",
       "101      ram  sales     pune   1000\n",
       "102      leo   prod   bglore   2000\n",
       "103      anu     HR      hyd   3000\n",
       "104     paul  sales   bglore   3200\n",
       "423      zio  sales     pune   3420\n",
       "142      anu   prod  chennai   4300\n",
       "949  karthik  sales   bglore   3100\n",
       "848      tom     hr  chennai   3940\n",
       "931    vijay   prod  chennai   3411"
      ]
     },
     "execution_count": 813,
     "metadata": {},
     "output_type": "execute_result"
    }
   ],
   "source": [
    "pd.read_csv('emp.csv',index_col=0)"
   ]
  },
  {
   "cell_type": "code",
   "execution_count": 815,
   "id": "48533ebc-3159-4b26-819b-3d1b917e1325",
   "metadata": {},
   "outputs": [
    {
     "data": {
      "text/html": [
       "<div>\n",
       "<style scoped>\n",
       "    .dataframe tbody tr th:only-of-type {\n",
       "        vertical-align: middle;\n",
       "    }\n",
       "\n",
       "    .dataframe tbody tr th {\n",
       "        vertical-align: top;\n",
       "    }\n",
       "\n",
       "    .dataframe thead th {\n",
       "        text-align: right;\n",
       "    }\n",
       "</style>\n",
       "<table border=\"1\" class=\"dataframe\">\n",
       "  <thead>\n",
       "    <tr style=\"text-align: right;\">\n",
       "      <th></th>\n",
       "      <th>eid</th>\n",
       "      <th>edept</th>\n",
       "      <th>eplace</th>\n",
       "      <th>ecost</th>\n",
       "    </tr>\n",
       "    <tr>\n",
       "      <th>ename</th>\n",
       "      <th></th>\n",
       "      <th></th>\n",
       "      <th></th>\n",
       "      <th></th>\n",
       "    </tr>\n",
       "  </thead>\n",
       "  <tbody>\n",
       "    <tr>\n",
       "      <th>ram</th>\n",
       "      <td>101</td>\n",
       "      <td>sales</td>\n",
       "      <td>pune</td>\n",
       "      <td>1000</td>\n",
       "    </tr>\n",
       "    <tr>\n",
       "      <th>leo</th>\n",
       "      <td>102</td>\n",
       "      <td>prod</td>\n",
       "      <td>bglore</td>\n",
       "      <td>2000</td>\n",
       "    </tr>\n",
       "    <tr>\n",
       "      <th>anu</th>\n",
       "      <td>103</td>\n",
       "      <td>HR</td>\n",
       "      <td>hyd</td>\n",
       "      <td>3000</td>\n",
       "    </tr>\n",
       "    <tr>\n",
       "      <th>paul</th>\n",
       "      <td>104</td>\n",
       "      <td>sales</td>\n",
       "      <td>bglore</td>\n",
       "      <td>3200</td>\n",
       "    </tr>\n",
       "    <tr>\n",
       "      <th>zio</th>\n",
       "      <td>423</td>\n",
       "      <td>sales</td>\n",
       "      <td>pune</td>\n",
       "      <td>3420</td>\n",
       "    </tr>\n",
       "    <tr>\n",
       "      <th>anu</th>\n",
       "      <td>142</td>\n",
       "      <td>prod</td>\n",
       "      <td>chennai</td>\n",
       "      <td>4300</td>\n",
       "    </tr>\n",
       "    <tr>\n",
       "      <th>karthik</th>\n",
       "      <td>949</td>\n",
       "      <td>sales</td>\n",
       "      <td>bglore</td>\n",
       "      <td>3100</td>\n",
       "    </tr>\n",
       "    <tr>\n",
       "      <th>tom</th>\n",
       "      <td>848</td>\n",
       "      <td>hr</td>\n",
       "      <td>chennai</td>\n",
       "      <td>3940</td>\n",
       "    </tr>\n",
       "    <tr>\n",
       "      <th>vijay</th>\n",
       "      <td>931</td>\n",
       "      <td>prod</td>\n",
       "      <td>chennai</td>\n",
       "      <td>3411</td>\n",
       "    </tr>\n",
       "  </tbody>\n",
       "</table>\n",
       "</div>"
      ],
      "text/plain": [
       "         eid  edept   eplace  ecost\n",
       "ename                              \n",
       "ram      101  sales     pune   1000\n",
       "leo      102   prod   bglore   2000\n",
       "anu      103     HR      hyd   3000\n",
       "paul     104  sales   bglore   3200\n",
       "zio      423  sales     pune   3420\n",
       "anu      142   prod  chennai   4300\n",
       "karthik  949  sales   bglore   3100\n",
       "tom      848     hr  chennai   3940\n",
       "vijay    931   prod  chennai   3411"
      ]
     },
     "execution_count": 815,
     "metadata": {},
     "output_type": "execute_result"
    }
   ],
   "source": [
    "pd.read_csv('emp.csv',index_col=1)"
   ]
  },
  {
   "cell_type": "markdown",
   "id": "4db1336e-688a-4ad1-b000-b0bf997da1a6",
   "metadata": {},
   "source": [
    "person1 --->[street1] [H1] [H2] .........[H25] ->\n",
    "person2 --->[street2] [H1] [H2] .........[H25] ->\n",
    "...\n",
    "personN --->[streetN] [H1] [H2] .........[H25] -> .....//load ->dataset\n",
    "\n",
    "Name  Gender Age Bgroup income "
   ]
  },
  {
   "cell_type": "code",
   "execution_count": 817,
   "id": "c6dfa96c-d23c-454f-9d84-387e319eaeb6",
   "metadata": {},
   "outputs": [
    {
     "data": {
      "text/plain": [
       "ename      anu\n",
       "edept       HR\n",
       "eplace     hyd\n",
       "ecost     3000\n",
       "Name: 103, dtype: object"
      ]
     },
     "execution_count": 817,
     "metadata": {},
     "output_type": "execute_result"
    }
   ],
   "source": [
    "df1 = pd.read_csv('emp.csv',index_col=0)\n",
    "df1.loc[103]"
   ]
  },
  {
   "cell_type": "code",
   "execution_count": 819,
   "id": "92237a22-1f82-4eed-b8aa-a44bb4eb2bf7",
   "metadata": {},
   "outputs": [
    {
     "data": {
      "text/plain": [
       "Index(['sales', 'prod', 'HR', 'sales', 'sales', 'prod', 'sales', 'hr', 'prod'], dtype='object', name='edept')"
      ]
     },
     "execution_count": 819,
     "metadata": {},
     "output_type": "execute_result"
    }
   ],
   "source": [
    "df1 = pd.read_csv('emp.csv',index_col=2)\n",
    "df1.index"
   ]
  },
  {
   "cell_type": "code",
   "execution_count": 821,
   "id": "a6831257-7257-449e-9455-ec2850913ba7",
   "metadata": {},
   "outputs": [
    {
     "data": {
      "text/html": [
       "<div>\n",
       "<style scoped>\n",
       "    .dataframe tbody tr th:only-of-type {\n",
       "        vertical-align: middle;\n",
       "    }\n",
       "\n",
       "    .dataframe tbody tr th {\n",
       "        vertical-align: top;\n",
       "    }\n",
       "\n",
       "    .dataframe thead th {\n",
       "        text-align: right;\n",
       "    }\n",
       "</style>\n",
       "<table border=\"1\" class=\"dataframe\">\n",
       "  <thead>\n",
       "    <tr style=\"text-align: right;\">\n",
       "      <th></th>\n",
       "      <th>eid</th>\n",
       "      <th>ename</th>\n",
       "      <th>eplace</th>\n",
       "      <th>ecost</th>\n",
       "    </tr>\n",
       "    <tr>\n",
       "      <th>edept</th>\n",
       "      <th></th>\n",
       "      <th></th>\n",
       "      <th></th>\n",
       "      <th></th>\n",
       "    </tr>\n",
       "  </thead>\n",
       "  <tbody>\n",
       "    <tr>\n",
       "      <th>sales</th>\n",
       "      <td>101</td>\n",
       "      <td>ram</td>\n",
       "      <td>pune</td>\n",
       "      <td>1000</td>\n",
       "    </tr>\n",
       "    <tr>\n",
       "      <th>sales</th>\n",
       "      <td>104</td>\n",
       "      <td>paul</td>\n",
       "      <td>bglore</td>\n",
       "      <td>3200</td>\n",
       "    </tr>\n",
       "    <tr>\n",
       "      <th>sales</th>\n",
       "      <td>423</td>\n",
       "      <td>zio</td>\n",
       "      <td>pune</td>\n",
       "      <td>3420</td>\n",
       "    </tr>\n",
       "    <tr>\n",
       "      <th>sales</th>\n",
       "      <td>949</td>\n",
       "      <td>karthik</td>\n",
       "      <td>bglore</td>\n",
       "      <td>3100</td>\n",
       "    </tr>\n",
       "  </tbody>\n",
       "</table>\n",
       "</div>"
      ],
      "text/plain": [
       "       eid    ename  eplace  ecost\n",
       "edept                             \n",
       "sales  101      ram    pune   1000\n",
       "sales  104     paul  bglore   3200\n",
       "sales  423      zio    pune   3420\n",
       "sales  949  karthik  bglore   3100"
      ]
     },
     "execution_count": 821,
     "metadata": {},
     "output_type": "execute_result"
    }
   ],
   "source": [
    "df1.loc['sales']"
   ]
  },
  {
   "cell_type": "code",
   "execution_count": 823,
   "id": "947950d2-f15e-4fc5-ab5c-21524a5f55e0",
   "metadata": {},
   "outputs": [
    {
     "data": {
      "text/html": [
       "<div>\n",
       "<style scoped>\n",
       "    .dataframe tbody tr th:only-of-type {\n",
       "        vertical-align: middle;\n",
       "    }\n",
       "\n",
       "    .dataframe tbody tr th {\n",
       "        vertical-align: top;\n",
       "    }\n",
       "\n",
       "    .dataframe thead th {\n",
       "        text-align: right;\n",
       "    }\n",
       "</style>\n",
       "<table border=\"1\" class=\"dataframe\">\n",
       "  <thead>\n",
       "    <tr style=\"text-align: right;\">\n",
       "      <th></th>\n",
       "      <th>ename</th>\n",
       "      <th>eplace</th>\n",
       "    </tr>\n",
       "    <tr>\n",
       "      <th>edept</th>\n",
       "      <th></th>\n",
       "      <th></th>\n",
       "    </tr>\n",
       "  </thead>\n",
       "  <tbody>\n",
       "    <tr>\n",
       "      <th>sales</th>\n",
       "      <td>ram</td>\n",
       "      <td>pune</td>\n",
       "    </tr>\n",
       "    <tr>\n",
       "      <th>sales</th>\n",
       "      <td>paul</td>\n",
       "      <td>bglore</td>\n",
       "    </tr>\n",
       "    <tr>\n",
       "      <th>sales</th>\n",
       "      <td>zio</td>\n",
       "      <td>pune</td>\n",
       "    </tr>\n",
       "    <tr>\n",
       "      <th>sales</th>\n",
       "      <td>karthik</td>\n",
       "      <td>bglore</td>\n",
       "    </tr>\n",
       "  </tbody>\n",
       "</table>\n",
       "</div>"
      ],
      "text/plain": [
       "         ename  eplace\n",
       "edept                 \n",
       "sales      ram    pune\n",
       "sales     paul  bglore\n",
       "sales      zio    pune\n",
       "sales  karthik  bglore"
      ]
     },
     "execution_count": 823,
     "metadata": {},
     "output_type": "execute_result"
    }
   ],
   "source": [
    "df1.loc['sales'][['ename','eplace']]"
   ]
  },
  {
   "cell_type": "code",
   "execution_count": 831,
   "id": "a3280841-cb4a-4d73-9edd-e784247424bf",
   "metadata": {},
   "outputs": [
    {
     "data": {
      "text/html": [
       "<div>\n",
       "<style scoped>\n",
       "    .dataframe tbody tr th:only-of-type {\n",
       "        vertical-align: middle;\n",
       "    }\n",
       "\n",
       "    .dataframe tbody tr th {\n",
       "        vertical-align: top;\n",
       "    }\n",
       "\n",
       "    .dataframe thead th {\n",
       "        text-align: right;\n",
       "    }\n",
       "</style>\n",
       "<table border=\"1\" class=\"dataframe\">\n",
       "  <thead>\n",
       "    <tr style=\"text-align: right;\">\n",
       "      <th></th>\n",
       "      <th>ename</th>\n",
       "      <th>eplace</th>\n",
       "    </tr>\n",
       "    <tr>\n",
       "      <th>edept</th>\n",
       "      <th></th>\n",
       "      <th></th>\n",
       "    </tr>\n",
       "  </thead>\n",
       "  <tbody>\n",
       "    <tr>\n",
       "      <th>sales</th>\n",
       "      <td>ram</td>\n",
       "      <td>pune</td>\n",
       "    </tr>\n",
       "    <tr>\n",
       "      <th>prod</th>\n",
       "      <td>leo</td>\n",
       "      <td>bglore</td>\n",
       "    </tr>\n",
       "    <tr>\n",
       "      <th>HR</th>\n",
       "      <td>anu</td>\n",
       "      <td>hyd</td>\n",
       "    </tr>\n",
       "    <tr>\n",
       "      <th>sales</th>\n",
       "      <td>paul</td>\n",
       "      <td>bglore</td>\n",
       "    </tr>\n",
       "    <tr>\n",
       "      <th>sales</th>\n",
       "      <td>zio</td>\n",
       "      <td>pune</td>\n",
       "    </tr>\n",
       "    <tr>\n",
       "      <th>prod</th>\n",
       "      <td>anu</td>\n",
       "      <td>chennai</td>\n",
       "    </tr>\n",
       "    <tr>\n",
       "      <th>sales</th>\n",
       "      <td>karthik</td>\n",
       "      <td>bglore</td>\n",
       "    </tr>\n",
       "    <tr>\n",
       "      <th>hr</th>\n",
       "      <td>tom</td>\n",
       "      <td>chennai</td>\n",
       "    </tr>\n",
       "    <tr>\n",
       "      <th>prod</th>\n",
       "      <td>vijay</td>\n",
       "      <td>chennai</td>\n",
       "    </tr>\n",
       "  </tbody>\n",
       "</table>\n",
       "</div>"
      ],
      "text/plain": [
       "         ename   eplace\n",
       "edept                  \n",
       "sales      ram     pune\n",
       "prod       leo   bglore\n",
       "HR         anu      hyd\n",
       "sales     paul   bglore\n",
       "sales      zio     pune\n",
       "prod       anu  chennai\n",
       "sales  karthik   bglore\n",
       "hr         tom  chennai\n",
       "prod     vijay  chennai"
      ]
     },
     "execution_count": 831,
     "metadata": {},
     "output_type": "execute_result"
    }
   ],
   "source": [
    "df1[['ename','eplace']]"
   ]
  },
  {
   "cell_type": "code",
   "execution_count": 841,
   "id": "57333891-20bb-45b3-9569-5b82911a2521",
   "metadata": {},
   "outputs": [
    {
     "data": {
      "text/html": [
       "<div>\n",
       "<style scoped>\n",
       "    .dataframe tbody tr th:only-of-type {\n",
       "        vertical-align: middle;\n",
       "    }\n",
       "\n",
       "    .dataframe tbody tr th {\n",
       "        vertical-align: top;\n",
       "    }\n",
       "\n",
       "    .dataframe thead th {\n",
       "        text-align: right;\n",
       "    }\n",
       "</style>\n",
       "<table border=\"1\" class=\"dataframe\">\n",
       "  <thead>\n",
       "    <tr style=\"text-align: right;\">\n",
       "      <th></th>\n",
       "      <th>ename</th>\n",
       "      <th>eplace</th>\n",
       "    </tr>\n",
       "    <tr>\n",
       "      <th>edept</th>\n",
       "      <th></th>\n",
       "      <th></th>\n",
       "    </tr>\n",
       "  </thead>\n",
       "  <tbody>\n",
       "    <tr>\n",
       "      <th>sales</th>\n",
       "      <td>ram</td>\n",
       "      <td>pune</td>\n",
       "    </tr>\n",
       "    <tr>\n",
       "      <th>prod</th>\n",
       "      <td>leo</td>\n",
       "      <td>bglore</td>\n",
       "    </tr>\n",
       "    <tr>\n",
       "      <th>HR</th>\n",
       "      <td>anu</td>\n",
       "      <td>hyd</td>\n",
       "    </tr>\n",
       "    <tr>\n",
       "      <th>sales</th>\n",
       "      <td>paul</td>\n",
       "      <td>bglore</td>\n",
       "    </tr>\n",
       "    <tr>\n",
       "      <th>sales</th>\n",
       "      <td>zio</td>\n",
       "      <td>pune</td>\n",
       "    </tr>\n",
       "    <tr>\n",
       "      <th>prod</th>\n",
       "      <td>anu</td>\n",
       "      <td>chennai</td>\n",
       "    </tr>\n",
       "    <tr>\n",
       "      <th>sales</th>\n",
       "      <td>karthik</td>\n",
       "      <td>bglore</td>\n",
       "    </tr>\n",
       "    <tr>\n",
       "      <th>hr</th>\n",
       "      <td>tom</td>\n",
       "      <td>chennai</td>\n",
       "    </tr>\n",
       "    <tr>\n",
       "      <th>prod</th>\n",
       "      <td>vijay</td>\n",
       "      <td>chennai</td>\n",
       "    </tr>\n",
       "  </tbody>\n",
       "</table>\n",
       "</div>"
      ],
      "text/plain": [
       "         ename   eplace\n",
       "edept                  \n",
       "sales      ram     pune\n",
       "prod       leo   bglore\n",
       "HR         anu      hyd\n",
       "sales     paul   bglore\n",
       "sales      zio     pune\n",
       "prod       anu  chennai\n",
       "sales  karthik   bglore\n",
       "hr         tom  chennai\n",
       "prod     vijay  chennai"
      ]
     },
     "execution_count": 841,
     "metadata": {},
     "output_type": "execute_result"
    }
   ],
   "source": [
    "df1[['ename','eplace']]"
   ]
  },
  {
   "cell_type": "code",
   "execution_count": 845,
   "id": "5145b3cf-ee2c-40be-8a6e-6a155245b222",
   "metadata": {},
   "outputs": [
    {
     "data": {
      "text/html": [
       "<div>\n",
       "<style scoped>\n",
       "    .dataframe tbody tr th:only-of-type {\n",
       "        vertical-align: middle;\n",
       "    }\n",
       "\n",
       "    .dataframe tbody tr th {\n",
       "        vertical-align: top;\n",
       "    }\n",
       "\n",
       "    .dataframe thead th {\n",
       "        text-align: right;\n",
       "    }\n",
       "</style>\n",
       "<table border=\"1\" class=\"dataframe\">\n",
       "  <thead>\n",
       "    <tr style=\"text-align: right;\">\n",
       "      <th></th>\n",
       "      <th>eid</th>\n",
       "      <th>ename</th>\n",
       "      <th>edept</th>\n",
       "      <th>eplace</th>\n",
       "    </tr>\n",
       "    <tr>\n",
       "      <th>ecost</th>\n",
       "      <th></th>\n",
       "      <th></th>\n",
       "      <th></th>\n",
       "      <th></th>\n",
       "    </tr>\n",
       "  </thead>\n",
       "  <tbody>\n",
       "    <tr>\n",
       "      <th>1000</th>\n",
       "      <td>101</td>\n",
       "      <td>ram</td>\n",
       "      <td>sales</td>\n",
       "      <td>pune</td>\n",
       "    </tr>\n",
       "    <tr>\n",
       "      <th>2000</th>\n",
       "      <td>102</td>\n",
       "      <td>leo</td>\n",
       "      <td>prod</td>\n",
       "      <td>bglore</td>\n",
       "    </tr>\n",
       "    <tr>\n",
       "      <th>3000</th>\n",
       "      <td>103</td>\n",
       "      <td>anu</td>\n",
       "      <td>HR</td>\n",
       "      <td>hyd</td>\n",
       "    </tr>\n",
       "    <tr>\n",
       "      <th>3200</th>\n",
       "      <td>104</td>\n",
       "      <td>paul</td>\n",
       "      <td>sales</td>\n",
       "      <td>bglore</td>\n",
       "    </tr>\n",
       "    <tr>\n",
       "      <th>3420</th>\n",
       "      <td>423</td>\n",
       "      <td>zio</td>\n",
       "      <td>sales</td>\n",
       "      <td>pune</td>\n",
       "    </tr>\n",
       "    <tr>\n",
       "      <th>4300</th>\n",
       "      <td>142</td>\n",
       "      <td>anu</td>\n",
       "      <td>prod</td>\n",
       "      <td>chennai</td>\n",
       "    </tr>\n",
       "    <tr>\n",
       "      <th>3100</th>\n",
       "      <td>949</td>\n",
       "      <td>karthik</td>\n",
       "      <td>sales</td>\n",
       "      <td>bglore</td>\n",
       "    </tr>\n",
       "    <tr>\n",
       "      <th>3940</th>\n",
       "      <td>848</td>\n",
       "      <td>tom</td>\n",
       "      <td>hr</td>\n",
       "      <td>chennai</td>\n",
       "    </tr>\n",
       "    <tr>\n",
       "      <th>3411</th>\n",
       "      <td>931</td>\n",
       "      <td>vijay</td>\n",
       "      <td>prod</td>\n",
       "      <td>chennai</td>\n",
       "    </tr>\n",
       "  </tbody>\n",
       "</table>\n",
       "</div>"
      ],
      "text/plain": [
       "       eid    ename  edept   eplace\n",
       "ecost                              \n",
       "1000   101      ram  sales     pune\n",
       "2000   102      leo   prod   bglore\n",
       "3000   103      anu     HR      hyd\n",
       "3200   104     paul  sales   bglore\n",
       "3420   423      zio  sales     pune\n",
       "4300   142      anu   prod  chennai\n",
       "3100   949  karthik  sales   bglore\n",
       "3940   848      tom     hr  chennai\n",
       "3411   931    vijay   prod  chennai"
      ]
     },
     "execution_count": 845,
     "metadata": {},
     "output_type": "execute_result"
    }
   ],
   "source": [
    "df2=pd.read_csv('emp.csv',index_col='ecost')\n",
    "df2"
   ]
  },
  {
   "cell_type": "code",
   "execution_count": 847,
   "id": "6c955400-3389-4455-83a3-d1a085612e4e",
   "metadata": {},
   "outputs": [
    {
     "data": {
      "text/plain": [
       "eid           949\n",
       "ename     karthik\n",
       "edept       sales\n",
       "eplace     bglore\n",
       "Name: 3100, dtype: object"
      ]
     },
     "execution_count": 847,
     "metadata": {},
     "output_type": "execute_result"
    }
   ],
   "source": [
    "df2.loc[3100]"
   ]
  }
 ],
 "metadata": {
  "kernelspec": {
   "display_name": "Python 3 (ipykernel)",
   "language": "python",
   "name": "python3"
  },
  "language_info": {
   "codemirror_mode": {
    "name": "ipython",
    "version": 3
   },
   "file_extension": ".py",
   "mimetype": "text/x-python",
   "name": "python",
   "nbconvert_exporter": "python",
   "pygments_lexer": "ipython3",
   "version": "3.12.3"
  }
 },
 "nbformat": 4,
 "nbformat_minor": 5
}
