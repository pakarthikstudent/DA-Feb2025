{
 "cells": [
  {
   "cell_type": "code",
   "execution_count": null,
   "id": "02d7ef0a-1cb9-4d77-8db4-ecae2c5047b1",
   "metadata": {},
   "outputs": [],
   "source": [
    "# Python Programming \n",
    "# ------------------\n",
    "   |-> direct approach style - procedure style of code\n",
    "                                var = 10 <== \n",
    "                                def f1():\n",
    "                                    ...\n",
    "                                f1() <== \n",
    "\n",
    "  |-> OOPs style of code \n",
    "                            obj.var = 10\n",
    "                            obj.f1() <-- methodCall\n",
    "                            ---?\n",
    "\n",
    "  |-> Functional style of code - Single Line code\n",
    "                                -------------------\n",
    "                                  map,lambda,filter comprehension style\n",
    "\n"
   ]
  },
  {
   "cell_type": "code",
   "execution_count": 1,
   "id": "d1ad2514-df3a-4eb8-9069-2b128eaf7b33",
   "metadata": {},
   "outputs": [
    {
     "name": "stdout",
     "output_type": "stream",
     "text": [
      "3.12.3 | packaged by conda-forge | (main, Apr 15 2024, 18:20:11) [MSC v.1938 64 bit (AMD64)]\n"
     ]
    }
   ],
   "source": [
    "import sys\n",
    "print(sys.version)"
   ]
  },
  {
   "cell_type": "markdown",
   "id": "0c91d6a4-45f0-4966-8309-5bca1a82f93d",
   "metadata": {},
   "source": [
    "Python \n",
    " - class <--> object\n",
    " - Native types - class\n",
    "     - int float complex str bool bytes NoneType\n",
    "     - list tuple dict set\n",
    "     - Numbers = int float complex\n",
    "     - bool => True False\n",
    "     - NoneType => None\n",
    "     - Collection - more than one value\n",
    "           |->Sequential - Collection of ordered items - index based\n",
    "                            str bytes list tuple\n",
    "           |->mapping - Collection of unordered items - key:value\n",
    "                               dict\n",
    "                      - Collection of unordered items - key only\n",
    "                               set "
   ]
  },
  {
   "cell_type": "code",
   "execution_count": 3,
   "id": "eb780baf-3b1d-4093-997a-605fa1811223",
   "metadata": {},
   "outputs": [
    {
     "name": "stdout",
     "output_type": "stream",
     "text": [
      "<class 'str'> <class 'int'> <class 'float'> <class 'bool'>\n"
     ]
    }
   ],
   "source": [
    "#product \n",
    "#  |->productName\n",
    "#  |->Cost\n",
    "#  |->salesAvg\n",
    "#  |->status\n",
    "\n",
    "pname = 'prodA'\n",
    "pcost = 8923  # '8923Rs'\n",
    "sales = 98.52\n",
    "status = True\n",
    "\n",
    "print(type(pname),type(pcost),type(sales),type(status))"
   ]
  },
  {
   "cell_type": "code",
   "execution_count": 5,
   "id": "8df7cc0d-3633-4e3e-8fbb-fd4ab1039f15",
   "metadata": {},
   "outputs": [
    {
     "name": "stdout",
     "output_type": "stream",
     "text": [
      "['prodA', 8923, 98.52, True] <class 'list'>\n"
     ]
    }
   ],
   "source": [
    "# list of collection of items - index based - mutable \n",
    "# listName = [<list of items>]\n",
    "product_info = ['prodA',8923,98.52,True] \n",
    "print(product_info,type(product_info))"
   ]
  },
  {
   "cell_type": "code",
   "execution_count": 7,
   "id": "eea4e06b-df84-4130-adae-53fc36b2b39d",
   "metadata": {},
   "outputs": [
    {
     "name": "stdout",
     "output_type": "stream",
     "text": [
      "('prodA', 8923, 98.52, True) <class 'tuple'>\n"
     ]
    }
   ],
   "source": [
    "# tuple - collection of items - index based - immutable \n",
    "# TupleName = (<list of items>)\n",
    "product_info = ('prodA',8923,98.52,True)\n",
    "print(product_info,type(product_info))"
   ]
  },
  {
   "cell_type": "code",
   "execution_count": 9,
   "id": "d6c77195-6273-46a2-a78f-98804ba464df",
   "metadata": {},
   "outputs": [
    {
     "name": "stdout",
     "output_type": "stream",
     "text": [
      "{'K1': 'prodA', 'K2': 8923, 'K3': 98.52, 'K4': True} <class 'dict'>\n"
     ]
    }
   ],
   "source": [
    "# dict - Collection of items - key:value - mutable \n",
    "# dictname = {Key1:Value,Key2:Value,...Kn:Vn} \n",
    "product_info = {\"K1\":'prodA',\"K2\":8923,\"K3\":98.52,\"K4\":True}\n",
    "print(product_info,type(product_info))"
   ]
  },
  {
   "cell_type": "code",
   "execution_count": 11,
   "id": "72be9590-2bbc-4157-ac3c-3ff322ef8b78",
   "metadata": {},
   "outputs": [
    {
     "name": "stdout",
     "output_type": "stream",
     "text": [
      "<class 'str'> <class 'list'> <class 'tuple'> <class 'dict'>\n"
     ]
    }
   ],
   "source": [
    "print(type(''),type([]),type(()),type({}))"
   ]
  },
  {
   "cell_type": "code",
   "execution_count": 17,
   "id": "6b166e61-f94a-4eeb-ac4d-26e5657aaab1",
   "metadata": {},
   "outputs": [
    {
     "name": "stdout",
     "output_type": "stream",
     "text": [
      "5.0 (5+0j) 54\n"
     ]
    }
   ],
   "source": [
    "i=5\n",
    "print(float(i),complex(i),int(54.2))"
   ]
  },
  {
   "cell_type": "code",
   "execution_count": null,
   "id": "43323afc-4786-44ee-ac9c-c34fc6288d1d",
   "metadata": {},
   "outputs": [],
   "source": [
    "str - Collection of chars - '' \n",
    "\n",
    "bytes - Collection of ASCII - b''"
   ]
  },
  {
   "cell_type": "code",
   "execution_count": 23,
   "id": "2d9bb1d5-34f5-4dda-b182-4734d77307ef",
   "metadata": {},
   "outputs": [
    {
     "name": "stdout",
     "output_type": "stream",
     "text": [
      "<class 'str'>\n",
      "T\n"
     ]
    }
   ],
   "source": [
    "msg=\"This is test message\"\n",
    "print(type(msg))\n",
    "print(msg[0])"
   ]
  },
  {
   "cell_type": "code",
   "execution_count": 25,
   "id": "bdffaf8a-126d-4df7-bb2d-80bf823fd52a",
   "metadata": {},
   "outputs": [
    {
     "name": "stdout",
     "output_type": "stream",
     "text": [
      "<class 'bytes'>\n",
      "84\n"
     ]
    }
   ],
   "source": [
    "v=b\"This is test message\"\n",
    "print(type(v))\n",
    "print(v[0])"
   ]
  },
  {
   "cell_type": "code",
   "execution_count": 27,
   "id": "d7228ee7-113b-4d91-8fb9-f01d13e80ad5",
   "metadata": {},
   "outputs": [
    {
     "data": {
      "text/plain": [
       "'This is test message'"
      ]
     },
     "execution_count": 27,
     "metadata": {},
     "output_type": "execute_result"
    }
   ],
   "source": [
    "v.decode()"
   ]
  },
  {
   "cell_type": "code",
   "execution_count": 29,
   "id": "e0460c5c-7762-4fab-a2a3-09c69e7d0421",
   "metadata": {},
   "outputs": [
    {
     "data": {
      "text/plain": [
       "b'This is test message'"
      ]
     },
     "execution_count": 29,
     "metadata": {},
     "output_type": "execute_result"
    }
   ],
   "source": [
    "msg.encode()"
   ]
  },
  {
   "cell_type": "code",
   "execution_count": 31,
   "id": "df0cd507-6112-43c5-ab80-6032c38d4f70",
   "metadata": {},
   "outputs": [
    {
     "name": "stdout",
     "output_type": "stream",
     "text": [
      "prodA\n",
      "1000\n",
      "98.45\n",
      "True\n",
      "\n",
      "True\n",
      "98.45\n"
     ]
    }
   ],
   "source": [
    "product_info = ['prodA',1000,98.45,True]\n",
    "print(product_info[0])\n",
    "print(product_info[1])\n",
    "print(product_info[2])\n",
    "print(product_info[3])\n",
    "print(\"\")\n",
    "print(product_info[-1])\n",
    "print(product_info[-2])"
   ]
  },
  {
   "cell_type": "code",
   "execution_count": null,
   "id": "475f13e3-5cba-4a9d-802a-ec9bb1df7f9a",
   "metadata": {},
   "outputs": [],
   "source": [
    "List of List\n",
    "List of Tuple\n",
    "List of Dict\n",
    "|       ------//unnamed \n",
    "named\n",
    "\n",
    "L = [ [],(),{} ] <== MD "
   ]
  },
  {
   "cell_type": "code",
   "execution_count": 37,
   "id": "bca21e28-ee73-47ee-af94-9b0476da4129",
   "metadata": {},
   "outputs": [
    {
     "name": "stdout",
     "output_type": "stream",
     "text": [
      "['prodA', 1000, 98.34, True]\n",
      "['prodB', 2000, 93.34, True]\n",
      "['prodC', 3000, 89.23, False]\n",
      "\n",
      "['prodC', 3000, 89.23, False]\n",
      "['prodB', 2000, 93.34, True]\n",
      "\n",
      "prodA\n",
      "1000\n"
     ]
    }
   ],
   "source": [
    "product_info = [['prodA',1000,98.34,True],['prodB',2000,93.34,True],\n",
    "                ['prodC',3000,89.23,False]]\n",
    "# list of list\n",
    "print(product_info[0])\n",
    "print(product_info[1])\n",
    "print(product_info[2])\n",
    "print(\"\")\n",
    "print(product_info[-1])\n",
    "print(product_info[-2])\n",
    "print(\"\")\n",
    "print(product_info[0][0])\n",
    "print(product_info[0][1])"
   ]
  },
  {
   "cell_type": "code",
   "execution_count": 41,
   "id": "5b69ffb5-5000-427c-9a93-1e08e3b6ffac",
   "metadata": {},
   "outputs": [
    {
     "name": "stdout",
     "output_type": "stream",
     "text": [
      "('prodA', 1000, 98.34, True)\n",
      "('prodB', 2000, 89.34, False)\n",
      "prodA\n",
      "1000\n"
     ]
    }
   ],
   "source": [
    "product_info = [('prodA',1000,98.34,True),('prodB',2000,89.34,False)]\n",
    "# list of tuple\n",
    "print(product_info[0])\n",
    "print(product_info[-1])\n",
    "print(product_info[0][0])\n",
    "print(product_info[0][1])"
   ]
  },
  {
   "cell_type": "code",
   "execution_count": 47,
   "id": "7dda246c-2e4f-451a-bc80-1ba63dde565d",
   "metadata": {},
   "outputs": [
    {
     "name": "stdout",
     "output_type": "stream",
     "text": [
      "{'pname': 'prodA', 'pcost': 1000, 'psales': 98.34, 'pstatus': True}\n",
      "prodA\n",
      "prodB\n",
      "prodC\n"
     ]
    }
   ],
   "source": [
    "product_info =[{'pname':'prodA','pcost':1000,'psales':98.34,'pstatus':True},\n",
    "              {'pname':'prodB','pcost':2000,'psales':52.44,'pstatus':False},\n",
    "              {'pname':'prodC','pcost':3000,'psales':58.64,'pstatus':True}]\n",
    "\n",
    "# list of dict\n",
    "print(product_info[0])\n",
    "print(product_info[0]['pname']) \n",
    "print(product_info[1]['pname']) \n",
    "print(product_info[2]['pname']) "
   ]
  },
  {
   "cell_type": "code",
   "execution_count": 49,
   "id": "034fca20-f4a8-4a18-aaad-59e566fb880c",
   "metadata": {},
   "outputs": [
    {
     "data": {
      "text/plain": [
       "(['D1', 'D2'], ('D3', 'D4'), {'K1': 'V1', 'K2': 'V2'})"
      ]
     },
     "execution_count": 49,
     "metadata": {},
     "output_type": "execute_result"
    }
   ],
   "source": [
    "T=(['D1','D2'],('D3','D4'),{'K1':\"V1\",\"K2\":\"V2\"})\n",
    "T"
   ]
  },
  {
   "cell_type": "code",
   "execution_count": null,
   "id": "d6c926d4-aa85-45da-b70a-f56e23e46d17",
   "metadata": {},
   "outputs": [],
   "source": [
    "dict of list d={\"K1\":[],\"K2\":[]}\n",
    "dict of dict d={\"K1\":{},\"K2\":{}} \n",
    "\n",
    "dict of tuple d={\"K1\":()}"
   ]
  },
  {
   "cell_type": "code",
   "execution_count": 55,
   "id": "4254d511-f4aa-456e-bda9-e5770ba8eb27",
   "metadata": {},
   "outputs": [
    {
     "name": "stdout",
     "output_type": "stream",
     "text": [
      "['prodA', 1000, 98.34, True]\n",
      "prodA\n",
      "True\n"
     ]
    }
   ],
   "source": [
    "product_info={\"p101\":[\"prodA\",1000,98.34,True],\n",
    "              \"p102\":['prodB',2000,98.33,False],\n",
    "              \"p103\":('prodC',3000,92.32,True)}\n",
    "\n",
    "print(product_info['p101'])\n",
    "print(product_info['p101'][0])\n",
    "print(product_info['p101'][-1])"
   ]
  },
  {
   "cell_type": "code",
   "execution_count": 61,
   "id": "76a3f69d-7b41-4be0-a30b-30a9861c9559",
   "metadata": {},
   "outputs": [
    {
     "name": "stdout",
     "output_type": "stream",
     "text": [
      "{'p101': {'pname': 'prodA', 'pid': 101, 'psales': 98.34, 'pstatus': True}, 'p102': {'pname': 'prodB', 'pid': 102, 'psales': 94.34, 'pstatus': False}}\n",
      "\n",
      "{'pname': 'prodA', 'pid': 101, 'psales': 98.34, 'pstatus': True}\n",
      "\n",
      "prodA\n"
     ]
    }
   ],
   "source": [
    "product_info={'p101':{'pname':'prodA','pid':101,'psales':98.34,'pstatus':True},\n",
    "              'p102':{'pname':'prodB','pid':102,'psales':94.34,'pstatus':False}}\n",
    "# dict of dict\n",
    "print(product_info)\n",
    "print('')\n",
    "print(product_info['p101'])\n",
    "print('')\n",
    "print(product_info['p101']['pname'])"
   ]
  },
  {
   "cell_type": "code",
   "execution_count": null,
   "id": "e107aab9-4469-48ed-a365-c2b8b6c95d39",
   "metadata": {},
   "outputs": [],
   "source": [
    "dict  \n",
    "--------\n",
    "            Key   | Value\n",
    "          --------|----------\n",
    "            K1    |  V1\n",
    "          --------|----------\n",
    "            K2    |  V2\n",
    "          ------------------\n",
    "\n",
    "list/tuple/str/bytes =>   |  D1 | D2  | D3 | K | V | K1 | V1 |\n",
    "                             0     1     2    3   4   5    6   --->index\n",
    "                            -7    -6    -5    -4  -3  -2   -1  <--- index"
   ]
  },
  {
   "cell_type": "code",
   "execution_count": 63,
   "id": "443af980-2f84-44c4-af0a-e80c81b2f438",
   "metadata": {},
   "outputs": [
    {
     "name": "stdout",
     "output_type": "stream",
     "text": [
      "{'K1': 'V1', 'K2': ['D1', 'D2', {'URL': 'python.org', 'code': 200, 'status': True}, [[10, 20, 30], (1.3, 3.4)], 'D4'], 'K3': {'K1': {'K1': {'K1': [{'web1': 'w2C'}]}}}}\n"
     ]
    }
   ],
   "source": [
    "d={\"K1\":\"V1\",\n",
    "   \"K2\":[\"D1\",\"D2\",{\"URL\":\"python.org\",\"code\":200,\"status\":True},[[10,20,30],(1.3,3.4)],\"D4\"],\n",
    "   \"K3\":{\"K1\":{\"K1\":{\"K1\":[{\"web1\":\"w2C\"}]}}}}\n",
    "print(d)"
   ]
  },
  {
   "cell_type": "code",
   "execution_count": 65,
   "id": "dde1d9ea-4e52-4157-b528-1ce8c1a2e78c",
   "metadata": {},
   "outputs": [
    {
     "name": "stdout",
     "output_type": "stream",
     "text": [
      "{'K1': 'V1',\n",
      " 'K2': ['D1',\n",
      "        'D2',\n",
      "        {'URL': 'python.org', 'code': 200, 'status': True},\n",
      "        [[10, 20, 30], (1.3, 3.4)],\n",
      "        'D4'],\n",
      " 'K3': {'K1': {'K1': {'K1': [{'web1': 'w2C'}]}}}}\n"
     ]
    }
   ],
   "source": [
    "import pprint\n",
    "pprint.pprint(d)"
   ]
  },
  {
   "cell_type": "code",
   "execution_count": 67,
   "id": "8e9557c9-9677-4f8a-8ec2-46e1a7f7620e",
   "metadata": {},
   "outputs": [
    {
     "name": "stdout",
     "output_type": "stream",
     "text": [
      "['D1',\n",
      " 'D2',\n",
      " {'URL': 'python.org', 'code': 200, 'status': True},\n",
      " [[10, 20, 30], (1.3, 3.4)],\n",
      " 'D4']\n"
     ]
    }
   ],
   "source": [
    "pprint.pprint(d['K2'])"
   ]
  },
  {
   "cell_type": "code",
   "execution_count": 69,
   "id": "cb227760-0687-471a-ba20-3bab21f5a2b0",
   "metadata": {},
   "outputs": [
    {
     "data": {
      "text/plain": [
       "{'pname': [], 'pCost': []}"
      ]
     },
     "execution_count": 69,
     "metadata": {},
     "output_type": "execute_result"
    }
   ],
   "source": [
    "product_info={}\n",
    "product_info['pname']=[]\n",
    "product_info['pCost']=[]\n",
    "product_info"
   ]
  },
  {
   "cell_type": "code",
   "execution_count": 71,
   "id": "093680b0-987d-4af8-891a-aea004bef528",
   "metadata": {},
   "outputs": [
    {
     "name": "stdout",
     "output_type": "stream",
     "text": [
      "{'pCost': [1000, 2000, 3000], 'pname': ['prodA', 'prodB', 'prodC']}\n"
     ]
    }
   ],
   "source": [
    "product_info['pname'].append('prodA')\n",
    "product_info['pname'].append('prodB')\n",
    "product_info['pname'].append('prodC')\n",
    "\n",
    "product_info['pCost'].append(1000)\n",
    "product_info['pCost'].append(2000)\n",
    "product_info['pCost'].append(3000)\n",
    "\n",
    "pprint.pprint(product_info)"
   ]
  },
  {
   "cell_type": "code",
   "execution_count": null,
   "id": "3b93fb35-92e4-4ae4-b808-35d404d7439d",
   "metadata": {},
   "outputs": [],
   "source": [
    "int()\n",
    "float()\n",
    "str()\n",
    "bool() ->True False\n",
    "list()\n",
    "tuple()"
   ]
  },
  {
   "cell_type": "code",
   "execution_count": 75,
   "id": "4573faf0-4a69-47c2-beb1-50bf9a435228",
   "metadata": {},
   "outputs": [
    {
     "name": "stdout",
     "output_type": "stream",
     "text": [
      "False False False False False False False False\n"
     ]
    }
   ],
   "source": [
    "print(bool(0),bool(0.0),bool(''),bool(b''),bool([]),bool(()),bool({}),bool(None))"
   ]
  },
  {
   "cell_type": "code",
   "execution_count": null,
   "id": "88c4d411-a243-4cc3-995b-79347df904dd",
   "metadata": {},
   "outputs": [],
   "source": [
    "Python operators \n",
    "- arithmetic operators  (int float ->int float) + - * / // % ** \n",
    "- string  (str,int -> str) + *\n",
    "- relational operators( int float str  -> bool) == != < <= > >= \n",
    "- logical operators( int float str  -> bool) and or not\n",
    "- membership operators (str,bytes,list,tuple,dict ->bool) in   not in\n",
    "- identity operators  object ->bool is is not"
   ]
  },
  {
   "cell_type": "code",
   "execution_count": 81,
   "id": "b3e92b21-2022-4bb8-9b33-cc9cc7a36591",
   "metadata": {},
   "outputs": [
    {
     "name": "stdout",
     "output_type": "stream",
     "text": [
      "30\n",
      "pythonprogramming3.1\n",
      "\n",
      "30\n",
      "HelloHelloHello\n"
     ]
    }
   ],
   "source": [
    "print(10+20)\n",
    "print('python'+'programming'+str(3.10))\n",
    "print(\"\")\n",
    "print(10*3)\n",
    "print(\"Hello\"*3)"
   ]
  },
  {
   "cell_type": "code",
   "execution_count": 83,
   "id": "35333902-2702-4843-93e7-03d17a2bcb48",
   "metadata": {},
   "outputs": [
    {
     "data": {
      "text/plain": [
       "True"
      ]
     },
     "execution_count": 83,
     "metadata": {},
     "output_type": "execute_result"
    }
   ],
   "source": [
    "150 >100.31"
   ]
  },
  {
   "cell_type": "code",
   "execution_count": 85,
   "id": "e6f8fa1f-0400-4b91-8d2f-6a186ce1b456",
   "metadata": {},
   "outputs": [
    {
     "data": {
      "text/plain": [
       "False"
      ]
     },
     "execution_count": 85,
     "metadata": {},
     "output_type": "execute_result"
    }
   ],
   "source": [
    "'Data' == 'data'"
   ]
  },
  {
   "cell_type": "code",
   "execution_count": 89,
   "id": "863c4e4a-02eb-4e55-ad3c-6fa80b29af6b",
   "metadata": {},
   "outputs": [
    {
     "data": {
      "text/plain": [
       "True"
      ]
     },
     "execution_count": 89,
     "metadata": {},
     "output_type": "execute_result"
    }
   ],
   "source": [
    "'Data' != 'data'"
   ]
  },
  {
   "cell_type": "code",
   "execution_count": 91,
   "id": "d56f5db8-03c3-4ca6-b0f1-f45e0c227f7d",
   "metadata": {},
   "outputs": [
    {
     "data": {
      "text/plain": [
       "True"
      ]
     },
     "execution_count": 91,
     "metadata": {},
     "output_type": "execute_result"
    }
   ],
   "source": [
    "server=\"OL8\"\n",
    "shell=\"bash\"\n",
    "\n",
    "server == \"OL7\" or server == \"OL8\""
   ]
  },
  {
   "cell_type": "code",
   "execution_count": 93,
   "id": "590b2d11-58cf-4d61-95e4-78fe988c5545",
   "metadata": {},
   "outputs": [
    {
     "data": {
      "text/plain": [
       "False"
      ]
     },
     "execution_count": 93,
     "metadata": {},
     "output_type": "execute_result"
    }
   ],
   "source": [
    "shell == \"bash\" and shell == \"ksh\""
   ]
  },
  {
   "cell_type": "code",
   "execution_count": 95,
   "id": "bbbc96ce-8286-4e33-a317-112846e95eab",
   "metadata": {},
   "outputs": [
    {
     "data": {
      "text/plain": [
       "False"
      ]
     },
     "execution_count": 95,
     "metadata": {},
     "output_type": "execute_result"
    }
   ],
   "source": [
    "not True"
   ]
  },
  {
   "cell_type": "code",
   "execution_count": 101,
   "id": "074a9c9b-5919-4b9d-937c-8941fc27b9cd",
   "metadata": {},
   "outputs": [
    {
     "name": "stdout",
     "output_type": "stream",
     "text": [
      "True\n",
      "True\n",
      "True\n",
      "False\n"
     ]
    }
   ],
   "source": [
    "s='root:x:bin:bash'\n",
    "\n",
    "# 'pattern' in inputString ->bool\n",
    "\n",
    "print('x' in s)\n",
    "print('bin' in s)\n",
    "print('sh' in s)\n",
    "print('ksh' in s)"
   ]
  },
  {
   "cell_type": "code",
   "execution_count": 103,
   "id": "d4f6b7c4-e059-4fe0-8af0-7959101a80cc",
   "metadata": {},
   "outputs": [
    {
     "name": "stdout",
     "output_type": "stream",
     "text": [
      "True\n",
      "False\n"
     ]
    }
   ],
   "source": [
    "L=['p1.java','p1.csv','test.csv','repo.pdf','index.html']\n",
    "\n",
    "print('test.csv' in L)\n",
    "print('emp.csv' in L)"
   ]
  },
  {
   "cell_type": "code",
   "execution_count": 107,
   "id": "f1b5feb2-bbfb-496e-9acd-a7b9f50f6039",
   "metadata": {},
   "outputs": [
    {
     "name": "stdout",
     "output_type": "stream",
     "text": [
      "True\n",
      "False\n"
     ]
    }
   ],
   "source": [
    "d={\"K1\":\"V1\",\"K2\":\"V2\"}\n",
    "print(\"K1\" in d)\n",
    "print(\"Kx\" in d)"
   ]
  },
  {
   "cell_type": "code",
   "execution_count": 113,
   "id": "88b6cb3e-7dec-4e9c-a342-882e538b78d1",
   "metadata": {},
   "outputs": [
    {
     "name": "stdout",
     "output_type": "stream",
     "text": [
      "True\n",
      "False\n",
      "True\n"
     ]
    }
   ],
   "source": [
    "s=''\n",
    "print(type(s) is str)\n",
    "print(type(s) is int)\n",
    "print(type(s) is not int)"
   ]
  },
  {
   "cell_type": "code",
   "execution_count": 115,
   "id": "96134c5f-05f5-4a4a-889c-581eb41ec7f2",
   "metadata": {},
   "outputs": [
    {
     "data": {
      "text/plain": [
       "False"
      ]
     },
     "execution_count": 115,
     "metadata": {},
     "output_type": "execute_result"
    }
   ],
   "source": [
    "'abc'.isupper()"
   ]
  },
  {
   "cell_type": "code",
   "execution_count": 117,
   "id": "a7650ad2-31ad-42ae-ac4a-273b35106127",
   "metadata": {},
   "outputs": [
    {
     "data": {
      "text/plain": [
       "True"
      ]
     },
     "execution_count": 117,
     "metadata": {},
     "output_type": "execute_result"
    }
   ],
   "source": [
    "'abc'.islower()"
   ]
  },
  {
   "cell_type": "markdown",
   "id": "9599a81a-aecf-431b-8bbe-1824a3acc091",
   "metadata": {},
   "source": [
    "In python any expression ->bool <or> any method ->bool //use conditional statement\n",
    "\n",
    "Conditional statement \n",
    "- Code Block \n",
    "- Block ->execute only one time\n",
    "if statement \n",
    "\n",
    "i) if only\n",
    "ii) if else\n",
    "iii) if elif elif elif ..elif else\n"
   ]
  },
  {
   "cell_type": "code",
   "execution_count": 119,
   "id": "2a589666-a141-4d65-a8cb-0302e72bb0c3",
   "metadata": {},
   "outputs": [
    {
     "name": "stdout",
     "output_type": "stream",
     "text": [
      "Sorry give string is not an uppercase\n"
     ]
    }
   ],
   "source": [
    "if('ab'.isupper()):\n",
    "    print('Yes given string is uppercase')\n",
    "else:\n",
    "    print('Sorry give string is not an uppercase')"
   ]
  },
  {
   "cell_type": "code",
   "execution_count": null,
   "id": "5c07afe0-c6b1-454b-baa3-acbe0a3b0292",
   "metadata": {},
   "outputs": [],
   "source": [
    "bool(n)\n",
    "     |__any value ->True\n",
    "bool(n)\n",
    "     |__empty value(0, 0.0, '',[],(),{},None)  ->False"
   ]
  },
  {
   "cell_type": "code",
   "execution_count": 121,
   "id": "9b6d1b36-41b7-4c2e-a495-bdcb5cee43e2",
   "metadata": {},
   "outputs": [
    {
     "name": "stdin",
     "output_type": "stream",
     "text": [
      "Enter n value: \n"
     ]
    },
    {
     "name": "stdout",
     "output_type": "stream",
     "text": [
      "Sorry your input is empty\n"
     ]
    }
   ],
   "source": [
    "n=input('Enter n value:')\n",
    "if(n):\n",
    "    print(f'Yes - Given n value is:{n}')\n",
    "else:\n",
    "    print('Sorry your input is empty')"
   ]
  },
  {
   "cell_type": "code",
   "execution_count": 123,
   "id": "f76c597b-cd3d-40ce-91a1-8cc6ef27fbbe",
   "metadata": {},
   "outputs": [
    {
     "name": "stdin",
     "output_type": "stream",
     "text": [
      "Enter n value: data1\n"
     ]
    },
    {
     "name": "stdout",
     "output_type": "stream",
     "text": [
      "Yes - Given n value is:data1\n"
     ]
    }
   ],
   "source": [
    "n=input('Enter n value:')\n",
    "if(n):\n",
    "    print(f'Yes - Given n value is:{n}')\n",
    "else:\n",
    "    print('Sorry your input is empty')"
   ]
  },
  {
   "cell_type": "code",
   "execution_count": 131,
   "id": "5752c97b-73df-4202-9a57-534d1975bdb3",
   "metadata": {},
   "outputs": [
    {
     "name": "stdout",
     "output_type": "stream",
     "text": [
      "product name is:pname\n",
      "product name is: prodA\n",
      "product id: 101\n",
      "product cost: 1000\n",
      "product name is:prodA product Id:101 Cost:1000.000000\n"
     ]
    }
   ],
   "source": [
    "pname='prodA'\n",
    "pid=101\n",
    "pcost = 1000\n",
    "print('product name is:pname')\n",
    "print('product name is:',pname)\n",
    "print('product id:',pid)\n",
    "print('product cost:',pcost)\n",
    "\n",
    "print('product name is:%s product Id:%d Cost:%f'%(pname,pid,pcost)) # C programm style "
   ]
  },
  {
   "cell_type": "code",
   "execution_count": 135,
   "id": "c0cf4e26-88d6-4f27-b5ce-8de7a6186d8f",
   "metadata": {},
   "outputs": [
    {
     "name": "stdout",
     "output_type": "stream",
     "text": [
      "n value is:56\n"
     ]
    },
    {
     "ename": "TypeError",
     "evalue": "%d format: a real number is required, not str",
     "output_type": "error",
     "traceback": [
      "\u001b[1;31m---------------------------------------------------------------------------\u001b[0m",
      "\u001b[1;31mTypeError\u001b[0m                                 Traceback (most recent call last)",
      "Cell \u001b[1;32mIn[135], line 4\u001b[0m\n\u001b[0;32m      2\u001b[0m \u001b[38;5;28mprint\u001b[39m(\u001b[38;5;124m\"\u001b[39m\u001b[38;5;124mn value is:\u001b[39m\u001b[38;5;132;01m%d\u001b[39;00m\u001b[38;5;124m\"\u001b[39m\u001b[38;5;241m%\u001b[39m(n))\n\u001b[0;32m      3\u001b[0m n\u001b[38;5;241m=\u001b[39m\u001b[38;5;124m\"\u001b[39m\u001b[38;5;124m56\u001b[39m\u001b[38;5;124m\"\u001b[39m\n\u001b[1;32m----> 4\u001b[0m \u001b[38;5;28mprint\u001b[39m(\u001b[38;5;124m\"\u001b[39m\u001b[38;5;124mn value is:\u001b[39m\u001b[38;5;132;01m%d\u001b[39;00m\u001b[38;5;124m\"\u001b[39m\u001b[38;5;241m%\u001b[39m(n))\n",
      "\u001b[1;31mTypeError\u001b[0m: %d format: a real number is required, not str"
     ]
    }
   ],
   "source": [
    "n=56\n",
    "print(\"n value is:%d\"%(n))\n",
    "n=\"56\"\n",
    "print(\"n value is:%d\"%(n))"
   ]
  },
  {
   "cell_type": "code",
   "execution_count": 139,
   "id": "a11aaba0-0082-4390-8a2a-b28e485364f6",
   "metadata": {},
   "outputs": [
    {
     "name": "stdout",
     "output_type": "stream",
     "text": [
      "product Name:prodA ID:101 Cost:1000\n"
     ]
    }
   ],
   "source": [
    "# \"{}\".format(variable)\n",
    "print('product Name:{} ID:{} Cost:{}'.format(pname,pid,pcost))"
   ]
  },
  {
   "cell_type": "code",
   "execution_count": 141,
   "id": "5f5fe2b7-8055-4782-a40b-9ad56a762f0a",
   "metadata": {},
   "outputs": [
    {
     "name": "stdout",
     "output_type": "stream",
     "text": [
      "product name is:prodA product Id:101 Cost:1000.000000\n",
      "product Name:prodA ID:101 Cost:1000\n",
      "product name:prodA productID:101 Cost:1000\n"
     ]
    }
   ],
   "source": [
    "print('product name is:%s product Id:%d Cost:%f'%(pname,pid,pcost)) # C programm style \n",
    "print('product Name:{} ID:{} Cost:{}'.format(pname,pid,pcost))\n",
    "\n",
    "print(f'product name:{pname} productID:{pid} Cost:{pcost}')"
   ]
  },
  {
   "cell_type": "code",
   "execution_count": null,
   "id": "b7ee9d4a-dc0e-46a7-949c-c959ffbc02b9",
   "metadata": {},
   "outputs": [],
   "source": [
    "Write a python program\n",
    "- read a port number from <STDIN>\n",
    "- typecast to int\n",
    "- test - input port number 501 - 599  ->initialize app name is: demoApp\n",
    "       |\n",
    "      not -> initialize app name is: testApp\n",
    "|\n",
    "- display app name and running port number"
   ]
  },
  {
   "cell_type": "code",
   "execution_count": 143,
   "id": "08bd02dc-d593-4f14-beb0-237b4b238d61",
   "metadata": {},
   "outputs": [
    {
     "name": "stdin",
     "output_type": "stream",
     "text": [
      "Enter a port number: 560\n"
     ]
    },
    {
     "name": "stdout",
     "output_type": "stream",
     "text": [
      "App name is:demoApp running port number is:560\n"
     ]
    }
   ],
   "source": [
    "port = input('Enter a port number:')\n",
    "port = int(port)\n",
    "if(port >500 and port <600):\n",
    "    app='demoApp'\n",
    "else:\n",
    "    app='testApp'\n",
    "\n",
    "print(f'App name is:{app} running port number is:{port}')"
   ]
  },
  {
   "cell_type": "code",
   "execution_count": 145,
   "id": "e80801ae-057a-46dc-9668-b4d58770a6bf",
   "metadata": {},
   "outputs": [
    {
     "name": "stdin",
     "output_type": "stream",
     "text": [
      "Enter a port number: 670\n"
     ]
    },
    {
     "name": "stdout",
     "output_type": "stream",
     "text": [
      "App name is:testApp running port number is:670\n"
     ]
    }
   ],
   "source": [
    "port = input('Enter a port number:')\n",
    "port = int(port)\n",
    "if(port >500 and port <600):\n",
    "    app='demoApp'\n",
    "else:\n",
    "    app='testApp'\n",
    "\n",
    "print(f'App name is:{app} running port number is:{port}')"
   ]
  },
  {
   "cell_type": "code",
   "execution_count": 147,
   "id": "438210af-0275-43c5-9a63-9b72c1fc27b5",
   "metadata": {},
   "outputs": [
    {
     "name": "stdin",
     "output_type": "stream",
     "text": [
      "Enter a port number: 567\n"
     ]
    },
    {
     "name": "stdout",
     "output_type": "stream",
     "text": [
      "App name is:demoApp running port number is:567\n"
     ]
    }
   ],
   "source": [
    "port = input('Enter a port number:')\n",
    "\n",
    "if(int(port) >500 and int(port) <600):\n",
    "    app='demoApp'\n",
    "else:\n",
    "    app='testApp'\n",
    "\n",
    "print(f'App name is:{app} running port number is:{port}')"
   ]
  },
  {
   "cell_type": "markdown",
   "id": "dde6f147-94e9-406b-b69d-b07154c87c9e",
   "metadata": {},
   "source": [
    "python looping statements \n",
    "|->Conditional style loop\n",
    "       - test the condition ->True ->block will execute\n",
    "                      |______ False ->block won't execute \n",
    "    while \n",
    "|->Collection style loop\n",
    "     for \n",
    "     for variable in <collection>:\n",
    "           ....\n",
    "        \n",
    "break - exit from loop\n",
    "continue - ignore current iteration continue the next "
   ]
  },
  {
   "cell_type": "code",
   "execution_count": 149,
   "id": "c75c1797-4326-4649-a5a0-de196873b877",
   "metadata": {},
   "outputs": [
    {
     "name": "stdout",
     "output_type": "stream",
     "text": [
      "Test server:0\n",
      "Test server:1\n",
      "Test server:2\n",
      "Test server:3\n",
      "Test server:4\n"
     ]
    }
   ],
   "source": [
    "i=0\n",
    "while ( i <5):\n",
    "    print(f\"Test server:{i}\")\n",
    "    i=i+1"
   ]
  },
  {
   "cell_type": "code",
   "execution_count": 151,
   "id": "5728bdfb-7c4a-45d9-a7e0-ce85ffb8dd3f",
   "metadata": {},
   "outputs": [
    {
     "name": "stdout",
     "output_type": "stream",
     "text": [
      "Test server:1\n",
      "Test server:2\n",
      "Test server:3\n",
      "Test server:4\n",
      "Test server:5\n"
     ]
    }
   ],
   "source": [
    "for var in '12345': # Collection <or> iterable \n",
    "    print(f\"Test server:{var}\")"
   ]
  },
  {
   "cell_type": "code",
   "execution_count": null,
   "id": "b0ce2d14-53fb-40a9-9380-9e6c5d0c14a6",
   "metadata": {},
   "outputs": [],
   "source": [
    "Write a python program:\n",
    " create an empty list - products  (ex: products = [])\n",
    " |\n",
    " use while loop - limit is 5\n",
    "     - read a product name <STDIN>\n",
    "     - test input product is exists  or not\n",
    "                               |          |->Append (add input product to an existing list)\n",
    "                               |\n",
    "                             Say: product already exists\n",
    " |\n",
    " use for loop - display list of product name line by line\n",
    " |\n",
    " use len() - display total no.of products\n",
    "--------------------------------------------------------------------------------------\n",
    "\n",
    "\n"
   ]
  },
  {
   "cell_type": "code",
   "execution_count": 153,
   "id": "2ea9c24c-ff4a-4218-8a73-41f69edf1262",
   "metadata": {},
   "outputs": [
    {
     "name": "stdin",
     "output_type": "stream",
     "text": [
      "Enter a product Name: prodA\n",
      "Enter a product Name: prodB\n",
      "Enter a product Name: prodA\n"
     ]
    },
    {
     "name": "stdout",
     "output_type": "stream",
     "text": [
      "product prodA is already exists\n"
     ]
    },
    {
     "name": "stdin",
     "output_type": "stream",
     "text": [
      "Enter a product Name: prodB\n"
     ]
    },
    {
     "name": "stdout",
     "output_type": "stream",
     "text": [
      "product prodB is already exists\n"
     ]
    },
    {
     "name": "stdin",
     "output_type": "stream",
     "text": [
      "Enter a product Name: prodC\n",
      "Enter a product Name: prodC\n"
     ]
    },
    {
     "name": "stdout",
     "output_type": "stream",
     "text": [
      "product prodC is already exists\n"
     ]
    },
    {
     "name": "stdin",
     "output_type": "stream",
     "text": [
      "Enter a product Name: prodD\n",
      "Enter a product Name: prodE\n"
     ]
    },
    {
     "data": {
      "text/plain": [
       "['prodA', 'prodB', 'prodC', 'prodD', 'prodE']"
      ]
     },
     "execution_count": 153,
     "metadata": {},
     "output_type": "execute_result"
    }
   ],
   "source": [
    "products = []\n",
    "c=0\n",
    "while(c < 5):\n",
    "    pname = input('Enter a product Name:')\n",
    "    if(pname in products):\n",
    "        print(f'product {pname} is already exists')\n",
    "        continue\n",
    "    else:\n",
    "        products.append(pname)\n",
    "    c=c+1\n",
    "products"
   ]
  },
  {
   "cell_type": "code",
   "execution_count": 155,
   "id": "a7e9fdf2-fbb2-4053-ad05-46b4375bf4a5",
   "metadata": {},
   "outputs": [
    {
     "name": "stdin",
     "output_type": "stream",
     "text": [
      "Enter a product Name: prodA\n",
      "Enter a product Name: prodB\n",
      "Enter a product Name: prodC\n",
      "Enter a product Name: prodD\n",
      "Enter a product Name: prodE\n"
     ]
    },
    {
     "name": "stdout",
     "output_type": "stream",
     "text": [
      "List of products:-\n",
      "---------------\n",
      "prodA\n",
      "prodB\n",
      "prodC\n",
      "prodD\n",
      "prodE\n",
      "\n",
      "Total no.of products:5\n"
     ]
    }
   ],
   "source": [
    "products = []\n",
    "c=0\n",
    "while(c < 5):\n",
    "    pname = input('Enter a product Name:')\n",
    "    if(pname in products):\n",
    "        print(f'product {pname} is already exists')\n",
    "        continue\n",
    "    else:\n",
    "        products.append(pname)\n",
    "    c=c+1\n",
    "\n",
    "print(\"List of products:-\")\n",
    "print(\"-\"*15)\n",
    "for var in products:\n",
    "    print(var)\n",
    "print(\"\")\n",
    "print(f\"Total no.of products:{len(products)}\")"
   ]
  },
  {
   "cell_type": "code",
   "execution_count": null,
   "id": "dc8ac855-cf0e-4dc3-b8e1-d1abd4f9b63c",
   "metadata": {},
   "outputs": [],
   "source": [
    "# Function \n",
    "# --------\n",
    "# Code block - group of <or> Collection of statements/script\n",
    "# -----------//code resuability \n",
    "# -----------//help to underderstand the code - readability \n",
    "\n",
    "def functionName():\n",
    "    <code definition>\n",
    "\n",
    "functionName() # simple functionCall"
   ]
  },
  {
   "cell_type": "code",
   "execution_count": 157,
   "id": "f5cf9248-799b-4261-8f8d-f98c5caf946b",
   "metadata": {},
   "outputs": [],
   "source": [
    "import time"
   ]
  },
  {
   "cell_type": "code",
   "execution_count": 159,
   "id": "b7ce2b38-80f3-4194-a3a2-8abcc4509363",
   "metadata": {},
   "outputs": [
    {
     "name": "stdout",
     "output_type": "stream",
     "text": [
      " product name:prodA\n",
      "    product ID:p101\n",
      "    product Cost:1000\n",
      " product name:prodB\n",
      "    product ID:p102\n",
      "    product Cost:2000\n",
      " product name:prodC\n",
      "    product ID:p103\n",
      "    product Cost:3000\n"
     ]
    }
   ],
   "source": [
    "'''\n",
    "write a function definition - product_info \n",
    "                 - display product details (prodName,prodID,prodCost)\n",
    "\n",
    "'''\n",
    "def product_info(pname,pid,pcost):\n",
    "    print(f''' product name:{pname}\n",
    "    product ID:{pid}\n",
    "    product Cost:{pcost}''')\n",
    "\n",
    "product_info('prodA','p101',1000) # functioncall with arguments \n",
    "time.sleep(1)\n",
    "product_info('prodB','p102',2000) # functioncall with arguments \n",
    "time.sleep(1)\n",
    "product_info('prodC','p103',3000) # functioncall with arguments \n",
    "time.sleep(1)"
   ]
  },
  {
   "cell_type": "code",
   "execution_count": null,
   "id": "7f0481df-cf7b-4945-9f2f-66a412703551",
   "metadata": {},
   "outputs": [],
   "source": [
    "write 3 functions\n",
    "    main() - entry block\n",
    "     |->getinfo() \n",
    "              - read the product details\n",
    "              - invoke productinfo block # nested function call with args \n",
    "     |->productinfo()\n",
    "              - display the product details"
   ]
  },
  {
   "cell_type": "code",
   "execution_count": 163,
   "id": "e481398a-dea7-4bb3-88c6-c4693e2d1bf7",
   "metadata": {},
   "outputs": [
    {
     "name": "stdin",
     "output_type": "stream",
     "text": [
      "Enter a product Name: prodA\n",
      "Enter a product ID: 101\n",
      "Enter a product Cost: 1000\n"
     ]
    },
    {
     "name": "stdout",
     "output_type": "stream",
     "text": [
      "About prodA product details:-\n",
      "    -------------------------------------------\n",
      "    product Name:prodA - product ID:101 \n",
      "    product Cost:1000\n",
      "    -------------------------------------------\n",
      "Exit from the productinfo block\n",
      "Exit from getinfo block\n",
      "Exit from main block\n"
     ]
    }
   ],
   "source": [
    "def productinfo(pname,pid,pcost):\n",
    "    print(f'''About {pname} product details:-\n",
    "    -------------------------------------------\n",
    "    product Name:{pname} - product ID:{pid} \n",
    "    product Cost:{pcost}\n",
    "    -------------------------------------------''')\n",
    "    print('Exit from the productinfo block')\n",
    "    \n",
    "def getinfo():\n",
    "    pname = input('Enter a product Name:')\n",
    "    pid = input('Enter a product ID:')\n",
    "    pcost = input('Enter a product Cost:')\n",
    "    productinfo(pname,pid,pcost)\n",
    "    print('Exit from getinfo block')\n",
    "    \n",
    "def main():\n",
    "    getinfo()\n",
    "    print('Exit from main block')\n",
    "\n",
    "main() # entry point"
   ]
  },
  {
   "cell_type": "code",
   "execution_count": 165,
   "id": "9a8486dd-c690-4c63-9a8c-a0ed2107e196",
   "metadata": {},
   "outputs": [
    {
     "name": "stdout",
     "output_type": "stream",
     "text": [
      "x= 10 <class 'int'> y= 2.3 <class 'float'>\n",
      "x= abc <class 'str'> y= True <class 'bool'>\n",
      "x= [] <class 'list'> y= () <class 'tuple'>\n"
     ]
    }
   ],
   "source": [
    "def fx(x,y):\n",
    "    print(\"x=\",x,type(x),\"y=\",y,type(y))\n",
    "\n",
    "fx(10,2.3)\n",
    "fx('abc',True)\n",
    "fx([],())\n",
    "# we can pass any two values - python is dynamic programming "
   ]
  },
  {
   "cell_type": "code",
   "execution_count": 173,
   "id": "d650129e-5a51-4034-922a-ce64cfbc7080",
   "metadata": {},
   "outputs": [
    {
     "name": "stdout",
     "output_type": "stream",
     "text": [
      "x= abc <class 'str'> y= True <class 'bool'>\n",
      "x= [] <class 'list'> y= () <class 'tuple'>\n"
     ]
    }
   ],
   "source": [
    "# type hint \n",
    "def fx(x: int,y: float) ->float:\n",
    "    print(\"x=\",x,type(x),\"y=\",y,type(y))\n",
    "fx('abc',True)\n",
    "fx([],())"
   ]
  },
  {
   "cell_type": "code",
   "execution_count": 177,
   "id": "64bfd05b-c9ef-49bc-87fc-2d9fe8f4428c",
   "metadata": {},
   "outputs": [
    {
     "name": "stdout",
     "output_type": "stream",
     "text": [
      "x= 45 <class 'int'> y= 54.23 <class 'float'>\n"
     ]
    }
   ],
   "source": [
    "fx(45,54.23)"
   ]
  },
  {
   "cell_type": "code",
   "execution_count": 185,
   "id": "0f9f586a-b099-4cf0-9c54-6edd145aee07",
   "metadata": {},
   "outputs": [
    {
     "name": "stdout",
     "output_type": "stream",
     "text": [
      "OK\n"
     ]
    }
   ],
   "source": [
    "def fx(a1,a2):  # Required arguments \n",
    "    print(\"OK\")\n",
    "#fx()\n",
    "#fx(10)\n",
    "#fx(10,20,30)\n",
    "#-----------------//Error \n",
    "fx(10,20)"
   ]
  },
  {
   "cell_type": "code",
   "execution_count": 193,
   "id": "e85ce803-c478-4abf-b9ec-61412eb453e6",
   "metadata": {},
   "outputs": [
    {
     "name": "stdout",
     "output_type": "stream",
     "text": [
      "OK\n",
      "a1= 100 a2= True\n",
      "OK\n",
      "a1= 10 a2= True\n",
      "OK\n",
      "a1= Data1 a2= Data2\n"
     ]
    },
    {
     "ename": "TypeError",
     "evalue": "fx() takes from 0 to 2 positional arguments but 3 were given",
     "output_type": "error",
     "traceback": [
      "\u001b[1;31m---------------------------------------------------------------------------\u001b[0m",
      "\u001b[1;31mTypeError\u001b[0m                                 Traceback (most recent call last)",
      "Cell \u001b[1;32mIn[193], line 8\u001b[0m\n\u001b[0;32m      6\u001b[0m fx(\u001b[38;5;241m10\u001b[39m)\n\u001b[0;32m      7\u001b[0m fx(\u001b[38;5;124m\"\u001b[39m\u001b[38;5;124mData1\u001b[39m\u001b[38;5;124m\"\u001b[39m,\u001b[38;5;124m\"\u001b[39m\u001b[38;5;124mData2\u001b[39m\u001b[38;5;124m\"\u001b[39m)\n\u001b[1;32m----> 8\u001b[0m fx(\u001b[38;5;241m1\u001b[39m,\u001b[38;5;241m2\u001b[39m,\u001b[38;5;241m3\u001b[39m)\n",
      "\u001b[1;31mTypeError\u001b[0m: fx() takes from 0 to 2 positional arguments but 3 were given"
     ]
    }
   ],
   "source": [
    "def fx(a1=100,a2=True): # default arguments\n",
    "    print(\"OK\")\n",
    "    print(\"a1=\",a1,\"a2=\",a2)\n",
    "\n",
    "fx()\n",
    "fx(10)\n",
    "fx(\"Data1\",\"Data2\")\n",
    "fx(1,2,3)"
   ]
  },
  {
   "cell_type": "code",
   "execution_count": 195,
   "id": "5719f918-cd44-494f-9afb-d7c235331541",
   "metadata": {},
   "outputs": [
    {
     "name": "stdout",
     "output_type": "stream",
     "text": [
      "()\n",
      "(10, 20, 30)\n",
      "('D1', 'D2', ['D3', 'D4'], ('T1', 'T2'), {'K1': 'V1'})\n"
     ]
    }
   ],
   "source": [
    "def fx(*a1): # variable length args\n",
    "    print(a1)\n",
    "\n",
    "fx()\n",
    "fx(10,20,30)\n",
    "fx(\"D1\",\"D2\",[\"D3\",\"D4\"],(\"T1\",\"T2\"),{\"K1\":\"V1\"})"
   ]
  },
  {
   "cell_type": "code",
   "execution_count": 197,
   "id": "d97ab104-9c9a-4f73-b005-455c151f3c29",
   "metadata": {},
   "outputs": [
    {
     "ename": "SyntaxError",
     "evalue": "parameter without a default follows parameter with a default (3123558499.py, line 1)",
     "output_type": "error",
     "traceback": [
      "\u001b[1;36m  Cell \u001b[1;32mIn[197], line 1\u001b[1;36m\u001b[0m\n\u001b[1;33m    def fx(a1,a2,a3,a4=True,a5):\u001b[0m\n\u001b[1;37m                            ^\u001b[0m\n\u001b[1;31mSyntaxError\u001b[0m\u001b[1;31m:\u001b[0m parameter without a default follows parameter with a default\n"
     ]
    }
   ],
   "source": [
    "def fx(a1,a2,a3,a4=True,a5):\n",
    "    print(\"OK\")"
   ]
  },
  {
   "cell_type": "code",
   "execution_count": 199,
   "id": "7f12fe7b-a836-44f8-bed8-3f58df81e347",
   "metadata": {},
   "outputs": [
    {
     "ename": "TypeError",
     "evalue": "fx() missing 4 required positional arguments: 'a1', 'a2', 'a3', and 'a5'",
     "output_type": "error",
     "traceback": [
      "\u001b[1;31m---------------------------------------------------------------------------\u001b[0m",
      "\u001b[1;31mTypeError\u001b[0m                                 Traceback (most recent call last)",
      "Cell \u001b[1;32mIn[199], line 3\u001b[0m\n\u001b[0;32m      1\u001b[0m \u001b[38;5;28;01mdef\u001b[39;00m \u001b[38;5;21mfx\u001b[39m(a1,a2,a3,a5,a4\u001b[38;5;241m=\u001b[39m\u001b[38;5;28;01mTrue\u001b[39;00m,a6\u001b[38;5;241m=\u001b[39m\u001b[38;5;28;01mFalse\u001b[39;00m):\n\u001b[0;32m      2\u001b[0m     \u001b[38;5;28mprint\u001b[39m(\u001b[38;5;124m\"\u001b[39m\u001b[38;5;124mOK\u001b[39m\u001b[38;5;124m\"\u001b[39m)\n\u001b[1;32m----> 3\u001b[0m fx()\n",
      "\u001b[1;31mTypeError\u001b[0m: fx() missing 4 required positional arguments: 'a1', 'a2', 'a3', and 'a5'"
     ]
    }
   ],
   "source": [
    "def fx(a1,a2,a3,a5,a4=True,a6=False):\n",
    "    print(\"OK\")\n",
    "fx()"
   ]
  },
  {
   "cell_type": "code",
   "execution_count": 201,
   "id": "5c077b9a-2159-4f07-84b6-46536e9ba6fc",
   "metadata": {},
   "outputs": [
    {
     "ename": "SyntaxError",
     "evalue": "* argument may appear only once (2482323983.py, line 1)",
     "output_type": "error",
     "traceback": [
      "\u001b[1;36m  Cell \u001b[1;32mIn[201], line 1\u001b[1;36m\u001b[0m\n\u001b[1;33m    def fx(a1,a2,a3=0,a4=0.0,*a5,*a6):\u001b[0m\n\u001b[1;37m                                 ^\u001b[0m\n\u001b[1;31mSyntaxError\u001b[0m\u001b[1;31m:\u001b[0m * argument may appear only once\n"
     ]
    }
   ],
   "source": [
    "def fx(a1,a2,a3=0,a4=0.0,*a5,*a6):\n",
    "    print(\"OK\")"
   ]
  },
  {
   "cell_type": "code",
   "execution_count": 203,
   "id": "c0fc4a55-e28a-4b5f-94cd-e119b8468fbf",
   "metadata": {},
   "outputs": [],
   "source": [
    "def fx(a1,a2,a3=0,a4=0.0,*a5):\n",
    "    print(\"OK\")"
   ]
  },
  {
   "cell_type": "code",
   "execution_count": 205,
   "id": "2539d268-af5f-4764-b0b9-eedd051e7bfb",
   "metadata": {},
   "outputs": [
    {
     "name": "stdout",
     "output_type": "stream",
     "text": [
      "()\n",
      "(10, 20)\n"
     ]
    },
    {
     "ename": "TypeError",
     "evalue": "fx() got an unexpected keyword argument 'db'",
     "output_type": "error",
     "traceback": [
      "\u001b[1;31m---------------------------------------------------------------------------\u001b[0m",
      "\u001b[1;31mTypeError\u001b[0m                                 Traceback (most recent call last)",
      "Cell \u001b[1;32mIn[205], line 6\u001b[0m\n\u001b[0;32m      4\u001b[0m fx()\n\u001b[0;32m      5\u001b[0m fx(\u001b[38;5;241m10\u001b[39m,\u001b[38;5;241m20\u001b[39m)\n\u001b[1;32m----> 6\u001b[0m fx(db\u001b[38;5;241m=\u001b[39m\u001b[38;5;124m\"\u001b[39m\u001b[38;5;124mmysql\u001b[39m\u001b[38;5;124m\"\u001b[39m,port\u001b[38;5;241m=\u001b[39m\u001b[38;5;241m3306\u001b[39m)\n",
      "\u001b[1;31mTypeError\u001b[0m: fx() got an unexpected keyword argument 'db'"
     ]
    }
   ],
   "source": [
    "def fx(*a):\n",
    "    print(a)\n",
    "\n",
    "fx()\n",
    "fx(10,20)\n",
    "fx(db=\"mysql\",port=3306)"
   ]
  },
  {
   "cell_type": "code",
   "execution_count": 207,
   "id": "8721a75c-6d00-49c3-8333-112420e9de84",
   "metadata": {},
   "outputs": [
    {
     "name": "stdout",
     "output_type": "stream",
     "text": [
      "<class 'dict'>\n",
      "{}\n",
      "<class 'dict'>\n",
      "{'db': 'mysql', 'port': 3306}\n"
     ]
    }
   ],
   "source": [
    "def fx(**a):\n",
    "    print(type(a))\n",
    "    print(a)\n",
    "\n",
    "fx()\n",
    "fx(db=\"mysql\",port=3306) # keyword args call"
   ]
  },
  {
   "cell_type": "code",
   "execution_count": 209,
   "id": "bab8f9d4-455a-4b89-a752-2623dd1b7434",
   "metadata": {},
   "outputs": [
    {
     "ename": "TypeError",
     "evalue": "fx() takes 0 positional arguments but 2 were given",
     "output_type": "error",
     "traceback": [
      "\u001b[1;31m---------------------------------------------------------------------------\u001b[0m",
      "\u001b[1;31mTypeError\u001b[0m                                 Traceback (most recent call last)",
      "Cell \u001b[1;32mIn[209], line 1\u001b[0m\n\u001b[1;32m----> 1\u001b[0m fx(\u001b[38;5;241m10\u001b[39m,\u001b[38;5;241m20\u001b[39m)\n",
      "\u001b[1;31mTypeError\u001b[0m: fx() takes 0 positional arguments but 2 were given"
     ]
    }
   ],
   "source": [
    "fx(10,20)"
   ]
  },
  {
   "cell_type": "code",
   "execution_count": 217,
   "id": "f427c5fd-fb74-4a30-a026-cbfa8952ab7a",
   "metadata": {},
   "outputs": [
    {
     "name": "stdout",
     "output_type": "stream",
     "text": [
      "OK\n",
      "a= ()\n",
      "b= {}\n",
      "OK\n",
      "a= (1, 2, 3, 3, 5, 4, 2, 3)\n",
      "b= {}\n",
      "OK\n",
      "a= ()\n",
      "b= {'K': 'V1', 'K1': 'V2'}\n"
     ]
    }
   ],
   "source": [
    "def fx(*a,**b):\n",
    "    print(\"OK\")\n",
    "    print(\"a=\",a)\n",
    "    print(\"b=\",b)\n",
    "\n",
    "fx()\n",
    "fx(1,2,3,3,5,4,2,3)\n",
    "fx(K=\"V1\",K1=\"V2\")"
   ]
  },
  {
   "cell_type": "code",
   "execution_count": 219,
   "id": "96c1eb14-1cc5-4e6d-bdf8-2e47978b6e11",
   "metadata": {},
   "outputs": [
    {
     "name": "stdout",
     "output_type": "stream",
     "text": [
      "Help on function search in module re:\n",
      "\n",
      "search(pattern, string, flags=0)\n",
      "    Scan through string looking for a match to the pattern, returning\n",
      "    a Match object, or None if no match was found.\n",
      "\n"
     ]
    }
   ],
   "source": [
    "import re\n",
    "help(re.search)"
   ]
  },
  {
   "cell_type": "code",
   "execution_count": 221,
   "id": "41824f3a-50b6-4850-bd17-6a21c850ac54",
   "metadata": {},
   "outputs": [
    {
     "name": "stdout",
     "output_type": "stream",
     "text": [
      "Help on function sub in module re:\n",
      "\n",
      "sub(pattern, repl, string, count=0, flags=0)\n",
      "    Return the string obtained by replacing the leftmost\n",
      "    non-overlapping occurrences of the pattern in string by the\n",
      "    replacement repl.  repl can be either a string or a callable;\n",
      "    if a string, backslash escapes in it are processed.  If it is\n",
      "    a callable, it's passed the Match object and must return\n",
      "    a replacement string to be used.\n",
      "\n"
     ]
    }
   ],
   "source": [
    "help(re.sub)"
   ]
  },
  {
   "cell_type": "code",
   "execution_count": 228,
   "id": "41cf2b7d-fa76-4dc8-89b4-0180ca9956ba",
   "metadata": {},
   "outputs": [],
   "source": [
    "def getproduct_info():\n",
    "    pname = input('Enter a product name:')\n",
    "    pid = input('Enter a product ID:')\n",
    "    if(int(pid) >100 and int(pid)<200):\n",
    "        return pname,pid # more then one returns ->tuple"
   ]
  },
  {
   "cell_type": "code",
   "execution_count": 230,
   "id": "b02486c8-a001-45c6-a7d2-40ad29f90511",
   "metadata": {},
   "outputs": [
    {
     "name": "stdin",
     "output_type": "stream",
     "text": [
      "Enter a product name: prodA\n",
      "Enter a product ID: 150\n"
     ]
    },
    {
     "data": {
      "text/plain": [
       "('prodA', '150')"
      ]
     },
     "execution_count": 230,
     "metadata": {},
     "output_type": "execute_result"
    }
   ],
   "source": [
    "getproduct_info()"
   ]
  },
  {
   "cell_type": "code",
   "execution_count": 234,
   "id": "7c17f9eb-cc6c-4dea-93b6-943b78a3cd9a",
   "metadata": {},
   "outputs": [
    {
     "name": "stdin",
     "output_type": "stream",
     "text": [
      "Enter a product name: prodB\n",
      "Enter a product ID: 500\n"
     ]
    }
   ],
   "source": [
    "getproduct_info()"
   ]
  },
  {
   "cell_type": "code",
   "execution_count": 236,
   "id": "74ebda1d-a8c8-43c4-bd57-526ff170c5a2",
   "metadata": {},
   "outputs": [
    {
     "name": "stdin",
     "output_type": "stream",
     "text": [
      "Enter a product name: prodA\n",
      "Enter a product ID: 150\n"
     ]
    }
   ],
   "source": [
    "if not(getproduct_info()):\n",
    "    print(\"product id is not matched\")"
   ]
  },
  {
   "cell_type": "code",
   "execution_count": 238,
   "id": "fdaa021e-91c0-4cd0-85ea-aaeb3b08c208",
   "metadata": {},
   "outputs": [
    {
     "name": "stdin",
     "output_type": "stream",
     "text": [
      "Enter a product name: prodD\n",
      "Enter a product ID: 545\n"
     ]
    },
    {
     "name": "stdout",
     "output_type": "stream",
     "text": [
      "product id is not matched\n"
     ]
    }
   ],
   "source": [
    "if not(getproduct_info()):\n",
    "    print(\"product id is not matched\")"
   ]
  },
  {
   "cell_type": "code",
   "execution_count": 240,
   "id": "16f730aa-0cfa-4a65-8e48-8bdcde657045",
   "metadata": {},
   "outputs": [
    {
     "name": "stdout",
     "output_type": "stream",
     "text": [
      "['D1', 'D2', 'D1', 'D2', 'D3', 'D1', 'D2', 'D1'] 8 <class 'list'>\n"
     ]
    }
   ],
   "source": [
    "L=[\"D1\",\"D2\",\"D1\",\"D2\",\"D3\",\"D1\",\"D2\",\"D1\"]\n",
    "print(L,len(L),type(L))"
   ]
  },
  {
   "cell_type": "code",
   "execution_count": 242,
   "id": "3663a3f7-88a5-4975-9c73-6e31c05ffe3a",
   "metadata": {},
   "outputs": [
    {
     "name": "stdout",
     "output_type": "stream",
     "text": [
      "['D2', 'D1', 'D3'] 3 <class 'list'>\n"
     ]
    }
   ],
   "source": [
    "L=list(set(L))\n",
    "print(L,len(L),type(L))"
   ]
  },
  {
   "cell_type": "code",
   "execution_count": 244,
   "id": "f57addbd-22c8-4059-9628-859006a731c1",
   "metadata": {},
   "outputs": [
    {
     "data": {
      "text/plain": [
       "{'D1', 'D2', 'D3'}"
      ]
     },
     "execution_count": 244,
     "metadata": {},
     "output_type": "execute_result"
    }
   ],
   "source": [
    "set(L) # typecast to set"
   ]
  },
  {
   "cell_type": "code",
   "execution_count": 248,
   "id": "915408e2-f04c-4043-b72b-00ae4174aef1",
   "metadata": {},
   "outputs": [
    {
     "name": "stdout",
     "output_type": "stream",
     "text": [
      "<class 'set'> 6\n"
     ]
    },
    {
     "data": {
      "text/plain": [
       "{10, 20, 'K1', 'K2', 'V1', 'V2'}"
      ]
     },
     "execution_count": 248,
     "metadata": {},
     "output_type": "execute_result"
    }
   ],
   "source": [
    "v = {\"K1\",\"V1\",\"K2\",10,20,\"K1\",\"V1\",\"K2\",\"V2\",10,20,\"K1\",\"K2\"}\n",
    "print(type(v),len(v))\n",
    "v"
   ]
  },
  {
   "cell_type": "code",
   "execution_count": null,
   "id": "7f58cb79-a37c-460b-a513-565bafcfbbbb",
   "metadata": {},
   "outputs": [],
   "source": [
    "# set is not index based \n",
    "# set is not key:value based \n",
    "|\n",
    "set supports set operations(union,intersection,difference,symmetric_difference)\n",
    "#                     |->Set operators\n",
    "#                             <or>\n",
    "#                     |->Set methods "
   ]
  },
  {
   "cell_type": "code",
   "execution_count": 250,
   "id": "00132cb6-ad23-40a3-9cdd-5be3e65283f2",
   "metadata": {},
   "outputs": [
    {
     "data": {
      "text/plain": [
       "{'D1', 'D3', 'D4'}"
      ]
     },
     "execution_count": 250,
     "metadata": {},
     "output_type": "execute_result"
    }
   ],
   "source": [
    "L1 = ['D1','D2','D3','D4','D5']\n",
    "\n",
    "L2 = ['Dx','D1','Dy','D4','D6','D3','D7']\n",
    "\n",
    "set(L1) & set(L2)"
   ]
  },
  {
   "cell_type": "code",
   "execution_count": 252,
   "id": "1ddf1e77-a2e0-455f-ad44-ef960aae42f9",
   "metadata": {},
   "outputs": [
    {
     "data": {
      "text/plain": [
       "['D4', 'D1', 'D3']"
      ]
     },
     "execution_count": 252,
     "metadata": {},
     "output_type": "execute_result"
    }
   ],
   "source": [
    "comm = set(L1) & set(L2) # filter common data\n",
    "list(comm)"
   ]
  },
  {
   "cell_type": "code",
   "execution_count": 254,
   "id": "54082161-4bc4-4bf4-92d4-6436ecbde11a",
   "metadata": {},
   "outputs": [
    {
     "data": {
      "text/plain": [
       "{'D1', 'D2', 'D3', 'D4', 'D5', 'D6', 'D7', 'Dx', 'Dy'}"
      ]
     },
     "execution_count": 254,
     "metadata": {},
     "output_type": "execute_result"
    }
   ],
   "source": [
    "set(L1) | set(L2) # union - combine both content into single - there is no duplicate value"
   ]
  },
  {
   "cell_type": "code",
   "execution_count": 256,
   "id": "888a03d6-ddeb-4520-87ab-ca1b1051b3a7",
   "metadata": {},
   "outputs": [
    {
     "data": {
      "text/plain": [
       "{'D2', 'D5'}"
      ]
     },
     "execution_count": 256,
     "metadata": {},
     "output_type": "execute_result"
    }
   ],
   "source": [
    "set(L1) - set(L2) # difference  L1 - L2"
   ]
  },
  {
   "cell_type": "code",
   "execution_count": 258,
   "id": "bf3049eb-472a-4730-98ab-6c786fedfecc",
   "metadata": {},
   "outputs": [
    {
     "data": {
      "text/plain": [
       "{'D6', 'D7', 'Dx', 'Dy'}"
      ]
     },
     "execution_count": 258,
     "metadata": {},
     "output_type": "execute_result"
    }
   ],
   "source": [
    "set(L2) - set(L1) # L2 - L1"
   ]
  },
  {
   "cell_type": "code",
   "execution_count": 260,
   "id": "ea893d4e-ca32-4365-b058-250ec018b00f",
   "metadata": {},
   "outputs": [
    {
     "data": {
      "text/plain": [
       "{'D2', 'D5', 'D6', 'D7', 'Dx', 'Dy'}"
      ]
     },
     "execution_count": 260,
     "metadata": {},
     "output_type": "execute_result"
    }
   ],
   "source": [
    "set(L1) ^ set (L2)"
   ]
  },
  {
   "cell_type": "code",
   "execution_count": null,
   "id": "4e534545-6606-4e5f-bf75-8837a85229c3",
   "metadata": {},
   "outputs": [],
   "source": [
    "Write a python program:\n",
    "  initialize a pin number (ex: pin=1234)\n",
    "  use while loop - limit is 3\n",
    "       - read a pin number from <STDIN>\n",
    "       - test your input pin with an existing pin\n",
    "       - success - pin is matched - <Count> 1 2 3\n",
    " if all 3 inputs are failed - pin blocked \n",
    "|\n",
    "create a function\n",
    "      - Call function\n",
    "|"
   ]
  },
  {
   "cell_type": "code",
   "execution_count": 268,
   "id": "7fce39cc-7e70-4644-a61e-cdf1fab76041",
   "metadata": {},
   "outputs": [
    {
     "name": "stdin",
     "output_type": "stream",
     "text": [
      "Enter a pin Number: 12312\n",
      "Enter a pin Number: 12311\n",
      "Enter a pin Number: 12321\n"
     ]
    },
    {
     "name": "stdout",
     "output_type": "stream",
     "text": [
      "Sorry your pin is blocked\n"
     ]
    }
   ],
   "source": [
    "pin = 1234\n",
    "\n",
    "count = 0\n",
    "\n",
    "while(count < 3):\n",
    "    count = count + 1\n",
    "    p = input('Enter a pin Number:')\n",
    "    if(int(p) == pin):\n",
    "        print(f'Success - pin is matched {count}')\n",
    "        break # exit from loop\n",
    "\n",
    "if(int(p) != pin):\n",
    "    print('Sorry your pin is blocked')"
   ]
  },
  {
   "cell_type": "code",
   "execution_count": 270,
   "id": "3a72ec22-1def-4688-b4e2-43b7052e2182",
   "metadata": {},
   "outputs": [
    {
     "name": "stdin",
     "output_type": "stream",
     "text": [
      "Enter a pin Number: 1234\n"
     ]
    },
    {
     "name": "stdout",
     "output_type": "stream",
     "text": [
      "Success - pin is matched 1\n"
     ]
    }
   ],
   "source": [
    "def pin_test():\n",
    "    pin = 1234\n",
    "    count = 0\n",
    "    while(count < 3):\n",
    "        count = count + 1\n",
    "        p = input('Enter a pin Number:')\n",
    "        if(int(p) == pin):\n",
    "            print(f'Success - pin is matched {count}')\n",
    "            break # exit from loop\n",
    "    if(int(p) != pin):\n",
    "        print('Sorry your pin is blocked')\n",
    "\n",
    "pin_test()"
   ]
  },
  {
   "cell_type": "markdown",
   "id": "5ee2d759-e5da-44c3-8b97-85623e7a2566",
   "metadata": {},
   "source": [
    "s1='p101:10,20,30,40,50'\n",
    "s2='p102:100,200,300,400,500'\n",
    "\n",
    "split given string into multiple values \n",
    "- based on :\n",
    "  ['p101','10,20,30,40,50']\n",
    "- create a new dict\n",
    "   List of 0th index (pid ->key)\n",
    "   List of 1st index value\n",
    "                      |->based on , - split single str ->multiple value\n"
   ]
  },
  {
   "cell_type": "code",
   "execution_count": 276,
   "id": "105de61f-c32a-4414-a3f3-36440608963e",
   "metadata": {},
   "outputs": [
    {
     "name": "stdout",
     "output_type": "stream",
     "text": [
      "['p101', '10,20,30,40,50']\n",
      "['p102', '100,200,300,400,500']\n"
     ]
    },
    {
     "data": {
      "text/plain": [
       "{'p101': ['10', '20', '30', '40', '50'],\n",
       " 'p102': ['100', '200', '300', '400', '500']}"
      ]
     },
     "execution_count": 276,
     "metadata": {},
     "output_type": "execute_result"
    }
   ],
   "source": [
    "s1='p101:10,20,30,40,50'\n",
    "s2='p102:100,200,300,400,500'\n",
    "\n",
    "L1 = s1.split(\":\")\n",
    "L2 = s2.split(\":\")\n",
    "print(L1)\n",
    "print(L2)\n",
    "d={} # empty dict\n",
    "\n",
    "d[L1[0]]=L1[1].split(\",\")\n",
    "d[L2[0]]=L2[1].split(\",\")\n",
    "d"
   ]
  },
  {
   "cell_type": "code",
   "execution_count": null,
   "id": "40d206de-3cb0-486d-aae1-60951d305590",
   "metadata": {},
   "outputs": [],
   "source": [
    "File Handling\n",
    "--------------\n",
    "                                          print()\n",
    "Keyboard -----<----------python Code -------->-------- Monitor\n",
    "            input()     ==============\n",
    "                              |\n",
    "                              | read/write \n",
    "                            Storage(FILE)\n",
    "\n",
    "1. read an existing FILE ->python ->display to monitor\n",
    "2. python ->create a newFile ->write data to FILE\n",
    "|\n",
    "3. read data from oneFILE ->python ->create and write data to another FILE\n",
    "\n",
    " +------------------------------+\n",
    " |                              (5) \n",
    " | User: App  -   python   ---<-----------|\n",
    " +-----------------|(1)-------------+        |\n",
    " | OS     - permission check(2)   [ Data ] 0x1234(4)\n",
    " +-----------------|-----------------|---+\n",
    " | H/w: HardDisk (Storage) (3)  ...\n",
    " +-------------------------------+\n",
    "\n",
    "fobj = open(\"D:\\\\filename\",\"r\")\n",
    "----\n",
    "fobj.read() -> 'str'\n",
    "  Vs\n",
    "fobj.readlines() -> [ ] //list \n",
    "fobj.close()\n",
    "\n",
    "wobj = open(\"D:\\\\newFile\",\"w\") Vs   wobj = open(\"D:\\\\resultFile\",\"a\") # append operation\n",
    "wobj.write(\"data\\n\")\n",
    "...\n",
    "wobj.write(\"\")\n",
    "wobj.close()"
   ]
  },
  {
   "cell_type": "code",
   "execution_count": 278,
   "id": "01519c79-0436-4842-b6e5-a750a0c448d8",
   "metadata": {},
   "outputs": [
    {
     "data": {
      "text/plain": [
       "<_io.TextIOWrapper name='emp.csv' mode='r' encoding='cp1252'>"
      ]
     },
     "execution_count": 278,
     "metadata": {},
     "output_type": "execute_result"
    }
   ],
   "source": [
    "open(\"emp.csv\")"
   ]
  },
  {
   "cell_type": "code",
   "execution_count": 282,
   "id": "c95ea792-ac41-4238-8f32-1a2dc68839f8",
   "metadata": {},
   "outputs": [
    {
     "data": {
      "text/plain": [
       "'101,ram,sales,pune,1000\\n102,leo,prod,bglore,2000\\n103,anu,HR,hyd,3000\\n104,paul,sales,bglore,3200\\n423,zio,sales,pune,3420\\n142,anu,prod,chennai,4300\\n949,karthik,sales,bglore,3100\\n848,tom,hr,chennai,3940\\n931,vijay,prod,chennai,3411'"
      ]
     },
     "execution_count": 282,
     "metadata": {},
     "output_type": "execute_result"
    }
   ],
   "source": [
    "fobj = open(\"emp.csv\")\n",
    "s = fobj.read()\n",
    "fobj.close()\n",
    "s"
   ]
  },
  {
   "cell_type": "code",
   "execution_count": 286,
   "id": "dfd74eb1-1019-49ce-a222-0bffa6f40772",
   "metadata": {},
   "outputs": [
    {
     "data": {
      "text/plain": [
       "['101,ram,sales,pune,1000\\n',\n",
       " '102,leo,prod,bglore,2000\\n',\n",
       " '103,anu,HR,hyd,3000\\n',\n",
       " '104,paul,sales,bglore,3200\\n',\n",
       " '423,zio,sales,pune,3420\\n',\n",
       " '142,anu,prod,chennai,4300\\n',\n",
       " '949,karthik,sales,bglore,3100\\n',\n",
       " '848,tom,hr,chennai,3940\\n',\n",
       " '931,vijay,prod,chennai,3411']"
      ]
     },
     "execution_count": 286,
     "metadata": {},
     "output_type": "execute_result"
    }
   ],
   "source": [
    "fobj = open(\"emp.csv\")\n",
    "L = fobj.readlines()\n",
    "fobj.close()\n",
    "L"
   ]
  },
  {
   "cell_type": "code",
   "execution_count": 298,
   "id": "01d3bc9f-fd14-433d-af82-e2c8679471cf",
   "metadata": {},
   "outputs": [],
   "source": [
    "wobj = open(\"e1.csv\",\"w\")\n",
    "wobj.write(\"101,prodA,1000,98.45,Data-1\\n\")\n",
    "wobj.write(\"102,prodB,2000,98.25,Data-2\\n\")\n",
    "wobj.write(\"103,prodC,3000,98.44,Data-3\\n\")\n",
    "wobj.write(\"104,prodD,4000,58.45,Data-4\\n\")\n",
    "wobj.write(\"105,prodE,5000,18.23,Data-5\\n\")\n",
    "\n",
    "wobj.close()\n"
   ]
  },
  {
   "cell_type": "code",
   "execution_count": 300,
   "id": "34c60aff-0028-49e3-8f7b-8d6e7041a49c",
   "metadata": {},
   "outputs": [
    {
     "data": {
      "text/plain": [
       "'101,prodA,1000,98.45,Data-1\\n102,prodB,2000,98.25,Data-2\\n103,prodC,3000,98.44,Data-3\\n104,prodD,4000,58.45,Data-4\\n105,prodE,5000,18.23,Data-5\\n'"
      ]
     },
     "execution_count": 300,
     "metadata": {},
     "output_type": "execute_result"
    }
   ],
   "source": [
    "open(\"e1.csv\").read()"
   ]
  },
  {
   "cell_type": "code",
   "execution_count": 302,
   "id": "bff34ca7-cb1e-43e4-8054-e82bbe26ada6",
   "metadata": {},
   "outputs": [
    {
     "data": {
      "text/plain": [
       "['101,prodA,1000,98.45,Data-1\\n',\n",
       " '102,prodB,2000,98.25,Data-2\\n',\n",
       " '103,prodC,3000,98.44,Data-3\\n',\n",
       " '104,prodD,4000,58.45,Data-4\\n',\n",
       " '105,prodE,5000,18.23,Data-5\\n']"
      ]
     },
     "execution_count": 302,
     "metadata": {},
     "output_type": "execute_result"
    }
   ],
   "source": [
    "open(\"e1.csv\").readlines()"
   ]
  },
  {
   "cell_type": "code",
   "execution_count": 304,
   "id": "8a388756-365a-452f-9c97-d15e545a10a7",
   "metadata": {},
   "outputs": [],
   "source": [
    "fobj = open('e1.csv')\n",
    "wobj = open('e2.csv','w')\n",
    "\n",
    "s = fobj.read()\n",
    "wobj.write(s)\n",
    "\n",
    "fobj.close()\n",
    "wobj.close()"
   ]
  },
  {
   "cell_type": "code",
   "execution_count": 306,
   "id": "707a2935-9b13-45c8-97a6-ab5daa885ac3",
   "metadata": {},
   "outputs": [
    {
     "name": "stdout",
     "output_type": "stream",
     "text": [
      "101,prodA,1000,98.45,Data-1\n",
      "102,prodB,2000,98.25,Data-2\n",
      "103,prodC,3000,98.44,Data-3\n",
      "104,prodD,4000,58.45,Data-4\n",
      "105,prodE,5000,18.23,Data-5\n",
      "\n"
     ]
    }
   ],
   "source": [
    "print(open('e2.csv').read())"
   ]
  },
  {
   "cell_type": "code",
   "execution_count": 308,
   "id": "b2f1cdd1-6cef-4924-ac87-ed64cabd793f",
   "metadata": {},
   "outputs": [
    {
     "name": "stdout",
     "output_type": "stream",
     "text": [
      "101,prodA,1000,98.45,Data-1\n",
      "102,prodB,2000,98.25,Data-2\n",
      "103,prodC,3000,98.44,Data-3\n",
      "104,prodD,4000,58.45,Data-4\n",
      "105,prodE,5000,18.23,Data-5\n",
      "\n"
     ]
    }
   ],
   "source": [
    "print(open('e1.csv').read())"
   ]
  },
  {
   "cell_type": "code",
   "execution_count": 310,
   "id": "bcd75424-f38e-4870-b13b-a5bf2d35d7d4",
   "metadata": {},
   "outputs": [
    {
     "data": {
      "text/plain": [
       "'Mon Feb 17 14:57:49 2025'"
      ]
     },
     "execution_count": 310,
     "metadata": {},
     "output_type": "execute_result"
    }
   ],
   "source": [
    "import time\n",
    "time.ctime()"
   ]
  },
  {
   "cell_type": "code",
   "execution_count": null,
   "id": "e8beaaa4-037d-46fc-9c57-4ff5b6c440b9",
   "metadata": {},
   "outputs": [],
   "source": [
    "modify the pin program\n",
    "- create new file - pin_history.log <==\n",
    "- do append operation\n",
    "      - append use input pin details + pin entry date/time"
   ]
  },
  {
   "cell_type": "code",
   "execution_count": 312,
   "id": "316609b5-05bf-4e98-af87-73dbd6d03010",
   "metadata": {},
   "outputs": [
    {
     "name": "stdin",
     "output_type": "stream",
     "text": [
      "Enter a pin Number: 1234\n"
     ]
    },
    {
     "name": "stdout",
     "output_type": "stream",
     "text": [
      "Success - pin is matched 1\n"
     ]
    }
   ],
   "source": [
    "wobj = open(\"Dy\\\\pin_history.log\",\"a\")\n",
    "\n",
    "pin = 1234\n",
    "count = 0\n",
    "while(count < 3):\n",
    "    count = count + 1\n",
    "    p = input('Enter a pin Number:')\n",
    "    if(int(p) == pin):\n",
    "        wobj.write(f'Success - pin is matched {count} - pin entry date/time:{time.ctime()}\\n')\n",
    "        print(f'Success - pin is matched {count}')\n",
    "        break # exit from loop\n",
    "    else:\n",
    "        wobj.write(f'Failed - Sorry pin - {p} is not matched - pin entry date/time:{time.ctime()}\\n')\n",
    "\n",
    "if(int(p) != pin):\n",
    "    print('Sorry your pin is blocked')\n",
    "    wobj.write(f'Sorry your pin is blocked - update time:{time.ctime()}')\n",
    "\n",
    "wobj.close()"
   ]
  },
  {
   "cell_type": "code",
   "execution_count": 314,
   "id": "851e9088-e1a4-480f-b1a3-11e92826f2f1",
   "metadata": {},
   "outputs": [
    {
     "name": "stdin",
     "output_type": "stream",
     "text": [
      "Enter a pin Number: 2345\n",
      "Enter a pin Number: 3456\n",
      "Enter a pin Number: 1234\n"
     ]
    },
    {
     "name": "stdout",
     "output_type": "stream",
     "text": [
      "Success - pin is matched 3\n"
     ]
    }
   ],
   "source": [
    "wobj = open(\"Dy\\\\pin_history.log\",\"a\")\n",
    "\n",
    "pin = 1234\n",
    "count = 0\n",
    "while(count < 3):\n",
    "    count = count + 1\n",
    "    p = input('Enter a pin Number:')\n",
    "    if(int(p) == pin):\n",
    "        wobj.write(f'Success - pin is matched {count} - pin entry date/time:{time.ctime()}\\n')\n",
    "        print(f'Success - pin is matched {count}')\n",
    "        break # exit from loop\n",
    "    else:\n",
    "        wobj.write(f'Failed - Sorry pin - {p} is not matched - pin entry date/time:{time.ctime()}\\n')\n",
    "\n",
    "if(int(p) != pin):\n",
    "    print('Sorry your pin is blocked')\n",
    "    wobj.write(f'Sorry your pin is blocked - update time:{time.ctime()}')\n",
    "\n",
    "wobj.close()"
   ]
  },
  {
   "cell_type": "code",
   "execution_count": 316,
   "id": "d7e3fd51-d59d-433d-b620-d41071ecbb9e",
   "metadata": {},
   "outputs": [
    {
     "name": "stdin",
     "output_type": "stream",
     "text": [
      "Enter a pin Number: 12313\n",
      "Enter a pin Number: 1221\n",
      "Enter a pin Number: 12312\n"
     ]
    },
    {
     "name": "stdout",
     "output_type": "stream",
     "text": [
      "Sorry your pin is blocked\n"
     ]
    }
   ],
   "source": [
    "wobj = open(\"Dy\\\\pin_history.log\",\"a\")\n",
    "\n",
    "pin = 1234\n",
    "count = 0\n",
    "while(count < 3):\n",
    "    count = count + 1\n",
    "    p = input('Enter a pin Number:')\n",
    "    if(int(p) == pin):\n",
    "        wobj.write(f'Success - pin is matched {count} - pin entry date/time:{time.ctime()}\\n')\n",
    "        print(f'Success - pin is matched {count}')\n",
    "        break # exit from loop\n",
    "    else:\n",
    "        wobj.write(f'Failed - Sorry pin - {p} is not matched - pin entry date/time:{time.ctime()}\\n')\n",
    "\n",
    "if(int(p) != pin):\n",
    "    print('Sorry your pin is blocked')\n",
    "    wobj.write(f'Sorry your pin is blocked - update time:{time.ctime()}')\n",
    "\n",
    "wobj.close()"
   ]
  },
  {
   "cell_type": "code",
   "execution_count": null,
   "id": "b453e0ec-b46c-4a7c-ad75-940d0121058f",
   "metadata": {},
   "outputs": [],
   "source": [
    "Recap\n",
    "native types + operators + conditional statement + looping statement + function + file handling"
   ]
  },
  {
   "cell_type": "code",
   "execution_count": null,
   "id": "39fc749b-7a6a-429a-bd3d-834f37a9092a",
   "metadata": {},
   "outputs": [],
   "source": [
    "Module \n",
    "Vs\n",
    "Package \n",
    "|\n",
    "Functional Programming"
   ]
  },
  {
   "cell_type": "code",
   "execution_count": null,
   "id": "5c893263-db36-4079-91e9-ec91b1322cd5",
   "metadata": {},
   "outputs": [],
   "source": [
    "Module \n",
    " - existing python code\n",
    " - code reusability \n",
    "\n",
    "import time\n",
    "import pprint\n",
    "import json\n",
    "import <module>\n",
    "\n",
    "<module>.<member>\n",
    "            |->variable function class ...\n",
    "\n",
    "\n",
    "import multitprocessing\n",
    "obj = multiprocessing.process()\n",
    "\n",
    "import multiprocessing as mp \n",
    "obj = mp.process()\n",
    "\n",
    "import numpy as np\n",
    "\n",
    "import Dir1.Dir2.Dir3.Filename \n",
    "obj = Dir1.Dir2.Dir3.Filename.className()\n",
    "obj.method()\n",
    "\n",
    "Dir1/\n",
    "    |__Dir2/\n",
    "         |___Dir3/\n",
    "                |_____Filename \n",
    "\n",
    "\n",
    "import Dir1.Dir2.Dir3.Filename  as mydir\n",
    "obj = mydir.className()\n",
    "obj.method()\n",
    "\n",
    "project/\n",
    "        f1.py f2.py f3.py .. f50.py \n",
    "        Sub1/fa.py fb.py\n",
    "        Sub2/fx.py fy.py \n",
    "           |__L1/ab.py sab.py test1.py \n",
    "\n",
    "import f1,f2,f3,f4...//OK\n",
    " <or>\n",
    "\n",
    "import f1\n",
    "import f2\n",
    "import f3\n",
    "..\n",
    "......//50lines\n",
    "\n",
    "\n",
    "step 1:  create a project folder / directory\n",
    "|\n",
    "step 2:  create a new package initialization file  __init__.py <== special file\n",
    "|\n",
    "step 3:  import all the external symbols to __init__.py file\n",
    "|\n",
    "step 4:  test your directory <or> test your package \n",
    "\n",
    "           import projectFolderName \n",
    " \n",
    "file: ab.py                               file:p1.py         file:p2.py\n",
    "--------------                           --------------       -----------\n",
    "port = 5000                                 import ab          import ab\n",
    "app = 'flask'                               print(ab.port)     print(ab.app)\n",
    "def f1():                                   var=120         --------------\n",
    "    print('Welcome page')                 file: p3.py\n",
    "--------------                            -------------  \n",
    "|                                          import ab\n",
    "|                                          ab.f1()\n",
    "|                                         --------------\n",
    "|\n",
    "|\n",
    "ab.py symbolTable                         p1.py symbolTable\n",
    "---------------------                      ---------------\n",
    "__main__.port | 5000                         ab.port    | 5000\n",
    "--------------|---------                  --------------|------\n",
    "__main__.app  | flask                       __main__.var| 120\n",
    "--------------|---------                 ----------------------\n",
    "__main__.f1   | 0x3451\n",
    "\n",
    "file: sab.py  \n",
    "--------------------------------\n",
    "def f1():\n",
    "    ...\n",
    "\n",
    "if __name__  == '__main__':\n",
    "    f1()\n",
    "-------------------------------\n",
    "D:\\>python sab.py\n",
    "    ...//OK\n",
    "\n",
    "D:\\>python\n",
    "    >>> import sab\n",
    "    >>> \n",
    "    >>> sab.f1()\n",
    "\n",
    "\n",
    "from <dir1>.<dir2>.<module> import <member>\n",
    "\n",
    "import <module>\n",
    "   Vs\n",
    "from <module> import <memeber>\n",
    "\n",
    "ERP\\\n",
    " |_______CRM\\\n",
    "           |_________customer.py\n",
    " |\n",
    " |_______prod.py\n",
    " |_______sales.py\n",
    " |_______  __init__.py \n",
    "           ===========\n",
    "\n",
    "Linux /mac -> pip3 install <module>\n",
    "winx -> pip install <module>  \n",
    "        python -m pip install <module>\n",
    "========================================================================================="
   ]
  },
  {
   "cell_type": "code",
   "execution_count": null,
   "id": "d8992e77-5ec0-4483-af7b-0cb3cfbd8cda",
   "metadata": {},
   "outputs": [],
   "source": [
    "Functional style programming"
   ]
  },
  {
   "cell_type": "code",
   "execution_count": 318,
   "id": "8aa60b88-4663-40d6-9ae6-46ca8bb3da87",
   "metadata": {},
   "outputs": [
    {
     "data": {
      "text/plain": [
       "[110, 120, 130, 140, 150]"
      ]
     },
     "execution_count": 318,
     "metadata": {},
     "output_type": "execute_result"
    }
   ],
   "source": [
    "L = []\n",
    "\n",
    "def f1(a):\n",
    "    return a+100\n",
    "\n",
    "for var in [10,20,30,40,50]:\n",
    "    r = f1(var)\n",
    "    L.append(r)\n",
    "\n",
    "L"
   ]
  },
  {
   "cell_type": "code",
   "execution_count": 320,
   "id": "f6c22b74-34ba-41f2-862e-da68b240c222",
   "metadata": {},
   "outputs": [
    {
     "data": {
      "text/plain": [
       "[110, 120, 130, 140, 150]"
      ]
     },
     "execution_count": 320,
     "metadata": {},
     "output_type": "execute_result"
    }
   ],
   "source": [
    "list(map(lambda a:a+100,[10,20,30,40,50]))"
   ]
  },
  {
   "cell_type": "code",
   "execution_count": null,
   "id": "9beaa337-b37c-4233-83b8-fe8f4abd8e48",
   "metadata": {},
   "outputs": [],
   "source": [
    "1. lambda \n",
    "2. list comprehension\n",
    "3. generator\n",
    "|\n",
    "4. map,filter \n",
    "|\n",
    "5. enumerator\n",
    "\n",
    "lambda - unnamed function\n",
    "------\n",
    " |->lambda <list of args>:<basicOperation>\n",
    "                           ------//expression (or) functionCall\n",
    " |-> this is not a block style code \n",
    "\n",
    " |-> function Call with args return someValue //"
   ]
  },
  {
   "cell_type": "code",
   "execution_count": 322,
   "id": "4c3ea2bc-fb63-433b-af6b-790b9831869d",
   "metadata": {},
   "outputs": [
    {
     "data": {
      "text/plain": [
       "30"
      ]
     },
     "execution_count": 322,
     "metadata": {},
     "output_type": "execute_result"
    }
   ],
   "source": [
    "# block style code \n",
    "def fx(a,b):\n",
    "    return a+b\n",
    "\n",
    "fx(10,20)"
   ]
  },
  {
   "cell_type": "code",
   "execution_count": 324,
   "id": "4eae8cdc-7d44-45ad-9c42-b0fbccc685db",
   "metadata": {},
   "outputs": [
    {
     "data": {
      "text/plain": [
       "<function __main__.<lambda>(a, b)>"
      ]
     },
     "execution_count": 324,
     "metadata": {},
     "output_type": "execute_result"
    }
   ],
   "source": [
    "lambda a,b:a+b"
   ]
  },
  {
   "cell_type": "code",
   "execution_count": 326,
   "id": "dd052972-14ba-4a24-9ab0-3ec8ef9297a5",
   "metadata": {},
   "outputs": [
    {
     "data": {
      "text/plain": [
       "30"
      ]
     },
     "execution_count": 326,
     "metadata": {},
     "output_type": "execute_result"
    }
   ],
   "source": [
    "fy = lambda a,b:a+b\n",
    "fy(10,20)"
   ]
  },
  {
   "cell_type": "code",
   "execution_count": 328,
   "id": "6cf9727c-7561-41f6-9773-55d392ecee7e",
   "metadata": {},
   "outputs": [
    {
     "data": {
      "text/plain": [
       "'ABC'"
      ]
     },
     "execution_count": 328,
     "metadata": {},
     "output_type": "execute_result"
    }
   ],
   "source": [
    "def f1(a):\n",
    "    return a.upper()\n",
    "\n",
    "f1('abc')"
   ]
  },
  {
   "cell_type": "code",
   "execution_count": 330,
   "id": "d669ab58-29e7-4a73-9e6f-4493c58de17f",
   "metadata": {},
   "outputs": [
    {
     "data": {
      "text/plain": [
       "'ABC'"
      ]
     },
     "execution_count": 330,
     "metadata": {},
     "output_type": "execute_result"
    }
   ],
   "source": [
    "f2 = lambda a:a.upper()\n",
    "f2('abc')"
   ]
  },
  {
   "cell_type": "code",
   "execution_count": 334,
   "id": "102125db-0f2f-42b2-94de-a47e383247f0",
   "metadata": {},
   "outputs": [
    {
     "name": "stdout",
     "output_type": "stream",
     "text": [
      "110\n",
      "120\n",
      "130\n"
     ]
    }
   ],
   "source": [
    "def f3(a):\n",
    "    return a+100\n",
    "\n",
    "for v in [10,20,30]:\n",
    "    print(f3(v))"
   ]
  },
  {
   "cell_type": "code",
   "execution_count": 336,
   "id": "e2d53c01-f420-479a-a2cd-9079ab2601c8",
   "metadata": {},
   "outputs": [
    {
     "name": "stdout",
     "output_type": "stream",
     "text": [
      "110\n",
      "120\n",
      "130\n"
     ]
    }
   ],
   "source": [
    "fx = lambda a:a+100\n",
    "for v in [10,20,30]:\n",
    "    print(fx(v))"
   ]
  },
  {
   "cell_type": "code",
   "execution_count": null,
   "id": "31c92df9-2a5a-4084-865b-823e94cd999c",
   "metadata": {},
   "outputs": [],
   "source": [
    "def fA(a):\n",
    "    return a>100\n",
    "      Vs\n",
    "fA = lambda a:a+100\n",
    "fA(10) ->110\n",
    "-----------------------------\n",
    "\n",
    "def fB(a):\n",
    "    return 'sales' in a\n",
    "      Vs\n",
    "fB = lambda a: 'sales' in a\n",
    "fB('raj,sales,pune') -> True \n",
    "-----------------------------------------\n",
    "def fC(a):\n",
    "    if( a >100 and a<200):\n",
    "        return a+100\n",
    "    elif(a >500 and a <600):\n",
    "        return a+200\n",
    "    else:\n",
    "        return a+300\n",
    "\n",
    "---------------------------------------"
   ]
  },
  {
   "cell_type": "code",
   "execution_count": 338,
   "id": "c2824c36-f542-4337-8b7f-92ab4caef9a3",
   "metadata": {},
   "outputs": [],
   "source": [
    "def fC(a):\n",
    "    if( a >100 and a<200):\n",
    "        return a+100\n",
    "    elif(a >500 and a <600):\n",
    "        return a+200\n",
    "    else:\n",
    "        return a+300"
   ]
  },
  {
   "cell_type": "code",
   "execution_count": 340,
   "id": "70a98058-e238-4fb2-9e01-4deb358e2664",
   "metadata": {},
   "outputs": [
    {
     "data": {
      "text/plain": [
       "250"
      ]
     },
     "execution_count": 340,
     "metadata": {},
     "output_type": "execute_result"
    }
   ],
   "source": [
    "f = lambda a:fC(a) # lambda can invoke external named functionCall \n",
    "f(150)"
   ]
  },
  {
   "cell_type": "code",
   "execution_count": 342,
   "id": "a4116059-927d-4ba7-b706-16ccd507d4e3",
   "metadata": {},
   "outputs": [
    {
     "data": {
      "text/plain": [
       "760"
      ]
     },
     "execution_count": 342,
     "metadata": {},
     "output_type": "execute_result"
    }
   ],
   "source": [
    "f(560)"
   ]
  },
  {
   "cell_type": "code",
   "execution_count": 344,
   "id": "4b0e3aa8-dffd-42b4-aaf1-dc3cb8c41e22",
   "metadata": {},
   "outputs": [
    {
     "data": {
      "text/plain": [
       "310"
      ]
     },
     "execution_count": 344,
     "metadata": {},
     "output_type": "execute_result"
    }
   ],
   "source": [
    "f(10)"
   ]
  },
  {
   "cell_type": "code",
   "execution_count": 346,
   "id": "d5a3a356-03df-46ac-ad2c-a47f9f94a1bb",
   "metadata": {},
   "outputs": [
    {
     "data": {
      "text/plain": [
       "[110, 120, 130, 140, 150]"
      ]
     },
     "execution_count": 346,
     "metadata": {},
     "output_type": "execute_result"
    }
   ],
   "source": [
    "# list comprehension - list append operation\n",
    "\n",
    "L = []\n",
    "\n",
    "for var in [10,20,30,40,50]:\n",
    "    r = var + 100\n",
    "    L.append(r)\n",
    "L"
   ]
  },
  {
   "cell_type": "code",
   "execution_count": 348,
   "id": "15f8549b-bc17-4bcc-8a70-69737cf841a9",
   "metadata": {},
   "outputs": [
    {
     "data": {
      "text/plain": [
       "[110, 120, 130, 140, 150]"
      ]
     },
     "execution_count": 348,
     "metadata": {},
     "output_type": "execute_result"
    }
   ],
   "source": [
    "[var+100 for var in [10,20,30,40,50]]"
   ]
  },
  {
   "cell_type": "code",
   "execution_count": 350,
   "id": "adbd2a34-f9b8-4e92-b095-7a66323cea03",
   "metadata": {},
   "outputs": [
    {
     "data": {
      "text/plain": [
       "[210, 220, 230, 140, 150]"
      ]
     },
     "execution_count": 350,
     "metadata": {},
     "output_type": "execute_result"
    }
   ],
   "source": [
    "L = []\n",
    "\n",
    "for var in [10,20,30,40,50]:\n",
    "    if(var >30):\n",
    "        r = var + 100\n",
    "        L.append(r)\n",
    "    else:\n",
    "        r = var + 200\n",
    "        L.append(r)\n",
    "L"
   ]
  },
  {
   "cell_type": "code",
   "execution_count": 352,
   "id": "550491a5-2f19-4130-9019-be3cf176a5b4",
   "metadata": {},
   "outputs": [
    {
     "data": {
      "text/plain": [
       "[210, 220, 230, 140, 150]"
      ]
     },
     "execution_count": 352,
     "metadata": {},
     "output_type": "execute_result"
    }
   ],
   "source": [
    "[ var + 100 if var >30  else var + 200 for var in [10,20,30,40,50]]"
   ]
  },
  {
   "cell_type": "code",
   "execution_count": 354,
   "id": "c0b3b43a-d928-4349-bae5-5e57b2b66917",
   "metadata": {},
   "outputs": [
    {
     "data": {
      "text/plain": [
       "{'K1': [210, 220, 230, 140, 150]}"
      ]
     },
     "execution_count": 354,
     "metadata": {},
     "output_type": "execute_result"
    }
   ],
   "source": [
    "d={}\n",
    "d['K1']=[ var + 100 if var >30  else var + 200 for var in [10,20,30,40,50]]\n",
    "d"
   ]
  },
  {
   "cell_type": "code",
   "execution_count": null,
   "id": "884091d3-e3f4-4a39-aa9d-e2783d4e4aa2",
   "metadata": {},
   "outputs": [],
   "source": [
    "generator \n",
    " - function returns an iterator (address) // generator \n",
    "            -----------------------------\n",
    "                    yield value"
   ]
  },
  {
   "cell_type": "code",
   "execution_count": 360,
   "id": "d52b0565-a1c4-4c0c-b156-309f73fe0620",
   "metadata": {},
   "outputs": [
    {
     "name": "stdout",
     "output_type": "stream",
     "text": [
      "<class 'function'> <class 'function'>\n",
      "<class 'int'> <class 'generator'>\n"
     ]
    },
    {
     "data": {
      "text/plain": [
       "<generator object f2 at 0x000002003DCF9900>"
      ]
     },
     "execution_count": 360,
     "metadata": {},
     "output_type": "execute_result"
    }
   ],
   "source": [
    "def f1():\n",
    "    return 10\n",
    "def f2():\n",
    "    yield 10\n",
    "\n",
    "print(type(f1),type(f2))\n",
    "print(type(f1()),type(f2()))\n",
    "f2()"
   ]
  },
  {
   "cell_type": "code",
   "execution_count": null,
   "id": "1af3c38c-242b-4c8e-9b59-3ac49438c6ff",
   "metadata": {},
   "outputs": [],
   "source": [
    "f() ->genObject\n",
    "         |->to open this address and get a value\n",
    "                  1. next(genObj) ->Value ... StopIterator\n",
    "                            <or>\n",
    "                  2. use for loop \n",
    "                         for var in genObj:\n",
    "                             value\n",
    "                            <or>\n",
    "                  3. we can typecast to list  -> list(genObj) "
   ]
  },
  {
   "cell_type": "code",
   "execution_count": 362,
   "id": "471081da-be16-4120-8fed-678c307032b5",
   "metadata": {},
   "outputs": [
    {
     "data": {
      "text/plain": [
       "<generator object fx at 0x000002003D837E80>"
      ]
     },
     "execution_count": 362,
     "metadata": {},
     "output_type": "execute_result"
    }
   ],
   "source": [
    "def fx():\n",
    "    yield 10\n",
    "    yield \"D1\",\"D2\"\n",
    "    yield \"D1\",[\"F1\",\"F2\",\"F3\"],[\"F4\",\"F5\"]\n",
    "\n",
    "fx()"
   ]
  },
  {
   "cell_type": "code",
   "execution_count": 366,
   "id": "4bbcdd3c-bcab-4855-8fb9-7aa98ca7a0f8",
   "metadata": {},
   "outputs": [
    {
     "name": "stdout",
     "output_type": "stream",
     "text": [
      "10\n",
      "('D1', 'D2')\n",
      "('D1', ['F1', 'F2', 'F3'], ['F4', 'F5'])\n"
     ]
    },
    {
     "ename": "StopIteration",
     "evalue": "",
     "output_type": "error",
     "traceback": [
      "\u001b[1;31m---------------------------------------------------------------------------\u001b[0m",
      "\u001b[1;31mStopIteration\u001b[0m                             Traceback (most recent call last)",
      "Cell \u001b[1;32mIn[366], line 5\u001b[0m\n\u001b[0;32m      3\u001b[0m \u001b[38;5;28mprint\u001b[39m(\u001b[38;5;28mnext\u001b[39m(genObj))\n\u001b[0;32m      4\u001b[0m \u001b[38;5;28mprint\u001b[39m(\u001b[38;5;28mnext\u001b[39m(genObj))\n\u001b[1;32m----> 5\u001b[0m \u001b[38;5;28mprint\u001b[39m(\u001b[38;5;28mnext\u001b[39m(genObj))\n",
      "\u001b[1;31mStopIteration\u001b[0m: "
     ]
    }
   ],
   "source": [
    "genObj = fx()\n",
    "print(next(genObj))\n",
    "print(next(genObj))\n",
    "print(next(genObj))\n",
    "print(next(genObj))"
   ]
  },
  {
   "cell_type": "code",
   "execution_count": 368,
   "id": "d30af22d-22ca-491b-9aa9-aad26775d064",
   "metadata": {},
   "outputs": [
    {
     "name": "stdout",
     "output_type": "stream",
     "text": [
      "10\n",
      "('D1', 'D2')\n",
      "('D1', ['F1', 'F2', 'F3'], ['F4', 'F5'])\n"
     ]
    }
   ],
   "source": [
    "genObj = fx()\n",
    "\n",
    "for var in genObj:\n",
    "    print(var)"
   ]
  },
  {
   "cell_type": "code",
   "execution_count": 370,
   "id": "27edf699-878a-49fc-86d1-6981cfbab358",
   "metadata": {},
   "outputs": [
    {
     "data": {
      "text/plain": [
       "[10, ('D1', 'D2'), ('D1', ['F1', 'F2', 'F3'], ['F4', 'F5'])]"
      ]
     },
     "execution_count": 370,
     "metadata": {},
     "output_type": "execute_result"
    }
   ],
   "source": [
    "genObj = fx()\n",
    "list(genObj)"
   ]
  },
  {
   "cell_type": "code",
   "execution_count": null,
   "id": "c4969ad7-3dea-4e5a-ab25-4ecea6fdd278",
   "metadata": {},
   "outputs": [],
   "source": [
    "   Excel \n",
    " - A1 to F5 ->generator \n",
    " - filesearch/foldersearch\n",
    " - recursive call "
   ]
  },
  {
   "cell_type": "code",
   "execution_count": 372,
   "id": "bc9fdf6b-8058-440f-923e-9ce4746508bd",
   "metadata": {},
   "outputs": [
    {
     "data": {
      "text/plain": [
       "['101,ram,sales,pune,1000\\n',\n",
       " '102,leo,prod,bglore,2000\\n',\n",
       " '103,anu,HR,hyd,3000\\n',\n",
       " '104,paul,sales,bglore,3200\\n',\n",
       " '423,zio,sales,pune,3420\\n',\n",
       " '142,anu,prod,chennai,4300\\n',\n",
       " '949,karthik,sales,bglore,3100\\n',\n",
       " '848,tom,hr,chennai,3940\\n',\n",
       " '931,vijay,prod,chennai,3411']"
      ]
     },
     "execution_count": 372,
     "metadata": {},
     "output_type": "execute_result"
    }
   ],
   "source": [
    "fobj = open('emp.csv')\n",
    "list(fobj) "
   ]
  },
  {
   "cell_type": "code",
   "execution_count": 374,
   "id": "47c79216-badf-4df7-a1c9-2d465c1b3fd6",
   "metadata": {},
   "outputs": [
    {
     "name": "stdout",
     "output_type": "stream",
     "text": [
      "101,ram,sales,pune,1000\n",
      "102,leo,prod,bglore,2000\n",
      "103,anu,HR,hyd,3000\n",
      "104,paul,sales,bglore,3200\n",
      "423,zio,sales,pune,3420\n",
      "142,anu,prod,chennai,4300\n",
      "949,karthik,sales,bglore,3100\n",
      "848,tom,hr,chennai,3940\n",
      "931,vijay,prod,chennai,3411\n"
     ]
    }
   ],
   "source": [
    "fobj = open('emp.csv')\n",
    "for var in fobj:\n",
    "    print(var.strip())"
   ]
  },
  {
   "cell_type": "code",
   "execution_count": 376,
   "id": "5ead4a08-0ad0-41fe-be4a-74456fe4df85",
   "metadata": {},
   "outputs": [
    {
     "data": {
      "text/plain": [
       "{'CSV': ['101,ram,sales,pune,1000\\n',\n",
       "  '102,leo,prod,bglore,2000\\n',\n",
       "  '103,anu,HR,hyd,3000\\n',\n",
       "  '104,paul,sales,bglore,3200\\n',\n",
       "  '423,zio,sales,pune,3420\\n',\n",
       "  '142,anu,prod,chennai,4300\\n',\n",
       "  '949,karthik,sales,bglore,3100\\n',\n",
       "  '848,tom,hr,chennai,3940\\n',\n",
       "  '931,vijay,prod,chennai,3411']}"
      ]
     },
     "execution_count": 376,
     "metadata": {},
     "output_type": "execute_result"
    }
   ],
   "source": [
    "d={} # create an empty dict\n",
    "fobj = open('emp.csv')\n",
    "d['CSV'] = list(fobj) # adding new data to an existing dict\n",
    "d"
   ]
  },
  {
   "cell_type": "code",
   "execution_count": null,
   "id": "f8f3b515-4db5-4fea-83da-df62564338e9",
   "metadata": {},
   "outputs": [],
   "source": [
    "map(<function>,collection) -> generator \n",
    "     |          |\n",
    "    lambda  comprehension/iterableobject/collection\n",
    "\n",
    "filter(<function>,collection) -> generator\n",
    "        |          |\n",
    "       lambda  comprehension/iterableobject/collection"
   ]
  },
  {
   "cell_type": "markdown",
   "id": "63461d03-e37e-42e2-87cd-6fde0821393a",
   "metadata": {},
   "source": [
    "L = []\n",
    "def f1(a):       -------\n",
    "    return a+100  ------   // lambda a:a+100\n",
    "for var in [10,20,30,40,50]: //input----|\n",
    "    r = f1(var)\n",
    "    L.append(r)\n",
    "L\n",
    "map(lambda a:a+100,[10,20,30,40,50])"
   ]
  },
  {
   "cell_type": "code",
   "execution_count": 378,
   "id": "ef0c6dd1-512b-4342-a388-e7dd7c4c49f8",
   "metadata": {},
   "outputs": [
    {
     "data": {
      "text/plain": [
       "<map at 0x2003e4fa5c0>"
      ]
     },
     "execution_count": 378,
     "metadata": {},
     "output_type": "execute_result"
    }
   ],
   "source": [
    "map(lambda a:a+100,[10,20,30,40,50])"
   ]
  },
  {
   "cell_type": "code",
   "execution_count": 380,
   "id": "dcb492b9-81fd-4b1d-9cb9-fa8009d61d06",
   "metadata": {},
   "outputs": [
    {
     "data": {
      "text/plain": [
       "[110, 120, 130, 140, 150]"
      ]
     },
     "execution_count": 380,
     "metadata": {},
     "output_type": "execute_result"
    }
   ],
   "source": [
    "f = map(lambda a:a+100,[10,20,30,40,50])\n",
    "list(f)"
   ]
  },
  {
   "cell_type": "code",
   "execution_count": 382,
   "id": "25df2dc1-9ee2-4065-84f9-62acb3732932",
   "metadata": {},
   "outputs": [
    {
     "name": "stdout",
     "output_type": "stream",
     "text": [
      "110\n",
      "120\n",
      "130\n",
      "140\n",
      "150\n"
     ]
    }
   ],
   "source": [
    "f = map(lambda a:a+100,[10,20,30,40,50])\n",
    "for var in f:\n",
    "    print(var)"
   ]
  },
  {
   "cell_type": "code",
   "execution_count": 386,
   "id": "612feec0-60b8-42d0-b272-fffe2ee4c0aa",
   "metadata": {},
   "outputs": [
    {
     "name": "stdout",
     "output_type": "stream",
     "text": [
      "110\n",
      "120\n",
      "130\n",
      "140\n",
      "150\n"
     ]
    },
    {
     "ename": "StopIteration",
     "evalue": "",
     "output_type": "error",
     "traceback": [
      "\u001b[1;31m---------------------------------------------------------------------------\u001b[0m",
      "\u001b[1;31mStopIteration\u001b[0m                             Traceback (most recent call last)",
      "Cell \u001b[1;32mIn[386], line 7\u001b[0m\n\u001b[0;32m      5\u001b[0m \u001b[38;5;28mprint\u001b[39m(\u001b[38;5;28mnext\u001b[39m(f))\n\u001b[0;32m      6\u001b[0m \u001b[38;5;28mprint\u001b[39m(\u001b[38;5;28mnext\u001b[39m(f))\n\u001b[1;32m----> 7\u001b[0m \u001b[38;5;28mprint\u001b[39m(\u001b[38;5;28mnext\u001b[39m(f))\n",
      "\u001b[1;31mStopIteration\u001b[0m: "
     ]
    }
   ],
   "source": [
    "f = map(lambda a:a+100,[10,20,30,40,50])\n",
    "print(next(f))\n",
    "print(next(f))\n",
    "print(next(f))\n",
    "print(next(f))\n",
    "print(next(f))\n",
    "print(next(f))"
   ]
  },
  {
   "cell_type": "code",
   "execution_count": 388,
   "id": "598cf74c-878d-4765-a884-60e24e0c5adc",
   "metadata": {},
   "outputs": [
    {
     "data": {
      "text/plain": [
       "[False, False, True, True, True, False]"
      ]
     },
     "execution_count": 388,
     "metadata": {},
     "output_type": "execute_result"
    }
   ],
   "source": [
    "def fx(a):\n",
    "    if (a >10):\n",
    "        return True\n",
    "    else:\n",
    "        return False\n",
    "\n",
    "L=[]\n",
    "for var in [5,7,12,15,34,3]:\n",
    "    r = fx(var)\n",
    "    L.append(r)\n",
    "L"
   ]
  },
  {
   "cell_type": "code",
   "execution_count": 390,
   "id": "6dd87fea-2a8b-4cbc-8725-9b0031e6bb4d",
   "metadata": {},
   "outputs": [
    {
     "data": {
      "text/plain": [
       "[False, False, True, True, True, False]"
      ]
     },
     "execution_count": 390,
     "metadata": {},
     "output_type": "execute_result"
    }
   ],
   "source": [
    "f = map(lambda a: a>10,[5,7,12,15,34,3])\n",
    "list(f)"
   ]
  },
  {
   "cell_type": "code",
   "execution_count": 392,
   "id": "a560c424-917e-4f99-9526-8aac9d78ac23",
   "metadata": {},
   "outputs": [
    {
     "data": {
      "text/plain": [
       "[15, 17, 22, 25, 44, 13]"
      ]
     },
     "execution_count": 392,
     "metadata": {},
     "output_type": "execute_result"
    }
   ],
   "source": [
    "f = map(lambda a: a+10,[5,7,12,15,34,3])\n",
    "list(f)"
   ]
  },
  {
   "cell_type": "code",
   "execution_count": 394,
   "id": "7587de8c-93fb-4430-bd7d-7ee8acb648f3",
   "metadata": {},
   "outputs": [
    {
     "data": {
      "text/plain": [
       "[12, 15, 34]"
      ]
     },
     "execution_count": 394,
     "metadata": {},
     "output_type": "execute_result"
    }
   ],
   "source": [
    "f = filter(lambda a: a>10,[5,7,12,15,34,3])\n",
    "list(f)"
   ]
  },
  {
   "cell_type": "code",
   "execution_count": 400,
   "id": "dcdb2c0c-67e4-4413-bc2b-8cd64d3d3579",
   "metadata": {},
   "outputs": [
    {
     "data": {
      "text/plain": [
       "<enumerate at 0x2003df456c0>"
      ]
     },
     "execution_count": 400,
     "metadata": {},
     "output_type": "execute_result"
    }
   ],
   "source": [
    "#help(enumerate)\n",
    "\n",
    "s='hello'\n",
    "enumerate(s)\n"
   ]
  },
  {
   "cell_type": "code",
   "execution_count": 402,
   "id": "7f0966fa-8d65-4a19-a695-da3e4de061ae",
   "metadata": {},
   "outputs": [
    {
     "name": "stdout",
     "output_type": "stream",
     "text": [
      "(0, 'h')\n",
      "(1, 'e')\n",
      "(2, 'l')\n",
      "(3, 'l')\n",
      "(4, 'o')\n"
     ]
    }
   ],
   "source": [
    "for var in enumerate(s):\n",
    "    print(var)"
   ]
  },
  {
   "cell_type": "code",
   "execution_count": 404,
   "id": "06ef1591-e054-400d-9cdd-c829b59ed71a",
   "metadata": {},
   "outputs": [
    {
     "name": "stdout",
     "output_type": "stream",
     "text": [
      "(1, 'h')\n",
      "(2, 'e')\n",
      "(3, 'l')\n",
      "(4, 'l')\n",
      "(5, 'o')\n"
     ]
    }
   ],
   "source": [
    "for var in enumerate(s,1):\n",
    "    print(var)"
   ]
  },
  {
   "cell_type": "code",
   "execution_count": 406,
   "id": "b45e4baf-29ab-4bd6-ba8a-015263737b74",
   "metadata": {},
   "outputs": [
    {
     "name": "stdout",
     "output_type": "stream",
     "text": [
      "(10, 'h')\n",
      "(11, 'e')\n",
      "(12, 'l')\n",
      "(13, 'l')\n",
      "(14, 'o')\n"
     ]
    }
   ],
   "source": [
    "for var in enumerate(s,10):\n",
    "    print(var)"
   ]
  },
  {
   "cell_type": "code",
   "execution_count": 408,
   "id": "60052e1d-8781-474e-95fd-9c1024797cb7",
   "metadata": {},
   "outputs": [
    {
     "name": "stdout",
     "output_type": "stream",
     "text": [
      "(0, '101,ram,sales,pune,1000\\n')\n",
      "(1, '102,leo,prod,bglore,2000\\n')\n",
      "(2, '103,anu,HR,hyd,3000\\n')\n",
      "(3, '104,paul,sales,bglore,3200\\n')\n",
      "(4, '423,zio,sales,pune,3420\\n')\n",
      "(5, '142,anu,prod,chennai,4300\\n')\n",
      "(6, '949,karthik,sales,bglore,3100\\n')\n",
      "(7, '848,tom,hr,chennai,3940\\n')\n",
      "(8, '931,vijay,prod,chennai,3411')\n"
     ]
    }
   ],
   "source": [
    "for var in enumerate(open('emp.csv')):\n",
    "    print(var)"
   ]
  },
  {
   "cell_type": "code",
   "execution_count": 410,
   "id": "bc4ac8bd-a691-4561-abce-f0dc14b0a95c",
   "metadata": {},
   "outputs": [
    {
     "name": "stdout",
     "output_type": "stream",
     "text": [
      "(1, '101,ram,sales,pune,1000\\n')\n",
      "(2, '102,leo,prod,bglore,2000\\n')\n",
      "(3, '103,anu,HR,hyd,3000\\n')\n",
      "(4, '104,paul,sales,bglore,3200\\n')\n",
      "(5, '423,zio,sales,pune,3420\\n')\n",
      "(6, '142,anu,prod,chennai,4300\\n')\n",
      "(7, '949,karthik,sales,bglore,3100\\n')\n",
      "(8, '848,tom,hr,chennai,3940\\n')\n",
      "(9, '931,vijay,prod,chennai,3411')\n"
     ]
    }
   ],
   "source": [
    "for var in enumerate(open('emp.csv'),1):\n",
    "    print(var)"
   ]
  },
  {
   "cell_type": "code",
   "execution_count": 412,
   "id": "74edf56e-a31d-465a-9b1c-175dce2ca5ab",
   "metadata": {},
   "outputs": [
    {
     "name": "stdout",
     "output_type": "stream",
     "text": [
      "1 - 101,ram,sales,pune,1000\n",
      "2 - 102,leo,prod,bglore,2000\n",
      "3 - 103,anu,HR,hyd,3000\n",
      "4 - 104,paul,sales,bglore,3200\n",
      "5 - 423,zio,sales,pune,3420\n",
      "6 - 142,anu,prod,chennai,4300\n",
      "7 - 949,karthik,sales,bglore,3100\n",
      "8 - 848,tom,hr,chennai,3940\n",
      "9 - 931,vijay,prod,chennai,3411\n"
     ]
    }
   ],
   "source": [
    "for var in enumerate(open('emp.csv'),1):\n",
    "    line,data = var\n",
    "    print(f'{line} - {data.strip()}') "
   ]
  },
  {
   "cell_type": "code",
   "execution_count": null,
   "id": "0544a16a-a026-462e-ba32-e92ea74cf0a6",
   "metadata": {},
   "outputs": [],
   "source": []
  }
 ],
 "metadata": {
  "kernelspec": {
   "display_name": "Python 3 (ipykernel)",
   "language": "python",
   "name": "python3"
  },
  "language_info": {
   "codemirror_mode": {
    "name": "ipython",
    "version": 3
   },
   "file_extension": ".py",
   "mimetype": "text/x-python",
   "name": "python",
   "nbconvert_exporter": "python",
   "pygments_lexer": "ipython3",
   "version": "3.12.3"
  }
 },
 "nbformat": 4,
 "nbformat_minor": 5
}
