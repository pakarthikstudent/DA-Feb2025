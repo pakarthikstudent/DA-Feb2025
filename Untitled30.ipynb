{
 "cells": [
  {
   "cell_type": "code",
   "execution_count": null,
   "id": "e4df66c3-daf8-4426-bc36-322de9482c6e",
   "metadata": {},
   "outputs": [],
   "source": [
    "Recap\n",
    "------\n",
    "return Vs yield \n",
    "\n",
    "function definition - return - exit from the definition"
   ]
  },
  {
   "cell_type": "code",
   "execution_count": 1,
   "id": "01ed7110-26c7-4a35-8fc9-6c6ab404ac8c",
   "metadata": {},
   "outputs": [
    {
     "data": {
      "text/plain": [
       "10"
      ]
     },
     "execution_count": 1,
     "metadata": {},
     "output_type": "execute_result"
    }
   ],
   "source": [
    "def f1():\n",
    "    return 10\n",
    "    print(\"Hello\") # this line won't print\n",
    "\n",
    "f1()"
   ]
  },
  {
   "cell_type": "code",
   "execution_count": 3,
   "id": "e2468db7-5d14-4685-a686-cd5009339744",
   "metadata": {},
   "outputs": [
    {
     "data": {
      "text/plain": [
       "10"
      ]
     },
     "execution_count": 3,
     "metadata": {},
     "output_type": "execute_result"
    }
   ],
   "source": [
    "f1()"
   ]
  },
  {
   "cell_type": "code",
   "execution_count": null,
   "id": "2fd3f32d-bfcc-4485-afe2-86ed30d8f1b3",
   "metadata": {},
   "outputs": [],
   "source": [
    "generator - function - returns an iterator(Address)\n",
    "                      -----------------------------// yield "
   ]
  },
  {
   "cell_type": "code",
   "execution_count": 5,
   "id": "b6b86b27-340b-4313-85b4-03e7398299ae",
   "metadata": {},
   "outputs": [
    {
     "data": {
      "text/plain": [
       "<generator object f2 at 0x00000228D21328C0>"
      ]
     },
     "execution_count": 5,
     "metadata": {},
     "output_type": "execute_result"
    }
   ],
   "source": [
    "def f2():\n",
    "    yield 10         #   Vs  return 10 ->exit from the definition\n",
    "    print(\"Hello\")\n",
    "    yield 20\n",
    "    yield 30,40\n",
    "f2()"
   ]
  },
  {
   "cell_type": "code",
   "execution_count": 7,
   "id": "33e7e213-d259-448d-a439-12387b1a32fa",
   "metadata": {},
   "outputs": [
    {
     "name": "stdout",
     "output_type": "stream",
     "text": [
      "Hello\n"
     ]
    },
    {
     "data": {
      "text/plain": [
       "[10, 20, (30, 40)]"
      ]
     },
     "execution_count": 7,
     "metadata": {},
     "output_type": "execute_result"
    }
   ],
   "source": [
    "gObj=f2()\n",
    "list(gObj)"
   ]
  },
  {
   "cell_type": "code",
   "execution_count": 9,
   "id": "03335156-26bf-466a-9801-9f52ab0bbee1",
   "metadata": {},
   "outputs": [
    {
     "data": {
      "text/plain": [
       "[15, 25, 35]"
      ]
     },
     "execution_count": 9,
     "metadata": {},
     "output_type": "execute_result"
    }
   ],
   "source": [
    "def f1(a=0):\n",
    "    n=5\n",
    "    return a+n\n",
    "\n",
    "L=[]\n",
    "for var in [10,20,30]:\n",
    "    r=f1(var) # function call - 3 times\n",
    "    L.append(r)\n",
    "L"
   ]
  },
  {
   "cell_type": "code",
   "execution_count": null,
   "id": "7f4a8b64-81b8-4482-bfc7-fdaacc06d6df",
   "metadata": {},
   "outputs": [],
   "source": [
    "def f1(a=0):\n",
    "    n=5\n",
    "    return a+n # exit from the definition\n",
    "    return a+n # won't execute this line\n",
    "    return a+n # won't execute this line\n",
    "\n",
    "# Vs\n",
    "\n",
    "def f2(a=0):\n",
    "    return a+n\n",
    "\n",
    "f2(5)\n",
    "f2(10)\n",
    "f2(15)"
   ]
  },
  {
   "cell_type": "code",
   "execution_count": 11,
   "id": "55c7e76c-1a8d-438a-a019-192bcc5f6dc4",
   "metadata": {},
   "outputs": [
    {
     "name": "stdout",
     "output_type": "stream",
     "text": [
      "a 0x7ffb102750d8\n",
      "a 0x7ffb102750d8\n",
      "0x7ffb1026dce0\n"
     ]
    }
   ],
   "source": [
    "s='abacb'\n",
    "\n",
    "# | a | b | a | c | b |\n",
    "# | 0 | 1 | 2 | 3 | 4 | <== index\n",
    "# 0x1  0x2 0x1 0x3 0x2\n",
    "\n",
    "print(s[0],hex(id(s[0])))\n",
    "print(s[2],hex(id(s[2])))\n",
    "print(hex(id('a')))"
   ]
  },
  {
   "cell_type": "code",
   "execution_count": 13,
   "id": "75fd92ea-5856-42f5-962b-d9adc779beaa",
   "metadata": {},
   "outputs": [
    {
     "data": {
      "text/plain": [
       "<str_ascii_iterator at 0x228d33d46d0>"
      ]
     },
     "execution_count": 13,
     "metadata": {},
     "output_type": "execute_result"
    }
   ],
   "source": [
    "iter(s)"
   ]
  },
  {
   "cell_type": "code",
   "execution_count": 15,
   "id": "d0f9e9e0-c498-4caa-81e2-82e70814cb1e",
   "metadata": {},
   "outputs": [
    {
     "data": {
      "text/plain": [
       "['a', 'b', 'a', 'c', 'b']"
      ]
     },
     "execution_count": 15,
     "metadata": {},
     "output_type": "execute_result"
    }
   ],
   "source": [
    "obj = iter(s)\n",
    "list(obj)"
   ]
  },
  {
   "cell_type": "code",
   "execution_count": 17,
   "id": "eb929003-4448-4968-9c9b-16cf59444043",
   "metadata": {},
   "outputs": [
    {
     "name": "stdout",
     "output_type": "stream",
     "text": [
      "a\n",
      "b\n",
      "a\n",
      "c\n",
      "b\n"
     ]
    }
   ],
   "source": [
    "obj = iter(s)\n",
    "for var in obj:\n",
    "    print(var)"
   ]
  },
  {
   "cell_type": "code",
   "execution_count": 21,
   "id": "a4f9ff01-72ad-4ebd-93c8-67b39d8c6831",
   "metadata": {},
   "outputs": [
    {
     "name": "stdout",
     "output_type": "stream",
     "text": [
      "a\n",
      "b\n",
      "a\n",
      "c\n",
      "b\n"
     ]
    },
    {
     "ename": "StopIteration",
     "evalue": "",
     "output_type": "error",
     "traceback": [
      "\u001b[1;31m---------------------------------------------------------------------------\u001b[0m",
      "\u001b[1;31mStopIteration\u001b[0m                             Traceback (most recent call last)",
      "Cell \u001b[1;32mIn[21], line 7\u001b[0m\n\u001b[0;32m      5\u001b[0m \u001b[38;5;28mprint\u001b[39m(\u001b[38;5;28mnext\u001b[39m(obj))\n\u001b[0;32m      6\u001b[0m \u001b[38;5;28mprint\u001b[39m(\u001b[38;5;28mnext\u001b[39m(obj))\n\u001b[1;32m----> 7\u001b[0m \u001b[38;5;28mprint\u001b[39m(\u001b[38;5;28mnext\u001b[39m(obj))\n",
      "\u001b[1;31mStopIteration\u001b[0m: "
     ]
    }
   ],
   "source": [
    "obj = iter(s)\n",
    "print(next(obj))\n",
    "print(next(obj))\n",
    "print(next(obj))\n",
    "print(next(obj))\n",
    "print(next(obj))\n",
    "print(next(obj))"
   ]
  },
  {
   "cell_type": "code",
   "execution_count": null,
   "id": "ccfbc7a3-70dc-4d0a-8d6b-33809701eead",
   "metadata": {},
   "outputs": [],
   "source": [
    "In Python OOPs style\n",
    "---------------------\n",
    " \\-> class\n",
    " \\-> object\n",
    " \\-> method\n",
    "         \\-->constructor \n",
    "         \\-->non-constructor\n",
    "         \\-->decorator \n",
    " \\-> inheritance\n",
    " ....................................\n"
   ]
  },
  {
   "cell_type": "code",
   "execution_count": null,
   "id": "11bdf1e5-de3f-46c3-8b76-9490b8e1e933",
   "metadata": {},
   "outputs": [],
   "source": [
    "int float str bool bytes NoneType list tuple dict set //types - class\n",
    "\n",
    "user defined class\n",
    "- type\n",
    "- attributes\n",
    "- blueprint of an object\n",
    "- mutable (we can add new attribute ; we can modify an existing attribute\n",
    "           we can delete an existing attribute )\n",
    "\n",
    "class <className>:\n",
    "    <attribute>\n",
    "\n",
    "<className>.<attribute>"
   ]
  },
  {
   "cell_type": "code",
   "execution_count": 23,
   "id": "90636b19-2c1c-410d-98ea-b34015a6275e",
   "metadata": {},
   "outputs": [],
   "source": [
    "class product:\n",
    "    ''' This is product class'''\n",
    "    pid = 101\n",
    "    pname = 'prodA'"
   ]
  },
  {
   "cell_type": "code",
   "execution_count": 27,
   "id": "67febbdf-a249-41ad-aec8-8b6bafe1889e",
   "metadata": {},
   "outputs": [
    {
     "name": "stdout",
     "output_type": "stream",
     "text": [
      "<class 'type'>\n",
      "<class 'type'> <class 'type'> <class 'type'> <class 'type'>\n"
     ]
    }
   ],
   "source": [
    "print(type(product))\n",
    "print(type(int),type(float),type(str),type(list))"
   ]
  },
  {
   "cell_type": "code",
   "execution_count": 33,
   "id": "a87bb5cc-6866-4e79-b26c-272382d9100d",
   "metadata": {},
   "outputs": [
    {
     "name": "stdout",
     "output_type": "stream",
     "text": [
      "101 prodA\n"
     ]
    }
   ],
   "source": [
    "print(product.pid,product.pname)"
   ]
  },
  {
   "cell_type": "code",
   "execution_count": 35,
   "id": "0266f5df-d202-4d10-bd59-f17392341833",
   "metadata": {},
   "outputs": [
    {
     "ename": "NameError",
     "evalue": "name 'Var' is not defined",
     "output_type": "error",
     "traceback": [
      "\u001b[1;31m---------------------------------------------------------------------------\u001b[0m",
      "\u001b[1;31mNameError\u001b[0m                                 Traceback (most recent call last)",
      "Cell \u001b[1;32mIn[35], line 2\u001b[0m\n\u001b[0;32m      1\u001b[0m var\u001b[38;5;241m=\u001b[39m\u001b[38;5;241m120\u001b[39m\n\u001b[1;32m----> 2\u001b[0m \u001b[38;5;28mprint\u001b[39m(Var)\n",
      "\u001b[1;31mNameError\u001b[0m: name 'Var' is not defined"
     ]
    }
   ],
   "source": [
    "var=120\n",
    "print(Var)"
   ]
  },
  {
   "cell_type": "code",
   "execution_count": 39,
   "id": "f25f3f29-ddbe-408a-9f4d-ed93352ed82e",
   "metadata": {},
   "outputs": [
    {
     "ename": "AttributeError",
     "evalue": "type object 'product' has no attribute 'Pname'",
     "output_type": "error",
     "traceback": [
      "\u001b[1;31m---------------------------------------------------------------------------\u001b[0m",
      "\u001b[1;31mAttributeError\u001b[0m                            Traceback (most recent call last)",
      "Cell \u001b[1;32mIn[39], line 1\u001b[0m\n\u001b[1;32m----> 1\u001b[0m product\u001b[38;5;241m.\u001b[39mPname\n",
      "\u001b[1;31mAttributeError\u001b[0m: type object 'product' has no attribute 'Pname'"
     ]
    }
   ],
   "source": [
    "product.Pname"
   ]
  },
  {
   "cell_type": "code",
   "execution_count": 41,
   "id": "a67dab2e-2472-47a3-ab32-32bbe3ebaeed",
   "metadata": {},
   "outputs": [
    {
     "name": "stdout",
     "output_type": "stream",
     "text": [
      "101 B1\n"
     ]
    }
   ],
   "source": [
    "# python user defined class is mutable (we can add;modify;delete) \n",
    "\n",
    "class box:\n",
    "    box_id = 101\n",
    "    box_name = \"B1\"\n",
    "\n",
    "print(box.box_id,box.box_name)\n",
    "\n",
    "box.box_name = \"HDD-Box\" # we can modify an existing class attribute\n",
    "\n",
    "del(box.box_id) # we can delete an existing class attribute\n",
    "\n",
    "box.box_Cost = 100.32 # we can new attribute to an existing class"
   ]
  },
  {
   "cell_type": "code",
   "execution_count": 43,
   "id": "88a7da31-dd99-4a39-9e39-4df589295c9f",
   "metadata": {},
   "outputs": [
    {
     "ename": "AttributeError",
     "evalue": "type object 'box' has no attribute 'box_id'",
     "output_type": "error",
     "traceback": [
      "\u001b[1;31m---------------------------------------------------------------------------\u001b[0m",
      "\u001b[1;31mAttributeError\u001b[0m                            Traceback (most recent call last)",
      "Cell \u001b[1;32mIn[43], line 1\u001b[0m\n\u001b[1;32m----> 1\u001b[0m \u001b[38;5;28mprint\u001b[39m(box\u001b[38;5;241m.\u001b[39mbox_id)\n",
      "\u001b[1;31mAttributeError\u001b[0m: type object 'box' has no attribute 'box_id'"
     ]
    }
   ],
   "source": [
    "print(box.box_id)"
   ]
  },
  {
   "cell_type": "code",
   "execution_count": 45,
   "id": "4513103f-f46c-4e99-89d9-6cbac06210be",
   "metadata": {},
   "outputs": [
    {
     "name": "stdout",
     "output_type": "stream",
     "text": [
      "HDD-Box 100.32\n"
     ]
    }
   ],
   "source": [
    "print(box.box_name,box.box_Cost)"
   ]
  },
  {
   "cell_type": "code",
   "execution_count": 47,
   "id": "1a502454-722b-413c-8a2b-605e033a2fe1",
   "metadata": {},
   "outputs": [
    {
     "name": "stdout",
     "output_type": "stream",
     "text": [
      "120\n",
      "500\n",
      "600\n"
     ]
    }
   ],
   "source": [
    "class cname:\n",
    "    cv=120\n",
    "\n",
    "print(cname.cv) # 120\n",
    "\n",
    "cname.cv = 500 # now the value 120 overwrite -> 500\n",
    "print(cname.cv) # 500\n",
    "cname.cv = 600 # now the value 500 overwrite -> 600\n",
    "print(cname.cv) # 600"
   ]
  },
  {
   "cell_type": "code",
   "execution_count": 49,
   "id": "209196d5-14be-4880-8caf-b8147d889540",
   "metadata": {},
   "outputs": [
    {
     "data": {
      "text/plain": [
       "600"
      ]
     },
     "execution_count": 49,
     "metadata": {},
     "output_type": "execute_result"
    }
   ],
   "source": [
    "cname.cv"
   ]
  },
  {
   "cell_type": "code",
   "execution_count": null,
   "id": "8bbf2cd5-7126-428e-beb3-0e8e8643cf3e",
   "metadata": {},
   "outputs": [],
   "source": [
    "  +-----------------------+\n",
    "  | [] |  |  [   ] [  ]   |\n",
    "  |           (white)     |  <== blueprint sheet  - class \n",
    "  +-----------------------+\n",
    "\n",
    " +-------+   +--------+\n",
    " |[]|[][]|   |[]|[][] |\n",
    " +-------+   +--------+\n",
    "   B1            B2      ... Bn <== Building (real entity) - object\n",
    " 1st main      2nd main  .. nth <== address ( memory)\n",
    "\n",
    "each object having own state (memory)\n",
    "\n",
    "\n",
    "class className:\n",
    "     ....\n",
    "\n",
    "object = className() <= Constructor \n",
    "         -----------\n",
    "\n",
    ">>> class box:\n",
    "...     bid=101\n",
    "...\n",
    ">>> box\n",
    "<class '__main__.box'>\n",
    ">>>\n",
    ">>> box()\n",
    "<__main__.box object at 0x000002145D1B41A0>\n",
    ">>>\n",
    ">>> box()\n",
    "<__main__.box object at 0x000002145D0CB4D0>\n",
    ">>>\n",
    ">>> obj1 = box()\n",
    ">>>\n",
    ">>> obj2 = box()\n",
    ">>>\n",
    ">>> type(obj1)\n",
    "<class '__main__.box'>\n",
    ">>>\n",
    ">>> type(obj2)\n",
    "<class '__main__.box'>\n",
    ">>>\n",
    ">>> box.bid\n",
    "101\n",
    ">>> obj1.bid\n",
    "101\n",
    ">>> obj2.bid\n",
    "101\n",
    ">>> box.bid = 5678\n",
    ">>>\n",
    ">>> obj1.bid\n",
    "5678\n",
    ">>> obj2.bid\n",
    "5678\n",
    ">>> box.bid\n",
    "5678\n",
    ">>> obj1.bid = 'B-123'\n",
    ">>>\n",
    ">>> obj1.bid\n",
    "'B-123'\n",
    ">>>\n",
    ">>> obj2.bid\n",
    "5678\n",
    ">>> box.bid = 999\n",
    ">>> obj1.bid\n",
    "'B-123'\n",
    ">>> obj2.bid\n",
    "999\n",
    ">>> obj2.bid = 'F-567'\n",
    ">>>\n",
    ">>> box.bid=765\n",
    ">>> box.bid\n",
    "765\n",
    ">>> obj1.bid\n",
    "'B-123'\n",
    ">>> obj2.bid\n",
    "'F-567'\n",
    ">>>\n",
    ">>> obj3 = box()\n",
    ">>> obj3.bid\n",
    "765\n",
    ">>>"
   ]
  },
  {
   "cell_type": "code",
   "execution_count": 51,
   "id": "c6e45eb5-8518-4e85-a236-ea5971afe59a",
   "metadata": {},
   "outputs": [],
   "source": [
    "class Enrollment:\n",
    "    Name = \"\"\n",
    "    DOB = \"\"\n",
    "    DEPT = \"\""
   ]
  },
  {
   "cell_type": "code",
   "execution_count": 55,
   "id": "60735a0b-5acc-414c-964e-0ab0d68aec27",
   "metadata": {},
   "outputs": [],
   "source": [
    "eobj1 = Enrollment()\n",
    "eobj1.Name = 'Anu'\n",
    "eobj1.DOB = '1st Jan'\n",
    "eobj1.DEPT = 'Sales'\n",
    "\n",
    "eobj2 = Enrollment()\n",
    "eobj2.Name = 'Vijay'\n",
    "eobj2.DOB = '2nd Feb'\n",
    "eobj2.DEPT = 'HR'\n",
    "\n",
    "eobj3 = Enrollment()\n",
    "eobj3.Name = 'Leo'\n",
    "eobj3.DOB = '3rd March'\n",
    "eobj3.DEPT = 'QA'\n",
    "\n",
    "eobj4 = Enrollment()\n",
    "eobj4.Name = 'Anu'\n",
    "eobj4.DOB = '1st Jan'\n",
    "eobj4.DEPT = 'Sales'\n",
    "\n",
    "\n"
   ]
  },
  {
   "cell_type": "code",
   "execution_count": 57,
   "id": "b6f526c0-ae3e-4df0-b96c-e1ee1108b582",
   "metadata": {},
   "outputs": [
    {
     "name": "stdout",
     "output_type": "stream",
     "text": [
      "Anu 1st Jan Sales\n",
      "Vijay 2nd Feb HR\n",
      "Leo 3rd March QA\n",
      "Anu 1st Jan Sales\n"
     ]
    }
   ],
   "source": [
    "print(eobj1.Name,eobj1.DOB,eobj1.DEPT)\n",
    "print(eobj2.Name,eobj2.DOB,eobj2.DEPT)\n",
    "print(eobj3.Name,eobj3.DOB,eobj3.DEPT)\n",
    "print(eobj4.Name,eobj4.DOB,eobj4.DEPT)"
   ]
  },
  {
   "cell_type": "code",
   "execution_count": 59,
   "id": "989d7f62-1d92-4bcd-8eb0-a89af6d403f6",
   "metadata": {},
   "outputs": [],
   "source": [
    "eobj4.DEPT = 'DBA' # updating dept"
   ]
  },
  {
   "cell_type": "code",
   "execution_count": 61,
   "id": "d23ef47c-b722-4b24-a03b-9a30ae6a1426",
   "metadata": {},
   "outputs": [
    {
     "name": "stdout",
     "output_type": "stream",
     "text": [
      "Anu 1st Jan Sales\n",
      "Vijay 2nd Feb HR\n",
      "Leo 3rd March QA\n",
      "Anu 1st Jan DBA\n"
     ]
    }
   ],
   "source": [
    "print(eobj1.Name,eobj1.DOB,eobj1.DEPT)\n",
    "print(eobj2.Name,eobj2.DOB,eobj2.DEPT)\n",
    "print(eobj3.Name,eobj3.DOB,eobj3.DEPT)\n",
    "print(eobj4.Name,eobj4.DOB,eobj4.DEPT)"
   ]
  },
  {
   "cell_type": "code",
   "execution_count": 63,
   "id": "393a13e4-1306-4f0e-a868-7a07371f484b",
   "metadata": {},
   "outputs": [
    {
     "ename": "AttributeError",
     "evalue": "'Enrollment' object has no attribute 'PLACE'",
     "output_type": "error",
     "traceback": [
      "\u001b[1;31m---------------------------------------------------------------------------\u001b[0m",
      "\u001b[1;31mAttributeError\u001b[0m                            Traceback (most recent call last)",
      "Cell \u001b[1;32mIn[63], line 1\u001b[0m\n\u001b[1;32m----> 1\u001b[0m eobj1\u001b[38;5;241m.\u001b[39mPLACE\n",
      "\u001b[1;31mAttributeError\u001b[0m: 'Enrollment' object has no attribute 'PLACE'"
     ]
    }
   ],
   "source": [
    "eobj1.PLACE"
   ]
  },
  {
   "cell_type": "code",
   "execution_count": 65,
   "id": "9bed92b3-effd-4f72-af2f-90cb696c6451",
   "metadata": {},
   "outputs": [],
   "source": [
    "Enrollment.PLACE = '' # adding new attribute to an existing class"
   ]
  },
  {
   "cell_type": "code",
   "execution_count": 69,
   "id": "02b5e2ae-3487-43d9-aba8-025da52fea9c",
   "metadata": {},
   "outputs": [
    {
     "name": "stdout",
     "output_type": "stream",
     "text": [
      "   \n"
     ]
    }
   ],
   "source": [
    "print(eobj1.PLACE,eobj2.PLACE,eobj3.PLACE,eobj4.PLACE)"
   ]
  },
  {
   "cell_type": "code",
   "execution_count": 75,
   "id": "8192151f-2009-4f35-ba2e-9100b7432e48",
   "metadata": {},
   "outputs": [
    {
     "name": "stdout",
     "output_type": "stream",
     "text": [
      "Paul 4th April CRM City-1\n"
     ]
    }
   ],
   "source": [
    "eobj5 = Enrollment()\n",
    "eobj5 = Enrollment()\n",
    "eobj5.Name = 'Paul'\n",
    "eobj5.DOB = '4th April'\n",
    "eobj5.DEPT = 'CRM'\n",
    "eobj5.PLACE = 'City-1'\n",
    "print(eobj5.Name,eobj5.DOB,eobj5.DEPT,eobj5.PLACE)"
   ]
  },
  {
   "cell_type": "code",
   "execution_count": 77,
   "id": "e782adfa-a905-48b2-b11a-6e35a3e9bad2",
   "metadata": {},
   "outputs": [],
   "source": [
    "eobj1.PLACE='City-A'\n",
    "eobj2.PLACE='City-B'\n",
    "eobj3.PLACE='City-C'\n",
    "eobj4.PLACE='City-D'"
   ]
  },
  {
   "cell_type": "code",
   "execution_count": 79,
   "id": "ff46f07b-132d-44df-b9e2-fc35db4bba88",
   "metadata": {},
   "outputs": [
    {
     "name": "stdout",
     "output_type": "stream",
     "text": [
      "Anu 1st Jan Sales City-A\n",
      "Vijay 2nd Feb HR City-B\n",
      "Leo 3rd March QA City-C\n",
      "Anu 1st Jan DBA City-D\n",
      "Paul 4th April CRM City-1\n"
     ]
    }
   ],
   "source": [
    "for var in [eobj1,eobj2,eobj3,eobj4,eobj5]:\n",
    "    print(var.Name,var.DOB,var.DEPT,var.PLACE)"
   ]
  },
  {
   "cell_type": "code",
   "execution_count": 81,
   "id": "db1291a5-7b25-4072-ada8-6562520c8fd9",
   "metadata": {},
   "outputs": [
    {
     "name": "stdout",
     "output_type": "stream",
     "text": [
      "<class 'function'> <class 'method'>\n"
     ]
    }
   ],
   "source": [
    "def f1():\n",
    "    print(\"Hello\")\n",
    "\n",
    "class box:\n",
    "    def f2():\n",
    "        print(\"Hello\")\n",
    "\n",
    "obj=box()\n",
    "print(type(f1),type(obj.f2))\n",
    "\n",
    "#f1()\n",
    "#obj.f2()"
   ]
  },
  {
   "cell_type": "code",
   "execution_count": 83,
   "id": "59f9e173-b0de-48dd-965d-2d94dd50651d",
   "metadata": {},
   "outputs": [
    {
     "ename": "TypeError",
     "evalue": "box.f2() takes 0 positional arguments but 1 was given",
     "output_type": "error",
     "traceback": [
      "\u001b[1;31m---------------------------------------------------------------------------\u001b[0m",
      "\u001b[1;31mTypeError\u001b[0m                                 Traceback (most recent call last)",
      "Cell \u001b[1;32mIn[83], line 6\u001b[0m\n\u001b[0;32m      3\u001b[0m         \u001b[38;5;28mprint\u001b[39m(\u001b[38;5;124m\"\u001b[39m\u001b[38;5;124mHello\u001b[39m\u001b[38;5;124m\"\u001b[39m)\n\u001b[0;32m      5\u001b[0m obj\u001b[38;5;241m=\u001b[39mbox()\n\u001b[1;32m----> 6\u001b[0m obj\u001b[38;5;241m.\u001b[39mf2()\n",
      "\u001b[1;31mTypeError\u001b[0m: box.f2() takes 0 positional arguments but 1 was given"
     ]
    }
   ],
   "source": [
    "class box:\n",
    "    def f2():\n",
    "        print(\"Hello\")\n",
    "\n",
    "obj=box()\n",
    "obj.f2()"
   ]
  },
  {
   "cell_type": "code",
   "execution_count": 87,
   "id": "1b990dd1-4dd4-44b9-b805-efbda02d4084",
   "metadata": {},
   "outputs": [
    {
     "ename": "TypeError",
     "evalue": "fx() takes 0 positional arguments but 1 was given",
     "output_type": "error",
     "traceback": [
      "\u001b[1;31m---------------------------------------------------------------------------\u001b[0m",
      "\u001b[1;31mTypeError\u001b[0m                                 Traceback (most recent call last)",
      "Cell \u001b[1;32mIn[87], line 4\u001b[0m\n\u001b[0;32m      1\u001b[0m \u001b[38;5;28;01mdef\u001b[39;00m \u001b[38;5;21mfx\u001b[39m():\n\u001b[0;32m      2\u001b[0m     \u001b[38;5;28mprint\u001b[39m(\u001b[38;5;124m\"\u001b[39m\u001b[38;5;124mHello\u001b[39m\u001b[38;5;124m\"\u001b[39m)\n\u001b[1;32m----> 4\u001b[0m fx(\u001b[38;5;241m10\u001b[39m)\n",
      "\u001b[1;31mTypeError\u001b[0m: fx() takes 0 positional arguments but 1 was given"
     ]
    }
   ],
   "source": [
    "def fx():\n",
    "    print(\"Hello\")\n",
    "\n",
    "fx(10)"
   ]
  },
  {
   "cell_type": "code",
   "execution_count": 89,
   "id": "b17df7e4-29ba-440d-9b65-3967bfe2d59b",
   "metadata": {},
   "outputs": [
    {
     "ename": "TypeError",
     "evalue": "box.f2() takes 0 positional arguments but 1 was given",
     "output_type": "error",
     "traceback": [
      "\u001b[1;31m---------------------------------------------------------------------------\u001b[0m",
      "\u001b[1;31mTypeError\u001b[0m                                 Traceback (most recent call last)",
      "Cell \u001b[1;32mIn[89], line 7\u001b[0m\n\u001b[0;32m      3\u001b[0m         \u001b[38;5;28mprint\u001b[39m(\u001b[38;5;124m\"\u001b[39m\u001b[38;5;124mHello\u001b[39m\u001b[38;5;124m\"\u001b[39m)\n\u001b[0;32m      6\u001b[0m obj\u001b[38;5;241m=\u001b[39mbox()\n\u001b[1;32m----> 7\u001b[0m obj\u001b[38;5;241m.\u001b[39mf2()\n",
      "\u001b[1;31mTypeError\u001b[0m: box.f2() takes 0 positional arguments but 1 was given"
     ]
    }
   ],
   "source": [
    "class box:\n",
    "    def f2():\n",
    "        print(\"Hello\")\n",
    "\n",
    "\n",
    "obj=box()\n",
    "obj.f2() # -> f2(obj)\n",
    "\n",
    "# obj.f2(\"D1\",\"D2\",\"D3\") -> f2(obj,\"D1\",\"D2\",\"D3\")"
   ]
  },
  {
   "cell_type": "code",
   "execution_count": 91,
   "id": "e97a14f0-e22c-421b-96d4-df8a425521da",
   "metadata": {},
   "outputs": [
    {
     "name": "stdout",
     "output_type": "stream",
     "text": [
      "obj1= <__main__.box object at 0x00000228D4BDF1D0>\n",
      "self = <__main__.box object at 0x00000228D4BDF1D0>\n",
      "\n",
      "obj2= <__main__.box object at 0x00000228D33D4B60>\n",
      "self = <__main__.box object at 0x00000228D33D4B60>\n"
     ]
    }
   ],
   "source": [
    "class box:\n",
    "    def f2(self):\n",
    "        print(\"self =\",self)\n",
    "\n",
    "obj1 = box()\n",
    "obj2 = box()\n",
    "print(\"obj1=\",obj1)\n",
    "obj1.f2() # f2(obj1)\n",
    "print('') # empty line\n",
    "print(\"obj2=\",obj2)\n",
    "obj2.f2() # f2(obj2)"
   ]
  },
  {
   "cell_type": "code",
   "execution_count": 93,
   "id": "708918f9-ea75-497c-8b6f-234d8ca92619",
   "metadata": {},
   "outputs": [
    {
     "name": "stdout",
     "output_type": "stream",
     "text": [
      "A: 101\n",
      "B: 101\n",
      "C: 202\n"
     ]
    }
   ],
   "source": [
    "class box:\n",
    "    bid = 101\n",
    "    def f2(self,a):\n",
    "        print(\"B:\",self.bid)\n",
    "        self.bid = a # like obj.bid=<Value>\n",
    "\n",
    "obj = box()\n",
    "print(\"A:\",obj.bid)\n",
    "obj.f2(202) # f2(obj,202)\n",
    "print(\"C:\",obj.bid)"
   ]
  },
  {
   "cell_type": "code",
   "execution_count": null,
   "id": "531d2fb4-2a2e-4c36-b6a0-2303ab75dcf8",
   "metadata": {},
   "outputs": [],
   "source": [
    "# Now modify - Enrollment program\n",
    "# - class Enrollment\n",
    "      + Name\n",
    "      + DOB\n",
    "      + PLACE\n",
    "      + def enroll(): - initialization\n",
    "      + def display():    - display employee details\n",
    "      + def update():     - update emp's working city\n",
    "          - then display updated working city details\n",
    "------------------------------------------------------------------------------"
   ]
  },
  {
   "cell_type": "code",
   "execution_count": 95,
   "id": "8f7fca6c-c1d6-4b85-b609-bd3fb198008b",
   "metadata": {},
   "outputs": [],
   "source": [
    "class Enrollment:\n",
    "    Name = \"\"\n",
    "    DOB = \"\"\n",
    "    PLACE = \"\"\n",
    "    def enroll(self,n,d,p):\n",
    "        self.Name = n\n",
    "        self.DOB = d\n",
    "        self.PLACE = p\n",
    "        print('Enrollment is done!')\n",
    "    def display(self):\n",
    "        print(f'Emp name:{self.Name} DOB:{self.DOB} City:{self.PLACE}')\n",
    "    def update(self,p):\n",
    "        self.PLACE = p\n",
    "        print(f'Emp {self.Name} working City is updated see the updated details:-')\n",
    "        self.display()"
   ]
  },
  {
   "cell_type": "code",
   "execution_count": 97,
   "id": "708569f3-6d50-4c0c-950a-0a5573c733a4",
   "metadata": {},
   "outputs": [
    {
     "name": "stdout",
     "output_type": "stream",
     "text": [
      "Enrollment is done!\n"
     ]
    }
   ],
   "source": [
    "eobj1 = Enrollment()\n",
    "eobj1.enroll('Anu','1st Jan','CityA')"
   ]
  },
  {
   "cell_type": "code",
   "execution_count": 99,
   "id": "f01a5d5b-329b-4174-a63c-1936536af33e",
   "metadata": {},
   "outputs": [
    {
     "name": "stdout",
     "output_type": "stream",
     "text": [
      "Enrollment is done!\n"
     ]
    }
   ],
   "source": [
    "eobj2 = Enrollment()\n",
    "eobj2.enroll('Leo','2nd Feb','CityB')"
   ]
  },
  {
   "cell_type": "code",
   "execution_count": 101,
   "id": "3729ab34-58d4-45e5-934b-2fa7c118bfbf",
   "metadata": {},
   "outputs": [
    {
     "name": "stdout",
     "output_type": "stream",
     "text": [
      "Emp name:Leo DOB:2nd Feb City:CityB\n"
     ]
    }
   ],
   "source": [
    "eobj2.display()"
   ]
  },
  {
   "cell_type": "code",
   "execution_count": 103,
   "id": "bb38792e-a289-4b6a-9a29-320ee81f4f8f",
   "metadata": {},
   "outputs": [
    {
     "name": "stdout",
     "output_type": "stream",
     "text": [
      "Emp name:Anu DOB:1st Jan City:CityA\n"
     ]
    }
   ],
   "source": [
    "eobj1.display()"
   ]
  },
  {
   "cell_type": "code",
   "execution_count": 105,
   "id": "07a98b91-ad34-4ad2-9ce0-79db00ba4bd6",
   "metadata": {},
   "outputs": [
    {
     "name": "stdout",
     "output_type": "stream",
     "text": [
      "Emp Anu working City is updated see the updated details:-\n",
      "Emp name:Anu DOB:1st Jan City:pune\n"
     ]
    }
   ],
   "source": [
    "eobj1.update('pune')"
   ]
  },
  {
   "cell_type": "code",
   "execution_count": 107,
   "id": "00f8a07d-4de7-4ebf-8348-bba5f9870711",
   "metadata": {},
   "outputs": [
    {
     "name": "stdout",
     "output_type": "stream",
     "text": [
      "Emp name:Anu DOB:1st Jan City:pune\n"
     ]
    }
   ],
   "source": [
    "eobj1.display()"
   ]
  },
  {
   "cell_type": "code",
   "execution_count": null,
   "id": "d1169723-e05f-415b-9414-6530e64f254a",
   "metadata": {},
   "outputs": [],
   "source": [
    "class DBI:\n",
    "    def connect(self,...):\n",
    "        '''dbconnection'''\n",
    "    def method1(self):\n",
    "        '''do query process'''\n",
    "    def method2(self):\n",
    "        '''select query'''\n",
    "\n",
    "1st DB Connection - OK\n",
    "       |        \\\n",
    "       |         \\____method2() \n",
    "       method1()\n",
    "\n",
    "obj = DBI()\n",
    "obj.method2() # we can call method2() but DB operation is failed\n",
    "    ##### OOPs - validCall - we can invoke ; -------//process wise failed \n",
    "\n",
    "# constructor \n",
    "other programming \n",
    "class box{\n",
    "    box(){\n",
    "}       ---//constructor\n",
    "};\n",
    "\n",
    "\n",
    "class box:\n",
    "    def __init__(self):\n",
    "        ''' initialization '''\n",
    "    \n",
    "class DBI:\n",
    "    def __init__(self,...):\n",
    "        '''dbconnection'''\n",
    "    def method1(self):\n",
    "        '''do query process'''\n",
    "    def method2(self):\n",
    "        '''select query'''\n",
    "\n",
    "obj = DBI('dbconnection params')\n",
    "obj.method1()"
   ]
  },
  {
   "cell_type": "code",
   "execution_count": 109,
   "id": "2ebcf9ef-a67d-410b-b333-f3b3e1b3ccfd",
   "metadata": {},
   "outputs": [],
   "source": [
    "class Enrollment:\n",
    "    '''This is Enrollment Class'''\n",
    "    def __init__(self,n,d,p):\n",
    "        self.Name = n\n",
    "        self.DOB = d\n",
    "        self.PLACE = p\n",
    "        print('Enrollment is done!')\n",
    "    def display(self):\n",
    "        print(f'Emp name:{self.Name} DOB:{self.DOB} City:{self.PLACE}')\n",
    "    def update(self,p):\n",
    "        self.PLACE = p\n",
    "        print(f'Emp {self.Name} working City is updated see the updated details:-')\n",
    "        self.display()"
   ]
  },
  {
   "cell_type": "code",
   "execution_count": 111,
   "id": "35e2e499-0cce-47f3-902e-f1f232213baf",
   "metadata": {},
   "outputs": [
    {
     "name": "stdout",
     "output_type": "stream",
     "text": [
      "Enrollment is done!\n",
      "Emp name:Anu DOB:1st Jan City:City1\n"
     ]
    }
   ],
   "source": [
    "eobj1 = Enrollment('Anu','1st Jan','City1')\n",
    "eobj1.display()"
   ]
  },
  {
   "cell_type": "code",
   "execution_count": 113,
   "id": "495717a4-4ee0-45cd-8cf8-ab5612f183e4",
   "metadata": {},
   "outputs": [
    {
     "name": "stdout",
     "output_type": "stream",
     "text": [
      "Emp Anu working City is updated see the updated details:-\n",
      "Emp name:Anu DOB:1st Jan City:pune\n"
     ]
    }
   ],
   "source": [
    "eobj1.update('pune')"
   ]
  },
  {
   "cell_type": "code",
   "execution_count": null,
   "id": "a0ca1eb3-0543-4e8c-90c5-e2730d2db225",
   "metadata": {},
   "outputs": [],
   "source": [
    "In python in class\n",
    "   __<name>__ <== pre-defined class attributes \n",
    "\n",
    "__name__\n",
    "__file__\n",
    "__init__\n",
    "..\n",
    "__<name>___"
   ]
  },
  {
   "cell_type": "code",
   "execution_count": 119,
   "id": "7cf6362a-a54e-485a-9324-b3e2a2ecd0d7",
   "metadata": {},
   "outputs": [
    {
     "name": "stdout",
     "output_type": "stream",
     "text": [
      "<class 'int'> <class 'int'>\n",
      "5 5\n"
     ]
    }
   ],
   "source": [
    "i=5  # procedure style \n",
    "j=int(5) # oops style  - className(args) //constructor Call\n",
    "\n",
    "print(type(i),type(j))\n",
    "print(i,j)"
   ]
  },
  {
   "cell_type": "code",
   "execution_count": 121,
   "id": "738031e3-6710-4cf9-a2e0-824c1ac53d91",
   "metadata": {},
   "outputs": [
    {
     "data": {
      "text/plain": [
       "'Hello'"
      ]
     },
     "execution_count": 121,
     "metadata": {},
     "output_type": "execute_result"
    }
   ],
   "source": [
    "s1=\"Hello\"\n",
    "s2= str(\"Hello\")\n",
    "s2"
   ]
  },
  {
   "cell_type": "code",
   "execution_count": 123,
   "id": "1d25995c-20a6-4a4a-84e4-1fa09ab14a8e",
   "metadata": {},
   "outputs": [
    {
     "data": {
      "text/plain": [
       "''"
      ]
     },
     "execution_count": 123,
     "metadata": {},
     "output_type": "execute_result"
    }
   ],
   "source": [
    "s3=str()\n",
    "s3"
   ]
  },
  {
   "cell_type": "code",
   "execution_count": 125,
   "id": "fd81785b-1b28-4e15-823b-113fb44a6c03",
   "metadata": {},
   "outputs": [
    {
     "data": {
      "text/plain": [
       "[]"
      ]
     },
     "execution_count": 125,
     "metadata": {},
     "output_type": "execute_result"
    }
   ],
   "source": [
    "L1 = [] \n",
    "L2 = list()\n",
    "L2"
   ]
  },
  {
   "cell_type": "code",
   "execution_count": 127,
   "id": "b87e0ac8-68e1-47d4-87d5-7b48e743ec43",
   "metadata": {},
   "outputs": [
    {
     "name": "stdout",
     "output_type": "stream",
     "text": [
      "initialization is done\n"
     ]
    },
    {
     "data": {
      "text/plain": [
       "(101, 'Box-1')"
      ]
     },
     "execution_count": 127,
     "metadata": {},
     "output_type": "execute_result"
    }
   ],
   "source": [
    "class box:\n",
    "    def __init__(self,bid,bname):\n",
    "        self.bid = bid\n",
    "        self.bname = bname\n",
    "        print('initialization is done')\n",
    "    def method1(self):\n",
    "        return self.bid,self.bname\n",
    "    def __str__(self):\n",
    "        return self.bname\n",
    "\n",
    "obj = box(101,'Box-1')\n",
    "obj.method1()"
   ]
  },
  {
   "cell_type": "code",
   "execution_count": 129,
   "id": "e48f9494-90e3-426f-a339-cd7df73574a7",
   "metadata": {},
   "outputs": [
    {
     "data": {
      "text/plain": [
       "'Box-1'"
      ]
     },
     "execution_count": 129,
     "metadata": {},
     "output_type": "execute_result"
    }
   ],
   "source": [
    "str(obj) # obj.__str__()"
   ]
  },
  {
   "cell_type": "code",
   "execution_count": null,
   "id": "692583d6-2a8d-4a35-aabc-9639ec9a2dc8",
   "metadata": {},
   "outputs": [],
   "source": [
    ">>> class box:\n",
    "...     def __init__(self):\n",
    "...         print('Welcome')\n",
    "...     def __del__(self):\n",
    "...         print('Thank you')\n",
    "...\n",
    ">>> obj = box()\n",
    "Welcome\n",
    ">>>\n",
    ">>> del(obj)\n",
    "Thank you\n",
    ">>> obj = box()\n",
    "Welcome\n",
    ">>> exit()\n",
    "Thank you\n"
   ]
  },
  {
   "cell_type": "code",
   "execution_count": 131,
   "id": "af482e9c-f441-459a-8d87-7e3f21c93a68",
   "metadata": {},
   "outputs": [
    {
     "name": "stdout",
     "output_type": "stream",
     "text": [
      "OK\n"
     ]
    },
    {
     "data": {
      "text/plain": [
       "False"
      ]
     },
     "execution_count": 131,
     "metadata": {},
     "output_type": "execute_result"
    }
   ],
   "source": [
    "class box:\n",
    "    def __init__(self):\n",
    "        print(\"OK\")\n",
    "\n",
    "obj = box()\n",
    "callable(obj)"
   ]
  },
  {
   "cell_type": "code",
   "execution_count": 133,
   "id": "f8f8edc4-f190-491a-a453-710170288156",
   "metadata": {},
   "outputs": [
    {
     "ename": "TypeError",
     "evalue": "'box' object is not callable",
     "output_type": "error",
     "traceback": [
      "\u001b[1;31m---------------------------------------------------------------------------\u001b[0m",
      "\u001b[1;31mTypeError\u001b[0m                                 Traceback (most recent call last)",
      "Cell \u001b[1;32mIn[133], line 1\u001b[0m\n\u001b[1;32m----> 1\u001b[0m obj()\n",
      "\u001b[1;31mTypeError\u001b[0m: 'box' object is not callable"
     ]
    }
   ],
   "source": [
    "obj() "
   ]
  },
  {
   "cell_type": "code",
   "execution_count": 137,
   "id": "4e3aec85-ac7a-4cdd-b50b-c41d6fffe284",
   "metadata": {},
   "outputs": [
    {
     "name": "stdout",
     "output_type": "stream",
     "text": [
      "<class 'function'>\n"
     ]
    },
    {
     "data": {
      "text/plain": [
       "True"
      ]
     },
     "execution_count": 137,
     "metadata": {},
     "output_type": "execute_result"
    }
   ],
   "source": [
    "def fx():\n",
    "    print(\"OK\")\n",
    "\n",
    "print(type(fx))\n",
    "callable(fx)"
   ]
  },
  {
   "cell_type": "code",
   "execution_count": null,
   "id": "93f285c4-e9ab-4798-9a03-374cb81ae64f",
   "metadata": {},
   "outputs": [],
   "source": [
    "int() fx()"
   ]
  },
  {
   "cell_type": "code",
   "execution_count": 139,
   "id": "79ae30c3-49f6-4599-8534-430e3c869a03",
   "metadata": {},
   "outputs": [
    {
     "name": "stdout",
     "output_type": "stream",
     "text": [
      "OK\n"
     ]
    }
   ],
   "source": [
    "fx()"
   ]
  },
  {
   "cell_type": "code",
   "execution_count": 141,
   "id": "63a1737d-3d33-4d49-a310-a1f9ee729858",
   "metadata": {},
   "outputs": [
    {
     "name": "stdout",
     "output_type": "stream",
     "text": [
      "OK\n"
     ]
    }
   ],
   "source": [
    "fx.__call__() # same as fx()"
   ]
  },
  {
   "cell_type": "code",
   "execution_count": 143,
   "id": "fdaf2313-1672-4ee4-84da-1aeceb277ec7",
   "metadata": {},
   "outputs": [
    {
     "name": "stdout",
     "output_type": "stream",
     "text": [
      "a= 56\n"
     ]
    }
   ],
   "source": [
    "def fx(a):\n",
    "    print(\"a=\",a)\n",
    "\n",
    "fx.__call__(56) # fx(56)"
   ]
  },
  {
   "cell_type": "code",
   "execution_count": 145,
   "id": "c0f6f14d-4425-4af7-98d7-1d2f55042012",
   "metadata": {},
   "outputs": [
    {
     "data": {
      "text/plain": [
       "True"
      ]
     },
     "execution_count": 145,
     "metadata": {},
     "output_type": "execute_result"
    }
   ],
   "source": [
    "class box:\n",
    "    def __init__(self):\n",
    "        self.a=10\n",
    "    def __call__(self):\n",
    "        return self.a\n",
    "\n",
    "obj = box()\n",
    "callable(obj)"
   ]
  },
  {
   "cell_type": "code",
   "execution_count": 147,
   "id": "03073609-443d-4d88-b3bb-161dc846d040",
   "metadata": {},
   "outputs": [
    {
     "data": {
      "text/plain": [
       "10"
      ]
     },
     "execution_count": 147,
     "metadata": {},
     "output_type": "execute_result"
    }
   ],
   "source": [
    "obj() # like function call -> fx()"
   ]
  },
  {
   "cell_type": "code",
   "execution_count": 151,
   "id": "24f3d5ad-ef83-4713-8d3d-b8dd3fffef20",
   "metadata": {},
   "outputs": [
    {
     "data": {
      "text/plain": [
       "['__class__',\n",
       " '__delattr__',\n",
       " '__dict__',\n",
       " '__dir__',\n",
       " '__doc__',\n",
       " '__eq__',\n",
       " '__format__',\n",
       " '__ge__',\n",
       " '__getattribute__',\n",
       " '__getstate__',\n",
       " '__gt__',\n",
       " '__hash__',\n",
       " '__init__',\n",
       " '__init_subclass__',\n",
       " '__le__',\n",
       " '__lt__',\n",
       " '__module__',\n",
       " '__ne__',\n",
       " '__new__',\n",
       " '__reduce__',\n",
       " '__reduce_ex__',\n",
       " '__repr__',\n",
       " '__setattr__',\n",
       " '__sizeof__',\n",
       " '__str__',\n",
       " '__subclasshook__',\n",
       " '__weakref__',\n",
       " 'bid',\n",
       " 'bname',\n",
       " 'fx']"
      ]
     },
     "execution_count": 151,
     "metadata": {},
     "output_type": "execute_result"
    }
   ],
   "source": [
    "class box:\n",
    "    bid=101\n",
    "    bname='Box-1'\n",
    "    def fx(self):\n",
    "        pass\n",
    "dir(box)"
   ]
  },
  {
   "cell_type": "code",
   "execution_count": 153,
   "id": "40274a4f-22a2-477b-a36b-c56335109628",
   "metadata": {},
   "outputs": [
    {
     "data": {
      "text/plain": [
       "10"
      ]
     },
     "execution_count": 153,
     "metadata": {},
     "output_type": "execute_result"
    }
   ],
   "source": [
    "class box:\n",
    "    bid=101\n",
    "    bname='box-1'\n",
    "    def __len__(self):\n",
    "        return 10\n",
    "obj=box()\n",
    "len(obj)"
   ]
  },
  {
   "cell_type": "code",
   "execution_count": 155,
   "id": "3a67e1c4-b41a-43ce-8a31-c6c3ea99aa8a",
   "metadata": {},
   "outputs": [
    {
     "data": {
      "text/plain": [
       "True"
      ]
     },
     "execution_count": 155,
     "metadata": {},
     "output_type": "execute_result"
    }
   ],
   "source": [
    "'__len__' in dir(str)"
   ]
  },
  {
   "cell_type": "code",
   "execution_count": 157,
   "id": "38f5393f-f311-4242-8f61-5b587453eaa0",
   "metadata": {},
   "outputs": [
    {
     "data": {
      "text/plain": [
       "True"
      ]
     },
     "execution_count": 157,
     "metadata": {},
     "output_type": "execute_result"
    }
   ],
   "source": [
    "'__len__' in dir(list)"
   ]
  },
  {
   "cell_type": "code",
   "execution_count": 159,
   "id": "03cb97f3-4870-4e38-bd3e-bdc704472adc",
   "metadata": {},
   "outputs": [
    {
     "data": {
      "text/plain": [
       "(True, True, True)"
      ]
     },
     "execution_count": 159,
     "metadata": {},
     "output_type": "execute_result"
    }
   ],
   "source": [
    "'__len__' in dir(tuple),'__len__' in dir(dict),'__len__' in dir(set)"
   ]
  },
  {
   "cell_type": "code",
   "execution_count": 161,
   "id": "c4af017f-9d87-430b-a299-7de87479a2e3",
   "metadata": {},
   "outputs": [
    {
     "data": {
      "text/plain": [
       "False"
      ]
     },
     "execution_count": 161,
     "metadata": {},
     "output_type": "execute_result"
    }
   ],
   "source": [
    "'__len__' in dir(int)"
   ]
  },
  {
   "cell_type": "code",
   "execution_count": 163,
   "id": "f4d7a97e-6100-4512-8a33-8f22c5a4787f",
   "metadata": {},
   "outputs": [
    {
     "ename": "AttributeError",
     "evalue": "'box' object has no attribute '__bid'",
     "output_type": "error",
     "traceback": [
      "\u001b[1;31m---------------------------------------------------------------------------\u001b[0m",
      "\u001b[1;31mAttributeError\u001b[0m                            Traceback (most recent call last)",
      "Cell \u001b[1;32mIn[163], line 4\u001b[0m\n\u001b[0;32m      2\u001b[0m     __bid \u001b[38;5;241m=\u001b[39m \u001b[38;5;241m101\u001b[39m \u001b[38;5;66;03m# user defined private attribute\u001b[39;00m\n\u001b[0;32m      3\u001b[0m obj \u001b[38;5;241m=\u001b[39m box()\n\u001b[1;32m----> 4\u001b[0m obj\u001b[38;5;241m.\u001b[39m__bid\n",
      "\u001b[1;31mAttributeError\u001b[0m: 'box' object has no attribute '__bid'"
     ]
    }
   ],
   "source": [
    "class box:\n",
    "    __bid = 101 # user defined private attribute\n",
    "obj = box()\n",
    "obj.__bid"
   ]
  },
  {
   "cell_type": "code",
   "execution_count": 173,
   "id": "cc4051de-41d7-4be4-8137-635ac28a4218",
   "metadata": {},
   "outputs": [],
   "source": [
    "class box:\n",
    "    def __init__(self,n,m):\n",
    "        self.__n = n\n",
    "        self.__m = m\n",
    "        print('Done')\n",
    "    def method1(self):\n",
    "        return self.__n,self.__m\n",
    "    def __str__(self):\n",
    "        return str(self.__n)+str(self.__m)"
   ]
  },
  {
   "cell_type": "code",
   "execution_count": 175,
   "id": "4742b5ac-09ad-432b-94ad-44b477ebd229",
   "metadata": {},
   "outputs": [
    {
     "name": "stdout",
     "output_type": "stream",
     "text": [
      "Done\n"
     ]
    }
   ],
   "source": [
    "obj = box(45,65)"
   ]
  },
  {
   "cell_type": "code",
   "execution_count": 177,
   "id": "73fe20e0-1824-43f5-ac76-8dae3d186616",
   "metadata": {},
   "outputs": [
    {
     "data": {
      "text/plain": [
       "(45, 65)"
      ]
     },
     "execution_count": 177,
     "metadata": {},
     "output_type": "execute_result"
    }
   ],
   "source": [
    "obj.method1()"
   ]
  },
  {
   "cell_type": "code",
   "execution_count": 179,
   "id": "0e3d4092-9d3c-414e-8e1b-8ff0035ea283",
   "metadata": {},
   "outputs": [
    {
     "data": {
      "text/plain": [
       "'4565'"
      ]
     },
     "execution_count": 179,
     "metadata": {},
     "output_type": "execute_result"
    }
   ],
   "source": [
    "str(obj)"
   ]
  },
  {
   "cell_type": "code",
   "execution_count": 181,
   "id": "ded527a3-e5b6-4a3f-b807-c77a0053ef60",
   "metadata": {},
   "outputs": [
    {
     "ename": "AttributeError",
     "evalue": "'B' object has no attribute 'va'",
     "output_type": "error",
     "traceback": [
      "\u001b[1;31m---------------------------------------------------------------------------\u001b[0m",
      "\u001b[1;31mAttributeError\u001b[0m                            Traceback (most recent call last)",
      "Cell \u001b[1;32mIn[181], line 7\u001b[0m\n\u001b[0;32m      4\u001b[0m     vb \u001b[38;5;241m=\u001b[39m \u001b[38;5;241m20\u001b[39m\n\u001b[0;32m      6\u001b[0m objB \u001b[38;5;241m=\u001b[39m B()\n\u001b[1;32m----> 7\u001b[0m objB\u001b[38;5;241m.\u001b[39mva\n",
      "\u001b[1;31mAttributeError\u001b[0m: 'B' object has no attribute 'va'"
     ]
    }
   ],
   "source": [
    "class A:\n",
    "    va = 10\n",
    "class B:\n",
    "    vb = 20\n",
    "\n",
    "objB = B()\n",
    "objB.va"
   ]
  },
  {
   "cell_type": "code",
   "execution_count": null,
   "id": "7cbb711b-ebb9-45af-915c-f5c152260929",
   "metadata": {},
   "outputs": [],
   "source": [
    "# Inhertiance \n",
    "\n",
    "class <parentClass>:\n",
    "    .....\n",
    "class <ChildClass>(<parentClassName>):\n",
    "    .....\n",
    "    "
   ]
  },
  {
   "cell_type": "code",
   "execution_count": 185,
   "id": "dde44458-ea67-4c1a-aecc-44bf51ad6500",
   "metadata": {},
   "outputs": [
    {
     "name": "stdout",
     "output_type": "stream",
     "text": [
      "10\n"
     ]
    },
    {
     "data": {
      "text/plain": [
       "30"
      ]
     },
     "execution_count": 185,
     "metadata": {},
     "output_type": "execute_result"
    }
   ],
   "source": [
    "class A:\n",
    "    va = 10\n",
    "class B(A): # inheritance \n",
    "    vb = 20\n",
    "\n",
    "objB = B()\n",
    "print(objB.va)\n",
    "objB.va + objB.vb"
   ]
  },
  {
   "cell_type": "code",
   "execution_count": 187,
   "id": "1961851f-078f-419a-882d-cd2b28670d26",
   "metadata": {},
   "outputs": [
    {
     "name": "stdout",
     "output_type": "stream",
     "text": [
      "Customer record\n",
      "product ID: 101\n",
      "this is fx block from prodA\n"
     ]
    },
    {
     "data": {
      "text/plain": [
       "101"
      ]
     },
     "execution_count": 187,
     "metadata": {},
     "output_type": "execute_result"
    }
   ],
   "source": [
    "class prodA:\n",
    "    pid = 101\n",
    "    def fx(self):\n",
    "        print('this is fx block from prodA')\n",
    "\n",
    "class customer(prodA):\n",
    "    def fy(self):\n",
    "        print('Customer record')\n",
    "        print('product ID:',self.pid)\n",
    "\n",
    "obj = customer()\n",
    "obj.fy()\n",
    "obj.fx()\n",
    "obj.pid"
   ]
  },
  {
   "cell_type": "code",
   "execution_count": 191,
   "id": "0da7b6c7-b6b3-4b9e-ba58-150fea273bd9",
   "metadata": {},
   "outputs": [
    {
     "name": "stdout",
     "output_type": "stream",
     "text": [
      "display - customer records\n",
      "display - customer records\n"
     ]
    }
   ],
   "source": [
    "class prodA:\n",
    "    def display(self):\n",
    "        print('display - product details')\n",
    "\n",
    "class customer(prodA):\n",
    "    def display(self):\n",
    "        print('display - customer records')\n",
    "\n",
    "obj = customer()\n",
    "obj.display()\n",
    "obj.display()"
   ]
  },
  {
   "cell_type": "code",
   "execution_count": 193,
   "id": "468522dc-eb71-4276-b6df-6ae89287a8ad",
   "metadata": {},
   "outputs": [
    {
     "name": "stdout",
     "output_type": "stream",
     "text": [
      "display - customer records\n",
      "display - product details\n"
     ]
    }
   ],
   "source": [
    "class prodA:\n",
    "    def display(self):\n",
    "        print('display - product details')\n",
    "\n",
    "class customer(prodA):\n",
    "    def display(self):\n",
    "        print('display - customer records')\n",
    "        super().display() # invoke parent class display() method\n",
    "\n",
    "obj = customer()\n",
    "obj.display()"
   ]
  },
  {
   "cell_type": "markdown",
   "id": "7040ba0d-04d5-4d91-acbc-0d973ba73ae8",
   "metadata": {},
   "source": [
    "sales.log \n",
    "productName  Cost Qty Tax  Total  Vendor  BillingDate/time"
   ]
  },
  {
   "cell_type": "code",
   "execution_count": 197,
   "id": "297d5853-0e88-4344-9b0a-bebde196c6e3",
   "metadata": {},
   "outputs": [],
   "source": [
    "import time\n",
    "class Vendor:\n",
    "    def __init__(self,vName,vGST):\n",
    "        self.__vName = vName\n",
    "        self.__vGST = vGST\n",
    "        print('Enrollment is done!')\n",
    "    def billing(self,pN,pQ=0,pC=0.0):\n",
    "        self.__pN = pN\n",
    "        self.__pQ = pQ\n",
    "        self.__pC = pC\n",
    "        self.__total = self.__pQ * self.__pC\n",
    "        self.__tax = self.__total * 0.18\n",
    "        self.__gs = self.__tax + self.__total\n",
    "        self.update()\n",
    "    def update(self):\n",
    "        wobj = open('sales.log','a')\n",
    "        s1=f'{self.__pN}\\t{self.__pQ}\\t{self.__pC}\\t{self.__gs}(including Tax)\\t'\n",
    "        s2=f'{self.__vName}\\t Billing date/time:{time.ctime()}\\n'\n",
    "        wobj.write(s1+s2)\n",
    "        wobj.close()"
   ]
  },
  {
   "cell_type": "code",
   "execution_count": 199,
   "id": "878c82c2-8873-4915-a7e0-2c83b8593f37",
   "metadata": {},
   "outputs": [
    {
     "name": "stdout",
     "output_type": "stream",
     "text": [
      "Enrollment is done!\n"
     ]
    }
   ],
   "source": [
    "vobj1 = Vendor('VKlabs','VGST12355')"
   ]
  },
  {
   "cell_type": "code",
   "execution_count": 201,
   "id": "bdf477b1-d6b7-4b15-bff3-9fcc79ef3502",
   "metadata": {},
   "outputs": [],
   "source": [
    "vobj1.billing('prodA',5,1000)"
   ]
  },
  {
   "cell_type": "code",
   "execution_count": 203,
   "id": "c8f06b19-4983-42f8-8045-04362afa9709",
   "metadata": {},
   "outputs": [],
   "source": [
    "vobj1.billing('prodB',3,1230)\n",
    "vobj1.billing('prodC',2,4000)"
   ]
  },
  {
   "cell_type": "code",
   "execution_count": 205,
   "id": "b24d4a19-7764-41f7-ad20-7f80748cadc1",
   "metadata": {},
   "outputs": [
    {
     "name": "stdout",
     "output_type": "stream",
     "text": [
      "Enrollment is done!\n"
     ]
    }
   ],
   "source": [
    "vobj2 = Vendor('Dabc','VGST949492')"
   ]
  },
  {
   "cell_type": "code",
   "execution_count": 207,
   "id": "74e77e60-db45-4ff9-bee4-b10cdbd8ab9e",
   "metadata": {},
   "outputs": [],
   "source": [
    "vobj2.billing('prodX',4,3000)"
   ]
  },
  {
   "cell_type": "code",
   "execution_count": 209,
   "id": "93d97cd4-5510-4024-bd01-1d7c4ad27873",
   "metadata": {},
   "outputs": [],
   "source": [
    "vobj2.billing('prodA',5,1000)"
   ]
  },
  {
   "cell_type": "code",
   "execution_count": 211,
   "id": "de8b196e-e8ba-4917-8890-dfadf3fb1141",
   "metadata": {},
   "outputs": [],
   "source": [
    "vobj1.billing('HDD',2,4999)"
   ]
  },
  {
   "cell_type": "code",
   "execution_count": 213,
   "id": "fa6bec41-2d06-43fa-bc67-cc5887678d09",
   "metadata": {},
   "outputs": [],
   "source": [
    "vobj2.billing('SSD',3,4598.23)"
   ]
  },
  {
   "cell_type": "code",
   "execution_count": 215,
   "id": "595d3052-6b06-453a-810a-43a9ca7b6bb9",
   "metadata": {},
   "outputs": [
    {
     "name": "stdout",
     "output_type": "stream",
     "text": [
      "display - customer records\n",
      "display - product details\n"
     ]
    }
   ],
   "source": [
    "class prodA:\n",
    "    def __init__(self):\n",
    "        print('display - product details')\n",
    "\n",
    "class customer(prodA):\n",
    "    def __init__(self):\n",
    "        print('display - customer records')\n",
    "        super().__init__() # invoke parent class __init__() method\n",
    "\n",
    "obj = customer()"
   ]
  },
  {
   "cell_type": "code",
   "execution_count": 217,
   "id": "7a27d5f4-a92b-4138-b51d-8785b9446e94",
   "metadata": {},
   "outputs": [
    {
     "name": "stdout",
     "output_type": "stream",
     "text": [
      "product Name:prodA - PID:101\n"
     ]
    }
   ],
   "source": [
    "# multiple inheritance \n",
    "class pA:\n",
    "    pName='prodA'\n",
    "class pB:\n",
    "    pid = 101\n",
    "class pC(pA,pB):\n",
    "    def display(self):\n",
    "        print(f'product Name:{self.pName} - PID:{self.pid}')\n",
    "\n",
    "obj = pC()\n",
    "obj.display()"
   ]
  },
  {
   "cell_type": "code",
   "execution_count": null,
   "id": "1bfe0c7e-45b1-493a-9c30-74c5d471a7ea",
   "metadata": {},
   "outputs": [],
   "source": [
    "# multilevel inheritance \n",
    "   [class-1]\n",
    "     |\n",
    "   [class-2]\n",
    "     |\n",
    "   [class-3]\n",
    "     |\n",
    "   [class-4]\n",
    "    ..\n",
    "     |\n",
    "   [class-N]"
   ]
  },
  {
   "cell_type": "code",
   "execution_count": 221,
   "id": "dd81b9af-e418-4de1-82dc-07038b096843",
   "metadata": {},
   "outputs": [
    {
     "name": "stdout",
     "output_type": "stream",
     "text": [
      "VisionMission 2.3 rpidi 5K\n"
     ]
    }
   ],
   "source": [
    "class prod1:\n",
    "    def f1(self):\n",
    "        self.pname='VisionMission'\n",
    "        self.version=2.3\n",
    "class prod2(prod1):\n",
    "    def f2(self):\n",
    "        self.vendor='rpidi'\n",
    "class prod3(prod2):\n",
    "    def f3(self):\n",
    "        self.pcost='5K'\n",
    "class prodMain(prod3):\n",
    "    def display(self):\n",
    "        self.f1()\n",
    "        self.f2()\n",
    "        self.f3()\n",
    "        print(self.pname,self.version,self.vendor,self.pcost)\n",
    "obj = prodMain()\n",
    "obj.display()"
   ]
  },
  {
   "cell_type": "code",
   "execution_count": 223,
   "id": "fa82f4a2-777c-4703-bd9b-35d2429ae052",
   "metadata": {},
   "outputs": [
    {
     "data": {
      "text/plain": [
       "10"
      ]
     },
     "execution_count": 223,
     "metadata": {},
     "output_type": "execute_result"
    }
   ],
   "source": [
    "# python < 2.6 \n",
    "class box(object):\n",
    "    v = 10\n",
    "obj = box()\n",
    "obj.v"
   ]
  },
  {
   "cell_type": "code",
   "execution_count": 225,
   "id": "90659be5-0a0c-42ab-9144-5b84d8ee70fb",
   "metadata": {},
   "outputs": [
    {
     "data": {
      "text/plain": [
       "(__main__.box, object)"
      ]
     },
     "execution_count": 225,
     "metadata": {},
     "output_type": "execute_result"
    }
   ],
   "source": [
    "box.__mro__"
   ]
  },
  {
   "cell_type": "code",
   "execution_count": 227,
   "id": "21f32a21-9026-4648-8656-265a481fb7a7",
   "metadata": {},
   "outputs": [
    {
     "data": {
      "text/plain": [
       "(__main__.box, object)"
      ]
     },
     "execution_count": 227,
     "metadata": {},
     "output_type": "execute_result"
    }
   ],
   "source": [
    "class box:\n",
    "    bid=101\n",
    "\n",
    "box.__mro__"
   ]
  },
  {
   "cell_type": "code",
   "execution_count": null,
   "id": "78f91812-ae0b-4134-935a-c391bf9adb96",
   "metadata": {},
   "outputs": [],
   "source": []
  },
  {
   "cell_type": "code",
   "execution_count": 227,
   "id": "1a8ab80d-d033-46fd-82aa-64add10ff894",
   "metadata": {},
   "outputs": [
    {
     "data": {
      "text/plain": [
       "(__main__.box, object)"
      ]
     },
     "execution_count": 227,
     "metadata": {},
     "output_type": "execute_result"
    }
   ],
   "source": [
    "class box:\n",
    "    bid=101\n",
    "\n",
    "box.__mro__"
   ]
  },
  {
   "cell_type": "code",
   "execution_count": 229,
   "id": "09cf046d-7c01-44ed-88d8-bd2d03134cad",
   "metadata": {},
   "outputs": [
    {
     "data": {
      "text/plain": [
       "(__main__.prodMain, __main__.prod3, __main__.prod2, __main__.prod1, object)"
      ]
     },
     "execution_count": 229,
     "metadata": {},
     "output_type": "execute_result"
    }
   ],
   "source": [
    "class prod1:\n",
    "    def f1(self):\n",
    "        self.pname='VisionMission'\n",
    "        self.version=2.3\n",
    "class prod2(prod1):\n",
    "    def f2(self):\n",
    "        self.vendor='rpidi'\n",
    "class prod3(prod2):\n",
    "    def f3(self):\n",
    "        self.pcost='5K'\n",
    "class prodMain(prod3):\n",
    "    def display(self):\n",
    "        self.f1()\n",
    "        self.f2()\n",
    "        self.f3()\n",
    "        print(self.pname,self.version,self.vendor,self.pcost)\n",
    "\n",
    "obj = prodMain()\n",
    "\n",
    "prodMain.__mro__"
   ]
  },
  {
   "cell_type": "code",
   "execution_count": null,
   "id": "83914f1d-d9f2-4293-840b-5ffffc1017f2",
   "metadata": {},
   "outputs": [],
   "source": [
    "decorator\n",
    "|->Function - metaprogramming design style\n",
    "                    \\__ we can add more features to an existing code \n",
    "\n",
    "python -> V1.0 ->Customer\n",
    "   |\n",
    "   |___ V1.1 ->Customer V1.1 --switch to V1.0 //OK\n",
    "   |___ V1.2 ->Customer V1.2  ......\n",
    "\n",
    "Web framework \n",
    "-------------\n",
    "Home  About  News        Contactus   [   ]\n",
    "              |->City1    |->....\n",
    "              |->City2\n",
    "              |->City3"
   ]
  },
  {
   "cell_type": "code",
   "execution_count": 231,
   "id": "4bb1216d-e96d-495a-b321-444f480065cd",
   "metadata": {},
   "outputs": [],
   "source": [
    "def f1():\n",
    "    def f2():\n",
    "       def App1():\n",
    "           print(\"App1\")\n",
    "       def App2():\n",
    "           print(\"App2\")\n",
    "       App1()\n",
    "       App2()\n",
    "    return f2"
   ]
  },
  {
   "cell_type": "code",
   "execution_count": 233,
   "id": "97a123b1-1083-458d-b2c7-8aadd0343011",
   "metadata": {},
   "outputs": [
    {
     "data": {
      "text/plain": [
       "<function __main__.f1.<locals>.f2()>"
      ]
     },
     "execution_count": 233,
     "metadata": {},
     "output_type": "execute_result"
    }
   ],
   "source": [
    "f1()"
   ]
  },
  {
   "cell_type": "code",
   "execution_count": 235,
   "id": "bef3f8c9-422c-485b-9f14-73a5f46abe20",
   "metadata": {},
   "outputs": [],
   "source": [
    "r = f1()"
   ]
  },
  {
   "cell_type": "code",
   "execution_count": 237,
   "id": "fca2a092-cf38-44c5-87e5-a4c60744f065",
   "metadata": {},
   "outputs": [
    {
     "name": "stdout",
     "output_type": "stream",
     "text": [
      "App1\n",
      "App2\n"
     ]
    }
   ],
   "source": [
    "r()"
   ]
  },
  {
   "cell_type": "code",
   "execution_count": 239,
   "id": "3de1dec5-2d1f-410a-8eac-85ca2d1aae23",
   "metadata": {},
   "outputs": [],
   "source": [
    "def f1(a):\n",
    "    def f2():\n",
    "       def App1():\n",
    "           print(\"App1\")\n",
    "       def App2():\n",
    "           print(\"App2\")\n",
    "       App1()\n",
    "       App2()\n",
    "       a()\n",
    "    return f2"
   ]
  },
  {
   "cell_type": "code",
   "execution_count": 241,
   "id": "4378d111-6f68-42e6-95d0-8462ebc439a2",
   "metadata": {},
   "outputs": [],
   "source": [
    "def App3():\n",
    "    print('This updated App3')"
   ]
  },
  {
   "cell_type": "code",
   "execution_count": 243,
   "id": "2058175c-a137-449c-8331-ffb85ec83a4c",
   "metadata": {},
   "outputs": [
    {
     "name": "stdout",
     "output_type": "stream",
     "text": [
      "App1\n",
      "App2\n",
      "This updated App3\n"
     ]
    }
   ],
   "source": [
    "r = f1(App3)\n",
    "r()"
   ]
  },
  {
   "cell_type": "code",
   "execution_count": 245,
   "id": "7b53cf14-4271-4e73-bf37-b28c6806ab5f",
   "metadata": {},
   "outputs": [],
   "source": [
    "def f1(a):\n",
    "    def f2():\n",
    "        a()\n",
    "    return f2"
   ]
  },
  {
   "cell_type": "code",
   "execution_count": 247,
   "id": "d69b8664-e242-463f-8130-6954ddb2bae5",
   "metadata": {},
   "outputs": [],
   "source": [
    "def news1():\n",
    "    print('<h1> news page-1</h1>')"
   ]
  },
  {
   "cell_type": "code",
   "execution_count": 249,
   "id": "08c0ee13-76b4-4084-9e12-d0ca1a9ff21e",
   "metadata": {},
   "outputs": [],
   "source": [
    "def news2():\n",
    "    print('<h2>new page2</h2>')"
   ]
  },
  {
   "cell_type": "code",
   "execution_count": 251,
   "id": "396ac829-00db-45ea-be0f-2879d58e7728",
   "metadata": {},
   "outputs": [
    {
     "name": "stdout",
     "output_type": "stream",
     "text": [
      "<h1> news page-1</h1>\n"
     ]
    }
   ],
   "source": [
    "r = f1(news1)\n",
    "r()"
   ]
  },
  {
   "cell_type": "code",
   "execution_count": 253,
   "id": "f9215a8a-0cfc-4f17-8337-76656c379464",
   "metadata": {},
   "outputs": [
    {
     "name": "stdout",
     "output_type": "stream",
     "text": [
      "<h2>new page2</h2>\n"
     ]
    }
   ],
   "source": [
    "r = f1(news2)\n",
    "r()"
   ]
  },
  {
   "cell_type": "code",
   "execution_count": 255,
   "id": "11385afd-378f-446d-a3e2-909ee6755034",
   "metadata": {},
   "outputs": [],
   "source": [
    "@f1\n",
    "def news3():\n",
    "    print('<h3>new3 page</h3>')"
   ]
  },
  {
   "cell_type": "code",
   "execution_count": 257,
   "id": "da625600-a226-4050-a793-5eba03842275",
   "metadata": {},
   "outputs": [
    {
     "name": "stdout",
     "output_type": "stream",
     "text": [
      "<h3>new3 page</h3>\n"
     ]
    }
   ],
   "source": [
    "news3()"
   ]
  },
  {
   "cell_type": "code",
   "execution_count": 259,
   "id": "58f4e4ed-1ad1-47b3-87a1-ae702d724a7f",
   "metadata": {},
   "outputs": [
    {
     "name": "stdout",
     "output_type": "stream",
     "text": [
      "<h2>new page2</h2>\n"
     ]
    }
   ],
   "source": [
    "news2()"
   ]
  },
  {
   "cell_type": "code",
   "execution_count": 261,
   "id": "8f9caf3c-0c04-44a8-8dde-ef080fe5e8b7",
   "metadata": {},
   "outputs": [],
   "source": [
    "class box:\n",
    "    bid=101\n",
    "\n",
    "box.bid=500\n",
    "box.bname='B-1'\n",
    "################## className.<attribute>"
   ]
  },
  {
   "cell_type": "code",
   "execution_count": 263,
   "id": "7802a70b-a099-46b6-be0e-b117103d3b77",
   "metadata": {},
   "outputs": [
    {
     "name": "stdout",
     "output_type": "stream",
     "text": [
      "this is class method\n",
      "<class '__main__.box'>\n"
     ]
    }
   ],
   "source": [
    "class box:\n",
    "    @classmethod\n",
    "    def f1(cls):\n",
    "        print('this is class method')\n",
    "        print(cls)\n",
    "\n",
    "box.f1() # f1(box)  Vs  obj.f1() -> f1(obj) -> def f1(self):"
   ]
  },
  {
   "cell_type": "code",
   "execution_count": 265,
   "id": "10e08222-3a00-40a8-9fe1-56aebaa31f8d",
   "metadata": {},
   "outputs": [
    {
     "name": "stdout",
     "output_type": "stream",
     "text": [
      "this is class method\n"
     ]
    }
   ],
   "source": [
    "class box:\n",
    "    @classmethod\n",
    "    def f1(cls):\n",
    "        print('this is class method')\n",
    "        cls.bid=101\n",
    "        cls.bname='B1'\n",
    "\n",
    "box.f1() "
   ]
  },
  {
   "cell_type": "code",
   "execution_count": 267,
   "id": "00d0a085-1f22-423c-b5d1-4169be919d47",
   "metadata": {},
   "outputs": [
    {
     "data": {
      "text/plain": [
       "(101, 'B1')"
      ]
     },
     "execution_count": 267,
     "metadata": {},
     "output_type": "execute_result"
    }
   ],
   "source": [
    "obj = box()\n",
    "obj.bid,obj.bname"
   ]
  },
  {
   "cell_type": "code",
   "execution_count": null,
   "id": "76439bbc-9a69-40ab-8373-1757a220e21a",
   "metadata": {},
   "outputs": [],
   "source": [
    "DataBase Module\n",
    "Json\n",
    "Regx\n",
    "  |->Search\n",
    "  |->Substitute\n",
    "  |->split"
   ]
  }
 ],
 "metadata": {
  "kernelspec": {
   "display_name": "Python 3 (ipykernel)",
   "language": "python",
   "name": "python3"
  },
  "language_info": {
   "codemirror_mode": {
    "name": "ipython",
    "version": 3
   },
   "file_extension": ".py",
   "mimetype": "text/x-python",
   "name": "python",
   "nbconvert_exporter": "python",
   "pygments_lexer": "ipython3",
   "version": "3.12.3"
  }
 },
 "nbformat": 4,
 "nbformat_minor": 5
}
