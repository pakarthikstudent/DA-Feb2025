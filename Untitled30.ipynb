{
 "cells": [
  {
   "cell_type": "code",
   "execution_count": null,
   "id": "f4ef6e93-61f2-4c5c-8aba-376eda32a43e",
   "metadata": {},
   "outputs": [],
   "source": [
    "Numpy\n",
    "pandas\n",
    "bs4"
   ]
  },
  {
   "cell_type": "code",
   "execution_count": 1,
   "id": "c92ddb8c-7b23-4762-aeeb-1643d92b5508",
   "metadata": {},
   "outputs": [
    {
     "data": {
      "text/plain": [
       "'raj,production,pune,1000'"
      ]
     },
     "execution_count": 1,
     "metadata": {},
     "output_type": "execute_result"
    }
   ],
   "source": [
    "import re\n",
    "\n",
    "re.sub('sales','production','raj,sales,pune,1000')"
   ]
  },
  {
   "cell_type": "code",
   "execution_count": 3,
   "id": "22efd1d1-da44-4689-bf7f-df6afe05263b",
   "metadata": {},
   "outputs": [
    {
     "data": {
      "text/plain": [
       "'raj,,pune,1000'"
      ]
     },
     "execution_count": 3,
     "metadata": {},
     "output_type": "execute_result"
    }
   ],
   "source": [
    "re.sub('sales','','raj,sales,pune,1000')"
   ]
  },
  {
   "cell_type": "code",
   "execution_count": 5,
   "id": "a06fbc7b-44a0-44d8-be9c-a630744e3260",
   "metadata": {},
   "outputs": [
    {
     "data": {
      "text/plain": [
       "'raj,pune,1000'"
      ]
     },
     "execution_count": 5,
     "metadata": {},
     "output_type": "execute_result"
    }
   ],
   "source": [
    "re.sub('sales.','','raj,sales,pune,1000')"
   ]
  },
  {
   "cell_type": "code",
   "execution_count": 9,
   "id": "7e733d83-6661-4e25-bc73-9fd6f48b2a97",
   "metadata": {},
   "outputs": [
    {
     "data": {
      "text/plain": [
       "'ls -l /etc/passwd'"
      ]
     },
     "execution_count": 9,
     "metadata": {},
     "output_type": "execute_result"
    }
   ],
   "source": [
    "fname=\"/etc/passwd\"\n",
    "re.sub('^','ls -l ',fname)"
   ]
  },
  {
   "cell_type": "code",
   "execution_count": 13,
   "id": "2e2f8e01-cc54-481f-9e44-a61dd1caa0ee",
   "metadata": {},
   "outputs": [
    {
     "name": "stdout",
     "output_type": "stream",
     "text": [
      "$4000\n",
      "4000$\n"
     ]
    }
   ],
   "source": [
    "cost=\"4000\"  # 4000$\n",
    "print(re.sub(\"^\",\"$\",cost)) # inserting $ at the beginning \n",
    "print(re.sub(\"$\",\"$\",cost)) # inserting $ at the end"
   ]
  },
  {
   "cell_type": "code",
   "execution_count": null,
   "id": "808a4c78-8b4d-4a77-854f-faab99d1afc6",
   "metadata": {},
   "outputs": [],
   "source": [
    "Used_disk_Size=['150GB','200GB','GB110','130Gb',100,'450Gb']\n",
    "|\n",
    "Calculate Sum of Used_disk_Size"
   ]
  },
  {
   "cell_type": "code",
   "execution_count": 15,
   "id": "2267b38c-4f1c-4be7-ac86-3e32ce20ef02",
   "metadata": {},
   "outputs": [
    {
     "data": {
      "text/plain": [
       "'150'"
      ]
     },
     "execution_count": 15,
     "metadata": {},
     "output_type": "execute_result"
    }
   ],
   "source": [
    "s='150GB' \n",
    "re.sub('[A-Za-z]','',s)"
   ]
  },
  {
   "cell_type": "code",
   "execution_count": 17,
   "id": "477b09c3-1e0b-4921-b053-facf3a173f00",
   "metadata": {},
   "outputs": [
    {
     "data": {
      "text/plain": [
       "'150'"
      ]
     },
     "execution_count": 17,
     "metadata": {},
     "output_type": "execute_result"
    }
   ],
   "source": [
    "s='150' \n",
    "re.sub('[A-Za-z]','',s)"
   ]
  },
  {
   "cell_type": "code",
   "execution_count": 21,
   "id": "c7ba6095-5a49-4979-8515-58dfecf37db9",
   "metadata": {},
   "outputs": [
    {
     "data": {
      "text/plain": [
       "'150'"
      ]
     },
     "execution_count": 21,
     "metadata": {},
     "output_type": "execute_result"
    }
   ],
   "source": [
    "s=150\n",
    "re.sub('[A-Za-z]','',str(s))"
   ]
  },
  {
   "cell_type": "code",
   "execution_count": 23,
   "id": "8a496bf3-4c8c-4e3c-b541-a63cf83ef0f5",
   "metadata": {},
   "outputs": [
    {
     "name": "stdout",
     "output_type": "stream",
     "text": [
      "1140\n"
     ]
    }
   ],
   "source": [
    "Used_disk_Size=['150GB','200GB','GB110','130Gb',100,'450Gb']\n",
    "\n",
    "total = 0\n",
    "for var in Used_disk_Size:\n",
    "    r=re.sub('[A-Za-z]','',str(var))\n",
    "    total = total + int(r)\n",
    "print(total)"
   ]
  },
  {
   "cell_type": "code",
   "execution_count": 27,
   "id": "c282bf49-2ce7-4cb0-b2f5-d1b04ce3afbc",
   "metadata": {},
   "outputs": [
    {
     "data": {
      "text/plain": [
       "['$']"
      ]
     },
     "execution_count": 27,
     "metadata": {},
     "output_type": "execute_result"
    }
   ],
   "source": [
    "s='450GB$'\n",
    "re.findall('[^\\\\w\\\\s]',s)"
   ]
  },
  {
   "cell_type": "code",
   "execution_count": 31,
   "id": "289056f7-b788-4f8a-8e02-79a384ee18d4",
   "metadata": {},
   "outputs": [
    {
     "data": {
      "text/plain": [
       "'450GB'"
      ]
     },
     "execution_count": 31,
     "metadata": {},
     "output_type": "execute_result"
    }
   ],
   "source": [
    "re.sub('[^\\\\w\\\\s]','',s) # delete the specialchars"
   ]
  },
  {
   "cell_type": "code",
   "execution_count": 33,
   "id": "f4e057ce-4854-41da-a077-4d2e7f821665",
   "metadata": {},
   "outputs": [
    {
     "data": {
      "text/plain": [
       "'450'"
      ]
     },
     "execution_count": 33,
     "metadata": {},
     "output_type": "execute_result"
    }
   ],
   "source": [
    "re.sub('[^\\\\w\\\\s]|[a-zA-Z]+','',s) # delete alpha and specialchars"
   ]
  },
  {
   "cell_type": "code",
   "execution_count": 35,
   "id": "999a5f01-f137-4cf9-949d-bf29490b1ba7",
   "metadata": {},
   "outputs": [
    {
     "ename": "TypeError",
     "evalue": "can only concatenate list (not \"int\") to list",
     "output_type": "error",
     "traceback": [
      "\u001b[1;31m---------------------------------------------------------------------------\u001b[0m",
      "\u001b[1;31mTypeError\u001b[0m                                 Traceback (most recent call last)",
      "Cell \u001b[1;32mIn[35], line 2\u001b[0m\n\u001b[0;32m      1\u001b[0m L\u001b[38;5;241m=\u001b[39m[\u001b[38;5;241m10\u001b[39m,\u001b[38;5;241m20\u001b[39m,\u001b[38;5;241m30\u001b[39m,\u001b[38;5;241m40\u001b[39m,\u001b[38;5;241m50\u001b[39m]\n\u001b[1;32m----> 2\u001b[0m L\u001b[38;5;241m+\u001b[39m\u001b[38;5;241m100\u001b[39m\n",
      "\u001b[1;31mTypeError\u001b[0m: can only concatenate list (not \"int\") to list"
     ]
    }
   ],
   "source": [
    "L=[10,20,30,40,50]\n",
    "L+100"
   ]
  },
  {
   "cell_type": "code",
   "execution_count": 37,
   "id": "6e8841b2-7bfa-4266-98af-0fb5f21f183b",
   "metadata": {},
   "outputs": [
    {
     "data": {
      "text/plain": [
       "[10, 20, 15, 25]"
      ]
     },
     "execution_count": 37,
     "metadata": {},
     "output_type": "execute_result"
    }
   ],
   "source": [
    "L1=[10,20]\n",
    "L2=[15,25]\n",
    "L1+L2"
   ]
  },
  {
   "cell_type": "code",
   "execution_count": 39,
   "id": "72a75cbd-fab6-4f56-96b7-f7e141aad792",
   "metadata": {},
   "outputs": [
    {
     "ename": "TypeError",
     "evalue": "'>' not supported between instances of 'list' and 'int'",
     "output_type": "error",
     "traceback": [
      "\u001b[1;31m---------------------------------------------------------------------------\u001b[0m",
      "\u001b[1;31mTypeError\u001b[0m                                 Traceback (most recent call last)",
      "Cell \u001b[1;32mIn[39], line 1\u001b[0m\n\u001b[1;32m----> 1\u001b[0m L1 \u001b[38;5;241m>\u001b[39m\u001b[38;5;241m15\u001b[39m\n",
      "\u001b[1;31mTypeError\u001b[0m: '>' not supported between instances of 'list' and 'int'"
     ]
    }
   ],
   "source": [
    "L1 >15"
   ]
  },
  {
   "cell_type": "code",
   "execution_count": 41,
   "id": "f49f5ebb-cfe7-42e5-89a6-2e2b10cf267a",
   "metadata": {},
   "outputs": [
    {
     "data": {
      "text/plain": [
       "[10, 20, 30, 40.5, 'data']"
      ]
     },
     "execution_count": 41,
     "metadata": {},
     "output_type": "execute_result"
    }
   ],
   "source": [
    "L=[10,20]\n",
    "L.append(30)\n",
    "L.append(40.5)\n",
    "L.append(\"data\")\n",
    "L"
   ]
  },
  {
   "cell_type": "code",
   "execution_count": 45,
   "id": "5a764508-68f1-4234-adba-740f3ce8924b",
   "metadata": {},
   "outputs": [
    {
     "name": "stdout",
     "output_type": "stream",
     "text": [
      "<class 'array.array'>\n",
      "<class 'type'>\n"
     ]
    }
   ],
   "source": [
    "import array\n",
    "print(array.array)\n",
    "print(type(array.array))"
   ]
  },
  {
   "cell_type": "code",
   "execution_count": 47,
   "id": "f51c0e9d-0b8d-4c16-8ef8-397c6cecc936",
   "metadata": {},
   "outputs": [
    {
     "name": "stdout",
     "output_type": "stream",
     "text": [
      "Help on built-in module array:\n",
      "\n",
      "NAME\n",
      "    array\n",
      "\n",
      "DESCRIPTION\n",
      "    This module defines an object type which can efficiently represent\n",
      "    an array of basic values: characters, integers, floating point\n",
      "    numbers.  Arrays are sequence types and behave very much like lists,\n",
      "    except that the type of objects stored in them is constrained.\n",
      "\n",
      "CLASSES\n",
      "    builtins.object\n",
      "        array\n",
      "\n",
      "    ArrayType = class array(builtins.object)\n",
      "     |  array(typecode [, initializer]) -> array\n",
      "     |\n",
      "     |  Return a new array whose items are restricted by typecode, and\n",
      "     |  initialized from the optional initializer value, which must be a list,\n",
      "     |  string or iterable over elements of the appropriate type.\n",
      "     |\n",
      "     |  Arrays represent basic values and behave very much like lists, except\n",
      "     |  the type of objects stored in them is constrained. The type is specified\n",
      "     |  at object creation time by using a type code, which is a single character.\n",
      "     |  The following type codes are defined:\n",
      "     |\n",
      "     |      Type code   C Type             Minimum size in bytes\n",
      "     |      'b'         signed integer     1\n",
      "     |      'B'         unsigned integer   1\n",
      "     |      'u'         Unicode character  2 (see note)\n",
      "     |      'h'         signed integer     2\n",
      "     |      'H'         unsigned integer   2\n",
      "     |      'i'         signed integer     2\n",
      "     |      'I'         unsigned integer   2\n",
      "     |      'l'         signed integer     4\n",
      "     |      'L'         unsigned integer   4\n",
      "     |      'q'         signed integer     8 (see note)\n",
      "     |      'Q'         unsigned integer   8 (see note)\n",
      "     |      'f'         floating point     4\n",
      "     |      'd'         floating point     8\n",
      "     |\n",
      "     |  NOTE: The 'u' typecode corresponds to Python's unicode character. On\n",
      "     |  narrow builds this is 2-bytes on wide builds this is 4-bytes.\n",
      "     |\n",
      "     |  NOTE: The 'q' and 'Q' type codes are only available if the platform\n",
      "     |  C compiler used to build Python supports 'long long', or, on Windows,\n",
      "     |  '__int64'.\n",
      "     |\n",
      "     |  Methods:\n",
      "     |\n",
      "     |  append() -- append a new item to the end of the array\n",
      "     |  buffer_info() -- return information giving the current memory info\n",
      "     |  byteswap() -- byteswap all the items of the array\n",
      "     |  count() -- return number of occurrences of an object\n",
      "     |  extend() -- extend array by appending multiple elements from an iterable\n",
      "     |  fromfile() -- read items from a file object\n",
      "     |  fromlist() -- append items from the list\n",
      "     |  frombytes() -- append items from the string\n",
      "     |  index() -- return index of first occurrence of an object\n",
      "     |  insert() -- insert a new item into the array at a provided position\n",
      "     |  pop() -- remove and return item (default last)\n",
      "     |  remove() -- remove first occurrence of an object\n",
      "     |  reverse() -- reverse the order of the items in the array\n",
      "     |  tofile() -- write all items to a file object\n",
      "     |  tolist() -- return the array converted to an ordinary list\n",
      "     |  tobytes() -- return the array converted to a string\n",
      "     |\n",
      "     |  Attributes:\n",
      "     |\n",
      "     |  typecode -- the typecode character used to create the array\n",
      "     |  itemsize -- the length in bytes of one array item\n",
      "     |\n",
      "     |  Methods defined here:\n",
      "     |\n",
      "     |  __add__(self, value, /)\n",
      "     |      Return self+value.\n",
      "     |\n",
      "     |  __buffer__(self, flags, /)\n",
      "     |      Return a buffer object that exposes the underlying memory of the object.\n",
      "     |\n",
      "     |  __contains__(self, key, /)\n",
      "     |      Return bool(key in self).\n",
      "     |\n",
      "     |  __copy__(self, /)\n",
      "     |      Return a copy of the array.\n",
      "     |\n",
      "     |  __deepcopy__(self, unused, /)\n",
      "     |      Return a copy of the array.\n",
      "     |\n",
      "     |  __delitem__(self, key, /)\n",
      "     |      Delete self[key].\n",
      "     |\n",
      "     |  __eq__(self, value, /)\n",
      "     |      Return self==value.\n",
      "     |\n",
      "     |  __ge__(self, value, /)\n",
      "     |      Return self>=value.\n",
      "     |\n",
      "     |  __getattribute__(self, name, /)\n",
      "     |      Return getattr(self, name).\n",
      "     |\n",
      "     |  __getitem__(self, key, /)\n",
      "     |      Return self[key].\n",
      "     |\n",
      "     |  __gt__(self, value, /)\n",
      "     |      Return self>value.\n",
      "     |\n",
      "     |  __iadd__(self, value, /)\n",
      "     |      Implement self+=value.\n",
      "     |\n",
      "     |  __imul__(self, value, /)\n",
      "     |      Implement self*=value.\n",
      "     |\n",
      "     |  __iter__(self, /)\n",
      "     |      Implement iter(self).\n",
      "     |\n",
      "     |  __le__(self, value, /)\n",
      "     |      Return self<=value.\n",
      "     |\n",
      "     |  __len__(self, /)\n",
      "     |      Return len(self).\n",
      "     |\n",
      "     |  __lt__(self, value, /)\n",
      "     |      Return self<value.\n",
      "     |\n",
      "     |  __mul__(self, value, /)\n",
      "     |      Return self*value.\n",
      "     |\n",
      "     |  __ne__(self, value, /)\n",
      "     |      Return self!=value.\n",
      "     |\n",
      "     |  __reduce_ex__(self, value, /)\n",
      "     |      Return state information for pickling.\n",
      "     |\n",
      "     |  __release_buffer__(self, buffer, /)\n",
      "     |      Release the buffer object that exposes the underlying memory of the object.\n",
      "     |\n",
      "     |  __repr__(self, /)\n",
      "     |      Return repr(self).\n",
      "     |\n",
      "     |  __rmul__(self, value, /)\n",
      "     |      Return value*self.\n",
      "     |\n",
      "     |  __setitem__(self, key, value, /)\n",
      "     |      Set self[key] to value.\n",
      "     |\n",
      "     |  __sizeof__(self, /)\n",
      "     |      Size of the array in memory, in bytes.\n",
      "     |\n",
      "     |  append(self, v, /)\n",
      "     |      Append new value v to the end of the array.\n",
      "     |\n",
      "     |  buffer_info(self, /)\n",
      "     |      Return a tuple (address, length) giving the current memory address and the length in items of the buffer used to hold array's contents.\n",
      "     |\n",
      "     |      The length should be multiplied by the itemsize attribute to calculate\n",
      "     |      the buffer length in bytes.\n",
      "     |\n",
      "     |  byteswap(self, /)\n",
      "     |      Byteswap all items of the array.\n",
      "     |\n",
      "     |      If the items in the array are not 1, 2, 4, or 8 bytes in size, RuntimeError is\n",
      "     |      raised.\n",
      "     |\n",
      "     |  count(self, v, /)\n",
      "     |      Return number of occurrences of v in the array.\n",
      "     |\n",
      "     |  extend(self, bb, /)\n",
      "     |      Append items to the end of the array.\n",
      "     |\n",
      "     |  frombytes(self, buffer, /)\n",
      "     |      Appends items from the string, interpreting it as an array of machine values, as if it had been read from a file using the fromfile() method.\n",
      "     |\n",
      "     |  fromfile(self, f, n, /)\n",
      "     |      Read n objects from the file object f and append them to the end of the array.\n",
      "     |\n",
      "     |  fromlist(self, list, /)\n",
      "     |      Append items to array from list.\n",
      "     |\n",
      "     |  fromunicode(self, ustr, /)\n",
      "     |      Extends this array with data from the unicode string ustr.\n",
      "     |\n",
      "     |      The array must be a unicode type array; otherwise a ValueError is raised.\n",
      "     |      Use array.frombytes(ustr.encode(...)) to append Unicode data to an array of\n",
      "     |      some other type.\n",
      "     |\n",
      "     |  index(self, v, start=0, stop=9223372036854775807, /)\n",
      "     |      Return index of first occurrence of v in the array.\n",
      "     |\n",
      "     |      Raise ValueError if the value is not present.\n",
      "     |\n",
      "     |  insert(self, i, v, /)\n",
      "     |      Insert a new item v into the array before position i.\n",
      "     |\n",
      "     |  pop(self, i=-1, /)\n",
      "     |      Return the i-th element and delete it from the array.\n",
      "     |\n",
      "     |      i defaults to -1.\n",
      "     |\n",
      "     |  remove(self, v, /)\n",
      "     |      Remove the first occurrence of v in the array.\n",
      "     |\n",
      "     |  reverse(self, /)\n",
      "     |      Reverse the order of the items in the array.\n",
      "     |\n",
      "     |  tobytes(self, /)\n",
      "     |      Convert the array to an array of machine values and return the bytes representation.\n",
      "     |\n",
      "     |  tofile(self, f, /)\n",
      "     |      Write all items (as machine values) to the file object f.\n",
      "     |\n",
      "     |  tolist(self, /)\n",
      "     |      Convert array to an ordinary list with the same items.\n",
      "     |\n",
      "     |  tounicode(self, /)\n",
      "     |      Extends this array with data from the unicode string ustr.\n",
      "     |\n",
      "     |      Convert the array to a unicode string.  The array must be a unicode type array;\n",
      "     |      otherwise a ValueError is raised.  Use array.tobytes().decode() to obtain a\n",
      "     |      unicode string from an array of some other type.\n",
      "     |\n",
      "     |  ----------------------------------------------------------------------\n",
      "     |  Class methods defined here:\n",
      "     |\n",
      "     |  __class_getitem__(...)\n",
      "     |      See PEP 585\n",
      "     |\n",
      "     |  ----------------------------------------------------------------------\n",
      "     |  Static methods defined here:\n",
      "     |\n",
      "     |  __new__(*args, **kwargs)\n",
      "     |      Create and return a new object.  See help(type) for accurate signature.\n",
      "     |\n",
      "     |  ----------------------------------------------------------------------\n",
      "     |  Data descriptors defined here:\n",
      "     |\n",
      "     |  itemsize\n",
      "     |      the size, in bytes, of one array item\n",
      "     |\n",
      "     |  typecode\n",
      "     |      the typecode character used to create the array\n",
      "     |\n",
      "     |  ----------------------------------------------------------------------\n",
      "     |  Data and other attributes defined here:\n",
      "     |\n",
      "     |  __hash__ = None\n",
      "\n",
      "    class array(builtins.object)\n",
      "     |  array(typecode [, initializer]) -> array\n",
      "     |\n",
      "     |  Return a new array whose items are restricted by typecode, and\n",
      "     |  initialized from the optional initializer value, which must be a list,\n",
      "     |  string or iterable over elements of the appropriate type.\n",
      "     |\n",
      "     |  Arrays represent basic values and behave very much like lists, except\n",
      "     |  the type of objects stored in them is constrained. The type is specified\n",
      "     |  at object creation time by using a type code, which is a single character.\n",
      "     |  The following type codes are defined:\n",
      "     |\n",
      "     |      Type code   C Type             Minimum size in bytes\n",
      "     |      'b'         signed integer     1\n",
      "     |      'B'         unsigned integer   1\n",
      "     |      'u'         Unicode character  2 (see note)\n",
      "     |      'h'         signed integer     2\n",
      "     |      'H'         unsigned integer   2\n",
      "     |      'i'         signed integer     2\n",
      "     |      'I'         unsigned integer   2\n",
      "     |      'l'         signed integer     4\n",
      "     |      'L'         unsigned integer   4\n",
      "     |      'q'         signed integer     8 (see note)\n",
      "     |      'Q'         unsigned integer   8 (see note)\n",
      "     |      'f'         floating point     4\n",
      "     |      'd'         floating point     8\n",
      "     |\n",
      "     |  NOTE: The 'u' typecode corresponds to Python's unicode character. On\n",
      "     |  narrow builds this is 2-bytes on wide builds this is 4-bytes.\n",
      "     |\n",
      "     |  NOTE: The 'q' and 'Q' type codes are only available if the platform\n",
      "     |  C compiler used to build Python supports 'long long', or, on Windows,\n",
      "     |  '__int64'.\n",
      "     |\n",
      "     |  Methods:\n",
      "     |\n",
      "     |  append() -- append a new item to the end of the array\n",
      "     |  buffer_info() -- return information giving the current memory info\n",
      "     |  byteswap() -- byteswap all the items of the array\n",
      "     |  count() -- return number of occurrences of an object\n",
      "     |  extend() -- extend array by appending multiple elements from an iterable\n",
      "     |  fromfile() -- read items from a file object\n",
      "     |  fromlist() -- append items from the list\n",
      "     |  frombytes() -- append items from the string\n",
      "     |  index() -- return index of first occurrence of an object\n",
      "     |  insert() -- insert a new item into the array at a provided position\n",
      "     |  pop() -- remove and return item (default last)\n",
      "     |  remove() -- remove first occurrence of an object\n",
      "     |  reverse() -- reverse the order of the items in the array\n",
      "     |  tofile() -- write all items to a file object\n",
      "     |  tolist() -- return the array converted to an ordinary list\n",
      "     |  tobytes() -- return the array converted to a string\n",
      "     |\n",
      "     |  Attributes:\n",
      "     |\n",
      "     |  typecode -- the typecode character used to create the array\n",
      "     |  itemsize -- the length in bytes of one array item\n",
      "     |\n",
      "     |  Methods defined here:\n",
      "     |\n",
      "     |  __add__(self, value, /)\n",
      "     |      Return self+value.\n",
      "     |\n",
      "     |  __buffer__(self, flags, /)\n",
      "     |      Return a buffer object that exposes the underlying memory of the object.\n",
      "     |\n",
      "     |  __contains__(self, key, /)\n",
      "     |      Return bool(key in self).\n",
      "     |\n",
      "     |  __copy__(self, /)\n",
      "     |      Return a copy of the array.\n",
      "     |\n",
      "     |  __deepcopy__(self, unused, /)\n",
      "     |      Return a copy of the array.\n",
      "     |\n",
      "     |  __delitem__(self, key, /)\n",
      "     |      Delete self[key].\n",
      "     |\n",
      "     |  __eq__(self, value, /)\n",
      "     |      Return self==value.\n",
      "     |\n",
      "     |  __ge__(self, value, /)\n",
      "     |      Return self>=value.\n",
      "     |\n",
      "     |  __getattribute__(self, name, /)\n",
      "     |      Return getattr(self, name).\n",
      "     |\n",
      "     |  __getitem__(self, key, /)\n",
      "     |      Return self[key].\n",
      "     |\n",
      "     |  __gt__(self, value, /)\n",
      "     |      Return self>value.\n",
      "     |\n",
      "     |  __iadd__(self, value, /)\n",
      "     |      Implement self+=value.\n",
      "     |\n",
      "     |  __imul__(self, value, /)\n",
      "     |      Implement self*=value.\n",
      "     |\n",
      "     |  __iter__(self, /)\n",
      "     |      Implement iter(self).\n",
      "     |\n",
      "     |  __le__(self, value, /)\n",
      "     |      Return self<=value.\n",
      "     |\n",
      "     |  __len__(self, /)\n",
      "     |      Return len(self).\n",
      "     |\n",
      "     |  __lt__(self, value, /)\n",
      "     |      Return self<value.\n",
      "     |\n",
      "     |  __mul__(self, value, /)\n",
      "     |      Return self*value.\n",
      "     |\n",
      "     |  __ne__(self, value, /)\n",
      "     |      Return self!=value.\n",
      "     |\n",
      "     |  __reduce_ex__(self, value, /)\n",
      "     |      Return state information for pickling.\n",
      "     |\n",
      "     |  __release_buffer__(self, buffer, /)\n",
      "     |      Release the buffer object that exposes the underlying memory of the object.\n",
      "     |\n",
      "     |  __repr__(self, /)\n",
      "     |      Return repr(self).\n",
      "     |\n",
      "     |  __rmul__(self, value, /)\n",
      "     |      Return value*self.\n",
      "     |\n",
      "     |  __setitem__(self, key, value, /)\n",
      "     |      Set self[key] to value.\n",
      "     |\n",
      "     |  __sizeof__(self, /)\n",
      "     |      Size of the array in memory, in bytes.\n",
      "     |\n",
      "     |  append(self, v, /)\n",
      "     |      Append new value v to the end of the array.\n",
      "     |\n",
      "     |  buffer_info(self, /)\n",
      "     |      Return a tuple (address, length) giving the current memory address and the length in items of the buffer used to hold array's contents.\n",
      "     |\n",
      "     |      The length should be multiplied by the itemsize attribute to calculate\n",
      "     |      the buffer length in bytes.\n",
      "     |\n",
      "     |  byteswap(self, /)\n",
      "     |      Byteswap all items of the array.\n",
      "     |\n",
      "     |      If the items in the array are not 1, 2, 4, or 8 bytes in size, RuntimeError is\n",
      "     |      raised.\n",
      "     |\n",
      "     |  count(self, v, /)\n",
      "     |      Return number of occurrences of v in the array.\n",
      "     |\n",
      "     |  extend(self, bb, /)\n",
      "     |      Append items to the end of the array.\n",
      "     |\n",
      "     |  frombytes(self, buffer, /)\n",
      "     |      Appends items from the string, interpreting it as an array of machine values, as if it had been read from a file using the fromfile() method.\n",
      "     |\n",
      "     |  fromfile(self, f, n, /)\n",
      "     |      Read n objects from the file object f and append them to the end of the array.\n",
      "     |\n",
      "     |  fromlist(self, list, /)\n",
      "     |      Append items to array from list.\n",
      "     |\n",
      "     |  fromunicode(self, ustr, /)\n",
      "     |      Extends this array with data from the unicode string ustr.\n",
      "     |\n",
      "     |      The array must be a unicode type array; otherwise a ValueError is raised.\n",
      "     |      Use array.frombytes(ustr.encode(...)) to append Unicode data to an array of\n",
      "     |      some other type.\n",
      "     |\n",
      "     |  index(self, v, start=0, stop=9223372036854775807, /)\n",
      "     |      Return index of first occurrence of v in the array.\n",
      "     |\n",
      "     |      Raise ValueError if the value is not present.\n",
      "     |\n",
      "     |  insert(self, i, v, /)\n",
      "     |      Insert a new item v into the array before position i.\n",
      "     |\n",
      "     |  pop(self, i=-1, /)\n",
      "     |      Return the i-th element and delete it from the array.\n",
      "     |\n",
      "     |      i defaults to -1.\n",
      "     |\n",
      "     |  remove(self, v, /)\n",
      "     |      Remove the first occurrence of v in the array.\n",
      "     |\n",
      "     |  reverse(self, /)\n",
      "     |      Reverse the order of the items in the array.\n",
      "     |\n",
      "     |  tobytes(self, /)\n",
      "     |      Convert the array to an array of machine values and return the bytes representation.\n",
      "     |\n",
      "     |  tofile(self, f, /)\n",
      "     |      Write all items (as machine values) to the file object f.\n",
      "     |\n",
      "     |  tolist(self, /)\n",
      "     |      Convert array to an ordinary list with the same items.\n",
      "     |\n",
      "     |  tounicode(self, /)\n",
      "     |      Extends this array with data from the unicode string ustr.\n",
      "     |\n",
      "     |      Convert the array to a unicode string.  The array must be a unicode type array;\n",
      "     |      otherwise a ValueError is raised.  Use array.tobytes().decode() to obtain a\n",
      "     |      unicode string from an array of some other type.\n",
      "     |\n",
      "     |  ----------------------------------------------------------------------\n",
      "     |  Class methods defined here:\n",
      "     |\n",
      "     |  __class_getitem__(...)\n",
      "     |      See PEP 585\n",
      "     |\n",
      "     |  ----------------------------------------------------------------------\n",
      "     |  Static methods defined here:\n",
      "     |\n",
      "     |  __new__(*args, **kwargs)\n",
      "     |      Create and return a new object.  See help(type) for accurate signature.\n",
      "     |\n",
      "     |  ----------------------------------------------------------------------\n",
      "     |  Data descriptors defined here:\n",
      "     |\n",
      "     |  itemsize\n",
      "     |      the size, in bytes, of one array item\n",
      "     |\n",
      "     |  typecode\n",
      "     |      the typecode character used to create the array\n",
      "     |\n",
      "     |  ----------------------------------------------------------------------\n",
      "     |  Data and other attributes defined here:\n",
      "     |\n",
      "     |  __hash__ = None\n",
      "\n",
      "DATA\n",
      "    typecodes = 'bBuhHiIlLqQfd'\n",
      "\n",
      "FILE\n",
      "    (built-in)\n",
      "\n",
      "\n"
     ]
    }
   ],
   "source": [
    "help(array)"
   ]
  },
  {
   "cell_type": "code",
   "execution_count": 49,
   "id": "94bd1f72-cb9a-4914-ba14-ff30b15fe429",
   "metadata": {},
   "outputs": [
    {
     "name": "stdout",
     "output_type": "stream",
     "text": [
      "<class 'type'>\n"
     ]
    }
   ],
   "source": [
    "print(type(array.array))"
   ]
  },
  {
   "cell_type": "code",
   "execution_count": 53,
   "id": "df8d1152-b92b-4bdb-8078-c3bd73d3d95f",
   "metadata": {},
   "outputs": [
    {
     "data": {
      "text/plain": [
       "array('i', [15, -1, 45])"
      ]
     },
     "execution_count": 53,
     "metadata": {},
     "output_type": "execute_result"
    }
   ],
   "source": [
    "arr = array.array('i',)\n",
    "arr.append(15)\n",
    "arr.append(-1)\n",
    "arr.append(45)\n",
    "arr"
   ]
  },
  {
   "cell_type": "code",
   "execution_count": 56,
   "id": "06a7b9ab-225d-4cef-adfa-97c5777a00b1",
   "metadata": {},
   "outputs": [
    {
     "ename": "TypeError",
     "evalue": "'float' object cannot be interpreted as an integer",
     "output_type": "error",
     "traceback": [
      "\u001b[1;31m---------------------------------------------------------------------------\u001b[0m",
      "\u001b[1;31mTypeError\u001b[0m                                 Traceback (most recent call last)",
      "Cell \u001b[1;32mIn[56], line 1\u001b[0m\n\u001b[1;32m----> 1\u001b[0m arr\u001b[38;5;241m.\u001b[39mappend(\u001b[38;5;241m56.0\u001b[39m)\n",
      "\u001b[1;31mTypeError\u001b[0m: 'float' object cannot be interpreted as an integer"
     ]
    }
   ],
   "source": [
    "arr.append(56.0)"
   ]
  },
  {
   "cell_type": "code",
   "execution_count": 58,
   "id": "40793908-d3ac-4287-845b-305865765185",
   "metadata": {},
   "outputs": [
    {
     "data": {
      "text/plain": [
       "array('i', [10, 20, 30, 40])"
      ]
     },
     "execution_count": 58,
     "metadata": {},
     "output_type": "execute_result"
    }
   ],
   "source": [
    "a1 = array.array('i',[])\n",
    "a1.append(10)\n",
    "a1.append(20)\n",
    "a1.append(30)\n",
    "a1.append(40)\n",
    "a1"
   ]
  },
  {
   "cell_type": "code",
   "execution_count": 60,
   "id": "aa70e752-d525-4000-865c-9d71d08d8cc3",
   "metadata": {},
   "outputs": [
    {
     "ename": "TypeError",
     "evalue": "can only append array (not \"int\") to array",
     "output_type": "error",
     "traceback": [
      "\u001b[1;31m---------------------------------------------------------------------------\u001b[0m",
      "\u001b[1;31mTypeError\u001b[0m                                 Traceback (most recent call last)",
      "Cell \u001b[1;32mIn[60], line 1\u001b[0m\n\u001b[1;32m----> 1\u001b[0m a1\u001b[38;5;241m+\u001b[39m\u001b[38;5;241m150\u001b[39m\n",
      "\u001b[1;31mTypeError\u001b[0m: can only append array (not \"int\") to array"
     ]
    }
   ],
   "source": [
    "a1+150"
   ]
  },
  {
   "cell_type": "code",
   "execution_count": 62,
   "id": "317c3853-fbf9-4d9d-ab37-dc749c34c0b6",
   "metadata": {},
   "outputs": [
    {
     "ename": "TypeError",
     "evalue": "'>' not supported between instances of 'array.array' and 'int'",
     "output_type": "error",
     "traceback": [
      "\u001b[1;31m---------------------------------------------------------------------------\u001b[0m",
      "\u001b[1;31mTypeError\u001b[0m                                 Traceback (most recent call last)",
      "Cell \u001b[1;32mIn[62], line 1\u001b[0m\n\u001b[1;32m----> 1\u001b[0m a1 \u001b[38;5;241m>\u001b[39m\u001b[38;5;241m30\u001b[39m\n",
      "\u001b[1;31mTypeError\u001b[0m: '>' not supported between instances of 'array.array' and 'int'"
     ]
    }
   ],
   "source": [
    "a1 >30"
   ]
  },
  {
   "cell_type": "code",
   "execution_count": null,
   "id": "6acdb67f-9bca-45b5-866c-962c2a455c93",
   "metadata": {},
   "outputs": [],
   "source": [
    "python.org ->download ->python -> cpython\n",
    "                                      - we can do general python program\n",
    "pip install <module>\n",
    "\n",
    "ananconda ->download ->python ->ipython\n",
    "                                Core python + ML modules also available "
   ]
  },
  {
   "cell_type": "code",
   "execution_count": null,
   "id": "e3e4283d-92e8-41c6-b0f1-4851788f440e",
   "metadata": {},
   "outputs": [],
   "source": [
    "!pip install <module>"
   ]
  },
  {
   "cell_type": "code",
   "execution_count": 64,
   "id": "0760f16f-0c6c-41ae-b8ee-9f5deb0bdbc9",
   "metadata": {},
   "outputs": [
    {
     "data": {
      "text/plain": [
       "'1.26.4'"
      ]
     },
     "execution_count": 64,
     "metadata": {},
     "output_type": "execute_result"
    }
   ],
   "source": [
    "import numpy\n",
    "numpy.__version__"
   ]
  },
  {
   "cell_type": "code",
   "execution_count": 66,
   "id": "78bf5c55-ecd6-4776-a401-1023cf148360",
   "metadata": {},
   "outputs": [
    {
     "data": {
      "text/plain": [
       "'C:\\\\Users\\\\theeba\\\\anaconda3\\\\Lib\\\\site-packages\\\\numpy\\\\__init__.py'"
      ]
     },
     "execution_count": 66,
     "metadata": {},
     "output_type": "execute_result"
    }
   ],
   "source": [
    "numpy.__file__"
   ]
  },
  {
   "cell_type": "code",
   "execution_count": 68,
   "id": "7db5e1b1-df5e-410f-89ce-f1cc19cba024",
   "metadata": {},
   "outputs": [
    {
     "data": {
      "text/plain": [
       "array([10, 20, 30])"
      ]
     },
     "execution_count": 68,
     "metadata": {},
     "output_type": "execute_result"
    }
   ],
   "source": [
    "numpy.array([10,20,30])"
   ]
  },
  {
   "cell_type": "code",
   "execution_count": 70,
   "id": "35c2e064-7bac-4eb2-85a0-2e7f96156d72",
   "metadata": {},
   "outputs": [
    {
     "name": "stdout",
     "output_type": "stream",
     "text": [
      "<class 'numpy.ndarray'>\n"
     ]
    }
   ],
   "source": [
    "a1 = numpy.array([10,20,30])\n",
    "print(type(a1))"
   ]
  },
  {
   "cell_type": "code",
   "execution_count": 72,
   "id": "68d9b85c-db76-46f8-98a5-c9e116d48d37",
   "metadata": {},
   "outputs": [],
   "source": [
    "L1 = [10,20,30]\n",
    "a1 = array.array('i',[10,20,30])\n",
    "na1 = numpy.array([10,20,30])"
   ]
  },
  {
   "cell_type": "code",
   "execution_count": 76,
   "id": "f6bf9ee9-8e31-4a6b-a3e6-28e0f5b0d1e1",
   "metadata": {},
   "outputs": [
    {
     "name": "stdout",
     "output_type": "stream",
     "text": [
      "10 10 10\n"
     ]
    }
   ],
   "source": [
    "print(L1[0],a1[0],na1[0])"
   ]
  },
  {
   "cell_type": "code",
   "execution_count": 82,
   "id": "fcbd118d-7132-4c1c-8025-c5e92d5db135",
   "metadata": {},
   "outputs": [
    {
     "data": {
      "text/plain": [
       "array([110, 120, 130])"
      ]
     },
     "execution_count": 82,
     "metadata": {},
     "output_type": "execute_result"
    }
   ],
   "source": [
    "# L1+100 ->Error\n",
    "# a1+100 ->Error\n",
    "na1 + 100"
   ]
  },
  {
   "cell_type": "code",
   "execution_count": 84,
   "id": "b9ab9247-8d5c-4f56-88db-c2a501160da7",
   "metadata": {},
   "outputs": [
    {
     "data": {
      "text/plain": [
       "array([20.45, 30.45, 40.45])"
      ]
     },
     "execution_count": 84,
     "metadata": {},
     "output_type": "execute_result"
    }
   ],
   "source": [
    "na1 + 10.45"
   ]
  },
  {
   "cell_type": "code",
   "execution_count": 86,
   "id": "5db1fa25-4824-4049-9fcf-a2fce02fbb18",
   "metadata": {},
   "outputs": [
    {
     "data": {
      "text/plain": [
       "[10, 20, 30, 2, 3, 4]"
      ]
     },
     "execution_count": 86,
     "metadata": {},
     "output_type": "execute_result"
    }
   ],
   "source": [
    "L1=[10,20,30]\n",
    "L2=[2,3,4]\n",
    "L1+L2"
   ]
  },
  {
   "cell_type": "code",
   "execution_count": 88,
   "id": "1742c907-a4b1-44ac-9650-1bc2144c9c8e",
   "metadata": {},
   "outputs": [
    {
     "ename": "TypeError",
     "evalue": "unsupported operand type(s) for -: 'list' and 'list'",
     "output_type": "error",
     "traceback": [
      "\u001b[1;31m---------------------------------------------------------------------------\u001b[0m",
      "\u001b[1;31mTypeError\u001b[0m                                 Traceback (most recent call last)",
      "Cell \u001b[1;32mIn[88], line 1\u001b[0m\n\u001b[1;32m----> 1\u001b[0m L1\u001b[38;5;241m-\u001b[39mL2\n",
      "\u001b[1;31mTypeError\u001b[0m: unsupported operand type(s) for -: 'list' and 'list'"
     ]
    }
   ],
   "source": [
    "L1-L2"
   ]
  },
  {
   "cell_type": "code",
   "execution_count": 90,
   "id": "b0e1edd5-cc9e-43c1-8b82-e5a0a386f4ee",
   "metadata": {},
   "outputs": [
    {
     "ename": "TypeError",
     "evalue": "can't multiply sequence by non-int of type 'list'",
     "output_type": "error",
     "traceback": [
      "\u001b[1;31m---------------------------------------------------------------------------\u001b[0m",
      "\u001b[1;31mTypeError\u001b[0m                                 Traceback (most recent call last)",
      "Cell \u001b[1;32mIn[90], line 1\u001b[0m\n\u001b[1;32m----> 1\u001b[0m L1\u001b[38;5;241m*\u001b[39mL2\n",
      "\u001b[1;31mTypeError\u001b[0m: can't multiply sequence by non-int of type 'list'"
     ]
    }
   ],
   "source": [
    "L1*L2"
   ]
  },
  {
   "cell_type": "code",
   "execution_count": 92,
   "id": "f6660589-d7fb-406e-b543-ea8c50e3b029",
   "metadata": {},
   "outputs": [
    {
     "data": {
      "text/plain": [
       "[10, 20, 30, 10, 20, 30, 10, 20, 30]"
      ]
     },
     "execution_count": 92,
     "metadata": {},
     "output_type": "execute_result"
    }
   ],
   "source": [
    "L1*3"
   ]
  },
  {
   "cell_type": "code",
   "execution_count": 94,
   "id": "5c0c4b49-1ee3-47a8-9150-97bdaaeaea60",
   "metadata": {},
   "outputs": [
    {
     "data": {
      "text/plain": [
       "'HelloHelloHello'"
      ]
     },
     "execution_count": 94,
     "metadata": {},
     "output_type": "execute_result"
    }
   ],
   "source": [
    "\"Hello\"*3"
   ]
  },
  {
   "cell_type": "code",
   "execution_count": 96,
   "id": "53cb1c7f-f3c0-4c62-8e28-3418a8e4c231",
   "metadata": {},
   "outputs": [
    {
     "data": {
      "text/plain": [
       "array([15, 35, 55])"
      ]
     },
     "execution_count": 96,
     "metadata": {},
     "output_type": "execute_result"
    }
   ],
   "source": [
    "na1 = numpy.array([10,20,30])\n",
    "na2 = numpy.array([5,15,25])\n",
    "na1 + na2"
   ]
  },
  {
   "cell_type": "code",
   "execution_count": 98,
   "id": "da1ff53f-0093-483b-9667-a0b5107bf7e4",
   "metadata": {},
   "outputs": [
    {
     "data": {
      "text/plain": [
       "array([110, 120, 130])"
      ]
     },
     "execution_count": 98,
     "metadata": {},
     "output_type": "execute_result"
    }
   ],
   "source": [
    "import numpy as np\n",
    "a1 = np.array([10,20,30])\n",
    "a1+100"
   ]
  },
  {
   "cell_type": "code",
   "execution_count": 100,
   "id": "0de25527-989f-47a1-a7b7-06e7fcb859ff",
   "metadata": {},
   "outputs": [
    {
     "data": {
      "text/plain": [
       "dtype('int32')"
      ]
     },
     "execution_count": 100,
     "metadata": {},
     "output_type": "execute_result"
    }
   ],
   "source": [
    "a1.dtype"
   ]
  },
  {
   "cell_type": "code",
   "execution_count": 102,
   "id": "1b162821-a312-4ea8-a3ce-66b12a0ffa06",
   "metadata": {},
   "outputs": [
    {
     "data": {
      "text/plain": [
       "(3,)"
      ]
     },
     "execution_count": 102,
     "metadata": {},
     "output_type": "execute_result"
    }
   ],
   "source": [
    "a1.shape"
   ]
  },
  {
   "cell_type": "code",
   "execution_count": 104,
   "id": "dd950fba-9433-4216-b7c3-ced770e4b4ba",
   "metadata": {},
   "outputs": [
    {
     "data": {
      "text/plain": [
       "1"
      ]
     },
     "execution_count": 104,
     "metadata": {},
     "output_type": "execute_result"
    }
   ],
   "source": [
    "a1.ndim"
   ]
  },
  {
   "cell_type": "code",
   "execution_count": 106,
   "id": "573a2e84-d49a-400e-9aa0-284628bc11e3",
   "metadata": {},
   "outputs": [
    {
     "name": "stdout",
     "output_type": "stream",
     "text": [
      "int32 (3,) 1\n"
     ]
    }
   ],
   "source": [
    "a1 = np.array([10,20,30])\n",
    "print(a1.dtype,a1.shape,a1.ndim)"
   ]
  },
  {
   "cell_type": "code",
   "execution_count": 108,
   "id": "322d3109-27ed-4c6b-92ec-ae62dad98b6b",
   "metadata": {},
   "outputs": [
    {
     "name": "stdout",
     "output_type": "stream",
     "text": [
      "float64 (3,) 1\n"
     ]
    }
   ],
   "source": [
    "a1 = np.array([10,20.0,30])\n",
    "print(a1.dtype,a1.shape,a1.ndim)"
   ]
  },
  {
   "cell_type": "code",
   "execution_count": 110,
   "id": "a7fc0e43-05ad-4856-b949-621a12c3437a",
   "metadata": {},
   "outputs": [
    {
     "data": {
      "text/plain": [
       "array([110., 120., 130.])"
      ]
     },
     "execution_count": 110,
     "metadata": {},
     "output_type": "execute_result"
    }
   ],
   "source": [
    "a1+100"
   ]
  },
  {
   "cell_type": "code",
   "execution_count": 112,
   "id": "3e54a92d-04b9-4af9-a7f6-90a1c8eb146d",
   "metadata": {},
   "outputs": [
    {
     "name": "stdout",
     "output_type": "stream",
     "text": [
      "<U32 (3,) 1\n"
     ]
    }
   ],
   "source": [
    "a1 = np.array([10,20.0,'30'])\n",
    "print(a1.dtype,a1.shape,a1.ndim)"
   ]
  },
  {
   "cell_type": "code",
   "execution_count": 114,
   "id": "03a78948-46f5-4ea6-966c-fcaeebe311c5",
   "metadata": {},
   "outputs": [
    {
     "ename": "UFuncTypeError",
     "evalue": "ufunc 'add' did not contain a loop with signature matching types (dtype('<U32'), dtype('int32')) -> None",
     "output_type": "error",
     "traceback": [
      "\u001b[1;31m---------------------------------------------------------------------------\u001b[0m",
      "\u001b[1;31mUFuncTypeError\u001b[0m                            Traceback (most recent call last)",
      "Cell \u001b[1;32mIn[114], line 1\u001b[0m\n\u001b[1;32m----> 1\u001b[0m a1\u001b[38;5;241m+\u001b[39m\u001b[38;5;241m100\u001b[39m\n",
      "\u001b[1;31mUFuncTypeError\u001b[0m: ufunc 'add' did not contain a loop with signature matching types (dtype('<U32'), dtype('int32')) -> None"
     ]
    }
   ],
   "source": [
    "a1+100"
   ]
  },
  {
   "cell_type": "code",
   "execution_count": 116,
   "id": "952d48c4-bad0-4761-b181-153ca2a847dd",
   "metadata": {},
   "outputs": [
    {
     "data": {
      "text/plain": [
       "array([10., 20., 30.])"
      ]
     },
     "execution_count": 116,
     "metadata": {},
     "output_type": "execute_result"
    }
   ],
   "source": [
    "a1 = np.array([10,20.0,'30'],float)\n",
    "a1"
   ]
  },
  {
   "cell_type": "code",
   "execution_count": 118,
   "id": "d7f89db5-0420-4e23-9d5e-a3f0d829ce1f",
   "metadata": {},
   "outputs": [
    {
     "data": {
      "text/plain": [
       "array([10.+0.j, 20.+0.j, 30.+0.j])"
      ]
     },
     "execution_count": 118,
     "metadata": {},
     "output_type": "execute_result"
    }
   ],
   "source": [
    "a1 = np.array([10,20.0,'30'],complex)\n",
    "a1"
   ]
  },
  {
   "cell_type": "code",
   "execution_count": 120,
   "id": "d02a4ef7-53e5-40fc-9223-5de60cb88b2b",
   "metadata": {},
   "outputs": [
    {
     "name": "stdout",
     "output_type": "stream",
     "text": [
      "1 (3,)\n"
     ]
    }
   ],
   "source": [
    "a1 = np.array([10,20.0,30])\n",
    "print(a1.ndim,a1.shape)"
   ]
  },
  {
   "cell_type": "code",
   "execution_count": 122,
   "id": "3c5fcd85-400e-4a12-98ef-fe6c13e153c9",
   "metadata": {},
   "outputs": [
    {
     "name": "stdout",
     "output_type": "stream",
     "text": [
      "2 (1, 3)\n"
     ]
    }
   ],
   "source": [
    "a1 = np.array([[10,20.0,30]])\n",
    "print(a1.ndim,a1.shape)"
   ]
  },
  {
   "cell_type": "markdown",
   "id": "bb458804-4ab1-4686-a70c-da1f7c2ecbde",
   "metadata": {},
   "source": [
    "   |      |     |\n",
    " | C1  |  C2  | C3 |\n",
    " | 10  |  20  | 30 | <== row"
   ]
  },
  {
   "cell_type": "code",
   "execution_count": 124,
   "id": "8b1d7868-e18f-4af5-b72a-444c9e84071d",
   "metadata": {},
   "outputs": [
    {
     "name": "stdout",
     "output_type": "stream",
     "text": [
      "3 (1, 1, 3)\n"
     ]
    }
   ],
   "source": [
    "a1 = np.array([[[10,20.0,30]]])\n",
    "print(a1.ndim,a1.shape)"
   ]
  },
  {
   "cell_type": "code",
   "execution_count": 126,
   "id": "7b026c16-6d2a-47e1-bf88-01a71e1ef87d",
   "metadata": {},
   "outputs": [
    {
     "name": "stdout",
     "output_type": "stream",
     "text": [
      "4 (1, 1, 1, 3)\n"
     ]
    }
   ],
   "source": [
    "a1 = np.array([[[[10,20.0,30]]]])\n",
    "print(a1.ndim,a1.shape)"
   ]
  },
  {
   "cell_type": "code",
   "execution_count": 128,
   "id": "98aec271-6ecb-41c9-b321-59a02f49d2d9",
   "metadata": {},
   "outputs": [
    {
     "name": "stdout",
     "output_type": "stream",
     "text": [
      "2 (2, 3)\n"
     ]
    }
   ],
   "source": [
    "a1 = np.array([[10,20,30],[40,50,60]])\n",
    "print(a1.ndim,a1.shape)\n",
    "# a1.shape ->(2,3) =>2rows 3cols"
   ]
  },
  {
   "cell_type": "code",
   "execution_count": 130,
   "id": "80cc8924-6537-4fda-ba3b-fe72cc712f7c",
   "metadata": {},
   "outputs": [
    {
     "name": "stdout",
     "output_type": "stream",
     "text": [
      "2 (3, 3)\n"
     ]
    }
   ],
   "source": [
    "a1 = np.array([[10,20,30],[40,50,60],[35,45,55]])\n",
    "print(a1.ndim,a1.shape)"
   ]
  },
  {
   "cell_type": "code",
   "execution_count": 132,
   "id": "6ae63a97-49a0-4e9a-ba67-ed6b0b9cf0ae",
   "metadata": {},
   "outputs": [
    {
     "name": "stdout",
     "output_type": "stream",
     "text": [
      "2 (3, 4)\n"
     ]
    }
   ],
   "source": [
    "a1 = np.array([[10,20,30,33],[40,50,60,66],[35,45,55,66]])\n",
    "print(a1.ndim,a1.shape)"
   ]
  },
  {
   "cell_type": "code",
   "execution_count": 134,
   "id": "5fe4d0a5-79b0-4b1a-8a08-66dffce2d1f0",
   "metadata": {},
   "outputs": [
    {
     "name": "stdout",
     "output_type": "stream",
     "text": [
      "[[10 20 30 33]\n",
      " [40 50 60 66]\n",
      " [35 45 55 66]]\n"
     ]
    }
   ],
   "source": [
    "print(a1)"
   ]
  },
  {
   "cell_type": "code",
   "execution_count": 142,
   "id": "66b2a42a-16db-4d0a-ba49-bd80992ce9a2",
   "metadata": {},
   "outputs": [
    {
     "data": {
      "text/plain": [
       "array([[10, 20, 30],\n",
       "       [33, 40, 50],\n",
       "       [60, 66, 35],\n",
       "       [45, 55, 66]])"
      ]
     },
     "execution_count": 142,
     "metadata": {},
     "output_type": "execute_result"
    }
   ],
   "source": [
    "a1.reshape(4,3) # 4row and 3cols"
   ]
  },
  {
   "cell_type": "code",
   "execution_count": 146,
   "id": "9403e350-3d49-499d-a2d2-9c606d0a9639",
   "metadata": {},
   "outputs": [
    {
     "data": {
      "text/plain": [
       "array([[110, 120, 130],\n",
       "       [133, 140, 150],\n",
       "       [160, 166, 135],\n",
       "       [145, 155, 166]])"
      ]
     },
     "execution_count": 146,
     "metadata": {},
     "output_type": "execute_result"
    }
   ],
   "source": [
    "r1=a1.reshape(4,3)\n",
    "r1+100"
   ]
  },
  {
   "cell_type": "code",
   "execution_count": 148,
   "id": "b28cd53d-a5ca-4cd5-a7ca-85d3f9ec3e84",
   "metadata": {},
   "outputs": [
    {
     "data": {
      "text/plain": [
       "(4, 3)"
      ]
     },
     "execution_count": 148,
     "metadata": {},
     "output_type": "execute_result"
    }
   ],
   "source": [
    "r1.shape"
   ]
  },
  {
   "cell_type": "code",
   "execution_count": 150,
   "id": "e89b61e3-6706-47ea-be0c-83aee7cdde66",
   "metadata": {},
   "outputs": [
    {
     "data": {
      "text/plain": [
       "array([10., 20., 30.])"
      ]
     },
     "execution_count": 150,
     "metadata": {},
     "output_type": "execute_result"
    }
   ],
   "source": [
    "arr1 = np.array([10,20,30],dtype=np.float64)\n",
    "arr1"
   ]
  },
  {
   "cell_type": "code",
   "execution_count": 152,
   "id": "1b5c6e8a-b8a5-473d-b549-6366995ff61c",
   "metadata": {},
   "outputs": [
    {
     "data": {
      "text/plain": [
       "dtype('float64')"
      ]
     },
     "execution_count": 152,
     "metadata": {},
     "output_type": "execute_result"
    }
   ],
   "source": [
    "arr1.dtype"
   ]
  },
  {
   "cell_type": "code",
   "execution_count": 156,
   "id": "0fd40867-69e4-4109-a82a-f9aa75ce32b3",
   "metadata": {},
   "outputs": [
    {
     "name": "stdout",
     "output_type": "stream",
     "text": [
      "[10 20 30] int64\n"
     ]
    }
   ],
   "source": [
    "arr1 = np.array([10,20,30],dtype=np.int64)\n",
    "print(arr1,arr1.dtype)"
   ]
  },
  {
   "cell_type": "markdown",
   "id": "e5aa8323-249d-4bfa-9119-7eed9ec38002",
   "metadata": {},
   "source": [
    "arr1 = np.array([10,20,30],dtype=np.bool)\n",
    "print(arr1,arr1.dtype)"
   ]
  },
  {
   "cell_type": "code",
   "execution_count": 164,
   "id": "dab7aecc-2484-4475-b2b3-fbf5e833611d",
   "metadata": {},
   "outputs": [
    {
     "name": "stdout",
     "output_type": "stream",
     "text": [
      "[0, 1, 2, 3, 4]\n",
      "[3, 4, 5, 6, 7, 8, 9, 10, 11, 12, 13, 14]\n",
      "[3, 5, 7, 9, 11, 13]\n"
     ]
    }
   ],
   "source": [
    "print(list(range(5)))\n",
    "print(list(range(3,15)))\n",
    "print(list(range(3,15,2)))"
   ]
  },
  {
   "cell_type": "code",
   "execution_count": 168,
   "id": "668975e8-d7f7-4b4f-b5f3-ad43da72a889",
   "metadata": {},
   "outputs": [
    {
     "name": "stdout",
     "output_type": "stream",
     "text": [
      "[0 1 2 3 4]\n",
      "[ 3  4  5  6  7  8  9 10 11 12 13 14]\n",
      "[ 3  5  7  9 11 13]\n"
     ]
    }
   ],
   "source": [
    "print(np.arange(5))\n",
    "print(np.arange(3,15))\n",
    "print(np.arange(3,15,2))"
   ]
  },
  {
   "cell_type": "code",
   "execution_count": 172,
   "id": "5692013f-7762-43a9-951b-83c59ac95ca0",
   "metadata": {},
   "outputs": [
    {
     "data": {
      "text/plain": [
       "array([0., 0., 0., 0., 0.])"
      ]
     },
     "execution_count": 172,
     "metadata": {},
     "output_type": "execute_result"
    }
   ],
   "source": [
    "np.zeros(5)"
   ]
  },
  {
   "cell_type": "code",
   "execution_count": 174,
   "id": "c6b6b926-41bd-4372-baf3-6d25688bb04a",
   "metadata": {},
   "outputs": [
    {
     "data": {
      "text/plain": [
       "array([0, 0, 0, 0, 0])"
      ]
     },
     "execution_count": 174,
     "metadata": {},
     "output_type": "execute_result"
    }
   ],
   "source": [
    "np.zeros(5,dtype=np.int32)"
   ]
  },
  {
   "cell_type": "code",
   "execution_count": 176,
   "id": "a9bdc945-7ed0-4762-94f0-ad6cc96ef3a2",
   "metadata": {},
   "outputs": [
    {
     "data": {
      "text/plain": [
       "array([0.6482694 , 0.74971141, 0.97692538, 0.06703215, 0.17304803])"
      ]
     },
     "execution_count": 176,
     "metadata": {},
     "output_type": "execute_result"
    }
   ],
   "source": [
    "np.random.rand(5)"
   ]
  },
  {
   "cell_type": "code",
   "execution_count": 182,
   "id": "96f65ded-1ed1-476d-8224-4d51c9384681",
   "metadata": {},
   "outputs": [
    {
     "name": "stdout",
     "output_type": "stream",
     "text": [
      "[[110 120 130]\n",
      " [140 150 160]]\n",
      "[[False False False]\n",
      " [ True  True  True]]\n",
      "\n",
      "[[ 25  45  60]\n",
      " [ 85  85 110]]\n",
      "[[False False False]\n",
      " [False  True  True]]\n"
     ]
    }
   ],
   "source": [
    "a1 = np.array([[10,20,30],[40,50,60]])\n",
    "print(a1 + 100)\n",
    "print(a1 > 35)\n",
    "print('')\n",
    "a2 = np.array([[15,25,30],[45,35,50]])\n",
    "print(a1+a2)\n",
    "print(a1 > a2)"
   ]
  },
  {
   "cell_type": "code",
   "execution_count": 184,
   "id": "06400630-ebad-45c2-8665-4d3b14c26727",
   "metadata": {},
   "outputs": [
    {
     "data": {
      "text/plain": [
       "dtype('bool')"
      ]
     },
     "execution_count": 184,
     "metadata": {},
     "output_type": "execute_result"
    }
   ],
   "source": [
    "r = a1 > a2\n",
    "r.dtype"
   ]
  },
  {
   "cell_type": "raw",
   "id": "7ca9df39-3f88-43a9-8791-baa72ca24fc7",
   "metadata": {},
   "source": [
    "Slicing\n",
    "arrayname[start:stop:step]\n",
    "          |->slice ND"
   ]
  },
  {
   "cell_type": "code",
   "execution_count": 186,
   "id": "1d3e5b51-71f8-44c4-8147-11b4ca1540bf",
   "metadata": {},
   "outputs": [
    {
     "data": {
      "text/plain": [
       "array([30, 40, 50])"
      ]
     },
     "execution_count": 186,
     "metadata": {},
     "output_type": "execute_result"
    }
   ],
   "source": [
    "a1 = np.array([10,20,30,40,50,60,70])\n",
    "a1[2:5] # 2nd index to 4th index(5-1)"
   ]
  },
  {
   "cell_type": "code",
   "execution_count": 188,
   "id": "cc793a36-ec0a-4eee-9fdb-bf7059fd1b19",
   "metadata": {},
   "outputs": [
    {
     "data": {
      "text/plain": [
       "array([30, 40, 50, 60, 70])"
      ]
     },
     "execution_count": 188,
     "metadata": {},
     "output_type": "execute_result"
    }
   ],
   "source": [
    "a1[2:]"
   ]
  },
  {
   "cell_type": "code",
   "execution_count": 190,
   "id": "ccfcf523-581d-4418-9105-0612519bce12",
   "metadata": {},
   "outputs": [
    {
     "data": {
      "text/plain": [
       "array([10, 20, 30, 40, 50])"
      ]
     },
     "execution_count": 190,
     "metadata": {},
     "output_type": "execute_result"
    }
   ],
   "source": [
    "a1[:5]"
   ]
  },
  {
   "cell_type": "code",
   "execution_count": 198,
   "id": "296c6b27-0933-4c2c-8a08-662894a3b183",
   "metadata": {},
   "outputs": [
    {
     "data": {
      "text/plain": [
       "array([30, 60, 90])"
      ]
     },
     "execution_count": 198,
     "metadata": {},
     "output_type": "execute_result"
    }
   ],
   "source": [
    "a1 = np.array([10,20,30,40,50,60,70,80,90,100,200,300])\n",
    "a1[2:9:3] "
   ]
  },
  {
   "cell_type": "code",
   "execution_count": 200,
   "id": "ae78e505-771c-455d-90cf-ef63072f208f",
   "metadata": {},
   "outputs": [
    {
     "data": {
      "text/plain": [
       "300"
      ]
     },
     "execution_count": 200,
     "metadata": {},
     "output_type": "execute_result"
    }
   ],
   "source": [
    "a1[-1]"
   ]
  },
  {
   "cell_type": "code",
   "execution_count": 202,
   "id": "e6ab385e-4aef-4dfe-8faf-8df8a055efe1",
   "metadata": {},
   "outputs": [
    {
     "data": {
      "text/plain": [
       "array([ 80,  90, 100, 200, 300])"
      ]
     },
     "execution_count": 202,
     "metadata": {},
     "output_type": "execute_result"
    }
   ],
   "source": [
    "a1[-5:]"
   ]
  },
  {
   "cell_type": "code",
   "execution_count": 214,
   "id": "b9113708-19d6-49d1-bb6f-6c5bb0d08ac0",
   "metadata": {},
   "outputs": [
    {
     "data": {
      "text/plain": [
       "array([[10, 20],\n",
       "       [40, 50]])"
      ]
     },
     "execution_count": 214,
     "metadata": {},
     "output_type": "execute_result"
    }
   ],
   "source": [
    "a2 = np.array([[10,20,30],[40,50,60]])\n",
    "a2[:2,:2]"
   ]
  },
  {
   "cell_type": "code",
   "execution_count": 220,
   "id": "d4c99170-014e-470f-a99e-0c977a3db78c",
   "metadata": {},
   "outputs": [
    {
     "name": "stdout",
     "output_type": "stream",
     "text": [
      "30\n",
      "\n",
      "30\n"
     ]
    }
   ],
   "source": [
    "a2 = np.array([[10,20,30],[40,50,60,]])\n",
    "\n",
    "print(a2[0][2])\n",
    "print('')\n",
    "print(a2[0,2])"
   ]
  },
  {
   "cell_type": "code",
   "execution_count": null,
   "id": "cf660728-952a-41ef-8489-f705270b8150",
   "metadata": {},
   "outputs": [],
   "source": [
    "      C1 C2 C3\n",
    "R1    10 20 30\n",
    "R2    40 50 60"
   ]
  },
  {
   "cell_type": "code",
   "execution_count": 230,
   "id": "38078f2c-917f-437e-a1d0-8116138eec32",
   "metadata": {},
   "outputs": [
    {
     "name": "stdout",
     "output_type": "stream",
     "text": [
      "210\n",
      "[ 60 150]\n",
      "\n",
      "[50 70 90]\n"
     ]
    }
   ],
   "source": [
    "print(np.sum(a2))\n",
    "print(np.sum(a2,axis=1))\n",
    "# 10+20+30 =>60\n",
    "# 40+50+60 =>150\n",
    "print('')\n",
    "print(np.sum(a2,axis=0))\n",
    "# 10+40 =>50\n",
    "# 20+50 =>70\n",
    "# 30+60 =>90"
   ]
  },
  {
   "cell_type": "code",
   "execution_count": 232,
   "id": "c145945b-2bd2-4693-8926-0e6cadd55c57",
   "metadata": {},
   "outputs": [
    {
     "data": {
      "text/plain": [
       "20.0"
      ]
     },
     "execution_count": 232,
     "metadata": {},
     "output_type": "execute_result"
    }
   ],
   "source": [
    "a = np.array([10,20,30])\n",
    "np.mean(a)"
   ]
  },
  {
   "cell_type": "code",
   "execution_count": 234,
   "id": "78ccd97f-4e0c-4725-ac85-58019329ff02",
   "metadata": {},
   "outputs": [
    {
     "data": {
      "text/plain": [
       "35.0"
      ]
     },
     "execution_count": 234,
     "metadata": {},
     "output_type": "execute_result"
    }
   ],
   "source": [
    "a = np.array([[10,20,30],[40,50,60]])\n",
    "np.mean(a)"
   ]
  },
  {
   "cell_type": "code",
   "execution_count": 236,
   "id": "1ae9c429-aa8b-418a-a65c-91a3f28596c0",
   "metadata": {},
   "outputs": [
    {
     "data": {
      "text/plain": [
       "array([25., 35., 45.])"
      ]
     },
     "execution_count": 236,
     "metadata": {},
     "output_type": "execute_result"
    }
   ],
   "source": [
    "a = np.array([[10,20,30],[40,50,60]])\n",
    "np.mean(a,axis=0)"
   ]
  },
  {
   "cell_type": "code",
   "execution_count": 238,
   "id": "614fec34-3e27-48de-8840-083c08f46c8a",
   "metadata": {},
   "outputs": [
    {
     "data": {
      "text/plain": [
       "array([20., 50.])"
      ]
     },
     "execution_count": 238,
     "metadata": {},
     "output_type": "execute_result"
    }
   ],
   "source": [
    "np.mean(a,axis=1)"
   ]
  },
  {
   "cell_type": "code",
   "execution_count": 244,
   "id": "8c7e4ee4-ce1a-4e49-b7f0-5ffe3f12528c",
   "metadata": {},
   "outputs": [
    {
     "name": "stdout",
     "output_type": "stream",
     "text": [
      "10\n",
      "60\n"
     ]
    }
   ],
   "source": [
    "print(np.min(a))\n",
    "print(np.max(a))"
   ]
  },
  {
   "cell_type": "code",
   "execution_count": 246,
   "id": "700ecb90-0316-4d54-9e75-07980e3af71b",
   "metadata": {},
   "outputs": [
    {
     "name": "stdout",
     "output_type": "stream",
     "text": [
      "[20. 50.]\n",
      "[20. 50.]\n"
     ]
    }
   ],
   "source": [
    "print(np.mean(a,axis=1))\n",
    "print(np.mean(a,1))"
   ]
  },
  {
   "cell_type": "code",
   "execution_count": 248,
   "id": "a4176372-de9e-459a-b308-470e41633a0f",
   "metadata": {},
   "outputs": [
    {
     "data": {
      "text/plain": [
       "[20, 25, 26]"
      ]
     },
     "execution_count": 248,
     "metadata": {},
     "output_type": "execute_result"
    }
   ],
   "source": [
    "list(filter(lambda a:a>15,[20,25,10,26,5]))"
   ]
  },
  {
   "cell_type": "code",
   "execution_count": 254,
   "id": "8a677130-e72f-4bc3-ac4d-62a73895e931",
   "metadata": {},
   "outputs": [
    {
     "name": "stdout",
     "output_type": "stream",
     "text": [
      "(array([0, 1, 3], dtype=int64),)\n"
     ]
    },
    {
     "data": {
      "text/plain": [
       "array([20, 25, 26])"
      ]
     },
     "execution_count": 254,
     "metadata": {},
     "output_type": "execute_result"
    }
   ],
   "source": [
    "a=np.array([20,25,10,26,5])\n",
    "print(np.where(a >15)) # True value index\n",
    "a[np.where(a>15)]"
   ]
  },
  {
   "cell_type": "code",
   "execution_count": 256,
   "id": "58930013-6f00-476f-9e0f-bbccced49afb",
   "metadata": {},
   "outputs": [],
   "source": [
    "array_example = np.array([[[0, 1, 2, 3],\n",
    "                           [4, 5, 6, 7]],\n",
    "\n",
    "                          [[0, 1, 2, 3],\n",
    "                           [4, 5, 6, 7]],\n",
    "\n",
    "                          [[0 ,1 ,2, 3],\n",
    "                           [4, 5, 6, 7]]])"
   ]
  },
  {
   "cell_type": "code",
   "execution_count": 260,
   "id": "bf0ee72b-3fa8-4281-9e57-0bcec716a635",
   "metadata": {},
   "outputs": [
    {
     "data": {
      "text/plain": [
       "3"
      ]
     },
     "execution_count": 260,
     "metadata": {},
     "output_type": "execute_result"
    }
   ],
   "source": [
    "array_example.ndim"
   ]
  },
  {
   "cell_type": "code",
   "execution_count": 262,
   "id": "fdac59e0-6e82-4ba0-8259-50287002a102",
   "metadata": {},
   "outputs": [
    {
     "data": {
      "text/plain": [
       "array([[0, 1, 2, 3],\n",
       "       [4, 5, 6, 7]])"
      ]
     },
     "execution_count": 262,
     "metadata": {},
     "output_type": "execute_result"
    }
   ],
   "source": [
    "array_example[0]"
   ]
  },
  {
   "cell_type": "code",
   "execution_count": 264,
   "id": "c3682a95-2d18-4621-bf36-24c0b879c9c5",
   "metadata": {},
   "outputs": [
    {
     "data": {
      "text/plain": [
       "array([0, 1, 2, 3])"
      ]
     },
     "execution_count": 264,
     "metadata": {},
     "output_type": "execute_result"
    }
   ],
   "source": [
    "array_example[0][0]"
   ]
  },
  {
   "cell_type": "code",
   "execution_count": 266,
   "id": "7104ac16-2129-4cab-9502-62fe1262bacb",
   "metadata": {},
   "outputs": [
    {
     "data": {
      "text/plain": [
       "0"
      ]
     },
     "execution_count": 266,
     "metadata": {},
     "output_type": "execute_result"
    }
   ],
   "source": [
    "array_example[0][0][0]"
   ]
  },
  {
   "cell_type": "code",
   "execution_count": 268,
   "id": "2ce51803-73c3-43f0-998e-82f534657414",
   "metadata": {},
   "outputs": [
    {
     "data": {
      "text/plain": [
       "1"
      ]
     },
     "execution_count": 268,
     "metadata": {},
     "output_type": "execute_result"
    }
   ],
   "source": [
    "array_example[0][0][1]"
   ]
  },
  {
   "cell_type": "code",
   "execution_count": 272,
   "id": "f5f2c2c6-560b-4a2f-a072-945f1179fcf7",
   "metadata": {},
   "outputs": [
    {
     "data": {
      "text/plain": [
       "3"
      ]
     },
     "execution_count": 272,
     "metadata": {},
     "output_type": "execute_result"
    }
   ],
   "source": [
    "array_example[1][0][-1]"
   ]
  },
  {
   "cell_type": "code",
   "execution_count": 274,
   "id": "45d78b5d-a454-46f5-86f6-4dcba47e681e",
   "metadata": {},
   "outputs": [
    {
     "data": {
      "text/plain": [
       "array([[[0, 1, 2, 3],\n",
       "        [4, 5, 6, 7]],\n",
       "\n",
       "       [[0, 1, 2, 3],\n",
       "        [4, 5, 6, 7]]])"
      ]
     },
     "execution_count": 274,
     "metadata": {},
     "output_type": "execute_result"
    }
   ],
   "source": [
    "array_example[[1][0]:]"
   ]
  },
  {
   "cell_type": "raw",
   "id": "196b3fb3-0150-4c51-bfaf-fe801d0e83e6",
   "metadata": {},
   "source": [
    "#Task\n",
    "- create an numpy array \n",
    "     \\___ np.arange(32)\n",
    "- display dimension \n",
    "- display shape\n",
    "- reshape 8 row x 4 cols\n",
    "|\n",
    "- display specific index/slice \n"
   ]
  },
  {
   "cell_type": "code",
   "execution_count": 278,
   "id": "15755aba-d3fb-4e1e-a650-281085148dcc",
   "metadata": {},
   "outputs": [
    {
     "name": "stdout",
     "output_type": "stream",
     "text": [
      "[ 0  1  2  3  4  5  6  7  8  9 10 11 12 13 14 15 16 17 18 19 20 21 22 23\n",
      " 24 25 26 27 28 29 30 31]\n",
      "1\n",
      "(32,)\n",
      "32\n"
     ]
    }
   ],
   "source": [
    "arr = np.arange(32)\n",
    "print(arr)\n",
    "print(arr.ndim)\n",
    "print(arr.shape)\n",
    "print(arr.size)"
   ]
  },
  {
   "cell_type": "code",
   "execution_count": 280,
   "id": "0f6a1377-d7d8-4bf0-8adb-f219d32c9ae1",
   "metadata": {},
   "outputs": [
    {
     "data": {
      "text/plain": [
       "array([[ 0,  1,  2,  3],\n",
       "       [ 4,  5,  6,  7],\n",
       "       [ 8,  9, 10, 11],\n",
       "       [12, 13, 14, 15],\n",
       "       [16, 17, 18, 19],\n",
       "       [20, 21, 22, 23],\n",
       "       [24, 25, 26, 27],\n",
       "       [28, 29, 30, 31]])"
      ]
     },
     "execution_count": 280,
     "metadata": {},
     "output_type": "execute_result"
    }
   ],
   "source": [
    "arr.reshape(8,4)"
   ]
  },
  {
   "cell_type": "code",
   "execution_count": 282,
   "id": "64fc90cc-e645-468a-a32d-beb1a84b9ab5",
   "metadata": {},
   "outputs": [
    {
     "data": {
      "text/plain": [
       "array([[ 0,  1,  2,  3,  4,  5,  6,  7],\n",
       "       [ 8,  9, 10, 11, 12, 13, 14, 15],\n",
       "       [16, 17, 18, 19, 20, 21, 22, 23],\n",
       "       [24, 25, 26, 27, 28, 29, 30, 31]])"
      ]
     },
     "execution_count": 282,
     "metadata": {},
     "output_type": "execute_result"
    }
   ],
   "source": [
    "arr.reshape(4,8)"
   ]
  },
  {
   "cell_type": "code",
   "execution_count": 286,
   "id": "a59001bd-7a2a-4824-bb00-6b64257f72df",
   "metadata": {},
   "outputs": [
    {
     "name": "stdout",
     "output_type": "stream",
     "text": [
      "(8, 4)\n",
      "2\n",
      "32\n"
     ]
    }
   ],
   "source": [
    "arr = np.arange(32).reshape((8,4))\n",
    "print(arr.shape)\n",
    "print(arr.ndim)\n",
    "print(arr.size)"
   ]
  },
  {
   "cell_type": "code",
   "execution_count": 288,
   "id": "46af4da8-2427-45ac-883e-12b481075af1",
   "metadata": {},
   "outputs": [
    {
     "data": {
      "text/plain": [
       "496"
      ]
     },
     "execution_count": 288,
     "metadata": {},
     "output_type": "execute_result"
    }
   ],
   "source": [
    "np.sum(arr)"
   ]
  },
  {
   "cell_type": "code",
   "execution_count": 290,
   "id": "43c27d35-4a6e-4947-83d2-87831a6dd88c",
   "metadata": {},
   "outputs": [
    {
     "data": {
      "text/plain": [
       "array([112, 120, 128, 136])"
      ]
     },
     "execution_count": 290,
     "metadata": {},
     "output_type": "execute_result"
    }
   ],
   "source": [
    "np.sum(arr,0)"
   ]
  },
  {
   "cell_type": "code",
   "execution_count": 292,
   "id": "a1d64188-c1c4-41e8-8578-5eb0baf4a631",
   "metadata": {},
   "outputs": [
    {
     "data": {
      "text/plain": [
       "array([  6,  22,  38,  54,  70,  86, 102, 118])"
      ]
     },
     "execution_count": 292,
     "metadata": {},
     "output_type": "execute_result"
    }
   ],
   "source": [
    "np.sum(arr,1)"
   ]
  },
  {
   "cell_type": "code",
   "execution_count": 294,
   "id": "c174ba43-0575-4da9-af8d-f532e7bad04d",
   "metadata": {},
   "outputs": [
    {
     "data": {
      "text/plain": [
       "15.5"
      ]
     },
     "execution_count": 294,
     "metadata": {},
     "output_type": "execute_result"
    }
   ],
   "source": [
    "np.mean(arr)"
   ]
  },
  {
   "cell_type": "code",
   "execution_count": 298,
   "id": "b19c799f-fd71-4cce-ae7e-e624374db6b2",
   "metadata": {},
   "outputs": [
    {
     "data": {
      "text/plain": [
       "array([[ 4,  5,  6,  7],\n",
       "       [ 8,  9, 10, 11],\n",
       "       [12, 13, 14, 15],\n",
       "       [16, 17, 18, 19],\n",
       "       [20, 21, 22, 23],\n",
       "       [24, 25, 26, 27],\n",
       "       [28, 29, 30, 31]])"
      ]
     },
     "execution_count": 298,
     "metadata": {},
     "output_type": "execute_result"
    }
   ],
   "source": [
    "arr[1:] # 1st index to list of all"
   ]
  },
  {
   "cell_type": "code",
   "execution_count": 304,
   "id": "da1966c3-a740-4f61-8a19-2bab3d2f7644",
   "metadata": {},
   "outputs": [
    {
     "data": {
      "text/plain": [
       "array([[12, 13, 14, 15],\n",
       "       [16, 17, 18, 19],\n",
       "       [20, 21, 22, 23],\n",
       "       [24, 25, 26, 27],\n",
       "       [28, 29, 30, 31]])"
      ]
     },
     "execution_count": 304,
     "metadata": {},
     "output_type": "execute_result"
    }
   ],
   "source": [
    "arr[1:][2:]"
   ]
  },
  {
   "cell_type": "code",
   "execution_count": 306,
   "id": "572bb6e9-60ce-476b-808f-7032d0232509",
   "metadata": {},
   "outputs": [
    {
     "data": {
      "text/plain": [
       "array([10, 20, 30, 40])"
      ]
     },
     "execution_count": 306,
     "metadata": {},
     "output_type": "execute_result"
    }
   ],
   "source": [
    "a = np.array([10,20,30,10,10,20,30,40])\n",
    "np.unique(a)"
   ]
  },
  {
   "cell_type": "code",
   "execution_count": null,
   "id": "37c594d0-0071-4763-bd43-35293d1b4390",
   "metadata": {},
   "outputs": [],
   "source": [
    "np.mean\n",
    "np.median\n",
    "np.max\n",
    "np.min\n",
    "np.sum\n",
    "\n",
    "np.unique\n",
    "np.random\n",
    "np.arange"
   ]
  },
  {
   "cell_type": "code",
   "execution_count": 308,
   "id": "01609afc-f8f6-420e-a3b3-8cef4b0ae048",
   "metadata": {},
   "outputs": [
    {
     "data": {
      "text/plain": [
       "'Wed Feb 19 12:15:21 2025'"
      ]
     },
     "execution_count": 308,
     "metadata": {},
     "output_type": "execute_result"
    }
   ],
   "source": [
    "import time\n",
    "time.ctime()"
   ]
  },
  {
   "cell_type": "code",
   "execution_count": 310,
   "id": "c8082a46-41cc-4228-9693-635051daab12",
   "metadata": {},
   "outputs": [
    {
     "data": {
      "text/plain": [
       "numpy.datetime64('2025-02-19T06:45:48')"
      ]
     },
     "execution_count": 310,
     "metadata": {},
     "output_type": "execute_result"
    }
   ],
   "source": [
    "np.datetime64('now')"
   ]
  },
  {
   "cell_type": "code",
   "execution_count": 312,
   "id": "49c234af-e4c8-4b2c-bee8-106792274b53",
   "metadata": {},
   "outputs": [
    {
     "data": {
      "text/plain": [
       "numpy.datetime64('2025-02-19')"
      ]
     },
     "execution_count": 312,
     "metadata": {},
     "output_type": "execute_result"
    }
   ],
   "source": [
    "np.datetime64('today')"
   ]
  },
  {
   "cell_type": "code",
   "execution_count": 324,
   "id": "bb846eaf-a015-4733-a5cc-b3246008c756",
   "metadata": {},
   "outputs": [
    {
     "data": {
      "text/plain": [
       "numpy.datetime64('2025')"
      ]
     },
     "execution_count": 324,
     "metadata": {},
     "output_type": "execute_result"
    }
   ],
   "source": [
    "np.datetime64('today','Y') # date +%Y"
   ]
  },
  {
   "cell_type": "code",
   "execution_count": 328,
   "id": "cab0f1b9-48c0-4be7-b4b1-fc757f6a3022",
   "metadata": {},
   "outputs": [
    {
     "data": {
      "text/plain": [
       "numpy.datetime64('2025-02-19T00','h')"
      ]
     },
     "execution_count": 328,
     "metadata": {},
     "output_type": "execute_result"
    }
   ],
   "source": [
    "np.datetime64('today','h') # date +%H"
   ]
  },
  {
   "cell_type": "code",
   "execution_count": 330,
   "id": "f9ecd74c-0b43-4a0f-a192-ae305b688223",
   "metadata": {},
   "outputs": [
    {
     "data": {
      "text/plain": [
       "array([10, 20, 30, 40, 50, 60])"
      ]
     },
     "execution_count": 330,
     "metadata": {},
     "output_type": "execute_result"
    }
   ],
   "source": [
    "a1 = np.array([10,20,30])\n",
    "a2 = np.array([40,50,60])\n",
    "np.union1d(a1,a2) # like set(L1)|set(L2)"
   ]
  },
  {
   "cell_type": "code",
   "execution_count": null,
   "id": "ecfc316c-f1b4-4fc8-8589-695f568d04ac",
   "metadata": {},
   "outputs": [],
   "source": [
    "np.intersect1d - intersection \n",
    "np.setdiff1d - difference \n",
    "np.setxor1d  - symmetric_difference"
   ]
  },
  {
   "cell_type": "code",
   "execution_count": null,
   "id": "0e6309aa-6448-4340-a592-2c5145977d17",
   "metadata": {},
   "outputs": [],
   "source": [
    "mathematics \n",
    "|->abs() \n",
    "|->sqrt()   - array ** 0.5\n",
    "|->square() - array ** 2\n",
    "..\n",
    "|->log\n",
    "|->sin,cos,cosh.."
   ]
  },
  {
   "cell_type": "code",
   "execution_count": 332,
   "id": "32490bff-e564-484a-a5ac-7b13c4e6136b",
   "metadata": {},
   "outputs": [
    {
     "data": {
      "text/plain": [
       "array([1.        , 1.41421356, 1.73205081])"
      ]
     },
     "execution_count": 332,
     "metadata": {},
     "output_type": "execute_result"
    }
   ],
   "source": [
    "a1=np.array([1,2,3])\n",
    "\n",
    "np.sqrt(a1)"
   ]
  },
  {
   "cell_type": "code",
   "execution_count": 334,
   "id": "2b89a90e-b5cf-4452-ab78-77e1db6ed0c5",
   "metadata": {},
   "outputs": [
    {
     "data": {
      "text/plain": [
       "array([1, 4, 9])"
      ]
     },
     "execution_count": 334,
     "metadata": {},
     "output_type": "execute_result"
    }
   ],
   "source": [
    "np.square(a1)"
   ]
  },
  {
   "cell_type": "code",
   "execution_count": 338,
   "id": "a6f24ee3-3299-46c6-a0d3-2336bd0cc489",
   "metadata": {},
   "outputs": [
    {
     "data": {
      "text/plain": [
       "array([False, False, False, False, False, False, False, False,  True,\n",
       "        True,  True,  True])"
      ]
     },
     "execution_count": 338,
     "metadata": {},
     "output_type": "execute_result"
    }
   ],
   "source": [
    "a1=np.arange(3,15)\n",
    "a1 > 10"
   ]
  },
  {
   "cell_type": "code",
   "execution_count": 340,
   "id": "1b09651f-6544-4433-88df-93f60d23bb1f",
   "metadata": {},
   "outputs": [
    {
     "data": {
      "text/plain": [
       "array([False, False, False, False, False, False, False, False,  True,\n",
       "        True,  True,  True])"
      ]
     },
     "execution_count": 340,
     "metadata": {},
     "output_type": "execute_result"
    }
   ],
   "source": [
    "np.greater(a1,10)"
   ]
  },
  {
   "cell_type": "code",
   "execution_count": 342,
   "id": "9dddb542-db03-4f13-8044-b12e3a229389",
   "metadata": {},
   "outputs": [
    {
     "data": {
      "text/plain": [
       "array([0.02033518, 0.94876292, 0.52259867, 0.75414096, 0.73196471,\n",
       "       0.50341254, 0.95029281, 0.2692653 , 0.49997959, 0.03996733])"
      ]
     },
     "execution_count": 342,
     "metadata": {},
     "output_type": "execute_result"
    }
   ],
   "source": [
    "np.random.rand(10)"
   ]
  },
  {
   "cell_type": "code",
   "execution_count": 344,
   "id": "086b254c-35d0-474d-9bdc-250242156450",
   "metadata": {},
   "outputs": [
    {
     "data": {
      "text/plain": [
       "array([0.72784746, 0.64339673, 0.3743633 , 0.74589426, 0.2422604 ,\n",
       "       0.2605079 , 0.29145259, 0.56284044, 0.3526218 , 0.82971194])"
      ]
     },
     "execution_count": 344,
     "metadata": {},
     "output_type": "execute_result"
    }
   ],
   "source": [
    "np.random.rand(10)"
   ]
  },
  {
   "cell_type": "code",
   "execution_count": 369,
   "id": "64dd6940-7d25-4b3d-b6c0-fd99ec37f10e",
   "metadata": {},
   "outputs": [
    {
     "data": {
      "text/plain": [
       "[<matplotlib.lines.Line2D at 0x2e0c10ce690>]"
      ]
     },
     "execution_count": 369,
     "metadata": {},
     "output_type": "execute_result"
    },
    {
     "data": {
      "image/png": "[encoded data removed]",
      "text/plain": [
       "<Figure size 640x480 with 1 Axes>"
      ]
     },
     "metadata": {},
     "output_type": "display_data"
    }
   ],
   "source": [
    "import matplotlib.pyplot as plt\n",
    "plt.plot(np.random.rand(10))"
   ]
  },
  {
   "cell_type": "code",
   "execution_count": 375,
   "id": "454cb401-2ea7-47dc-9f2d-f70f404c31ab",
   "metadata": {},
   "outputs": [
    {
     "data": {
      "text/plain": [
       "array([0.10388567, 0.23914946, 0.31199017, 0.67476714, 0.04441236])"
      ]
     },
     "execution_count": 375,
     "metadata": {},
     "output_type": "execute_result"
    }
   ],
   "source": [
    "#help(np.random.randint)\n",
    "# randint(low, high=None, size=None, dtype=int)\n",
    "np.random.rand(5)"
   ]
  },
  {
   "cell_type": "code",
   "execution_count": 377,
   "id": "585671d5-1f94-4724-82a5-9454065f8825",
   "metadata": {},
   "outputs": [
    {
     "data": {
      "text/plain": [
       "6"
      ]
     },
     "execution_count": 377,
     "metadata": {},
     "output_type": "execute_result"
    }
   ],
   "source": [
    "np.random.randint(5,10)"
   ]
  },
  {
   "cell_type": "code",
   "execution_count": 379,
   "id": "6ffc75b1-7b62-4936-a2b2-c14691742a86",
   "metadata": {},
   "outputs": [
    {
     "data": {
      "text/plain": [
       "array([9, 9, 5])"
      ]
     },
     "execution_count": 379,
     "metadata": {},
     "output_type": "execute_result"
    }
   ],
   "source": [
    "np.random.randint(5,10,3)"
   ]
  },
  {
   "cell_type": "code",
   "execution_count": 381,
   "id": "f6701849-780e-42c4-b981-d976e3c9a4f3",
   "metadata": {},
   "outputs": [
    {
     "data": {
      "text/plain": [
       "array([16, 10, 16, 19, 17])"
      ]
     },
     "execution_count": 381,
     "metadata": {},
     "output_type": "execute_result"
    }
   ],
   "source": [
    "np.random.randint(5,20,5)"
   ]
  },
  {
   "cell_type": "code",
   "execution_count": 387,
   "id": "116189a8-9976-4740-a363-360885a0e7b6",
   "metadata": {},
   "outputs": [
    {
     "data": {
      "text/plain": [
       "array([17, 10,  9, 17,  7])"
      ]
     },
     "execution_count": 387,
     "metadata": {},
     "output_type": "execute_result"
    }
   ],
   "source": [
    "np.random.randint(5,20,5)"
   ]
  },
  {
   "cell_type": "code",
   "execution_count": 397,
   "id": "2a80ba9e-107c-48cc-8aed-feec37eab04e",
   "metadata": {},
   "outputs": [
    {
     "name": "stdout",
     "output_type": "stream",
     "text": [
      "[ 5  6  7  8  9 10 11 12 13 14]\n",
      "10\n"
     ]
    },
    {
     "data": {
      "text/plain": [
       "True"
      ]
     },
     "execution_count": 397,
     "metadata": {},
     "output_type": "execute_result"
    }
   ],
   "source": [
    "# Boolean index \n",
    "a1 = np.arange(5,15)\n",
    "print(a1)\n",
    "print(a1[5])\n",
    "a1[5] >7"
   ]
  },
  {
   "cell_type": "code",
   "execution_count": 401,
   "id": "f2147c4e-7191-4736-bd92-086f8f69776a",
   "metadata": {},
   "outputs": [
    {
     "data": {
      "text/plain": [
       "False"
      ]
     },
     "execution_count": 401,
     "metadata": {},
     "output_type": "execute_result"
    }
   ],
   "source": [
    "a1[5] >15"
   ]
  },
  {
   "cell_type": "code",
   "execution_count": 405,
   "id": "615cd964-62db-4258-ae9f-0e6269eb039e",
   "metadata": {},
   "outputs": [
    {
     "data": {
      "text/plain": [
       "array([False, False,  True,  True,  True,  True,  True,  True,  True,\n",
       "        True])"
      ]
     },
     "execution_count": 405,
     "metadata": {},
     "output_type": "execute_result"
    }
   ],
   "source": [
    "a1 >6"
   ]
  },
  {
   "cell_type": "code",
   "execution_count": 407,
   "id": "34c702eb-c42d-43fd-8098-81e79c1574b8",
   "metadata": {},
   "outputs": [
    {
     "data": {
      "text/plain": [
       "array([ 7,  8,  9, 10, 11, 12, 13, 14])"
      ]
     },
     "execution_count": 407,
     "metadata": {},
     "output_type": "execute_result"
    }
   ],
   "source": [
    "a1[a1 >6]"
   ]
  },
  {
   "cell_type": "code",
   "execution_count": 411,
   "id": "e6d80417-e77b-488e-9206-fab7fd83729f",
   "metadata": {},
   "outputs": [
    {
     "data": {
      "text/plain": [
       "dtype('<U5')"
      ]
     },
     "execution_count": 411,
     "metadata": {},
     "output_type": "execute_result"
    }
   ],
   "source": [
    "dept = np.array(['sales','prod','QA','DBA','CRM','sales','prod','QA','sales'])\n",
    "dept.dtype"
   ]
  },
  {
   "cell_type": "code",
   "execution_count": 413,
   "id": "04678178-8f8d-4d4d-a0d9-82e5ad64ddd4",
   "metadata": {},
   "outputs": [
    {
     "data": {
      "text/plain": [
       "array([ True, False, False, False, False,  True, False, False,  True])"
      ]
     },
     "execution_count": 413,
     "metadata": {},
     "output_type": "execute_result"
    }
   ],
   "source": [
    "dept == 'sales'"
   ]
  },
  {
   "cell_type": "code",
   "execution_count": 415,
   "id": "309e6417-cf76-406c-bd58-3468b073fd23",
   "metadata": {},
   "outputs": [
    {
     "data": {
      "text/plain": [
       "array(['sales', 'sales', 'sales'], dtype='<U5')"
      ]
     },
     "execution_count": 415,
     "metadata": {},
     "output_type": "execute_result"
    }
   ],
   "source": [
    "dept[dept == 'sales']"
   ]
  },
  {
   "cell_type": "code",
   "execution_count": 417,
   "id": "e08ad7cc-d6d9-4fdc-82c6-a65069bf8792",
   "metadata": {},
   "outputs": [
    {
     "name": "stdout",
     "output_type": "stream",
     "text": [
      "150\n"
     ]
    }
   ],
   "source": [
    "L=[10,20,30,40,50]\n",
    "t=0\n",
    "for var in L:\n",
    "    t=t+var\n",
    "print(t)"
   ]
  },
  {
   "cell_type": "code",
   "execution_count": 419,
   "id": "ba228430-0939-4461-a99e-dd332bf8b542",
   "metadata": {},
   "outputs": [
    {
     "data": {
      "text/plain": [
       "150"
      ]
     },
     "execution_count": 419,
     "metadata": {},
     "output_type": "execute_result"
    }
   ],
   "source": [
    "np.sum(L)"
   ]
  },
  {
   "cell_type": "code",
   "execution_count": 423,
   "id": "6183cb62-3924-42c3-ad38-92fdea063b21",
   "metadata": {},
   "outputs": [],
   "source": [
    "Used_disk_Size=['150GB','200GB','GB110','130Gb',100,'450Gb']\n",
    "# np.sum(Used_disk_Size) # Error\n",
    "#        ^^^^^^^^^^^^"
   ]
  },
  {
   "cell_type": "code",
   "execution_count": 429,
   "id": "36add645-517d-44f2-a0fb-ccb75fce20ef",
   "metadata": {},
   "outputs": [],
   "source": [
    "def f1(a):\n",
    "    return int(re.sub('[A-Za-z]+','',str(a)))    "
   ]
  },
  {
   "cell_type": "code",
   "execution_count": 439,
   "id": "dc473137-6d8c-47e9-9a62-8d8fc3cb0a99",
   "metadata": {},
   "outputs": [],
   "source": [
    "L=[]\n",
    "for var in Used_disk_Size:\n",
    "    r = f1(var)\n",
    "    L.append(r)"
   ]
  },
  {
   "cell_type": "code",
   "execution_count": 445,
   "id": "04731149-444b-42b5-a51d-41e8b247d1e1",
   "metadata": {},
   "outputs": [
    {
     "name": "stdout",
     "output_type": "stream",
     "text": [
      "[150, 200, 110, 130, 100, 450]\n"
     ]
    },
    {
     "data": {
      "text/plain": [
       "1140"
      ]
     },
     "execution_count": 445,
     "metadata": {},
     "output_type": "execute_result"
    }
   ],
   "source": [
    "print(L)\n",
    "np.sum(L)"
   ]
  },
  {
   "cell_type": "code",
   "execution_count": 447,
   "id": "bf36bba6-4b7b-43cc-b1d3-cf563c2f6b08",
   "metadata": {},
   "outputs": [
    {
     "data": {
      "text/plain": [
       "[150, 200, 110, 130, 100, 450]"
      ]
     },
     "execution_count": 447,
     "metadata": {},
     "output_type": "execute_result"
    }
   ],
   "source": [
    "#def f1(a):\n",
    "#    return int(re.sub('[A-Za-z]+','',str(a)))\n",
    "\n",
    "f=lambda a:int(re.sub('[A-Za-z]+','',str(a)))\n",
    "L=[]\n",
    "for var in Used_disk_Size:\n",
    "    r = f(var)\n",
    "    L.append(r)\n",
    "\n",
    "L"
   ]
  },
  {
   "cell_type": "code",
   "execution_count": 449,
   "id": "e1eddb43-8b27-4cc0-ac95-ce72a7c6f8ba",
   "metadata": {},
   "outputs": [
    {
     "data": {
      "text/plain": [
       "[150, 200, 110, 130, 100, 450]"
      ]
     },
     "execution_count": 449,
     "metadata": {},
     "output_type": "execute_result"
    }
   ],
   "source": [
    "[f(var) for var in Used_disk_Size]"
   ]
  },
  {
   "cell_type": "code",
   "execution_count": 451,
   "id": "d228b5b1-ec94-4db3-81ee-86c9755e8c08",
   "metadata": {},
   "outputs": [
    {
     "data": {
      "text/plain": [
       "[150, 200, 110, 130, 100, 450]"
      ]
     },
     "execution_count": 451,
     "metadata": {},
     "output_type": "execute_result"
    }
   ],
   "source": [
    "f=lambda a:int(re.sub('[A-Za-z]+','',str(a)))\n",
    "[f(var) for var in Used_disk_Size]"
   ]
  },
  {
   "cell_type": "code",
   "execution_count": 453,
   "id": "66c1d1d3-711c-49c0-9b3e-9a4f997b41f1",
   "metadata": {},
   "outputs": [
    {
     "data": {
      "text/plain": [
       "1140"
      ]
     },
     "execution_count": 453,
     "metadata": {},
     "output_type": "execute_result"
    }
   ],
   "source": [
    "np.sum([f(var) for var in Used_disk_Size])"
   ]
  },
  {
   "cell_type": "code",
   "execution_count": 455,
   "id": "11b3fe6e-89f6-4557-83d9-ded61eded300",
   "metadata": {},
   "outputs": [
    {
     "data": {
      "text/plain": [
       "[150, 200, 110, 130, 100, 450]"
      ]
     },
     "execution_count": 455,
     "metadata": {},
     "output_type": "execute_result"
    }
   ],
   "source": [
    "list(map(lambda a:int(re.sub('[A-Za-z]+','',str(a))),Used_disk_Size))"
   ]
  },
  {
   "cell_type": "code",
   "execution_count": 457,
   "id": "03484509-88da-4984-b50d-0aee4c7b6852",
   "metadata": {},
   "outputs": [
    {
     "data": {
      "text/plain": [
       "1140"
      ]
     },
     "execution_count": 457,
     "metadata": {},
     "output_type": "execute_result"
    }
   ],
   "source": [
    "np.sum(list(map(lambda a:int(re.sub('[A-Za-z]+','',str(a))),Used_disk_Size)))"
   ]
  },
  {
   "cell_type": "code",
   "execution_count": 465,
   "id": "03891039-166e-449f-8e3a-faffea8ec78c",
   "metadata": {},
   "outputs": [
    {
     "data": {
      "text/plain": [
       "True"
      ]
     },
     "execution_count": 465,
     "metadata": {},
     "output_type": "execute_result"
    }
   ],
   "source": [
    "np.sum(list(map(lambda a:int(re.sub('[A-Za-z]+','',str(a))),Used_disk_Size))) >1000"
   ]
  },
  {
   "cell_type": "code",
   "execution_count": 467,
   "id": "b246efde-f7c3-41b7-978a-d88136689cc7",
   "metadata": {},
   "outputs": [
    {
     "name": "stdout",
     "output_type": "stream",
     "text": [
      "Total no.of used size:about 1000MB\n"
     ]
    }
   ],
   "source": [
    "if np.sum(list(map(lambda a:int(re.sub('[A-Za-z]+','',str(a))),Used_disk_Size))) >1000:\n",
    "    print(\"Total no.of used size:about 1000MB\")"
   ]
  },
  {
   "cell_type": "code",
   "execution_count": null,
   "id": "703ed8ec-8087-47b3-ad30-fde6594f85e4",
   "metadata": {},
   "outputs": [],
   "source": []
  }
 ],
 "metadata": {
  "kernelspec": {
   "display_name": "Python 3 (ipykernel)",
   "language": "python",
   "name": "python3"
  },
  "language_info": {
   "codemirror_mode": {
    "name": "ipython",
    "version": 3
   },
   "file_extension": ".py",
   "mimetype": "text/x-python",
   "name": "python",
   "nbconvert_exporter": "python",
   "pygments_lexer": "ipython3",
   "version": "3.12.3"
  }
 },
 "nbformat": 4,
 "nbformat_minor": 5
}
