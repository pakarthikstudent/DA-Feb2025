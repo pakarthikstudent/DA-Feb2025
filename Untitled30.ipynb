{
 "cells": [
  {
   "cell_type": "code",
   "execution_count": null,
   "id": "adb49c78-439c-49a7-b108-ea517baa7260",
   "metadata": {},
   "outputs": [],
   "source": [
    "Recap\n",
    "------\n",
    "numpy -> array -> 1D  ->2D(matrix) ->ndArray(<slice>,<row><cols>)\n",
    "      -> computation -> index;slicing ; reshap\n",
    "      -> numpy functions()\n",
    "\n",
    "pandas -> Series ->DataFrame ( Table = Row X Col )\n",
    "                    |->input struct (dict,list)\n",
    "                    |->input_file , <database>,url,json\n",
    "                    |->df.loc[index]  - row ;   df['column']\n",
    "                                |->slicing \n",
    "                    |-> we can combine row with column\n",
    "                    |-> we can filter \n",
    "                    |-> clean up\n",
    "                            ->omit duplicate ; null ; \n",
    "                            ->drop unwanted columns\n",
    "                            ->rename col\n",
    "                    |-> group ->aggregate operation\n",
    "                    |-> head() tail() info() ...\n",
    "\n",
    "\n",
    "matplotlib ->visualization -> plot()  -- line style \n",
    "                              scatter() - data point\n",
    "                              bar (str & number) ; pie (str & number) \n",
    "                              heatmap; histogram //summary \n",
    "\n",
    "Data Analysis \n",
    "\n",
    "[Load the data (raw) ]  => [ structed data (data frame) ] => [ Data pre-processing ] => [Data cleanup] =>(A)\n",
    " ..................                                           \n",
    "(A) => [EDA] - data relationship\n",
    "          |--------------------------->[Visualization] // Data Analysis \n",
    "                                             |\n",
    "                                        [Model] - ML\n",
    "                                             |\n",
    "                                         Evaluate the model\n",
    "\n",
    "    "
   ]
  },
  {
   "cell_type": "code",
   "execution_count": null,
   "id": "2f4001fa-dc21-468a-9be6-9f44001eb2bf",
   "metadata": {},
   "outputs": [],
   "source": [
    "Statistics \n",
    "|->Elements \n",
    "       |->1. population - Overall data \n",
    "       |->2. sample - from population - select certain part of data\n",
    "       |->3. variable - characterstics \n",
    "                 |-> numerical (Quantitative)\n",
    "                           |->discreate \n",
    "                           |->continuous \n",
    "                 |-> categorical data (str)\n",
    "       |->4. types \n",
    "               |-> Descriptive statistics \n",
    "               |-> Inferential statistics \n",
    "\n",
    "Descriptive statistics\n",
    "----------------------\n",
    "Collection ->classification ->Summarization =>Results (chart;table)\n",
    "Inferential statistics\n",
    "----------------------\n",
    "Collection (sample data) =>estimation =>relationship =>Hypothesis testing =>prediction ->evaluateScore\n",
    "(proability score)\n",
    "\n",
    "Descriptive statistics\n",
    "-------------------------\n",
    "mean - average of all values\n",
    "median - central value of sample set \n",
    "mode - repeated value\n",
    "range_ - max - min \n",
    "\n",
    "1 2 3 4 4 5  2 4 10 9 12 8\n",
    "x x x x x ----  x    x   x   x    x\n",
    "5+2 => 7/2 => 3.5\n",
    "mode => 4"
   ]
  },
  {
   "cell_type": "code",
   "execution_count": 3,
   "id": "335238e4-f060-46e3-bbc2-48c83dd5f096",
   "metadata": {},
   "outputs": [
    {
     "data": {
      "text/plain": [
       "4.0"
      ]
     },
     "execution_count": 3,
     "metadata": {},
     "output_type": "execute_result"
    }
   ],
   "source": [
    "import statistics\n",
    "\n",
    "sample_Data = [1,2,3,4,4,5,2,4,10,9,12,8]\n",
    "statistics.median(sample_Data)"
   ]
  },
  {
   "cell_type": "code",
   "execution_count": 5,
   "id": "465d1d45-9765-473f-bb75-b8dedf137db1",
   "metadata": {},
   "outputs": [
    {
     "data": {
      "text/plain": [
       "4"
      ]
     },
     "execution_count": 5,
     "metadata": {},
     "output_type": "execute_result"
    }
   ],
   "source": [
    "statistics.mode(sample_Data)"
   ]
  },
  {
   "cell_type": "code",
   "execution_count": 7,
   "id": "72f3945f-6c9a-4150-a64a-a6b7eb5535c4",
   "metadata": {},
   "outputs": [
    {
     "data": {
      "text/plain": [
       "5.333333333333333"
      ]
     },
     "execution_count": 7,
     "metadata": {},
     "output_type": "execute_result"
    }
   ],
   "source": [
    "statistics.mean(sample_Data)"
   ]
  },
  {
   "cell_type": "code",
   "execution_count": 9,
   "id": "e42bbea8-6900-4e0a-aafd-4e29355ed594",
   "metadata": {},
   "outputs": [
    {
     "data": {
      "text/plain": [
       "3.5"
      ]
     },
     "execution_count": 9,
     "metadata": {},
     "output_type": "execute_result"
    }
   ],
   "source": [
    "statistics.mean([1,2,3,4,5,6])"
   ]
  },
  {
   "cell_type": "code",
   "execution_count": 11,
   "id": "a91366f8-273a-436f-a3a1-edd9761c63b6",
   "metadata": {},
   "outputs": [
    {
     "data": {
      "text/plain": [
       "4"
      ]
     },
     "execution_count": 11,
     "metadata": {},
     "output_type": "execute_result"
    }
   ],
   "source": [
    "statistics.mean([1,2,3,4,5,6,7])"
   ]
  },
  {
   "cell_type": "code",
   "execution_count": 17,
   "id": "90fcf370-e383-42d8-ae02-76da8c3ba1a2",
   "metadata": {},
   "outputs": [
    {
     "data": {
      "text/plain": [
       "1"
      ]
     },
     "execution_count": 17,
     "metadata": {},
     "output_type": "execute_result"
    }
   ],
   "source": [
    "import numpy as np\n",
    "np.max(sample_Data)\n",
    "np.min(sample_Data)"
   ]
  },
  {
   "cell_type": "code",
   "execution_count": 19,
   "id": "a006e71f-ba0a-4c51-8baa-bff4c77c3c1d",
   "metadata": {},
   "outputs": [],
   "source": [
    "range_ = np.max(sample_Data) - np.min(sample_Data)"
   ]
  },
  {
   "cell_type": "code",
   "execution_count": 21,
   "id": "4f87ff14-2b7b-460f-aa9f-c51d1c73c4ca",
   "metadata": {},
   "outputs": [
    {
     "data": {
      "text/plain": [
       "11"
      ]
     },
     "execution_count": 21,
     "metadata": {},
     "output_type": "execute_result"
    }
   ],
   "source": [
    "range_"
   ]
  },
  {
   "cell_type": "code",
   "execution_count": null,
   "id": "050e6f2f-2192-4a4a-87da-fa37efc9e71f",
   "metadata": {},
   "outputs": [],
   "source": [
    "InterQuartileRange(IQR)\n",
    "-------------------------\n",
    " -> ascending order \n",
    " -> median\n",
    " -> quratile\n",
    " -> IQR\n",
    "\n",
    "Mutual Exclusive probability \n",
    "------------------------------\n",
    "Pr(H or T)  = p(H)  => 1/2 ; p(T) => 1/2 \n",
    "            = p(H)+p(T)\n",
    "            = 1\n",
    "Non-mutal Exclusive probability\n",
    "--------------------------------\n",
    "deck card=52\n",
    "\n",
    "| o o o - red balls   |  --> o redball => 1/5\n",
    "| [] [] - green balls |\n",
    "\n",
    "..\n",
    "|  o o - red balls   |  --> [] greenball => 1/4\n",
    "| [] [] - green balls |\n",
    "\n",
    "permutation & combination\n",
    "-------------------------\n",
    "DATA => A B C D\n",
    "\n",
    "permutation\n",
    "AB BA CA DA\n",
    "AC BC CB DB\n",
    "AD BD CD DC\n",
    "---------------//12 \n",
    "\n",
    "combination\n",
    "-------------\n",
    "AB - CA DA\n",
    "-  BC - DB\n",
    "-  -  - DC\n",
    "-----------------//6\n",
    "\n",
    "\n"
   ]
  },
  {
   "cell_type": "code",
   "execution_count": 25,
   "id": "977e23b2-b9ba-4374-a402-abf3cc205aa1",
   "metadata": {},
   "outputs": [
    {
     "name": "stdout",
     "output_type": "stream",
     "text": [
      "(1, 2)\n",
      "(1, 3)\n",
      "(1, 4)\n",
      "(2, 1)\n",
      "(2, 3)\n",
      "(2, 4)\n",
      "(3, 1)\n",
      "(3, 2)\n",
      "(3, 4)\n",
      "(4, 1)\n",
      "(4, 2)\n",
      "(4, 3)\n"
     ]
    }
   ],
   "source": [
    "from itertools import permutations\n",
    "count = 0 \n",
    "data = [1,2,3,4]\n",
    "\n",
    "perm = permutations(data,2)\n",
    "for v in perm:\n",
    "    print(v)\n",
    "    count +=1 "
   ]
  },
  {
   "cell_type": "code",
   "execution_count": 27,
   "id": "5718e38b-4390-40f3-8c32-1933a74b9144",
   "metadata": {},
   "outputs": [
    {
     "data": {
      "text/plain": [
       "12"
      ]
     },
     "execution_count": 27,
     "metadata": {},
     "output_type": "execute_result"
    }
   ],
   "source": [
    "count"
   ]
  },
  {
   "cell_type": "code",
   "execution_count": null,
   "id": "2a727388-71e2-4347-9a61-3e2d949c7a71",
   "metadata": {},
   "outputs": [],
   "source": [
    "# sample selection \n",
    "\n",
    "new_df = df.sample(n=<Count>)   \n",
    "...      .....................\n",
    "...\n",
    "...\n",
    "...\n",
    "\n",
    "1. simple random sampling  => new_df = df.sample(n=20)\n",
    "                              ------\n",
    "2. systemmatic sampling =>sampling index -> (np.arange(0,len(df),step=<Count>)\n",
    "   1.data -   =\n",
    "   2.data\n",
    "   3.data -\n",
    "   4.data \n",
    "   5.data -  =\n",
    "   6.data\n",
    "\n",
    "3. cluster sampling => split data into multiple groups (cluster)\n",
    "                          n = 5 - cluster \n",
    "\n",
    "    dataset['cluster_id'] = np.repeat([range(1,n+1,len(dataset)/n])\n",
    "     <or>\n",
    "    index=0\n",
    "    n=5\n",
    "    listvar=[]\n",
    "    for v in range(0,len(dataset)):\n",
    "        if dataset['cluster_id'].loc[v] % 2 == 0:\n",
    "            listvar.append(v)"
   ]
  },
  {
   "cell_type": "code",
   "execution_count": 33,
   "id": "7592cfa3-13bf-4fdf-95a8-99913fc3a8b2",
   "metadata": {},
   "outputs": [],
   "source": [
    "d={}\n",
    "for v in range(1,6):\n",
    "    d['ID'+str(v)]='Data-'+str(v)\n"
   ]
  },
  {
   "cell_type": "code",
   "execution_count": 35,
   "id": "d6b0b975-d43c-47fd-a270-4a7c29f33c68",
   "metadata": {},
   "outputs": [
    {
     "data": {
      "text/plain": [
       "{'ID1': 'Data-1',\n",
       " 'ID2': 'Data-2',\n",
       " 'ID3': 'Data-3',\n",
       " 'ID4': 'Data-4',\n",
       " 'ID5': 'Data-5'}"
      ]
     },
     "execution_count": 35,
     "metadata": {},
     "output_type": "execute_result"
    }
   ],
   "source": [
    "d"
   ]
  },
  {
   "cell_type": "code",
   "execution_count": null,
   "id": "65c08b39-9bae-4702-affa-3218e26e42e3",
   "metadata": {},
   "outputs": [],
   "source": [
    "Statistics Tool and technique used in data analysis are based on probability\n",
    "probability - measures - how event to scale from 0 to 1\n",
    "0 - nothappening (failed)\n",
    "1 - happening (success)\n",
    "\n",
    "probability distribution - how random variable is distributed \n",
    "------------------------\n",
    "1. discreate probability distribution        2. continuous probability distribution\n",
    "                                                   [ 1 <= x <= 2 ]\n",
    "x = [1,2,3]                                          ->normal distribution\n",
    " - binomial distribution , poisson distribution        lies btn 0 and 1.83 ...\n",
    "\n",
    "\n",
    "\n"
   ]
  },
  {
   "cell_type": "code",
   "execution_count": 37,
   "id": "b33436c4-5bdd-4e39-8b6f-25cce557430b",
   "metadata": {},
   "outputs": [],
   "source": [
    "import scipy"
   ]
  },
  {
   "cell_type": "code",
   "execution_count": 39,
   "id": "6eecc053-ebd3-4eaf-a390-dc8ee1d8a61f",
   "metadata": {},
   "outputs": [
    {
     "data": {
      "text/plain": [
       "<module 'scipy.stats' from 'C:\\\\Users\\\\theeba\\\\anaconda3\\\\Lib\\\\site-packages\\\\scipy\\\\stats\\\\__init__.py'>"
      ]
     },
     "execution_count": 39,
     "metadata": {},
     "output_type": "execute_result"
    }
   ],
   "source": [
    "scipy.stats"
   ]
  },
  {
   "cell_type": "code",
   "execution_count": 45,
   "id": "bf12b835-1870-4c94-8c0f-dacd5f66a1dd",
   "metadata": {},
   "outputs": [
    {
     "data": {
      "text/plain": [
       "TtestResult(statistic=0.0, pvalue=1.0, df=7)"
      ]
     },
     "execution_count": 45,
     "metadata": {},
     "output_type": "execute_result"
    }
   ],
   "source": [
    "from scipy import stats\n",
    "stats.ttest_1samp([10,11,12,14,15,18,19,21],15)"
   ]
  },
  {
   "cell_type": "code",
   "execution_count": 47,
   "id": "2aac1280-8438-4841-b4d8-b25fc4c6e209",
   "metadata": {},
   "outputs": [],
   "source": [
    "import numpy as np\n",
    "import pandas as pd\n",
    "import matplotlib.pyplot as plt\n",
    "import scipy.stats as stats"
   ]
  },
  {
   "cell_type": "code",
   "execution_count": 49,
   "id": "b79d2edc-a091-43f9-b391-ace0a4380505",
   "metadata": {},
   "outputs": [
    {
     "data": {
      "text/plain": [
       "array([1.01481868, 0.41059271, 0.61628306, ..., 1.44570967, 1.03077122,\n",
       "       0.58786004])"
      ]
     },
     "execution_count": 49,
     "metadata": {},
     "output_type": "execute_result"
    }
   ],
   "source": [
    "stats.uniform.rvs(size=10000,loc=0,scale=5)"
   ]
  },
  {
   "cell_type": "code",
   "execution_count": 51,
   "id": "0174268a-048e-4fad-8454-effa6be45a09",
   "metadata": {},
   "outputs": [],
   "source": [
    "data = stats.uniform.rvs(size=10000,loc=0,scale=5)"
   ]
  },
  {
   "cell_type": "code",
   "execution_count": 53,
   "id": "8de1c339-ca08-4c41-b7dd-068838645186",
   "metadata": {},
   "outputs": [
    {
     "data": {
      "text/plain": [
       "[<matplotlib.lines.Line2D at 0x1f6a85af320>]"
      ]
     },
     "execution_count": 53,
     "metadata": {},
     "output_type": "execute_result"
    },
    {
     "data": {
      "image/png": "[encoded data removed]",
      "text/plain": [
       "<Figure size 640x480 with 1 Axes>"
      ]
     },
     "metadata": {},
     "output_type": "display_data"
    }
   ],
   "source": [
    "df = pd.DataFrame(data)\n",
    "plt.plot(df[0])"
   ]
  },
  {
   "cell_type": "code",
   "execution_count": 57,
   "id": "a58721d1-e571-41a7-8e22-a9ea78bcc733",
   "metadata": {},
   "outputs": [
    {
     "data": {
      "text/plain": [
       "0.15865525393145707"
      ]
     },
     "execution_count": 57,
     "metadata": {},
     "output_type": "execute_result"
    }
   ],
   "source": [
    "#help(stats.norm.cdf)\n",
    "stats.norm.cdf(x=-1)"
   ]
  },
  {
   "cell_type": "code",
   "execution_count": null,
   "id": "d122e2f7-cc8d-4aaf-b3af-6545a59a38e2",
   "metadata": {},
   "outputs": [],
   "source": [
    "p = success\n",
    "q = failed\n",
    "p+q = 1"
   ]
  },
  {
   "cell_type": "code",
   "execution_count": 59,
   "id": "07e81588-2d6f-4346-8d24-1a496fa993fa",
   "metadata": {},
   "outputs": [
    {
     "name": "stdout",
     "output_type": "stream",
     "text": [
      "0.15865525393145707 0.15865525393145707 0.6826894921370859\n"
     ]
    }
   ],
   "source": [
    "p_minus1 = stats.norm.cdf(x=-1)\n",
    "p_over1 = 1 - stats.norm.cdf(x=1)\n",
    "btn_p = 1 - (p_minus1 + p_over1)\n",
    "print(p_minus1,p_over1,btn_p)"
   ]
  },
  {
   "cell_type": "code",
   "execution_count": 67,
   "id": "9fa0ecf9-56b1-40fb-aa5a-81f319d34ac3",
   "metadata": {},
   "outputs": [
    {
     "data": {
      "text/plain": [
       "<matplotlib.collections.PolyCollection at 0x1f6a8ee2c60>"
      ]
     },
     "execution_count": 67,
     "metadata": {},
     "output_type": "execute_result"
    },
    {
     "data": {
      "image/png": "[encoded data removed]",
      "text/plain": [
       "<Figure size 640x480 with 1 Axes>"
      ]
     },
     "metadata": {},
     "output_type": "display_data"
    }
   ],
   "source": [
    "#help(plt.fill_between)\n",
    "plt.fill_between(x=np.arange(-4,-1,0.01),y1=stats.norm.pdf(np.arange(-4,-1,0.01)),facecolor='red')"
   ]
  },
  {
   "cell_type": "code",
   "execution_count": 69,
   "id": "067709fd-c70e-4003-bb12-80ffef3581d1",
   "metadata": {},
   "outputs": [
    {
     "data": {
      "text/plain": [
       "<matplotlib.collections.PolyCollection at 0x1f6ab9dd700>"
      ]
     },
     "execution_count": 69,
     "metadata": {},
     "output_type": "execute_result"
    },
    {
     "data": {
      "image/png": "[encoded data removed]",
      "text/plain": [
       "<Figure size 640x480 with 1 Axes>"
      ]
     },
     "metadata": {},
     "output_type": "display_data"
    }
   ],
   "source": [
    "#help(plt.fill_between)\n",
    "plt.fill_between(x=np.arange(1,4,0.01),y1=stats.norm.pdf(np.arange(1,4,0.01)),facecolor='red')"
   ]
  },
  {
   "cell_type": "code",
   "execution_count": 71,
   "id": "072215a8-0d94-4338-8922-7a7bc104cfe2",
   "metadata": {},
   "outputs": [
    {
     "data": {
      "text/plain": [
       "<matplotlib.collections.PolyCollection at 0x1f6a656a150>"
      ]
     },
     "execution_count": 71,
     "metadata": {},
     "output_type": "execute_result"
    },
    {
     "data": {
      "image/png": "[encoded data removed]",
      "text/plain": [
       "<Figure size 640x480 with 1 Axes>"
      ]
     },
     "metadata": {},
     "output_type": "display_data"
    }
   ],
   "source": [
    "#help(plt.fill_between)\n",
    "plt.fill_between(x=np.arange(-1,1,0.01),y1=stats.norm.pdf(np.arange(-1,1,0.01)),facecolor='blue')"
   ]
  },
  {
   "cell_type": "code",
   "execution_count": 73,
   "id": "b1ff02fa-c419-4a3c-b2bb-5b04fb3d8d89",
   "metadata": {},
   "outputs": [
    {
     "data": {
      "text/plain": [
       "<matplotlib.collections.PolyCollection at 0x1f6a85e2600>"
      ]
     },
     "execution_count": 73,
     "metadata": {},
     "output_type": "execute_result"
    },
    {
     "data": {
      "image/png": "[encoded data removed]",
      "text/plain": [
       "<Figure size 640x480 with 1 Axes>"
      ]
     },
     "metadata": {},
     "output_type": "display_data"
    }
   ],
   "source": [
    "plt.fill_between(x=np.arange(-4,-1,0.01),y1=stats.norm.pdf(np.arange(-4,-1,0.01)),facecolor='red')\n",
    "plt.fill_between(x=np.arange(1,4,0.01),y1=stats.norm.pdf(np.arange(1,4,0.01)),facecolor='red')\n",
    "plt.fill_between(x=np.arange(-1,1,0.01),y1=stats.norm.pdf(np.arange(-1,1,0.01)),facecolor='blue')"
   ]
  },
  {
   "cell_type": "code",
   "execution_count": 75,
   "id": "3e213421-ca09-4e21-8d11-89515af0eb70",
   "metadata": {},
   "outputs": [
    {
     "data": {
      "text/plain": [
       "(array([  15.,  104.,  452., 1224., 2065., 2405., 2068., 1147.,  414.,\n",
       "         106.]),\n",
       " array([ 0.,  1.,  2.,  3.,  4.,  5.,  6.,  7.,  8.,  9., 10.]),\n",
       " <BarContainer object of 10 artists>)"
      ]
     },
     "execution_count": 75,
     "metadata": {},
     "output_type": "execute_result"
    },
    {
     "data": {
      "image/png": "[encoded data removed]",
      "text/plain": [
       "<Figure size 640x480 with 1 Axes>"
      ]
     },
     "metadata": {},
     "output_type": "display_data"
    }
   ],
   "source": [
    "\n",
    "d = stats.binom.rvs(n=10,p=0.5,size=10000)\n",
    "df = pd.DataFrame(d)\n",
    "plt.hist(df[0])"
   ]
  },
  {
   "cell_type": "code",
   "execution_count": null,
   "id": "336963af-3f8f-4861-ab17-beaf5f2ba927",
   "metadata": {},
   "outputs": [],
   "source": [
    "population\n",
    "- parameters \n",
    "- size - infinite \n",
    "  (not countable)\n",
    "\n",
    "Vs \n",
    "sample\n",
    "- statistics \n",
    "- size - finite collection (countable)\n",
    "\n",
    "1.Null Hypothesis Ho - there is no difference \n",
    "2.Alternate Hypothesis H1\n",
    "    |->critical region\n",
    "\n",
    "avg weight of products - 100gms\n",
    "Ho - 100gms \n",
    "H1 - Not 100gms \n",
    "\n",
    "Ho - u = 150\n",
    "H1 - u != 150"
   ]
  },
  {
   "cell_type": "code",
   "execution_count": 81,
   "id": "119891a8-7ac5-4be7-b102-f0744de2a6b7",
   "metadata": {},
   "outputs": [
    {
     "data": {
      "text/plain": [
       "14"
      ]
     },
     "execution_count": 81,
     "metadata": {},
     "output_type": "execute_result"
    }
   ],
   "source": [
    "products = np.array([120,100,130,140,143,150,152,148,112,120,159,149,134,124])\n",
    "products.size"
   ]
  },
  {
   "cell_type": "code",
   "execution_count": 83,
   "id": "d2f486a8-cf54-4a72-8f9c-11d6f2556ce7",
   "metadata": {},
   "outputs": [
    {
     "data": {
      "text/plain": [
       "TtestResult(statistic=7.432275479358925, pvalue=4.958525693421946e-06, df=13)"
      ]
     },
     "execution_count": 83,
     "metadata": {},
     "output_type": "execute_result"
    }
   ],
   "source": [
    "stats.ttest_1samp(products,100)"
   ]
  },
  {
   "cell_type": "code",
   "execution_count": null,
   "id": "2fb33853-0521-4b0f-808b-5316a8d9977e",
   "metadata": {},
   "outputs": [],
   "source": [
    "#stats.f_oneway(group1,group2,group3,group4..)\n",
    "ANOVA test - compare means of 3 or more groups(samples)"
   ]
  },
  {
   "cell_type": "code",
   "execution_count": null,
   "id": "7af88963-13de-4003-bfd8-ac7d16ba4456",
   "metadata": {},
   "outputs": [],
   "source": [
    "population -> sample ->...... -> \n",
    "              ===========>df .... ... -> report\n",
    "\n",
    "Hypothesis test \n",
    "-> Ho  - The statement that there is no different.\n",
    "-> H1  - The statement say there is a difference \n",
    "\n",
    "Significance level - alpha \n",
    "------------------\n",
    " ->probability threshold  5% -> 0.05 \n",
    "P-Value (p_value)\n",
    "if p_value <= alpha  reject Ho\n",
    "if p_value > alpha not reject Ho"
   ]
  },
  {
   "cell_type": "code",
   "execution_count": null,
   "id": "6a9d380f-e42f-4a5b-979a-078acdbefac9",
   "metadata": {},
   "outputs": [],
   "source": [
    "zscore \n",
    "--------\n",
    "x =individual data point\n",
    "μ = mean of the data point\n",
    "σ = standard deviation of the dataset \n",
    "\n",
    "         x - μ\n",
    "   z = -------\n",
    "         σ\n",
    "\n",
    " z - 0 - data point is exactly at the mean\n",
    " z - +Ve - data point is above the mean\n",
    " z - -Ve - data point is below the mean\n",
    "\n",
    "z -> above 2 => outlier //depending on the threshold "
   ]
  },
  {
   "cell_type": "code",
   "execution_count": 87,
   "id": "6a44c2f3-62d6-4734-a65a-3493ededb554",
   "metadata": {},
   "outputs": [
    {
     "data": {
      "text/plain": [
       "array([-1.41421356, -0.70710678,  0.        ,  0.70710678,  1.41421356])"
      ]
     },
     "execution_count": 87,
     "metadata": {},
     "output_type": "execute_result"
    }
   ],
   "source": [
    "d = np.array([50,60,70,80,90])\n",
    "mean = np.mean(d)\n",
    "std_dev = np.std(d)\n",
    "zscore = (d - mean)/std_dev\n",
    "zscore\n",
    "            "
   ]
  },
  {
   "cell_type": "code",
   "execution_count": 91,
   "id": "fd7ec9bb-e85a-4d44-9b37-337ac1067e2e",
   "metadata": {},
   "outputs": [
    {
     "data": {
      "text/plain": [
       "array([], dtype=int32)"
      ]
     },
     "execution_count": 91,
     "metadata": {},
     "output_type": "execute_result"
    }
   ],
   "source": [
    "outliers = d[np.abs(zscore) > 3 ] # more than  3 std deviation - away from mean \n",
    "outliers"
   ]
  },
  {
   "cell_type": "code",
   "execution_count": 93,
   "id": "8b9ac83a-1b94-4cd2-b414-40d2b0a1985d",
   "metadata": {},
   "outputs": [
    {
     "data": {
      "text/plain": [
       "array([-0.55915734, -0.52506238, -0.49096742,  1.99796465, -0.4227775 ])"
      ]
     },
     "execution_count": 93,
     "metadata": {},
     "output_type": "execute_result"
    }
   ],
   "source": [
    "d = np.array([50,60,70,800,90])\n",
    "mean = np.mean(d)\n",
    "std_dev = np.std(d)\n",
    "zscore = (d - mean)/std_dev\n",
    "zscore\n",
    "            "
   ]
  },
  {
   "cell_type": "code",
   "execution_count": 101,
   "id": "8ad9a7bc-04d8-4ec6-872d-5a0cc121debc",
   "metadata": {},
   "outputs": [
    {
     "data": {
      "text/plain": [
       "array([800])"
      ]
     },
     "execution_count": 101,
     "metadata": {},
     "output_type": "execute_result"
    }
   ],
   "source": [
    "outliers = d[np.abs(zscore) > 1.99 ] # more than  2 std deviation - away from mean \n",
    "outliers"
   ]
  },
  {
   "cell_type": "code",
   "execution_count": null,
   "id": "8ccf26c8-f422-4ac1-bd22-2a23c50859f2",
   "metadata": {},
   "outputs": [],
   "source": [
    "[10,11,12,13,14,150,16,17,500,18,19]\n",
    "                ---       --- //zscore \n",
    "# to detect outlier \n",
    "\n",
    "\n",
    "Explorator Data Analysis (EDA)\n",
    "--------------------------------\n",
    " -> Understand the data - features & types\n",
    " -> Data relationship \n",
    " -> Visualization \n",
    "\n",
    "step 1: load the data & get info about data \n",
    "|   |_____ apply random sampling \n",
    "|          ---------------------//sample <== from population (dataset)\n",
    "|          df =load_data.sample(n=30)\n",
    "step 2: data clean up \n",
    "|\n",
    "step 3: outlier detection\n",
    "|\n",
    "step 4: EDA \n",
    "|         |-> 1.univariate |->2.bivariate |->3.multivariate \n",
    "step 5: visualization\n",
    "\n",
    "[maketingCost][productName][productCost]\n",
    "1.univariate\n",
    "--------------\n",
    "[marketingCost]\n",
    "[productName]\n",
    "[productCost]\n",
    "Visualization: plot,scatter,bar,pie \n",
    "\n",
    "2.Bivariate\n",
    "------------\n",
    "[productName][productCost]  => Visualization: bar ; pie \n",
    "pA            1000  \n",
    "pB            2000\n",
    "pC             150\n",
    "[marketingCost] [productCost]  => Visualization: plot,scatter \n",
    "150              1000\n",
    "200              2000\n",
    "90               150\n",
    "1500             650\n",
    "\n",
    "3. Multivariate - 2 (or) more field/data  //summary \n",
    "-------------------------------------------\n",
    "[maketingCost][productName][productCost] =>Visualization =>Heatmap(import seaborn as sns)\n",
    "sns.heatmap(data,annot=True)"
   ]
  },
  {
   "cell_type": "code",
   "execution_count": 103,
   "id": "62ad265f-7f2e-493a-b0c0-daff108b12c6",
   "metadata": {},
   "outputs": [],
   "source": [
    "# load all the libs \n",
    "import numpy as np\n",
    "import pandas as pd\n",
    "import matplotlib.pyplot as plt\n",
    "import seaborn as sns"
   ]
  },
  {
   "cell_type": "code",
   "execution_count": 107,
   "id": "1389f1e2-a5c2-47a0-934b-98d42cea1e79",
   "metadata": {},
   "outputs": [
    {
     "data": {
      "text/plain": [
       "(7253, 14)"
      ]
     },
     "execution_count": 107,
     "metadata": {},
     "output_type": "execute_result"
    }
   ],
   "source": [
    "load_data = pd.read_csv('used_cars_data.csv')\n",
    "load_data.shape"
   ]
  },
  {
   "cell_type": "code",
   "execution_count": 109,
   "id": "31f6f133-8f04-49d7-86a6-d59d8e391e55",
   "metadata": {},
   "outputs": [
    {
     "data": {
      "text/plain": [
       "(35, 14)"
      ]
     },
     "execution_count": 109,
     "metadata": {},
     "output_type": "execute_result"
    }
   ],
   "source": [
    "# Apply random sampling \n",
    "\n",
    "df = load_data.sample(n=35)\n",
    "df.shape"
   ]
  },
  {
   "cell_type": "code",
   "execution_count": 111,
   "id": "d3deb488-85ec-478b-8f8e-4c124bdb7221",
   "metadata": {},
   "outputs": [
    {
     "name": "stdout",
     "output_type": "stream",
     "text": [
      "<class 'pandas.core.frame.DataFrame'>\n",
      "Index: 35 entries, 6670 to 4968\n",
      "Data columns (total 14 columns):\n",
      " #   Column             Non-Null Count  Dtype  \n",
      "---  ------             --------------  -----  \n",
      " 0   S.No.              35 non-null     int64  \n",
      " 1   Name               35 non-null     object \n",
      " 2   Location           35 non-null     object \n",
      " 3   Year               35 non-null     int64  \n",
      " 4   Kilometers_Driven  35 non-null     int64  \n",
      " 5   Fuel_Type          35 non-null     object \n",
      " 6   Transmission       35 non-null     object \n",
      " 7   Owner_Type         35 non-null     object \n",
      " 8   Mileage            35 non-null     object \n",
      " 9   Engine             35 non-null     object \n",
      " 10  Power              35 non-null     object \n",
      " 11  Seats              35 non-null     float64\n",
      " 12  New_Price          5 non-null      object \n",
      " 13  Price              29 non-null     float64\n",
      "dtypes: float64(2), int64(3), object(9)\n",
      "memory usage: 4.1+ KB\n"
     ]
    }
   ],
   "source": [
    "# Getinfo about sample data \n",
    "df.info()"
   ]
  },
  {
   "cell_type": "code",
   "execution_count": 113,
   "id": "5ecf5e88-fecb-4567-860c-db4e5d23de7c",
   "metadata": {},
   "outputs": [
    {
     "data": {
      "text/plain": [
       "Index(['S.No.', 'Name', 'Location', 'Year', 'Kilometers_Driven', 'Fuel_Type',\n",
       "       'Transmission', 'Owner_Type', 'Mileage', 'Engine', 'Power', 'Seats',\n",
       "       'New_Price', 'Price'],\n",
       "      dtype='object')"
      ]
     },
     "execution_count": 113,
     "metadata": {},
     "output_type": "execute_result"
    }
   ],
   "source": [
    "# to get list of columns\n",
    "df.columns"
   ]
  },
  {
   "cell_type": "code",
   "execution_count": 115,
   "id": "fa927c33-d33f-480c-bbb7-9eadd5985927",
   "metadata": {},
   "outputs": [
    {
     "data": {
      "text/html": [
       "<div>\n",
       "<style scoped>\n",
       "    .dataframe tbody tr th:only-of-type {\n",
       "        vertical-align: middle;\n",
       "    }\n",
       "\n",
       "    .dataframe tbody tr th {\n",
       "        vertical-align: top;\n",
       "    }\n",
       "\n",
       "    .dataframe thead th {\n",
       "        text-align: right;\n",
       "    }\n",
       "</style>\n",
       "<table border=\"1\" class=\"dataframe\">\n",
       "  <thead>\n",
       "    <tr style=\"text-align: right;\">\n",
       "      <th></th>\n",
       "      <th>S.No.</th>\n",
       "      <th>Name</th>\n",
       "      <th>Location</th>\n",
       "      <th>Year</th>\n",
       "      <th>Kilometers_Driven</th>\n",
       "      <th>Fuel_Type</th>\n",
       "      <th>Transmission</th>\n",
       "      <th>Owner_Type</th>\n",
       "      <th>Mileage</th>\n",
       "      <th>Engine</th>\n",
       "      <th>Power</th>\n",
       "      <th>Seats</th>\n",
       "      <th>New_Price</th>\n",
       "      <th>Price</th>\n",
       "    </tr>\n",
       "  </thead>\n",
       "  <tbody>\n",
       "    <tr>\n",
       "      <th>6670</th>\n",
       "      <td>6670</td>\n",
       "      <td>Renault Pulse RxZ</td>\n",
       "      <td>Coimbatore</td>\n",
       "      <td>2014</td>\n",
       "      <td>31513</td>\n",
       "      <td>Diesel</td>\n",
       "      <td>Manual</td>\n",
       "      <td>First</td>\n",
       "      <td>23.08 kmpl</td>\n",
       "      <td>1461 CC</td>\n",
       "      <td>63.12 bhp</td>\n",
       "      <td>5.0</td>\n",
       "      <td>NaN</td>\n",
       "      <td>NaN</td>\n",
       "    </tr>\n",
       "    <tr>\n",
       "      <th>5639</th>\n",
       "      <td>5639</td>\n",
       "      <td>Volkswagen Polo Petrol Comfortline 1.2L</td>\n",
       "      <td>Kolkata</td>\n",
       "      <td>2013</td>\n",
       "      <td>24000</td>\n",
       "      <td>Petrol</td>\n",
       "      <td>Manual</td>\n",
       "      <td>First</td>\n",
       "      <td>16.47 kmpl</td>\n",
       "      <td>1198 CC</td>\n",
       "      <td>73.9 bhp</td>\n",
       "      <td>5.0</td>\n",
       "      <td>NaN</td>\n",
       "      <td>2.95</td>\n",
       "    </tr>\n",
       "    <tr>\n",
       "      <th>4813</th>\n",
       "      <td>4813</td>\n",
       "      <td>Audi Q5 2008-2012 2.0 TDI</td>\n",
       "      <td>Coimbatore</td>\n",
       "      <td>2013</td>\n",
       "      <td>80127</td>\n",
       "      <td>Diesel</td>\n",
       "      <td>Automatic</td>\n",
       "      <td>First</td>\n",
       "      <td>12.8 kmpl</td>\n",
       "      <td>1968 CC</td>\n",
       "      <td>167.6 bhp</td>\n",
       "      <td>5.0</td>\n",
       "      <td>NaN</td>\n",
       "      <td>23.68</td>\n",
       "    </tr>\n",
       "    <tr>\n",
       "      <th>5785</th>\n",
       "      <td>5785</td>\n",
       "      <td>Hyundai i20 Asta 1.4 CRDi</td>\n",
       "      <td>Kolkata</td>\n",
       "      <td>2012</td>\n",
       "      <td>33249</td>\n",
       "      <td>Diesel</td>\n",
       "      <td>Manual</td>\n",
       "      <td>First</td>\n",
       "      <td>21.27 kmpl</td>\n",
       "      <td>1396 CC</td>\n",
       "      <td>88.76 bhp</td>\n",
       "      <td>5.0</td>\n",
       "      <td>NaN</td>\n",
       "      <td>3.25</td>\n",
       "    </tr>\n",
       "    <tr>\n",
       "      <th>4684</th>\n",
       "      <td>4684</td>\n",
       "      <td>Maruti Alto LXi BSIII</td>\n",
       "      <td>Bangalore</td>\n",
       "      <td>2011</td>\n",
       "      <td>64000</td>\n",
       "      <td>Petrol</td>\n",
       "      <td>Manual</td>\n",
       "      <td>First</td>\n",
       "      <td>19.7 kmpl</td>\n",
       "      <td>796 CC</td>\n",
       "      <td>46.3 bhp</td>\n",
       "      <td>5.0</td>\n",
       "      <td>NaN</td>\n",
       "      <td>2.39</td>\n",
       "    </tr>\n",
       "  </tbody>\n",
       "</table>\n",
       "</div>"
      ],
      "text/plain": [
       "      S.No.                                     Name    Location  Year  \\\n",
       "6670   6670                        Renault Pulse RxZ  Coimbatore  2014   \n",
       "5639   5639  Volkswagen Polo Petrol Comfortline 1.2L     Kolkata  2013   \n",
       "4813   4813                Audi Q5 2008-2012 2.0 TDI  Coimbatore  2013   \n",
       "5785   5785                Hyundai i20 Asta 1.4 CRDi     Kolkata  2012   \n",
       "4684   4684                    Maruti Alto LXi BSIII   Bangalore  2011   \n",
       "\n",
       "      Kilometers_Driven Fuel_Type Transmission Owner_Type     Mileage  \\\n",
       "6670              31513    Diesel       Manual      First  23.08 kmpl   \n",
       "5639              24000    Petrol       Manual      First  16.47 kmpl   \n",
       "4813              80127    Diesel    Automatic      First   12.8 kmpl   \n",
       "5785              33249    Diesel       Manual      First  21.27 kmpl   \n",
       "4684              64000    Petrol       Manual      First   19.7 kmpl   \n",
       "\n",
       "       Engine      Power  Seats New_Price  Price  \n",
       "6670  1461 CC  63.12 bhp    5.0       NaN    NaN  \n",
       "5639  1198 CC   73.9 bhp    5.0       NaN   2.95  \n",
       "4813  1968 CC  167.6 bhp    5.0       NaN  23.68  \n",
       "5785  1396 CC  88.76 bhp    5.0       NaN   3.25  \n",
       "4684   796 CC   46.3 bhp    5.0       NaN   2.39  "
      ]
     },
     "execution_count": 115,
     "metadata": {},
     "output_type": "execute_result"
    }
   ],
   "source": [
    "# see 1st 5lines/rows \n",
    "df.head()"
   ]
  },
  {
   "cell_type": "code",
   "execution_count": 117,
   "id": "978be368-f894-431e-9314-f21659986de4",
   "metadata": {},
   "outputs": [],
   "source": [
    "# drop unwanted columns\n",
    "df.drop(columns=['S.No.','Seats','Owner_Type','Power'],inplace=True)"
   ]
  },
  {
   "cell_type": "code",
   "execution_count": 119,
   "id": "ea640ea1-bfae-4f8c-98b0-72c1596edde9",
   "metadata": {},
   "outputs": [
    {
     "data": {
      "text/plain": [
       "(35, 10)"
      ]
     },
     "execution_count": 119,
     "metadata": {},
     "output_type": "execute_result"
    }
   ],
   "source": [
    "df.shape"
   ]
  },
  {
   "cell_type": "code",
   "execution_count": 121,
   "id": "64ea7fd9-2208-441f-871f-6047f3678a74",
   "metadata": {},
   "outputs": [
    {
     "data": {
      "text/plain": [
       "Index(['Name', 'Location', 'Year', 'Kilometers_Driven', 'Fuel_Type',\n",
       "       'Transmission', 'Mileage', 'Engine', 'New_Price', 'Price'],\n",
       "      dtype='object')"
      ]
     },
     "execution_count": 121,
     "metadata": {},
     "output_type": "execute_result"
    }
   ],
   "source": [
    "df.columns"
   ]
  },
  {
   "cell_type": "code",
   "execution_count": 123,
   "id": "356681e4-001e-4166-9928-f567b9b6f8b2",
   "metadata": {},
   "outputs": [
    {
     "data": {
      "text/plain": [
       "6670    False\n",
       "5639    False\n",
       "4813    False\n",
       "5785    False\n",
       "4684    False\n",
       "1744    False\n",
       "594     False\n",
       "3646    False\n",
       "4773    False\n",
       "1061    False\n",
       "596     False\n",
       "6830    False\n",
       "4544    False\n",
       "2193    False\n",
       "3217    False\n",
       "6260    False\n",
       "3611    False\n",
       "3256    False\n",
       "5481    False\n",
       "3068    False\n",
       "461     False\n",
       "735     False\n",
       "5325    False\n",
       "5346    False\n",
       "5019    False\n",
       "6606    False\n",
       "4575    False\n",
       "6938    False\n",
       "5492    False\n",
       "2556    False\n",
       "2507    False\n",
       "2331    False\n",
       "6619    False\n",
       "2546    False\n",
       "4968    False\n",
       "dtype: bool"
      ]
     },
     "execution_count": 123,
     "metadata": {},
     "output_type": "execute_result"
    }
   ],
   "source": [
    "# check any duplicate items are exists\n",
    "df.duplicated().isnull()"
   ]
  },
  {
   "cell_type": "code",
   "execution_count": 125,
   "id": "b4169b3b-e885-4162-a774-1e969d3f9fe2",
   "metadata": {},
   "outputs": [
    {
     "data": {
      "text/plain": [
       "0"
      ]
     },
     "execution_count": 125,
     "metadata": {},
     "output_type": "execute_result"
    }
   ],
   "source": [
    "df.duplicated().isnull().sum()"
   ]
  },
  {
   "cell_type": "code",
   "execution_count": 127,
   "id": "aaca36ee-9531-4034-8b2d-aac7e04cd357",
   "metadata": {},
   "outputs": [
    {
     "data": {
      "text/plain": [
       "False"
      ]
     },
     "execution_count": 127,
     "metadata": {},
     "output_type": "execute_result"
    }
   ],
   "source": [
    "# another way to check \n",
    "df.duplicated().any() # ->True - duplicate item is exists ; False - there is no duplicate item"
   ]
  },
  {
   "cell_type": "code",
   "execution_count": 129,
   "id": "76990a1d-03c5-45c3-a815-e7e2c1b09030",
   "metadata": {},
   "outputs": [
    {
     "data": {
      "text/plain": [
       "Name                  0\n",
       "Location              0\n",
       "Year                  0\n",
       "Kilometers_Driven     0\n",
       "Fuel_Type             0\n",
       "Transmission          0\n",
       "Mileage               0\n",
       "Engine                0\n",
       "New_Price            30\n",
       "Price                 6\n",
       "dtype: int64"
      ]
     },
     "execution_count": 129,
     "metadata": {},
     "output_type": "execute_result"
    }
   ],
   "source": [
    "# check any empty values are exists\n",
    "df.isnull().sum()"
   ]
  },
  {
   "cell_type": "code",
   "execution_count": 131,
   "id": "0aa118e0-9e87-4735-b85d-962360c4b3ca",
   "metadata": {},
   "outputs": [
    {
     "data": {
      "text/plain": [
       "6670           NaN\n",
       "5639           NaN\n",
       "4813           NaN\n",
       "5785           NaN\n",
       "4684           NaN\n",
       "1744           NaN\n",
       "594            NaN\n",
       "3646           NaN\n",
       "4773     8.03 Lakh\n",
       "1061           NaN\n",
       "596            NaN\n",
       "6830           NaN\n",
       "4544           NaN\n",
       "2193           NaN\n",
       "3217    14.67 Lakh\n",
       "6260           NaN\n",
       "3611           NaN\n",
       "3256     8.71 Lakh\n",
       "5481           NaN\n",
       "3068           NaN\n",
       "461            NaN\n",
       "735            NaN\n",
       "5325           NaN\n",
       "5346           NaN\n",
       "5019           NaN\n",
       "6606           NaN\n",
       "4575           NaN\n",
       "6938           NaN\n",
       "5492           NaN\n",
       "2556           NaN\n",
       "2507           NaN\n",
       "2331           NaN\n",
       "6619    77.92 Lakh\n",
       "2546           NaN\n",
       "4968     6.94 Lakh\n",
       "Name: New_Price, dtype: object"
      ]
     },
     "execution_count": 131,
     "metadata": {},
     "output_type": "execute_result"
    }
   ],
   "source": [
    "df['New_Price']"
   ]
  },
  {
   "cell_type": "code",
   "execution_count": 133,
   "id": "008ddcde-3648-4218-b706-bea54dc15308",
   "metadata": {},
   "outputs": [
    {
     "data": {
      "text/plain": [
       "6670      NaN\n",
       "5639     2.95\n",
       "4813    23.68\n",
       "5785     3.25\n",
       "4684     2.39\n",
       "1744     8.00\n",
       "594      4.39\n",
       "3646     7.95\n",
       "4773     6.28\n",
       "1061    12.00\n",
       "596     24.22\n",
       "6830      NaN\n",
       "4544     6.17\n",
       "2193    24.36\n",
       "3217     7.70\n",
       "6260      NaN\n",
       "3611     3.83\n",
       "3256     5.90\n",
       "5481     5.50\n",
       "3068     2.21\n",
       "461      5.99\n",
       "735      7.83\n",
       "5325     5.48\n",
       "5346    23.00\n",
       "5019     7.25\n",
       "6606      NaN\n",
       "4575     8.00\n",
       "6938      NaN\n",
       "5492     1.90\n",
       "2556     4.95\n",
       "2507     2.20\n",
       "2331     4.25\n",
       "6619      NaN\n",
       "2546     4.40\n",
       "4968     5.00\n",
       "Name: Price, dtype: float64"
      ]
     },
     "execution_count": 133,
     "metadata": {},
     "output_type": "execute_result"
    }
   ],
   "source": [
    "df['Price']"
   ]
  },
  {
   "cell_type": "code",
   "execution_count": 139,
   "id": "b18a79d4-0836-4a8d-b719-da5c7bca6f27",
   "metadata": {},
   "outputs": [],
   "source": [
    "# replace NaN value\n",
    "df.fillna(value=df.isnull().sum()/len(df)*100,inplace=True)"
   ]
  },
  {
   "cell_type": "code",
   "execution_count": 141,
   "id": "9fb22ecb-3f1a-49eb-b826-21b4349a96b7",
   "metadata": {},
   "outputs": [
    {
     "data": {
      "text/plain": [
       "Name                 0\n",
       "Location             0\n",
       "Year                 0\n",
       "Kilometers_Driven    0\n",
       "Fuel_Type            0\n",
       "Transmission         0\n",
       "Mileage              0\n",
       "Engine               0\n",
       "New_Price            0\n",
       "Price                0\n",
       "dtype: int64"
      ]
     },
     "execution_count": 141,
     "metadata": {},
     "output_type": "execute_result"
    }
   ],
   "source": [
    "# check any empty values are exists\n",
    "df.isnull().sum()"
   ]
  },
  {
   "cell_type": "code",
   "execution_count": 145,
   "id": "0c900ace-6de6-4fb2-9bc1-34a75ddbf831",
   "metadata": {},
   "outputs": [],
   "source": [
    "# rename the column\n",
    "df.rename(columns={'Kilometers_Driven':'km','Transmission':'trans'},inplace=True)"
   ]
  },
  {
   "cell_type": "code",
   "execution_count": 147,
   "id": "d85f9a1f-a83c-43e1-9ba7-677e6d5f4254",
   "metadata": {},
   "outputs": [
    {
     "data": {
      "text/plain": [
       "Index(['Name', 'Location', 'Year', 'km', 'Fuel_Type', 'trans', 'Mileage',\n",
       "       'Engine', 'New_Price', 'Price'],\n",
       "      dtype='object')"
      ]
     },
     "execution_count": 147,
     "metadata": {},
     "output_type": "execute_result"
    }
   ],
   "source": [
    "df.columns"
   ]
  },
  {
   "cell_type": "code",
   "execution_count": 149,
   "id": "f513a545-8019-437d-92b5-81ca6691670e",
   "metadata": {},
   "outputs": [
    {
     "data": {
      "text/plain": [
       "<BarContainer object of 35 artists>"
      ]
     },
     "execution_count": 149,
     "metadata": {},
     "output_type": "execute_result"
    },
    {
     "data": {
      "image/png": "[encoded data removed]",
      "text/plain": [
       "<Figure size 640x480 with 1 Axes>"
      ]
     },
     "metadata": {},
     "output_type": "display_data"
    }
   ],
   "source": [
    "plt.bar(df['Fuel_Type'],df['km'])"
   ]
  },
  {
   "cell_type": "code",
   "execution_count": 151,
   "id": "8cd69779-8df0-4ff9-b577-5946f409a1da",
   "metadata": {},
   "outputs": [
    {
     "data": {
      "text/plain": [
       "<BarContainer object of 35 artists>"
      ]
     },
     "execution_count": 151,
     "metadata": {},
     "output_type": "execute_result"
    },
    {
     "data": {
      "image/png": "[encoded data removed]",
      "text/plain": [
       "<Figure size 640x480 with 1 Axes>"
      ]
     },
     "metadata": {},
     "output_type": "display_data"
    }
   ],
   "source": [
    "plt.bar(df['Fuel_Type'],df['km'],width=0.2)"
   ]
  },
  {
   "cell_type": "code",
   "execution_count": 189,
   "id": "a0fc7813-8daf-4823-bfa3-9eeb5ab321f0",
   "metadata": {},
   "outputs": [
    {
     "data": {
      "text/plain": [
       "Series([], Name: km, dtype: int64)"
      ]
     },
     "execution_count": 189,
     "metadata": {},
     "output_type": "execute_result"
    }
   ],
   "source": [
    "mean=np.mean(df['km'])\n",
    "std_dev = np.std(df['km'])\n",
    "z_scores = (df['km'] - mean)/std_dev\n",
    "#print(z_scores)\n",
    "outliers = df['km'][np.abs(z_scores) > 61]\n",
    "outliers"
   ]
  },
  {
   "cell_type": "code",
   "execution_count": 187,
   "id": "91c0ff05-2672-4465-b430-ce5bb2b1f119",
   "metadata": {},
   "outputs": [
    {
     "name": "stdout",
     "output_type": "stream",
     "text": [
      "60705.91428571429\n"
     ]
    }
   ],
   "source": [
    "print(mean)"
   ]
  },
  {
   "cell_type": "code",
   "execution_count": 165,
   "id": "26faf62d-228a-48d2-b538-6f25fe06fc68",
   "metadata": {},
   "outputs": [
    {
     "data": {
      "text/html": [
       "<div>\n",
       "<style scoped>\n",
       "    .dataframe tbody tr th:only-of-type {\n",
       "        vertical-align: middle;\n",
       "    }\n",
       "\n",
       "    .dataframe tbody tr th {\n",
       "        vertical-align: top;\n",
       "    }\n",
       "\n",
       "    .dataframe thead th {\n",
       "        text-align: right;\n",
       "    }\n",
       "</style>\n",
       "<table border=\"1\" class=\"dataframe\">\n",
       "  <thead>\n",
       "    <tr style=\"text-align: right;\">\n",
       "      <th></th>\n",
       "      <th>Year</th>\n",
       "      <th>km</th>\n",
       "      <th>Price</th>\n",
       "    </tr>\n",
       "  </thead>\n",
       "  <tbody>\n",
       "    <tr>\n",
       "      <th>count</th>\n",
       "      <td>35.000000</td>\n",
       "      <td>35.000000</td>\n",
       "      <td>35.000000</td>\n",
       "    </tr>\n",
       "    <tr>\n",
       "      <th>mean</th>\n",
       "      <td>2013.228571</td>\n",
       "      <td>60705.914286</td>\n",
       "      <td>9.539633</td>\n",
       "    </tr>\n",
       "    <tr>\n",
       "      <th>std</th>\n",
       "      <td>3.422123</td>\n",
       "      <td>32407.334491</td>\n",
       "      <td>7.120567</td>\n",
       "    </tr>\n",
       "    <tr>\n",
       "      <th>min</th>\n",
       "      <td>2004.000000</td>\n",
       "      <td>2000.000000</td>\n",
       "      <td>1.900000</td>\n",
       "    </tr>\n",
       "    <tr>\n",
       "      <th>25%</th>\n",
       "      <td>2012.000000</td>\n",
       "      <td>34124.500000</td>\n",
       "      <td>4.395000</td>\n",
       "    </tr>\n",
       "    <tr>\n",
       "      <th>50%</th>\n",
       "      <td>2013.000000</td>\n",
       "      <td>62476.000000</td>\n",
       "      <td>6.280000</td>\n",
       "    </tr>\n",
       "    <tr>\n",
       "      <th>75%</th>\n",
       "      <td>2016.000000</td>\n",
       "      <td>80943.000000</td>\n",
       "      <td>17.142857</td>\n",
       "    </tr>\n",
       "    <tr>\n",
       "      <th>max</th>\n",
       "      <td>2018.000000</td>\n",
       "      <td>137800.000000</td>\n",
       "      <td>24.360000</td>\n",
       "    </tr>\n",
       "  </tbody>\n",
       "</table>\n",
       "</div>"
      ],
      "text/plain": [
       "              Year             km      Price\n",
       "count    35.000000      35.000000  35.000000\n",
       "mean   2013.228571   60705.914286   9.539633\n",
       "std       3.422123   32407.334491   7.120567\n",
       "min    2004.000000    2000.000000   1.900000\n",
       "25%    2012.000000   34124.500000   4.395000\n",
       "50%    2013.000000   62476.000000   6.280000\n",
       "75%    2016.000000   80943.000000  17.142857\n",
       "max    2018.000000  137800.000000  24.360000"
      ]
     },
     "execution_count": 165,
     "metadata": {},
     "output_type": "execute_result"
    }
   ],
   "source": [
    "df.describe()"
   ]
  },
  {
   "cell_type": "code",
   "execution_count": 191,
   "id": "d20a5876-d36d-4562-90f5-61c85de5632b",
   "metadata": {},
   "outputs": [
    {
     "data": {
      "text/plain": [
       "<Axes: ylabel='km'>"
      ]
     },
     "execution_count": 191,
     "metadata": {},
     "output_type": "execute_result"
    },
    {
     "data": {
      "image/png": "[encoded data removed]",
      "text/plain": [
       "<Figure size 640x480 with 1 Axes>"
      ]
     },
     "metadata": {},
     "output_type": "display_data"
    }
   ],
   "source": [
    "sns.boxplot(data=df['km'])"
   ]
  },
  {
   "cell_type": "code",
   "execution_count": null,
   "id": "4ae7f39f-044d-461a-8cb6-36c02637b810",
   "metadata": {},
   "outputs": [],
   "source": []
  },
  {
   "cell_type": "code",
   "execution_count": 179,
   "id": "42c1f1cb-1da5-45c2-8bd3-c110f1969b7d",
   "metadata": {},
   "outputs": [],
   "source": [
    "#help(np.random.normal)\n",
    "d = np.random.normal(loc=50,scale=15,size=100)"
   ]
  },
  {
   "cell_type": "code",
   "execution_count": 181,
   "id": "9f4ddf58-cd93-4bca-b192-6c1a44572449",
   "metadata": {},
   "outputs": [
    {
     "data": {
      "text/plain": [
       "(100,)"
      ]
     },
     "execution_count": 181,
     "metadata": {},
     "output_type": "execute_result"
    }
   ],
   "source": [
    "d.shape"
   ]
  },
  {
   "cell_type": "code",
   "execution_count": 183,
   "id": "9c3c19ac-ccd2-4437-8d01-7e49f058f1e6",
   "metadata": {},
   "outputs": [
    {
     "data": {
      "text/plain": [
       "<Axes: >"
      ]
     },
     "execution_count": 183,
     "metadata": {},
     "output_type": "execute_result"
    },
    {
     "data": {
      "image/png": "[encoded data removed]",
      "text/plain": [
       "<Figure size 640x480 with 1 Axes>"
      ]
     },
     "metadata": {},
     "output_type": "display_data"
    }
   ],
   "source": [
    "sns.boxplot(data=d)"
   ]
  },
  {
   "cell_type": "code",
   "execution_count": null,
   "id": "e4e53680-1397-4d87-bf13-3fd5a23d3f9d",
   "metadata": {},
   "outputs": [],
   "source": []
  },
  {
   "cell_type": "code",
   "execution_count": 193,
   "id": "1eb37a0e-76cf-4e2c-be77-3e496fcfe92b",
   "metadata": {},
   "outputs": [
    {
     "name": "stdout",
     "output_type": "stream",
     "text": [
      "[-1.41421356 -0.70710678  0.          0.70710678  1.41421356]\n"
     ]
    }
   ],
   "source": [
    "d = np.array([50,60,70,80,90])\n",
    "mean = np.mean(d)\n",
    "std_dev = np.std(d)\n",
    "z_score = (d - mean) / std_dev\n",
    "print(z_score)"
   ]
  },
  {
   "cell_type": "code",
   "execution_count": 195,
   "id": "d10cb841-751f-4f0a-8da7-61ac21515a19",
   "metadata": {},
   "outputs": [
    {
     "data": {
      "text/plain": [
       "<Axes: >"
      ]
     },
     "execution_count": 195,
     "metadata": {},
     "output_type": "execute_result"
    },
    {
     "data": {
      "image/png": "[encoded data removed]",
      "text/plain": [
       "<Figure size 640x480 with 1 Axes>"
      ]
     },
     "metadata": {},
     "output_type": "display_data"
    }
   ],
   "source": [
    "sns.boxplot(data=d)"
   ]
  },
  {
   "cell_type": "code",
   "execution_count": 197,
   "id": "4519af12-f391-4ea1-9199-979d584a4a92",
   "metadata": {},
   "outputs": [
    {
     "name": "stdout",
     "output_type": "stream",
     "text": [
      "[-0.55915734 -0.52506238 -0.49096742  1.99796465 -0.4227775 ]\n"
     ]
    }
   ],
   "source": [
    "d = np.array([50,60,70,800,90])\n",
    "mean = np.mean(d)\n",
    "std_dev = np.std(d)\n",
    "z_score = (d - mean) / std_dev\n",
    "print(z_score)"
   ]
  },
  {
   "cell_type": "code",
   "execution_count": 199,
   "id": "ef5997d2-97ab-4a6b-b67b-adf16607fb6b",
   "metadata": {},
   "outputs": [
    {
     "data": {
      "text/plain": [
       "<Axes: >"
      ]
     },
     "execution_count": 199,
     "metadata": {},
     "output_type": "execute_result"
    },
    {
     "data": {
      "image/png": "[encoded data removed]",
      "text/plain": [
       "<Figure size 640x480 with 1 Axes>"
      ]
     },
     "metadata": {},
     "output_type": "display_data"
    }
   ],
   "source": [
    "sns.boxplot(data=d)"
   ]
  },
  {
   "cell_type": "code",
   "execution_count": null,
   "id": "68047446-db70-49fb-bbea-ccfd6c09764a",
   "metadata": {},
   "outputs": [],
   "source": []
  },
  {
   "cell_type": "code",
   "execution_count": 201,
   "id": "ef2ce0e2-8cf8-4338-88f0-5464600691ed",
   "metadata": {},
   "outputs": [
    {
     "name": "stdout",
     "output_type": "stream",
     "text": [
      "[-0.86266219  0.8816915  -0.79923114  1.51600193 -0.7358001 ]\n"
     ]
    }
   ],
   "source": [
    "d = np.array([50,600,70,800,90])\n",
    "mean = np.mean(d)\n",
    "std_dev = np.std(d)\n",
    "z_score = (d - mean) / std_dev\n",
    "print(z_score)"
   ]
  },
  {
   "cell_type": "code",
   "execution_count": 203,
   "id": "8a369b8c-63fe-4d10-b77c-b4caa67585c9",
   "metadata": {},
   "outputs": [
    {
     "data": {
      "text/plain": [
       "<Axes: >"
      ]
     },
     "execution_count": 203,
     "metadata": {},
     "output_type": "execute_result"
    },
    {
     "data": {
      "image/png": "[encoded data removed]",
      "text/plain": [
       "<Figure size 640x480 with 1 Axes>"
      ]
     },
     "metadata": {},
     "output_type": "display_data"
    }
   ],
   "source": [
    "sns.boxplot(data=d)"
   ]
  },
  {
   "cell_type": "code",
   "execution_count": null,
   "id": "f358d9b3-54f7-4e3f-af1d-de87213b31d7",
   "metadata": {},
   "outputs": [],
   "source": []
  },
  {
   "cell_type": "code",
   "execution_count": 205,
   "id": "dc15f165-9d92-49d5-8b7c-f58da194370f",
   "metadata": {},
   "outputs": [
    {
     "name": "stdout",
     "output_type": "stream",
     "text": [
      "[-0.60544632  1.99608082 -0.51084533 -0.46354484 -0.41624434]\n"
     ]
    }
   ],
   "source": [
    "d = np.array([50,600,70,80,90])\n",
    "mean = np.mean(d)\n",
    "std_dev = np.std(d)\n",
    "z_score = (d - mean) / std_dev\n",
    "print(z_score)"
   ]
  },
  {
   "cell_type": "code",
   "execution_count": 207,
   "id": "5fc1b5f5-a1cf-4963-a5eb-2eb579cf3bd6",
   "metadata": {},
   "outputs": [
    {
     "data": {
      "text/plain": [
       "<Axes: >"
      ]
     },
     "execution_count": 207,
     "metadata": {},
     "output_type": "execute_result"
    },
    {
     "data": {
      "image/png": "[encoded data removed]",
      "text/plain": [
       "<Figure size 640x480 with 1 Axes>"
      ]
     },
     "metadata": {},
     "output_type": "display_data"
    }
   ],
   "source": [
    "sns.boxplot(data=d)"
   ]
  },
  {
   "cell_type": "code",
   "execution_count": 209,
   "id": "14ddce0c-1de6-46c0-be50-40ec38c8f3d9",
   "metadata": {},
   "outputs": [
    {
     "data": {
      "text/plain": [
       "Index(['Name', 'Location', 'Year', 'km', 'Fuel_Type', 'trans', 'Mileage',\n",
       "       'Engine', 'New_Price', 'Price'],\n",
       "      dtype='object')"
      ]
     },
     "execution_count": 209,
     "metadata": {},
     "output_type": "execute_result"
    }
   ],
   "source": [
    "df.columns"
   ]
  },
  {
   "cell_type": "code",
   "execution_count": 213,
   "id": "13e990f3-f1e5-47b8-887f-791438694f6f",
   "metadata": {},
   "outputs": [
    {
     "data": {
      "text/plain": [
       "(6670     31513\n",
       " 5639     24000\n",
       " 4813     80127\n",
       " 5785     33249\n",
       " 4684     64000\n",
       " 1744    121000\n",
       " 594      81759\n",
       " 3646     62476\n",
       " 4773     37460\n",
       " 1061     13363\n",
       " 596      58953\n",
       " 6830     46000\n",
       " 4544     40052\n",
       " 2193     42259\n",
       " 3217     35000\n",
       " 6260     87829\n",
       " 3611     94832\n",
       " 3256     31378\n",
       " 5481     78203\n",
       " 3068     99583\n",
       " 461      82749\n",
       " 735      25433\n",
       " 5325     65210\n",
       " 5346     63716\n",
       " 5019     31001\n",
       " 6606     70000\n",
       " 4575     56400\n",
       " 6938     70332\n",
       " 5492     50123\n",
       " 2556    127001\n",
       " 2507    137800\n",
       " 2331     90906\n",
       " 6619     21000\n",
       " 2546     68000\n",
       " 4968      2000\n",
       " Name: km, dtype: int64,\n",
       " 6670    23.08 kmpl\n",
       " 5639    16.47 kmpl\n",
       " 4813     12.8 kmpl\n",
       " 5785    21.27 kmpl\n",
       " 4684     19.7 kmpl\n",
       " 1744    24.52 kmpl\n",
       " 594      19.3 kmpl\n",
       " 3646    26.59 kmpl\n",
       " 4773     18.6 kmpl\n",
       " 1061     16.0 kmpl\n",
       " 596     13.53 kmpl\n",
       " 6830    22.07 kmpl\n",
       " 4544     21.1 kmpl\n",
       " 2193      9.0 kmpl\n",
       " 3217     18.0 kmpl\n",
       " 6260    17.3 km/kg\n",
       " 3611     17.0 kmpl\n",
       " 3256     18.2 kmpl\n",
       " 5481     18.1 kmpl\n",
       " 3068     12.0 kmpl\n",
       " 461     19.01 kmpl\n",
       " 735     27.39 kmpl\n",
       " 5325     22.9 kmpl\n",
       " 5346    15.73 kmpl\n",
       " 5019     24.3 kmpl\n",
       " 6606     22.1 kmpl\n",
       " 4575     17.2 kmpl\n",
       " 6938     19.7 kmpl\n",
       " 5492     17.0 kmpl\n",
       " 2556     12.8 kmpl\n",
       " 2507     22.3 kmpl\n",
       " 2331    20.54 kmpl\n",
       " 6619     17.9 kmpl\n",
       " 2546     18.5 kmpl\n",
       " 4968    23.84 kmpl\n",
       " Name: Mileage, dtype: object)"
      ]
     },
     "execution_count": 213,
     "metadata": {},
     "output_type": "execute_result"
    }
   ],
   "source": [
    "df['km'],df['Mileage']"
   ]
  },
  {
   "cell_type": "code",
   "execution_count": 227,
   "id": "9210bfe5-e247-4b58-b533-a70ff1674a57",
   "metadata": {},
   "outputs": [
    {
     "data": {
      "text/plain": [
       "[<matplotlib.lines.Line2D at 0x1f6b499f230>]"
      ]
     },
     "execution_count": 227,
     "metadata": {},
     "output_type": "execute_result"
    },
    {
     "data": {
      "image/png": "[encoded data removed]",
      "text/plain": [
       "<Figure size 640x480 with 1 Axes>"
      ]
     },
     "metadata": {},
     "output_type": "display_data"
    }
   ],
   "source": [
    "plt.plot(df['Mileage'],df['km'],marker='o')"
   ]
  },
  {
   "cell_type": "code",
   "execution_count": 229,
   "id": "3fd83357-db81-408b-839a-766f40eee3a2",
   "metadata": {},
   "outputs": [
    {
     "data": {
      "text/plain": [
       "<matplotlib.collections.PathCollection at 0x1f6b0bb0ef0>"
      ]
     },
     "execution_count": 229,
     "metadata": {},
     "output_type": "execute_result"
    },
    {
     "data": {
      "image/png": "[encoded data removed]",
      "text/plain": [
       "<Figure size 640x480 with 1 Axes>"
      ]
     },
     "metadata": {},
     "output_type": "display_data"
    }
   ],
   "source": [
    "plt.scatter(df['Mileage'],df['km'])"
   ]
  },
  {
   "cell_type": "code",
   "execution_count": 237,
   "id": "29b7895e-7c57-4622-ab2b-450743e98283",
   "metadata": {},
   "outputs": [
    {
     "data": {
      "text/plain": [
       "Index([6670, 5639, 4813, 5785, 4684, 1744,  594, 3646, 4773, 1061,  596, 6830,\n",
       "       4544, 2193, 3217, 6260, 3611, 3256, 5481, 3068,  461,  735, 5325, 5346,\n",
       "       5019, 6606, 4575, 6938, 5492, 2556, 2507, 2331, 6619, 2546, 4968],\n",
       "      dtype='int64')"
      ]
     },
     "execution_count": 237,
     "metadata": {},
     "output_type": "execute_result"
    }
   ],
   "source": [
    "df.index"
   ]
  },
  {
   "cell_type": "code",
   "execution_count": null,
   "id": "b1dc1dee-a8c0-4d11-b5e7-73f187037b47",
   "metadata": {},
   "outputs": [],
   "source": []
  }
 ],
 "metadata": {
  "kernelspec": {
   "display_name": "Python 3 (ipykernel)",
   "language": "python",
   "name": "python3"
  },
  "language_info": {
   "codemirror_mode": {
    "name": "ipython",
    "version": 3
   },
   "file_extension": ".py",
   "mimetype": "text/x-python",
   "name": "python",
   "nbconvert_exporter": "python",
   "pygments_lexer": "ipython3",
   "version": "3.12.3"
  }
 },
 "nbformat": 4,
 "nbformat_minor": 5
}
